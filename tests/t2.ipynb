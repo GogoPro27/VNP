{
 "cells": [
  {
   "cell_type": "code",
   "id": "initial_id",
   "metadata": {
    "collapsed": true,
    "ExecuteTime": {
     "end_time": "2025-01-19T16:16:53.983809Z",
     "start_time": "2025-01-19T16:16:53.978965Z"
    }
   },
   "source": [
    "import numpy as np\n",
    "import pandas as pd\n",
    "\n",
    "df = pd.read_csv(\"./time_series_dataset.csv\")"
   ],
   "outputs": [],
   "execution_count": 10
  },
  {
   "metadata": {
    "ExecuteTime": {
     "end_time": "2025-01-19T16:16:53.990404Z",
     "start_time": "2025-01-19T16:16:53.987971Z"
    }
   },
   "cell_type": "code",
   "source": [
    "from sklearn.preprocessing import OrdinalEncoder\n",
    "\n",
    "oe = OrdinalEncoder()"
   ],
   "id": "3d01decbdfb02b44",
   "outputs": [],
   "execution_count": 11
  },
  {
   "metadata": {
    "ExecuteTime": {
     "end_time": "2025-01-19T16:16:54.001645Z",
     "start_time": "2025-01-19T16:16:53.997654Z"
    }
   },
   "cell_type": "code",
   "source": "df",
   "id": "4f3844084c8bcff",
   "outputs": [
    {
     "data": {
      "text/plain": [
       "                       Datetime  Value\n",
       "0  2023-01-01 00:00:00 23:02:00    NaN\n",
       "1  2023-01-02 00:00:00 21:47:20    NaN\n",
       "2  2023-01-03 00:00:00 13:03:38    3.0\n",
       "3  2023-01-04 00:00:00 02:56:45    5.0\n",
       "4  2023-01-05 00:00:00 16:37:12    NaN\n",
       "5  2023-01-06 00:00:00 13:18:25    8.0\n",
       "6  2023-01-07 00:00:00 18:29:27    NaN\n",
       "7  2023-01-08 00:00:00 03:39:57    NaN\n",
       "8  2023-01-09 00:00:00 19:42:46   15.0\n",
       "9  2023-01-10 00:00:00 23:12:55    NaN"
      ],
      "text/html": [
       "<div>\n",
       "<style scoped>\n",
       "    .dataframe tbody tr th:only-of-type {\n",
       "        vertical-align: middle;\n",
       "    }\n",
       "\n",
       "    .dataframe tbody tr th {\n",
       "        vertical-align: top;\n",
       "    }\n",
       "\n",
       "    .dataframe thead th {\n",
       "        text-align: right;\n",
       "    }\n",
       "</style>\n",
       "<table border=\"1\" class=\"dataframe\">\n",
       "  <thead>\n",
       "    <tr style=\"text-align: right;\">\n",
       "      <th></th>\n",
       "      <th>Datetime</th>\n",
       "      <th>Value</th>\n",
       "    </tr>\n",
       "  </thead>\n",
       "  <tbody>\n",
       "    <tr>\n",
       "      <th>0</th>\n",
       "      <td>2023-01-01 00:00:00 23:02:00</td>\n",
       "      <td>NaN</td>\n",
       "    </tr>\n",
       "    <tr>\n",
       "      <th>1</th>\n",
       "      <td>2023-01-02 00:00:00 21:47:20</td>\n",
       "      <td>NaN</td>\n",
       "    </tr>\n",
       "    <tr>\n",
       "      <th>2</th>\n",
       "      <td>2023-01-03 00:00:00 13:03:38</td>\n",
       "      <td>3.0</td>\n",
       "    </tr>\n",
       "    <tr>\n",
       "      <th>3</th>\n",
       "      <td>2023-01-04 00:00:00 02:56:45</td>\n",
       "      <td>5.0</td>\n",
       "    </tr>\n",
       "    <tr>\n",
       "      <th>4</th>\n",
       "      <td>2023-01-05 00:00:00 16:37:12</td>\n",
       "      <td>NaN</td>\n",
       "    </tr>\n",
       "    <tr>\n",
       "      <th>5</th>\n",
       "      <td>2023-01-06 00:00:00 13:18:25</td>\n",
       "      <td>8.0</td>\n",
       "    </tr>\n",
       "    <tr>\n",
       "      <th>6</th>\n",
       "      <td>2023-01-07 00:00:00 18:29:27</td>\n",
       "      <td>NaN</td>\n",
       "    </tr>\n",
       "    <tr>\n",
       "      <th>7</th>\n",
       "      <td>2023-01-08 00:00:00 03:39:57</td>\n",
       "      <td>NaN</td>\n",
       "    </tr>\n",
       "    <tr>\n",
       "      <th>8</th>\n",
       "      <td>2023-01-09 00:00:00 19:42:46</td>\n",
       "      <td>15.0</td>\n",
       "    </tr>\n",
       "    <tr>\n",
       "      <th>9</th>\n",
       "      <td>2023-01-10 00:00:00 23:12:55</td>\n",
       "      <td>NaN</td>\n",
       "    </tr>\n",
       "  </tbody>\n",
       "</table>\n",
       "</div>"
      ]
     },
     "execution_count": 12,
     "metadata": {},
     "output_type": "execute_result"
    }
   ],
   "execution_count": 12
  },
  {
   "metadata": {
    "ExecuteTime": {
     "end_time": "2025-01-19T16:16:54.028351Z",
     "start_time": "2025-01-19T16:16:54.026100Z"
    }
   },
   "cell_type": "code",
   "source": "labels = oe.fit_transform(df[[\"Value\"]])",
   "id": "1637f7266247d73a",
   "outputs": [],
   "execution_count": 13
  },
  {
   "metadata": {
    "ExecuteTime": {
     "end_time": "2025-01-19T16:16:54.053402Z",
     "start_time": "2025-01-19T16:16:54.050871Z"
    }
   },
   "cell_type": "code",
   "source": "labels",
   "id": "99ff6b2441b290f8",
   "outputs": [
    {
     "data": {
      "text/plain": [
       "array([[nan],\n",
       "       [nan],\n",
       "       [ 0.],\n",
       "       [ 1.],\n",
       "       [nan],\n",
       "       [ 2.],\n",
       "       [nan],\n",
       "       [nan],\n",
       "       [ 3.],\n",
       "       [nan]])"
      ]
     },
     "execution_count": 14,
     "metadata": {},
     "output_type": "execute_result"
    }
   ],
   "execution_count": 14
  },
  {
   "metadata": {
    "ExecuteTime": {
     "end_time": "2025-01-19T16:16:54.079023Z",
     "start_time": "2025-01-19T16:16:54.077474Z"
    }
   },
   "cell_type": "code",
   "source": "",
   "id": "c5eeeb554b5a76c2",
   "outputs": [],
   "execution_count": null
  }
 ],
 "metadata": {
  "kernelspec": {
   "display_name": "Python 3",
   "language": "python",
   "name": "python3"
  },
  "language_info": {
   "codemirror_mode": {
    "name": "ipython",
    "version": 2
   },
   "file_extension": ".py",
   "mimetype": "text/x-python",
   "name": "python",
   "nbconvert_exporter": "python",
   "pygments_lexer": "ipython2",
   "version": "2.7.6"
  }
 },
 "nbformat": 4,
 "nbformat_minor": 5
}
