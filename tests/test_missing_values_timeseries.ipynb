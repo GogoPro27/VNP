{
 "cells": [
  {
   "cell_type": "code",
   "id": "initial_id",
   "metadata": {
    "collapsed": true,
    "ExecuteTime": {
     "end_time": "2025-01-18T16:51:20.492574Z",
     "start_time": "2025-01-18T16:51:20.488003Z"
    }
   },
   "source": [
    "import pandas as pd\n",
    "\n",
    "df = pd.read_csv(\"./time_series_dataset.csv\")"
   ],
   "outputs": [],
   "execution_count": 46
  },
  {
   "metadata": {
    "ExecuteTime": {
     "end_time": "2025-01-18T16:51:20.506732Z",
     "start_time": "2025-01-18T16:51:20.502024Z"
    }
   },
   "cell_type": "code",
   "source": "df",
   "id": "2f112ce57d7733b3",
   "outputs": [
    {
     "data": {
      "text/plain": [
       "                       Datetime  Value\n",
       "0  2023-01-01 00:00:00 23:02:00    NaN\n",
       "1  2023-01-02 00:00:00 21:47:20    NaN\n",
       "2  2023-01-03 00:00:00 13:03:38    3.0\n",
       "3  2023-01-04 00:00:00 02:56:45    5.0\n",
       "4  2023-01-05 00:00:00 16:37:12    NaN\n",
       "5  2023-01-06 00:00:00 13:18:25    8.0\n",
       "6  2023-01-07 00:00:00 18:29:27    NaN\n",
       "7  2023-01-08 00:00:00 03:39:57    NaN\n",
       "8  2023-01-09 00:00:00 19:42:46   15.0\n",
       "9  2023-01-10 00:00:00 23:12:55    NaN"
      ],
      "text/html": [
       "<div>\n",
       "<style scoped>\n",
       "    .dataframe tbody tr th:only-of-type {\n",
       "        vertical-align: middle;\n",
       "    }\n",
       "\n",
       "    .dataframe tbody tr th {\n",
       "        vertical-align: top;\n",
       "    }\n",
       "\n",
       "    .dataframe thead th {\n",
       "        text-align: right;\n",
       "    }\n",
       "</style>\n",
       "<table border=\"1\" class=\"dataframe\">\n",
       "  <thead>\n",
       "    <tr style=\"text-align: right;\">\n",
       "      <th></th>\n",
       "      <th>Datetime</th>\n",
       "      <th>Value</th>\n",
       "    </tr>\n",
       "  </thead>\n",
       "  <tbody>\n",
       "    <tr>\n",
       "      <th>0</th>\n",
       "      <td>2023-01-01 00:00:00 23:02:00</td>\n",
       "      <td>NaN</td>\n",
       "    </tr>\n",
       "    <tr>\n",
       "      <th>1</th>\n",
       "      <td>2023-01-02 00:00:00 21:47:20</td>\n",
       "      <td>NaN</td>\n",
       "    </tr>\n",
       "    <tr>\n",
       "      <th>2</th>\n",
       "      <td>2023-01-03 00:00:00 13:03:38</td>\n",
       "      <td>3.0</td>\n",
       "    </tr>\n",
       "    <tr>\n",
       "      <th>3</th>\n",
       "      <td>2023-01-04 00:00:00 02:56:45</td>\n",
       "      <td>5.0</td>\n",
       "    </tr>\n",
       "    <tr>\n",
       "      <th>4</th>\n",
       "      <td>2023-01-05 00:00:00 16:37:12</td>\n",
       "      <td>NaN</td>\n",
       "    </tr>\n",
       "    <tr>\n",
       "      <th>5</th>\n",
       "      <td>2023-01-06 00:00:00 13:18:25</td>\n",
       "      <td>8.0</td>\n",
       "    </tr>\n",
       "    <tr>\n",
       "      <th>6</th>\n",
       "      <td>2023-01-07 00:00:00 18:29:27</td>\n",
       "      <td>NaN</td>\n",
       "    </tr>\n",
       "    <tr>\n",
       "      <th>7</th>\n",
       "      <td>2023-01-08 00:00:00 03:39:57</td>\n",
       "      <td>NaN</td>\n",
       "    </tr>\n",
       "    <tr>\n",
       "      <th>8</th>\n",
       "      <td>2023-01-09 00:00:00 19:42:46</td>\n",
       "      <td>15.0</td>\n",
       "    </tr>\n",
       "    <tr>\n",
       "      <th>9</th>\n",
       "      <td>2023-01-10 00:00:00 23:12:55</td>\n",
       "      <td>NaN</td>\n",
       "    </tr>\n",
       "  </tbody>\n",
       "</table>\n",
       "</div>"
      ]
     },
     "execution_count": 47,
     "metadata": {},
     "output_type": "execute_result"
    }
   ],
   "execution_count": 47
  },
  {
   "metadata": {
    "ExecuteTime": {
     "end_time": "2025-01-18T16:51:20.533095Z",
     "start_time": "2025-01-18T16:51:20.531215Z"
    }
   },
   "cell_type": "code",
   "source": [
    "df.set_index(keys=[\"Datetime\"], inplace=True)\n",
    "df.sort_index(inplace=True)"
   ],
   "id": "3e1ff6c45a36cb8a",
   "outputs": [],
   "execution_count": 48
  },
  {
   "metadata": {
    "ExecuteTime": {
     "end_time": "2025-01-18T16:51:20.559865Z",
     "start_time": "2025-01-18T16:51:20.556737Z"
    }
   },
   "cell_type": "code",
   "source": "df",
   "id": "6c97338a67d0e838",
   "outputs": [
    {
     "data": {
      "text/plain": [
       "                              Value\n",
       "Datetime                           \n",
       "2023-01-01 00:00:00 23:02:00    NaN\n",
       "2023-01-02 00:00:00 21:47:20    NaN\n",
       "2023-01-03 00:00:00 13:03:38    3.0\n",
       "2023-01-04 00:00:00 02:56:45    5.0\n",
       "2023-01-05 00:00:00 16:37:12    NaN\n",
       "2023-01-06 00:00:00 13:18:25    8.0\n",
       "2023-01-07 00:00:00 18:29:27    NaN\n",
       "2023-01-08 00:00:00 03:39:57    NaN\n",
       "2023-01-09 00:00:00 19:42:46   15.0\n",
       "2023-01-10 00:00:00 23:12:55    NaN"
      ],
      "text/html": [
       "<div>\n",
       "<style scoped>\n",
       "    .dataframe tbody tr th:only-of-type {\n",
       "        vertical-align: middle;\n",
       "    }\n",
       "\n",
       "    .dataframe tbody tr th {\n",
       "        vertical-align: top;\n",
       "    }\n",
       "\n",
       "    .dataframe thead th {\n",
       "        text-align: right;\n",
       "    }\n",
       "</style>\n",
       "<table border=\"1\" class=\"dataframe\">\n",
       "  <thead>\n",
       "    <tr style=\"text-align: right;\">\n",
       "      <th></th>\n",
       "      <th>Value</th>\n",
       "    </tr>\n",
       "    <tr>\n",
       "      <th>Datetime</th>\n",
       "      <th></th>\n",
       "    </tr>\n",
       "  </thead>\n",
       "  <tbody>\n",
       "    <tr>\n",
       "      <th>2023-01-01 00:00:00 23:02:00</th>\n",
       "      <td>NaN</td>\n",
       "    </tr>\n",
       "    <tr>\n",
       "      <th>2023-01-02 00:00:00 21:47:20</th>\n",
       "      <td>NaN</td>\n",
       "    </tr>\n",
       "    <tr>\n",
       "      <th>2023-01-03 00:00:00 13:03:38</th>\n",
       "      <td>3.0</td>\n",
       "    </tr>\n",
       "    <tr>\n",
       "      <th>2023-01-04 00:00:00 02:56:45</th>\n",
       "      <td>5.0</td>\n",
       "    </tr>\n",
       "    <tr>\n",
       "      <th>2023-01-05 00:00:00 16:37:12</th>\n",
       "      <td>NaN</td>\n",
       "    </tr>\n",
       "    <tr>\n",
       "      <th>2023-01-06 00:00:00 13:18:25</th>\n",
       "      <td>8.0</td>\n",
       "    </tr>\n",
       "    <tr>\n",
       "      <th>2023-01-07 00:00:00 18:29:27</th>\n",
       "      <td>NaN</td>\n",
       "    </tr>\n",
       "    <tr>\n",
       "      <th>2023-01-08 00:00:00 03:39:57</th>\n",
       "      <td>NaN</td>\n",
       "    </tr>\n",
       "    <tr>\n",
       "      <th>2023-01-09 00:00:00 19:42:46</th>\n",
       "      <td>15.0</td>\n",
       "    </tr>\n",
       "    <tr>\n",
       "      <th>2023-01-10 00:00:00 23:12:55</th>\n",
       "      <td>NaN</td>\n",
       "    </tr>\n",
       "  </tbody>\n",
       "</table>\n",
       "</div>"
      ]
     },
     "execution_count": 49,
     "metadata": {},
     "output_type": "execute_result"
    }
   ],
   "execution_count": 49
  },
  {
   "metadata": {
    "ExecuteTime": {
     "end_time": "2025-01-18T16:51:46.178919Z",
     "start_time": "2025-01-18T16:51:46.174574Z"
    }
   },
   "cell_type": "code",
   "source": [
    "def fill_missing_values_correctly(df, column_name):\n",
    "\n",
    "    df_copy = df.copy()\n",
    "    first_valid_idx = df_copy[column_name].first_valid_index()\n",
    "    last_valid_idx = df_copy[column_name].last_valid_index()\n",
    "\n",
    "    df_copy[column_name] = df_copy[column_name].interpolate(method='linear')\n",
    "    df_copy.loc[:first_valid_idx, column_name] = df_copy.loc[:first_valid_idx, column_name].bfill()\n",
    "    df_copy.loc[last_valid_idx:, column_name] = df_copy.loc[last_valid_idx:, column_name].ffill()\n",
    "\n",
    "    return df_copy\n"
   ],
   "id": "d88ac814fb46dc79",
   "outputs": [],
   "execution_count": 50
  },
  {
   "metadata": {
    "ExecuteTime": {
     "end_time": "2025-01-18T16:51:59.342142Z",
     "start_time": "2025-01-18T16:51:59.336818Z"
    }
   },
   "cell_type": "code",
   "source": "df = fill_missing_values_correctly(df,\"Value\")",
   "id": "5288ad8e9ae54c8c",
   "outputs": [],
   "execution_count": 51
  },
  {
   "metadata": {
    "ExecuteTime": {
     "end_time": "2025-01-18T16:52:00.586072Z",
     "start_time": "2025-01-18T16:52:00.581798Z"
    }
   },
   "cell_type": "code",
   "source": "df",
   "id": "24b4fd57b6ffffac",
   "outputs": [
    {
     "data": {
      "text/plain": [
       "                                  Value\n",
       "Datetime                               \n",
       "2023-01-01 00:00:00 23:02:00   3.000000\n",
       "2023-01-02 00:00:00 21:47:20   3.000000\n",
       "2023-01-03 00:00:00 13:03:38   3.000000\n",
       "2023-01-04 00:00:00 02:56:45   5.000000\n",
       "2023-01-05 00:00:00 16:37:12   6.500000\n",
       "2023-01-06 00:00:00 13:18:25   8.000000\n",
       "2023-01-07 00:00:00 18:29:27  10.333333\n",
       "2023-01-08 00:00:00 03:39:57  12.666667\n",
       "2023-01-09 00:00:00 19:42:46  15.000000\n",
       "2023-01-10 00:00:00 23:12:55  15.000000"
      ],
      "text/html": [
       "<div>\n",
       "<style scoped>\n",
       "    .dataframe tbody tr th:only-of-type {\n",
       "        vertical-align: middle;\n",
       "    }\n",
       "\n",
       "    .dataframe tbody tr th {\n",
       "        vertical-align: top;\n",
       "    }\n",
       "\n",
       "    .dataframe thead th {\n",
       "        text-align: right;\n",
       "    }\n",
       "</style>\n",
       "<table border=\"1\" class=\"dataframe\">\n",
       "  <thead>\n",
       "    <tr style=\"text-align: right;\">\n",
       "      <th></th>\n",
       "      <th>Value</th>\n",
       "    </tr>\n",
       "    <tr>\n",
       "      <th>Datetime</th>\n",
       "      <th></th>\n",
       "    </tr>\n",
       "  </thead>\n",
       "  <tbody>\n",
       "    <tr>\n",
       "      <th>2023-01-01 00:00:00 23:02:00</th>\n",
       "      <td>3.000000</td>\n",
       "    </tr>\n",
       "    <tr>\n",
       "      <th>2023-01-02 00:00:00 21:47:20</th>\n",
       "      <td>3.000000</td>\n",
       "    </tr>\n",
       "    <tr>\n",
       "      <th>2023-01-03 00:00:00 13:03:38</th>\n",
       "      <td>3.000000</td>\n",
       "    </tr>\n",
       "    <tr>\n",
       "      <th>2023-01-04 00:00:00 02:56:45</th>\n",
       "      <td>5.000000</td>\n",
       "    </tr>\n",
       "    <tr>\n",
       "      <th>2023-01-05 00:00:00 16:37:12</th>\n",
       "      <td>6.500000</td>\n",
       "    </tr>\n",
       "    <tr>\n",
       "      <th>2023-01-06 00:00:00 13:18:25</th>\n",
       "      <td>8.000000</td>\n",
       "    </tr>\n",
       "    <tr>\n",
       "      <th>2023-01-07 00:00:00 18:29:27</th>\n",
       "      <td>10.333333</td>\n",
       "    </tr>\n",
       "    <tr>\n",
       "      <th>2023-01-08 00:00:00 03:39:57</th>\n",
       "      <td>12.666667</td>\n",
       "    </tr>\n",
       "    <tr>\n",
       "      <th>2023-01-09 00:00:00 19:42:46</th>\n",
       "      <td>15.000000</td>\n",
       "    </tr>\n",
       "    <tr>\n",
       "      <th>2023-01-10 00:00:00 23:12:55</th>\n",
       "      <td>15.000000</td>\n",
       "    </tr>\n",
       "  </tbody>\n",
       "</table>\n",
       "</div>"
      ]
     },
     "execution_count": 52,
     "metadata": {},
     "output_type": "execute_result"
    }
   ],
   "execution_count": 52
  },
  {
   "metadata": {
    "ExecuteTime": {
     "end_time": "2025-01-18T16:51:20.628366Z",
     "start_time": "2025-01-18T16:51:20.627034Z"
    }
   },
   "cell_type": "code",
   "source": "",
   "id": "1009aa46f8ad6b4",
   "outputs": [],
   "execution_count": null
  },
  {
   "metadata": {
    "ExecuteTime": {
     "end_time": "2025-01-18T16:51:20.634583Z",
     "start_time": "2025-01-18T16:51:20.633354Z"
    }
   },
   "cell_type": "code",
   "source": "",
   "id": "5f8d91ecbbaf0120",
   "outputs": [],
   "execution_count": null
  }
 ],
 "metadata": {
  "kernelspec": {
   "display_name": "Python 3",
   "language": "python",
   "name": "python3"
  },
  "language_info": {
   "codemirror_mode": {
    "name": "ipython",
    "version": 2
   },
   "file_extension": ".py",
   "mimetype": "text/x-python",
   "name": "python",
   "nbconvert_exporter": "python",
   "pygments_lexer": "ipython2",
   "version": "2.7.6"
  }
 },
 "nbformat": 4,
 "nbformat_minor": 5
}
