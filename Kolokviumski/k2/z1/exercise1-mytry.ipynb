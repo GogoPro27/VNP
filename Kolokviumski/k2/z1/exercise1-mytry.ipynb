{
 "cells": [
  {
   "metadata": {},
   "cell_type": "markdown",
   "source": "![image](screenshot.png)"
  },
  {
   "cell_type": "markdown",
   "metadata": {
    "id": "bPifLCgpTIOE"
   },
   "source": [
    "# Time-series Forecasting\n",
    "\n",
    "## Description\n",
    "The data consists of 52,416 observations of energy consumption on a 10-minute window. Every observation is described by the following feature columns.\n",
    "\n",
    "Your task is to **aggregate the observations on an interval of 30 minutes**. For this time interval, using the values of the **5 previous time intervals**, forecast the target value one step in the future. Choose which features you are going to use.\n",
    "\n",
    "**You must train an LSTM network.**\n",
    "\n",
    "\n",
    "\n",
    "Features:\n",
    "\n",
    "* Datetime: Time window of ten minutes.\n",
    "* Temperature: Weather Temperature.\n",
    "* Humidity: Weather Humidity.\n",
    "* WindSpeed: Wind Speed.\n",
    "* GeneralDiffuseFlows: “Diffuse flow” is a catchall term to describe low-temperature (< 0.2° to ~ 100°C) fluids that slowly discharge through sulfide mounds, fractured lava flows, and assemblages of bacterial mats and macrofauna.\n",
    "* DiffuseFlows\n",
    "\n",
    "Target:\n",
    "\n",
    "PowerConsumption\n",
    "\n",
    "## Dataset links:\n",
    " * [DS1](https://drive.google.com/file/d/1k5Ee9kla-0s8iuEASsSY2u5hl6YstzlN/view?usp=sharing)\n",
    " * [DS2](https://drive.google.com/file/d/1--Kep6SOWuyQ2FTlBDdwWHj-65bOl1kc/view?usp=sharing)"
   ]
  },
  {
   "cell_type": "markdown",
   "metadata": {
    "id": "WRImf3uwjeVy"
   },
   "source": [
    "## Read the datasets"
   ]
  },
  {
   "cell_type": "code",
   "metadata": {
    "id": "MRn3umfJTDRx",
    "ExecuteTime": {
     "end_time": "2025-01-18T18:14:22.743460Z",
     "start_time": "2025-01-18T18:14:22.700179Z"
    }
   },
   "source": [
    "import pandas as pd\n",
    "from pyasn1.type.useful import UTCTime\n",
    "\n",
    "df1 = pd.read_csv(\"./data/power_consumption_g1.csv\")\n",
    "df2 = pd.read_csv(\"./data/power_consumption_g1_feat.csv\")"
   ],
   "outputs": [],
   "execution_count": 557
  },
  {
   "cell_type": "code",
   "metadata": {
    "colab": {
     "base_uri": "https://localhost:8080/",
     "height": 424
    },
    "id": "BnAIaWaQGN6W",
    "outputId": "b188dcf6-2e93-4960-cd08-f8f989c8d89c",
    "ExecuteTime": {
     "end_time": "2025-01-18T18:14:22.760294Z",
     "start_time": "2025-01-18T18:14:22.756277Z"
    }
   },
   "source": "df1.sample(5)",
   "outputs": [
    {
     "data": {
      "text/plain": [
       "                  Datetime  PowerConsumption\n",
       "15659  2017-09-23 05:10:00       27162.47788\n",
       "49858  2017-06-07 21:30:00       44261.72185\n",
       "14404  2017-04-29 23:10:00       34795.60818\n",
       "17375  2017-08-06 12:30:00       38683.41842\n",
       "10743  2017-12-17 15:00:00       27996.95817"
      ],
      "text/html": [
       "<div>\n",
       "<style scoped>\n",
       "    .dataframe tbody tr th:only-of-type {\n",
       "        vertical-align: middle;\n",
       "    }\n",
       "\n",
       "    .dataframe tbody tr th {\n",
       "        vertical-align: top;\n",
       "    }\n",
       "\n",
       "    .dataframe thead th {\n",
       "        text-align: right;\n",
       "    }\n",
       "</style>\n",
       "<table border=\"1\" class=\"dataframe\">\n",
       "  <thead>\n",
       "    <tr style=\"text-align: right;\">\n",
       "      <th></th>\n",
       "      <th>Datetime</th>\n",
       "      <th>PowerConsumption</th>\n",
       "    </tr>\n",
       "  </thead>\n",
       "  <tbody>\n",
       "    <tr>\n",
       "      <th>15659</th>\n",
       "      <td>2017-09-23 05:10:00</td>\n",
       "      <td>27162.47788</td>\n",
       "    </tr>\n",
       "    <tr>\n",
       "      <th>49858</th>\n",
       "      <td>2017-06-07 21:30:00</td>\n",
       "      <td>44261.72185</td>\n",
       "    </tr>\n",
       "    <tr>\n",
       "      <th>14404</th>\n",
       "      <td>2017-04-29 23:10:00</td>\n",
       "      <td>34795.60818</td>\n",
       "    </tr>\n",
       "    <tr>\n",
       "      <th>17375</th>\n",
       "      <td>2017-08-06 12:30:00</td>\n",
       "      <td>38683.41842</td>\n",
       "    </tr>\n",
       "    <tr>\n",
       "      <th>10743</th>\n",
       "      <td>2017-12-17 15:00:00</td>\n",
       "      <td>27996.95817</td>\n",
       "    </tr>\n",
       "  </tbody>\n",
       "</table>\n",
       "</div>"
      ]
     },
     "execution_count": 558,
     "metadata": {},
     "output_type": "execute_result"
    }
   ],
   "execution_count": 558
  },
  {
   "cell_type": "code",
   "metadata": {
    "colab": {
     "base_uri": "https://localhost:8080/",
     "height": 455
    },
    "id": "FNEyh9OXGN6W",
    "outputId": "cf2c4b1c-d94b-4288-9afb-bf978deb033b",
    "ExecuteTime": {
     "end_time": "2025-01-18T18:14:22.795365Z",
     "start_time": "2025-01-18T18:14:22.791545Z"
    }
   },
   "source": "df2.sample()",
   "outputs": [
    {
     "data": {
      "text/plain": [
       "                 Datetime  Temperature  Humidity  WindSpeed  \\\n",
       "1394  2017-09-06 05:10:00        21.46      83.2      0.259   \n",
       "\n",
       "      GeneralDiffuseFlows  DiffuseFlows  \n",
       "1394                0.058         0.107  "
      ],
      "text/html": [
       "<div>\n",
       "<style scoped>\n",
       "    .dataframe tbody tr th:only-of-type {\n",
       "        vertical-align: middle;\n",
       "    }\n",
       "\n",
       "    .dataframe tbody tr th {\n",
       "        vertical-align: top;\n",
       "    }\n",
       "\n",
       "    .dataframe thead th {\n",
       "        text-align: right;\n",
       "    }\n",
       "</style>\n",
       "<table border=\"1\" class=\"dataframe\">\n",
       "  <thead>\n",
       "    <tr style=\"text-align: right;\">\n",
       "      <th></th>\n",
       "      <th>Datetime</th>\n",
       "      <th>Temperature</th>\n",
       "      <th>Humidity</th>\n",
       "      <th>WindSpeed</th>\n",
       "      <th>GeneralDiffuseFlows</th>\n",
       "      <th>DiffuseFlows</th>\n",
       "    </tr>\n",
       "  </thead>\n",
       "  <tbody>\n",
       "    <tr>\n",
       "      <th>1394</th>\n",
       "      <td>2017-09-06 05:10:00</td>\n",
       "      <td>21.46</td>\n",
       "      <td>83.2</td>\n",
       "      <td>0.259</td>\n",
       "      <td>0.058</td>\n",
       "      <td>0.107</td>\n",
       "    </tr>\n",
       "  </tbody>\n",
       "</table>\n",
       "</div>"
      ]
     },
     "execution_count": 559,
     "metadata": {},
     "output_type": "execute_result"
    }
   ],
   "execution_count": 559
  },
  {
   "metadata": {},
   "cell_type": "markdown",
   "source": "## Merge the datasets (and pre-processing if needed)\n"
  },
  {
   "cell_type": "code",
   "metadata": {
    "colab": {
     "base_uri": "https://localhost:8080/",
     "height": 424
    },
    "id": "qbw3_8N1GN6W",
    "outputId": "1a71a2d2-b6f1-4d6e-b4c3-84829d5cf9df",
    "ExecuteTime": {
     "end_time": "2025-01-18T18:14:22.863278Z",
     "start_time": "2025-01-18T18:14:22.845760Z"
    }
   },
   "source": [
    "df1[\"Datetime\"] = pd.to_datetime(df1[\"Datetime\"])\n",
    "df2[\"Datetime\"] = pd.to_datetime(df2[\"Datetime\"])\n"
   ],
   "outputs": [],
   "execution_count": 560
  },
  {
   "cell_type": "code",
   "metadata": {
    "colab": {
     "base_uri": "https://localhost:8080/",
     "height": 455
    },
    "id": "ODLvhy5UGN6W",
    "outputId": "53577a74-5ee8-401b-c0f6-d5300fe356dd",
    "ExecuteTime": {
     "end_time": "2025-01-18T18:14:22.912393Z",
     "start_time": "2025-01-18T18:14:22.903606Z"
    }
   },
   "source": [
    "df1.set_index(keys=[\"Datetime\"], inplace=True)\n",
    "df2.set_index(keys=[\"Datetime\"], inplace=True)\n",
    "df1.sort_index(inplace=True)\n",
    "df2.sort_index(inplace=True)\n"
   ],
   "outputs": [],
   "execution_count": 561
  },
  {
   "metadata": {
    "ExecuteTime": {
     "end_time": "2025-01-18T18:14:22.932921Z",
     "start_time": "2025-01-18T18:14:22.929643Z"
    }
   },
   "cell_type": "code",
   "source": "df1",
   "outputs": [
    {
     "data": {
      "text/plain": [
       "                     PowerConsumption\n",
       "Datetime                             \n",
       "2017-01-01 00:00:00       34055.69620\n",
       "2017-01-01 00:10:00       29814.68354\n",
       "2017-01-01 00:20:00       29128.10127\n",
       "2017-01-01 00:30:00       28228.86076\n",
       "2017-01-01 00:40:00       27335.69620\n",
       "...                               ...\n",
       "2017-12-30 23:10:00       31160.45627\n",
       "2017-12-30 23:20:00       30430.41825\n",
       "2017-12-30 23:30:00       29590.87452\n",
       "2017-12-30 23:40:00       28958.17490\n",
       "2017-12-30 23:50:00       28349.80989\n",
       "\n",
       "[52416 rows x 1 columns]"
      ],
      "text/html": [
       "<div>\n",
       "<style scoped>\n",
       "    .dataframe tbody tr th:only-of-type {\n",
       "        vertical-align: middle;\n",
       "    }\n",
       "\n",
       "    .dataframe tbody tr th {\n",
       "        vertical-align: top;\n",
       "    }\n",
       "\n",
       "    .dataframe thead th {\n",
       "        text-align: right;\n",
       "    }\n",
       "</style>\n",
       "<table border=\"1\" class=\"dataframe\">\n",
       "  <thead>\n",
       "    <tr style=\"text-align: right;\">\n",
       "      <th></th>\n",
       "      <th>PowerConsumption</th>\n",
       "    </tr>\n",
       "    <tr>\n",
       "      <th>Datetime</th>\n",
       "      <th></th>\n",
       "    </tr>\n",
       "  </thead>\n",
       "  <tbody>\n",
       "    <tr>\n",
       "      <th>2017-01-01 00:00:00</th>\n",
       "      <td>34055.69620</td>\n",
       "    </tr>\n",
       "    <tr>\n",
       "      <th>2017-01-01 00:10:00</th>\n",
       "      <td>29814.68354</td>\n",
       "    </tr>\n",
       "    <tr>\n",
       "      <th>2017-01-01 00:20:00</th>\n",
       "      <td>29128.10127</td>\n",
       "    </tr>\n",
       "    <tr>\n",
       "      <th>2017-01-01 00:30:00</th>\n",
       "      <td>28228.86076</td>\n",
       "    </tr>\n",
       "    <tr>\n",
       "      <th>2017-01-01 00:40:00</th>\n",
       "      <td>27335.69620</td>\n",
       "    </tr>\n",
       "    <tr>\n",
       "      <th>...</th>\n",
       "      <td>...</td>\n",
       "    </tr>\n",
       "    <tr>\n",
       "      <th>2017-12-30 23:10:00</th>\n",
       "      <td>31160.45627</td>\n",
       "    </tr>\n",
       "    <tr>\n",
       "      <th>2017-12-30 23:20:00</th>\n",
       "      <td>30430.41825</td>\n",
       "    </tr>\n",
       "    <tr>\n",
       "      <th>2017-12-30 23:30:00</th>\n",
       "      <td>29590.87452</td>\n",
       "    </tr>\n",
       "    <tr>\n",
       "      <th>2017-12-30 23:40:00</th>\n",
       "      <td>28958.17490</td>\n",
       "    </tr>\n",
       "    <tr>\n",
       "      <th>2017-12-30 23:50:00</th>\n",
       "      <td>28349.80989</td>\n",
       "    </tr>\n",
       "  </tbody>\n",
       "</table>\n",
       "<p>52416 rows × 1 columns</p>\n",
       "</div>"
      ]
     },
     "execution_count": 562,
     "metadata": {},
     "output_type": "execute_result"
    }
   ],
   "execution_count": 562
  },
  {
   "cell_type": "markdown",
   "metadata": {
    "id": "ZNXTm_lwjhpb"
   },
   "source": ""
  },
  {
   "cell_type": "code",
   "metadata": {
    "colab": {
     "base_uri": "https://localhost:8080/",
     "height": 455
    },
    "id": "mmX97V8ojhM8",
    "outputId": "5f700bf0-0732-422d-fb3f-439eef3e7bd7",
    "ExecuteTime": {
     "end_time": "2025-01-18T18:14:22.981943Z",
     "start_time": "2025-01-18T18:14:22.979226Z"
    }
   },
   "source": "df1.isnull().sum()",
   "outputs": [
    {
     "data": {
      "text/plain": [
       "PowerConsumption    0\n",
       "dtype: int64"
      ]
     },
     "execution_count": 563,
     "metadata": {},
     "output_type": "execute_result"
    }
   ],
   "execution_count": 563
  },
  {
   "cell_type": "code",
   "metadata": {
    "colab": {
     "base_uri": "https://localhost:8080/",
     "height": 272
    },
    "id": "PG30c-u-GN6X",
    "outputId": "f4099175-0395-49f8-dfd9-b28fd6dea1aa",
    "ExecuteTime": {
     "end_time": "2025-01-18T18:14:23.035501Z",
     "start_time": "2025-01-18T18:14:23.032804Z"
    }
   },
   "source": "df2.isnull().sum()",
   "outputs": [
    {
     "data": {
      "text/plain": [
       "Temperature            559\n",
       "Humidity               499\n",
       "WindSpeed              529\n",
       "GeneralDiffuseFlows    524\n",
       "DiffuseFlows           505\n",
       "dtype: int64"
      ]
     },
     "execution_count": 564,
     "metadata": {},
     "output_type": "execute_result"
    }
   ],
   "execution_count": 564
  },
  {
   "cell_type": "code",
   "metadata": {
    "id": "JnKuRWB2GN6X",
    "ExecuteTime": {
     "end_time": "2025-01-18T18:14:23.128922Z",
     "start_time": "2025-01-18T18:14:23.127251Z"
    }
   },
   "source": [
    "def join_dataframes_by_index(df1, df2, how='inner'):\n",
    "    return pd.merge(df1, df2, left_index=True, right_index=True, how=how)"
   ],
   "outputs": [],
   "execution_count": 565
  },
  {
   "cell_type": "code",
   "metadata": {
    "id": "5EAtjSnMGN6X",
    "ExecuteTime": {
     "end_time": "2025-01-18T18:14:23.176265Z",
     "start_time": "2025-01-18T18:14:23.173666Z"
    }
   },
   "source": [
    "# df = concatenate_by_index_horizontally(df2,df1)\n",
    "df = join_dataframes_by_index(df2,df1)"
   ],
   "outputs": [],
   "execution_count": 566
  },
  {
   "cell_type": "code",
   "metadata": {
    "colab": {
     "base_uri": "https://localhost:8080/",
     "height": 272
    },
    "id": "s-zkVz7oGN6X",
    "outputId": "3f786eeb-2083-4534-b1f5-f170423f6498",
    "ExecuteTime": {
     "end_time": "2025-01-18T18:14:23.204918Z",
     "start_time": "2025-01-18T18:14:23.200217Z"
    }
   },
   "source": "df",
   "outputs": [
    {
     "data": {
      "text/plain": [
       "                     Temperature  Humidity  WindSpeed  GeneralDiffuseFlows  \\\n",
       "Datetime                                                                     \n",
       "2017-01-01 00:00:00        6.559      73.8      0.083                0.051   \n",
       "2017-01-01 00:10:00        6.414      74.5      0.083                0.070   \n",
       "2017-01-01 00:20:00        6.313      74.5      0.080                0.062   \n",
       "2017-01-01 00:30:00        6.121      75.0      0.083                0.091   \n",
       "2017-01-01 00:40:00        5.921      75.7      0.081                0.048   \n",
       "...                          ...       ...        ...                  ...   \n",
       "2017-12-30 23:10:00        7.010      72.4      0.080                  NaN   \n",
       "2017-12-30 23:20:00        6.947      72.6      0.082                0.051   \n",
       "2017-12-30 23:30:00        6.900      72.8      0.086                0.084   \n",
       "2017-12-30 23:40:00        6.758      73.0      0.080                0.066   \n",
       "2017-12-30 23:50:00        6.580      74.1      0.081                0.062   \n",
       "\n",
       "                     DiffuseFlows  PowerConsumption  \n",
       "Datetime                                             \n",
       "2017-01-01 00:00:00         0.119       34055.69620  \n",
       "2017-01-01 00:10:00         0.085       29814.68354  \n",
       "2017-01-01 00:20:00         0.100       29128.10127  \n",
       "2017-01-01 00:30:00         0.096       28228.86076  \n",
       "2017-01-01 00:40:00         0.085       27335.69620  \n",
       "...                           ...               ...  \n",
       "2017-12-30 23:10:00         0.096       31160.45627  \n",
       "2017-12-30 23:20:00         0.093       30430.41825  \n",
       "2017-12-30 23:30:00         0.074       29590.87452  \n",
       "2017-12-30 23:40:00         0.089       28958.17490  \n",
       "2017-12-30 23:50:00         0.111       28349.80989  \n",
       "\n",
       "[52416 rows x 6 columns]"
      ],
      "text/html": [
       "<div>\n",
       "<style scoped>\n",
       "    .dataframe tbody tr th:only-of-type {\n",
       "        vertical-align: middle;\n",
       "    }\n",
       "\n",
       "    .dataframe tbody tr th {\n",
       "        vertical-align: top;\n",
       "    }\n",
       "\n",
       "    .dataframe thead th {\n",
       "        text-align: right;\n",
       "    }\n",
       "</style>\n",
       "<table border=\"1\" class=\"dataframe\">\n",
       "  <thead>\n",
       "    <tr style=\"text-align: right;\">\n",
       "      <th></th>\n",
       "      <th>Temperature</th>\n",
       "      <th>Humidity</th>\n",
       "      <th>WindSpeed</th>\n",
       "      <th>GeneralDiffuseFlows</th>\n",
       "      <th>DiffuseFlows</th>\n",
       "      <th>PowerConsumption</th>\n",
       "    </tr>\n",
       "    <tr>\n",
       "      <th>Datetime</th>\n",
       "      <th></th>\n",
       "      <th></th>\n",
       "      <th></th>\n",
       "      <th></th>\n",
       "      <th></th>\n",
       "      <th></th>\n",
       "    </tr>\n",
       "  </thead>\n",
       "  <tbody>\n",
       "    <tr>\n",
       "      <th>2017-01-01 00:00:00</th>\n",
       "      <td>6.559</td>\n",
       "      <td>73.8</td>\n",
       "      <td>0.083</td>\n",
       "      <td>0.051</td>\n",
       "      <td>0.119</td>\n",
       "      <td>34055.69620</td>\n",
       "    </tr>\n",
       "    <tr>\n",
       "      <th>2017-01-01 00:10:00</th>\n",
       "      <td>6.414</td>\n",
       "      <td>74.5</td>\n",
       "      <td>0.083</td>\n",
       "      <td>0.070</td>\n",
       "      <td>0.085</td>\n",
       "      <td>29814.68354</td>\n",
       "    </tr>\n",
       "    <tr>\n",
       "      <th>2017-01-01 00:20:00</th>\n",
       "      <td>6.313</td>\n",
       "      <td>74.5</td>\n",
       "      <td>0.080</td>\n",
       "      <td>0.062</td>\n",
       "      <td>0.100</td>\n",
       "      <td>29128.10127</td>\n",
       "    </tr>\n",
       "    <tr>\n",
       "      <th>2017-01-01 00:30:00</th>\n",
       "      <td>6.121</td>\n",
       "      <td>75.0</td>\n",
       "      <td>0.083</td>\n",
       "      <td>0.091</td>\n",
       "      <td>0.096</td>\n",
       "      <td>28228.86076</td>\n",
       "    </tr>\n",
       "    <tr>\n",
       "      <th>2017-01-01 00:40:00</th>\n",
       "      <td>5.921</td>\n",
       "      <td>75.7</td>\n",
       "      <td>0.081</td>\n",
       "      <td>0.048</td>\n",
       "      <td>0.085</td>\n",
       "      <td>27335.69620</td>\n",
       "    </tr>\n",
       "    <tr>\n",
       "      <th>...</th>\n",
       "      <td>...</td>\n",
       "      <td>...</td>\n",
       "      <td>...</td>\n",
       "      <td>...</td>\n",
       "      <td>...</td>\n",
       "      <td>...</td>\n",
       "    </tr>\n",
       "    <tr>\n",
       "      <th>2017-12-30 23:10:00</th>\n",
       "      <td>7.010</td>\n",
       "      <td>72.4</td>\n",
       "      <td>0.080</td>\n",
       "      <td>NaN</td>\n",
       "      <td>0.096</td>\n",
       "      <td>31160.45627</td>\n",
       "    </tr>\n",
       "    <tr>\n",
       "      <th>2017-12-30 23:20:00</th>\n",
       "      <td>6.947</td>\n",
       "      <td>72.6</td>\n",
       "      <td>0.082</td>\n",
       "      <td>0.051</td>\n",
       "      <td>0.093</td>\n",
       "      <td>30430.41825</td>\n",
       "    </tr>\n",
       "    <tr>\n",
       "      <th>2017-12-30 23:30:00</th>\n",
       "      <td>6.900</td>\n",
       "      <td>72.8</td>\n",
       "      <td>0.086</td>\n",
       "      <td>0.084</td>\n",
       "      <td>0.074</td>\n",
       "      <td>29590.87452</td>\n",
       "    </tr>\n",
       "    <tr>\n",
       "      <th>2017-12-30 23:40:00</th>\n",
       "      <td>6.758</td>\n",
       "      <td>73.0</td>\n",
       "      <td>0.080</td>\n",
       "      <td>0.066</td>\n",
       "      <td>0.089</td>\n",
       "      <td>28958.17490</td>\n",
       "    </tr>\n",
       "    <tr>\n",
       "      <th>2017-12-30 23:50:00</th>\n",
       "      <td>6.580</td>\n",
       "      <td>74.1</td>\n",
       "      <td>0.081</td>\n",
       "      <td>0.062</td>\n",
       "      <td>0.111</td>\n",
       "      <td>28349.80989</td>\n",
       "    </tr>\n",
       "  </tbody>\n",
       "</table>\n",
       "<p>52416 rows × 6 columns</p>\n",
       "</div>"
      ]
     },
     "execution_count": 567,
     "metadata": {},
     "output_type": "execute_result"
    }
   ],
   "execution_count": 567
  },
  {
   "metadata": {
    "ExecuteTime": {
     "end_time": "2025-01-18T18:14:23.242538Z",
     "start_time": "2025-01-18T18:14:23.239836Z"
    }
   },
   "cell_type": "code",
   "source": "df.isnull().sum()",
   "outputs": [
    {
     "data": {
      "text/plain": [
       "Temperature            559\n",
       "Humidity               499\n",
       "WindSpeed              529\n",
       "GeneralDiffuseFlows    524\n",
       "DiffuseFlows           505\n",
       "PowerConsumption         0\n",
       "dtype: int64"
      ]
     },
     "execution_count": 568,
     "metadata": {},
     "output_type": "execute_result"
    }
   ],
   "execution_count": 568
  },
  {
   "metadata": {
    "ExecuteTime": {
     "end_time": "2025-01-18T18:14:23.291587Z",
     "start_time": "2025-01-18T18:14:23.288471Z"
    }
   },
   "cell_type": "code",
   "source": "df.head(1)",
   "outputs": [
    {
     "data": {
      "text/plain": [
       "            Temperature  Humidity  WindSpeed  GeneralDiffuseFlows  \\\n",
       "Datetime                                                            \n",
       "2017-01-01        6.559      73.8      0.083                0.051   \n",
       "\n",
       "            DiffuseFlows  PowerConsumption  \n",
       "Datetime                                    \n",
       "2017-01-01         0.119        34055.6962  "
      ],
      "text/html": [
       "<div>\n",
       "<style scoped>\n",
       "    .dataframe tbody tr th:only-of-type {\n",
       "        vertical-align: middle;\n",
       "    }\n",
       "\n",
       "    .dataframe tbody tr th {\n",
       "        vertical-align: top;\n",
       "    }\n",
       "\n",
       "    .dataframe thead th {\n",
       "        text-align: right;\n",
       "    }\n",
       "</style>\n",
       "<table border=\"1\" class=\"dataframe\">\n",
       "  <thead>\n",
       "    <tr style=\"text-align: right;\">\n",
       "      <th></th>\n",
       "      <th>Temperature</th>\n",
       "      <th>Humidity</th>\n",
       "      <th>WindSpeed</th>\n",
       "      <th>GeneralDiffuseFlows</th>\n",
       "      <th>DiffuseFlows</th>\n",
       "      <th>PowerConsumption</th>\n",
       "    </tr>\n",
       "    <tr>\n",
       "      <th>Datetime</th>\n",
       "      <th></th>\n",
       "      <th></th>\n",
       "      <th></th>\n",
       "      <th></th>\n",
       "      <th></th>\n",
       "      <th></th>\n",
       "    </tr>\n",
       "  </thead>\n",
       "  <tbody>\n",
       "    <tr>\n",
       "      <th>2017-01-01</th>\n",
       "      <td>6.559</td>\n",
       "      <td>73.8</td>\n",
       "      <td>0.083</td>\n",
       "      <td>0.051</td>\n",
       "      <td>0.119</td>\n",
       "      <td>34055.6962</td>\n",
       "    </tr>\n",
       "  </tbody>\n",
       "</table>\n",
       "</div>"
      ]
     },
     "execution_count": 569,
     "metadata": {},
     "output_type": "execute_result"
    }
   ],
   "execution_count": 569
  },
  {
   "metadata": {
    "ExecuteTime": {
     "end_time": "2025-01-18T18:14:23.360755Z",
     "start_time": "2025-01-18T18:14:23.357532Z"
    }
   },
   "cell_type": "code",
   "source": "df.tail(1)",
   "outputs": [
    {
     "data": {
      "text/plain": [
       "                     Temperature  Humidity  WindSpeed  GeneralDiffuseFlows  \\\n",
       "Datetime                                                                     \n",
       "2017-12-30 23:50:00         6.58      74.1      0.081                0.062   \n",
       "\n",
       "                     DiffuseFlows  PowerConsumption  \n",
       "Datetime                                             \n",
       "2017-12-30 23:50:00         0.111       28349.80989  "
      ],
      "text/html": [
       "<div>\n",
       "<style scoped>\n",
       "    .dataframe tbody tr th:only-of-type {\n",
       "        vertical-align: middle;\n",
       "    }\n",
       "\n",
       "    .dataframe tbody tr th {\n",
       "        vertical-align: top;\n",
       "    }\n",
       "\n",
       "    .dataframe thead th {\n",
       "        text-align: right;\n",
       "    }\n",
       "</style>\n",
       "<table border=\"1\" class=\"dataframe\">\n",
       "  <thead>\n",
       "    <tr style=\"text-align: right;\">\n",
       "      <th></th>\n",
       "      <th>Temperature</th>\n",
       "      <th>Humidity</th>\n",
       "      <th>WindSpeed</th>\n",
       "      <th>GeneralDiffuseFlows</th>\n",
       "      <th>DiffuseFlows</th>\n",
       "      <th>PowerConsumption</th>\n",
       "    </tr>\n",
       "    <tr>\n",
       "      <th>Datetime</th>\n",
       "      <th></th>\n",
       "      <th></th>\n",
       "      <th></th>\n",
       "      <th></th>\n",
       "      <th></th>\n",
       "      <th></th>\n",
       "    </tr>\n",
       "  </thead>\n",
       "  <tbody>\n",
       "    <tr>\n",
       "      <th>2017-12-30 23:50:00</th>\n",
       "      <td>6.58</td>\n",
       "      <td>74.1</td>\n",
       "      <td>0.081</td>\n",
       "      <td>0.062</td>\n",
       "      <td>0.111</td>\n",
       "      <td>28349.80989</td>\n",
       "    </tr>\n",
       "  </tbody>\n",
       "</table>\n",
       "</div>"
      ]
     },
     "execution_count": 570,
     "metadata": {},
     "output_type": "execute_result"
    }
   ],
   "execution_count": 570
  },
  {
   "metadata": {
    "ExecuteTime": {
     "end_time": "2025-01-18T18:14:23.423599Z",
     "start_time": "2025-01-18T18:14:23.421199Z"
    }
   },
   "cell_type": "code",
   "source": [
    "def fill_missing_values(df:pd.DataFrame, column_name:str)->pd.DataFrame:\n",
    "\n",
    "    df_copy = df.copy()\n",
    "    first_valid_idx = df_copy[column_name].first_valid_index()\n",
    "    last_valid_idx = df_copy[column_name].last_valid_index()\n",
    "\n",
    "    df_copy[column_name] = df_copy[column_name].interpolate(method='linear')\n",
    "    df_copy.loc[:first_valid_idx, column_name] = df_copy.loc[:first_valid_idx, column_name].bfill()\n",
    "    df_copy.loc[last_valid_idx:, column_name] = df_copy.loc[last_valid_idx:, column_name].ffill()\n",
    "\n",
    "    return df_copy\n",
    "\n",
    "def qualitative_quantitative_attrs(df):\n",
    "    qualitative_attributes = [col for col in df.columns if len(df[col].unique())<10]\n",
    "    quantitative_attributes = [col for col in df.columns if len(df[col].unique())>10]\n",
    "    return qualitative_attributes,quantitative_attributes"
   ],
   "outputs": [],
   "execution_count": 571
  },
  {
   "metadata": {
    "ExecuteTime": {
     "end_time": "2025-01-18T18:14:23.467372Z",
     "start_time": "2025-01-18T18:14:23.462004Z"
    }
   },
   "cell_type": "code",
   "source": "qualitative_attributes,quantitative_attributes = qualitative_quantitative_attrs(df)",
   "outputs": [],
   "execution_count": 572
  },
  {
   "metadata": {
    "ExecuteTime": {
     "end_time": "2025-01-18T18:14:23.510054Z",
     "start_time": "2025-01-18T18:14:23.508041Z"
    }
   },
   "cell_type": "code",
   "source": "qualitative_attributes",
   "outputs": [
    {
     "data": {
      "text/plain": [
       "[]"
      ]
     },
     "execution_count": 573,
     "metadata": {},
     "output_type": "execute_result"
    }
   ],
   "execution_count": 573
  },
  {
   "metadata": {
    "ExecuteTime": {
     "end_time": "2025-01-18T18:14:23.542497Z",
     "start_time": "2025-01-18T18:14:23.540595Z"
    }
   },
   "cell_type": "code",
   "source": "quantitative_attributes",
   "outputs": [
    {
     "data": {
      "text/plain": [
       "['Temperature',\n",
       " 'Humidity',\n",
       " 'WindSpeed',\n",
       " 'GeneralDiffuseFlows',\n",
       " 'DiffuseFlows',\n",
       " 'PowerConsumption']"
      ]
     },
     "execution_count": 574,
     "metadata": {},
     "output_type": "execute_result"
    }
   ],
   "execution_count": 574
  },
  {
   "metadata": {
    "ExecuteTime": {
     "end_time": "2025-01-18T18:14:23.582510Z",
     "start_time": "2025-01-18T18:14:23.571391Z"
    }
   },
   "cell_type": "code",
   "source": [
    "for att in quantitative_attributes:\n",
    "    df = fill_missing_values(df,att)"
   ],
   "outputs": [],
   "execution_count": 575
  },
  {
   "metadata": {
    "ExecuteTime": {
     "end_time": "2025-01-18T18:14:23.599424Z",
     "start_time": "2025-01-18T18:14:23.596655Z"
    }
   },
   "cell_type": "code",
   "source": "df.isnull().sum()",
   "outputs": [
    {
     "data": {
      "text/plain": [
       "Temperature            0\n",
       "Humidity               0\n",
       "WindSpeed              0\n",
       "GeneralDiffuseFlows    0\n",
       "DiffuseFlows           0\n",
       "PowerConsumption       0\n",
       "dtype: int64"
      ]
     },
     "execution_count": 576,
     "metadata": {},
     "output_type": "execute_result"
    }
   ],
   "execution_count": 576
  },
  {
   "metadata": {
    "ExecuteTime": {
     "end_time": "2025-01-18T18:14:23.632294Z",
     "start_time": "2025-01-18T18:14:23.630995Z"
    }
   },
   "cell_type": "code",
   "source": "",
   "outputs": [],
   "execution_count": null
  },
  {
   "cell_type": "markdown",
   "metadata": {
    "id": "6cTsIz3vjjJr"
   },
   "source": [
    "## Group the datasets into time intervals of 30 mintues"
   ]
  },
  {
   "cell_type": "code",
   "metadata": {
    "colab": {
     "base_uri": "https://localhost:8080/",
     "height": 455
    },
    "id": "bsufA_wIjloq",
    "outputId": "ca82a02e-ffd9-4357-f280-43376db1b78d",
    "ExecuteTime": {
     "end_time": "2025-01-18T18:14:23.655038Z",
     "start_time": "2025-01-18T18:14:23.651737Z"
    }
   },
   "source": "df = df.groupby(pd.Grouper(freq=\"30min\")).mean()",
   "outputs": [],
   "execution_count": 577
  },
  {
   "cell_type": "code",
   "metadata": {
    "id": "P31iCsG_GN6X",
    "ExecuteTime": {
     "end_time": "2025-01-18T18:14:23.684856Z",
     "start_time": "2025-01-18T18:14:23.680112Z"
    }
   },
   "source": "df",
   "outputs": [
    {
     "data": {
      "text/plain": [
       "                     Temperature   Humidity  WindSpeed  GeneralDiffuseFlows  \\\n",
       "Datetime                                                                      \n",
       "2017-01-01 00:00:00     6.428667  74.266667   0.082000             0.061000   \n",
       "2017-01-01 00:30:00     5.941000  75.866667   0.081667             0.066000   \n",
       "2017-01-01 01:00:00     5.605000  77.900000   0.082000             0.056333   \n",
       "2017-01-01 01:30:00     5.492667  77.166667   0.082000             0.057333   \n",
       "2017-01-01 02:00:00     5.000667  78.766667   0.082667             0.065000   \n",
       "...                          ...        ...        ...                  ...   \n",
       "2017-12-30 21:30:00     7.913333  70.343333   0.081667             0.069333   \n",
       "2017-12-30 22:00:00     7.793333  69.563333   0.081000             0.062333   \n",
       "2017-12-30 22:30:00     7.403333  71.066667   0.082667             0.055000   \n",
       "2017-12-30 23:00:00     7.009000  72.500000   0.080667             0.055000   \n",
       "2017-12-30 23:30:00     6.746000  73.300000   0.082333             0.070667   \n",
       "\n",
       "                     DiffuseFlows  PowerConsumption  \n",
       "Datetime                                             \n",
       "2017-01-01 00:00:00      0.101333      30999.493670  \n",
       "2017-01-01 00:30:00      0.096333      27396.455697  \n",
       "2017-01-01 01:00:00      0.110000      25407.594937  \n",
       "2017-01-01 01:30:00      0.115000      23906.835443  \n",
       "2017-01-01 02:00:00      0.127333      22474.936707  \n",
       "...                           ...               ...  \n",
       "2017-12-30 21:30:00      0.087667      34786.311787  \n",
       "2017-12-30 22:00:00      0.108667      34660.583017  \n",
       "2017-12-30 22:30:00      0.107667      33326.235743  \n",
       "2017-12-30 23:00:00      0.094000      31249.683140  \n",
       "2017-12-30 23:30:00      0.091333      28966.286437  \n",
       "\n",
       "[17472 rows x 6 columns]"
      ],
      "text/html": [
       "<div>\n",
       "<style scoped>\n",
       "    .dataframe tbody tr th:only-of-type {\n",
       "        vertical-align: middle;\n",
       "    }\n",
       "\n",
       "    .dataframe tbody tr th {\n",
       "        vertical-align: top;\n",
       "    }\n",
       "\n",
       "    .dataframe thead th {\n",
       "        text-align: right;\n",
       "    }\n",
       "</style>\n",
       "<table border=\"1\" class=\"dataframe\">\n",
       "  <thead>\n",
       "    <tr style=\"text-align: right;\">\n",
       "      <th></th>\n",
       "      <th>Temperature</th>\n",
       "      <th>Humidity</th>\n",
       "      <th>WindSpeed</th>\n",
       "      <th>GeneralDiffuseFlows</th>\n",
       "      <th>DiffuseFlows</th>\n",
       "      <th>PowerConsumption</th>\n",
       "    </tr>\n",
       "    <tr>\n",
       "      <th>Datetime</th>\n",
       "      <th></th>\n",
       "      <th></th>\n",
       "      <th></th>\n",
       "      <th></th>\n",
       "      <th></th>\n",
       "      <th></th>\n",
       "    </tr>\n",
       "  </thead>\n",
       "  <tbody>\n",
       "    <tr>\n",
       "      <th>2017-01-01 00:00:00</th>\n",
       "      <td>6.428667</td>\n",
       "      <td>74.266667</td>\n",
       "      <td>0.082000</td>\n",
       "      <td>0.061000</td>\n",
       "      <td>0.101333</td>\n",
       "      <td>30999.493670</td>\n",
       "    </tr>\n",
       "    <tr>\n",
       "      <th>2017-01-01 00:30:00</th>\n",
       "      <td>5.941000</td>\n",
       "      <td>75.866667</td>\n",
       "      <td>0.081667</td>\n",
       "      <td>0.066000</td>\n",
       "      <td>0.096333</td>\n",
       "      <td>27396.455697</td>\n",
       "    </tr>\n",
       "    <tr>\n",
       "      <th>2017-01-01 01:00:00</th>\n",
       "      <td>5.605000</td>\n",
       "      <td>77.900000</td>\n",
       "      <td>0.082000</td>\n",
       "      <td>0.056333</td>\n",
       "      <td>0.110000</td>\n",
       "      <td>25407.594937</td>\n",
       "    </tr>\n",
       "    <tr>\n",
       "      <th>2017-01-01 01:30:00</th>\n",
       "      <td>5.492667</td>\n",
       "      <td>77.166667</td>\n",
       "      <td>0.082000</td>\n",
       "      <td>0.057333</td>\n",
       "      <td>0.115000</td>\n",
       "      <td>23906.835443</td>\n",
       "    </tr>\n",
       "    <tr>\n",
       "      <th>2017-01-01 02:00:00</th>\n",
       "      <td>5.000667</td>\n",
       "      <td>78.766667</td>\n",
       "      <td>0.082667</td>\n",
       "      <td>0.065000</td>\n",
       "      <td>0.127333</td>\n",
       "      <td>22474.936707</td>\n",
       "    </tr>\n",
       "    <tr>\n",
       "      <th>...</th>\n",
       "      <td>...</td>\n",
       "      <td>...</td>\n",
       "      <td>...</td>\n",
       "      <td>...</td>\n",
       "      <td>...</td>\n",
       "      <td>...</td>\n",
       "    </tr>\n",
       "    <tr>\n",
       "      <th>2017-12-30 21:30:00</th>\n",
       "      <td>7.913333</td>\n",
       "      <td>70.343333</td>\n",
       "      <td>0.081667</td>\n",
       "      <td>0.069333</td>\n",
       "      <td>0.087667</td>\n",
       "      <td>34786.311787</td>\n",
       "    </tr>\n",
       "    <tr>\n",
       "      <th>2017-12-30 22:00:00</th>\n",
       "      <td>7.793333</td>\n",
       "      <td>69.563333</td>\n",
       "      <td>0.081000</td>\n",
       "      <td>0.062333</td>\n",
       "      <td>0.108667</td>\n",
       "      <td>34660.583017</td>\n",
       "    </tr>\n",
       "    <tr>\n",
       "      <th>2017-12-30 22:30:00</th>\n",
       "      <td>7.403333</td>\n",
       "      <td>71.066667</td>\n",
       "      <td>0.082667</td>\n",
       "      <td>0.055000</td>\n",
       "      <td>0.107667</td>\n",
       "      <td>33326.235743</td>\n",
       "    </tr>\n",
       "    <tr>\n",
       "      <th>2017-12-30 23:00:00</th>\n",
       "      <td>7.009000</td>\n",
       "      <td>72.500000</td>\n",
       "      <td>0.080667</td>\n",
       "      <td>0.055000</td>\n",
       "      <td>0.094000</td>\n",
       "      <td>31249.683140</td>\n",
       "    </tr>\n",
       "    <tr>\n",
       "      <th>2017-12-30 23:30:00</th>\n",
       "      <td>6.746000</td>\n",
       "      <td>73.300000</td>\n",
       "      <td>0.082333</td>\n",
       "      <td>0.070667</td>\n",
       "      <td>0.091333</td>\n",
       "      <td>28966.286437</td>\n",
       "    </tr>\n",
       "  </tbody>\n",
       "</table>\n",
       "<p>17472 rows × 6 columns</p>\n",
       "</div>"
      ]
     },
     "execution_count": 578,
     "metadata": {},
     "output_type": "execute_result"
    }
   ],
   "execution_count": 578
  },
  {
   "cell_type": "code",
   "metadata": {
    "colab": {
     "base_uri": "https://localhost:8080/",
     "height": 466
    },
    "id": "KdT9N4THGN6X",
    "outputId": "77354cfb-e764-4dfc-e007-a84735c604d5",
    "ExecuteTime": {
     "end_time": "2025-01-18T18:14:23.720827Z",
     "start_time": "2025-01-18T18:14:23.718849Z"
    }
   },
   "source": [
    "def cast_selected_columns(df: pd.DataFrame, columns: list, dtype: str) -> pd.DataFrame:\n",
    "    df = df.copy()\n",
    "    df[columns] = df[columns].astype(dtype)\n",
    "    return df"
   ],
   "outputs": [],
   "execution_count": 579
  },
  {
   "cell_type": "code",
   "metadata": {
    "colab": {
     "base_uri": "https://localhost:8080/",
     "height": 466
    },
    "id": "DEZuZU2gGN6Y",
    "outputId": "cd1c145d-f15f-4a6e-cc1b-6e1cb15f0e52",
    "ExecuteTime": {
     "end_time": "2025-01-18T18:14:23.751819Z",
     "start_time": "2025-01-18T18:14:23.749300Z"
    }
   },
   "source": "df = cast_selected_columns(df,quantitative_attributes,\"float\")",
   "outputs": [],
   "execution_count": 580
  },
  {
   "cell_type": "code",
   "metadata": {
    "colab": {
     "base_uri": "https://localhost:8080/",
     "height": 466
    },
    "id": "ZxMgzXufGN6Y",
    "outputId": "c56d767f-b2bd-4e35-d481-3efc42d5ed60",
    "ExecuteTime": {
     "end_time": "2025-01-18T18:14:23.779843Z",
     "start_time": "2025-01-18T18:14:23.775269Z"
    }
   },
   "source": "df",
   "outputs": [
    {
     "data": {
      "text/plain": [
       "                     Temperature   Humidity  WindSpeed  GeneralDiffuseFlows  \\\n",
       "Datetime                                                                      \n",
       "2017-01-01 00:00:00     6.428667  74.266667   0.082000             0.061000   \n",
       "2017-01-01 00:30:00     5.941000  75.866667   0.081667             0.066000   \n",
       "2017-01-01 01:00:00     5.605000  77.900000   0.082000             0.056333   \n",
       "2017-01-01 01:30:00     5.492667  77.166667   0.082000             0.057333   \n",
       "2017-01-01 02:00:00     5.000667  78.766667   0.082667             0.065000   \n",
       "...                          ...        ...        ...                  ...   \n",
       "2017-12-30 21:30:00     7.913333  70.343333   0.081667             0.069333   \n",
       "2017-12-30 22:00:00     7.793333  69.563333   0.081000             0.062333   \n",
       "2017-12-30 22:30:00     7.403333  71.066667   0.082667             0.055000   \n",
       "2017-12-30 23:00:00     7.009000  72.500000   0.080667             0.055000   \n",
       "2017-12-30 23:30:00     6.746000  73.300000   0.082333             0.070667   \n",
       "\n",
       "                     DiffuseFlows  PowerConsumption  \n",
       "Datetime                                             \n",
       "2017-01-01 00:00:00      0.101333      30999.493670  \n",
       "2017-01-01 00:30:00      0.096333      27396.455697  \n",
       "2017-01-01 01:00:00      0.110000      25407.594937  \n",
       "2017-01-01 01:30:00      0.115000      23906.835443  \n",
       "2017-01-01 02:00:00      0.127333      22474.936707  \n",
       "...                           ...               ...  \n",
       "2017-12-30 21:30:00      0.087667      34786.311787  \n",
       "2017-12-30 22:00:00      0.108667      34660.583017  \n",
       "2017-12-30 22:30:00      0.107667      33326.235743  \n",
       "2017-12-30 23:00:00      0.094000      31249.683140  \n",
       "2017-12-30 23:30:00      0.091333      28966.286437  \n",
       "\n",
       "[17472 rows x 6 columns]"
      ],
      "text/html": [
       "<div>\n",
       "<style scoped>\n",
       "    .dataframe tbody tr th:only-of-type {\n",
       "        vertical-align: middle;\n",
       "    }\n",
       "\n",
       "    .dataframe tbody tr th {\n",
       "        vertical-align: top;\n",
       "    }\n",
       "\n",
       "    .dataframe thead th {\n",
       "        text-align: right;\n",
       "    }\n",
       "</style>\n",
       "<table border=\"1\" class=\"dataframe\">\n",
       "  <thead>\n",
       "    <tr style=\"text-align: right;\">\n",
       "      <th></th>\n",
       "      <th>Temperature</th>\n",
       "      <th>Humidity</th>\n",
       "      <th>WindSpeed</th>\n",
       "      <th>GeneralDiffuseFlows</th>\n",
       "      <th>DiffuseFlows</th>\n",
       "      <th>PowerConsumption</th>\n",
       "    </tr>\n",
       "    <tr>\n",
       "      <th>Datetime</th>\n",
       "      <th></th>\n",
       "      <th></th>\n",
       "      <th></th>\n",
       "      <th></th>\n",
       "      <th></th>\n",
       "      <th></th>\n",
       "    </tr>\n",
       "  </thead>\n",
       "  <tbody>\n",
       "    <tr>\n",
       "      <th>2017-01-01 00:00:00</th>\n",
       "      <td>6.428667</td>\n",
       "      <td>74.266667</td>\n",
       "      <td>0.082000</td>\n",
       "      <td>0.061000</td>\n",
       "      <td>0.101333</td>\n",
       "      <td>30999.493670</td>\n",
       "    </tr>\n",
       "    <tr>\n",
       "      <th>2017-01-01 00:30:00</th>\n",
       "      <td>5.941000</td>\n",
       "      <td>75.866667</td>\n",
       "      <td>0.081667</td>\n",
       "      <td>0.066000</td>\n",
       "      <td>0.096333</td>\n",
       "      <td>27396.455697</td>\n",
       "    </tr>\n",
       "    <tr>\n",
       "      <th>2017-01-01 01:00:00</th>\n",
       "      <td>5.605000</td>\n",
       "      <td>77.900000</td>\n",
       "      <td>0.082000</td>\n",
       "      <td>0.056333</td>\n",
       "      <td>0.110000</td>\n",
       "      <td>25407.594937</td>\n",
       "    </tr>\n",
       "    <tr>\n",
       "      <th>2017-01-01 01:30:00</th>\n",
       "      <td>5.492667</td>\n",
       "      <td>77.166667</td>\n",
       "      <td>0.082000</td>\n",
       "      <td>0.057333</td>\n",
       "      <td>0.115000</td>\n",
       "      <td>23906.835443</td>\n",
       "    </tr>\n",
       "    <tr>\n",
       "      <th>2017-01-01 02:00:00</th>\n",
       "      <td>5.000667</td>\n",
       "      <td>78.766667</td>\n",
       "      <td>0.082667</td>\n",
       "      <td>0.065000</td>\n",
       "      <td>0.127333</td>\n",
       "      <td>22474.936707</td>\n",
       "    </tr>\n",
       "    <tr>\n",
       "      <th>...</th>\n",
       "      <td>...</td>\n",
       "      <td>...</td>\n",
       "      <td>...</td>\n",
       "      <td>...</td>\n",
       "      <td>...</td>\n",
       "      <td>...</td>\n",
       "    </tr>\n",
       "    <tr>\n",
       "      <th>2017-12-30 21:30:00</th>\n",
       "      <td>7.913333</td>\n",
       "      <td>70.343333</td>\n",
       "      <td>0.081667</td>\n",
       "      <td>0.069333</td>\n",
       "      <td>0.087667</td>\n",
       "      <td>34786.311787</td>\n",
       "    </tr>\n",
       "    <tr>\n",
       "      <th>2017-12-30 22:00:00</th>\n",
       "      <td>7.793333</td>\n",
       "      <td>69.563333</td>\n",
       "      <td>0.081000</td>\n",
       "      <td>0.062333</td>\n",
       "      <td>0.108667</td>\n",
       "      <td>34660.583017</td>\n",
       "    </tr>\n",
       "    <tr>\n",
       "      <th>2017-12-30 22:30:00</th>\n",
       "      <td>7.403333</td>\n",
       "      <td>71.066667</td>\n",
       "      <td>0.082667</td>\n",
       "      <td>0.055000</td>\n",
       "      <td>0.107667</td>\n",
       "      <td>33326.235743</td>\n",
       "    </tr>\n",
       "    <tr>\n",
       "      <th>2017-12-30 23:00:00</th>\n",
       "      <td>7.009000</td>\n",
       "      <td>72.500000</td>\n",
       "      <td>0.080667</td>\n",
       "      <td>0.055000</td>\n",
       "      <td>0.094000</td>\n",
       "      <td>31249.683140</td>\n",
       "    </tr>\n",
       "    <tr>\n",
       "      <th>2017-12-30 23:30:00</th>\n",
       "      <td>6.746000</td>\n",
       "      <td>73.300000</td>\n",
       "      <td>0.082333</td>\n",
       "      <td>0.070667</td>\n",
       "      <td>0.091333</td>\n",
       "      <td>28966.286437</td>\n",
       "    </tr>\n",
       "  </tbody>\n",
       "</table>\n",
       "<p>17472 rows × 6 columns</p>\n",
       "</div>"
      ]
     },
     "execution_count": 581,
     "metadata": {},
     "output_type": "execute_result"
    }
   ],
   "execution_count": 581
  },
  {
   "cell_type": "code",
   "metadata": {
    "colab": {
     "base_uri": "https://localhost:8080/",
     "height": 466
    },
    "id": "Vh2Yw6dbGN6Y",
    "outputId": "4c6636f7-6cbd-40f1-c96c-97aefae87f2d",
    "ExecuteTime": {
     "end_time": "2025-01-18T18:14:23.911896Z",
     "start_time": "2025-01-18T18:14:23.819082Z"
    }
   },
   "source": [
    "import matplotlib.pyplot as plt\n",
    "import seaborn as sns\n",
    "\n",
    "plt.figure(figsize=(8, 6))\n",
    "sns.heatmap(df[quantitative_attributes].corr(), annot=True, fmt='.2f', linewidths=2)\n",
    "plt.show()"
   ],
   "outputs": [
    {
     "data": {
      "text/plain": [
       "<Figure size 800x600 with 2 Axes>"
      ],
      "image/png": "[encoded data removed]"
     },
     "metadata": {},
     "output_type": "display_data"
    }
   ],
   "execution_count": 582
  },
  {
   "cell_type": "code",
   "metadata": {
    "colab": {
     "base_uri": "https://localhost:8080/",
     "height": 466
    },
    "id": "OWjGByhUGN6Y",
    "outputId": "3ae73cf4-bdb7-47ed-9ce0-4367a02a1f59",
    "ExecuteTime": {
     "end_time": "2025-01-18T18:14:23.934526Z",
     "start_time": "2025-01-18T18:14:23.932421Z"
    }
   },
   "source": "df.drop(columns=[\"GeneralDiffuseFlows\"],axis=1,inplace=True)",
   "outputs": [],
   "execution_count": 583
  },
  {
   "metadata": {
    "ExecuteTime": {
     "end_time": "2025-01-18T18:14:23.940763Z",
     "start_time": "2025-01-18T18:14:23.937351Z"
    }
   },
   "cell_type": "code",
   "source": "qualitative_attributes,quantitative_attributes = qualitative_quantitative_attrs(df)\n",
   "outputs": [],
   "execution_count": 584
  },
  {
   "cell_type": "code",
   "metadata": {
    "colab": {
     "base_uri": "https://localhost:8080/",
     "height": 581
    },
    "id": "i9ezfCizGN6Y",
    "outputId": "9d089e57-a557-4d1f-bf09-9c8ac1399ac0",
    "ExecuteTime": {
     "end_time": "2025-01-18T18:14:24.041411Z",
     "start_time": "2025-01-18T18:14:23.956176Z"
    }
   },
   "source": [
    "plt.figure(figsize=(8, 6))\n",
    "sns.heatmap(df[quantitative_attributes].corr(), annot=True, fmt='.2f', linewidths=2)\n",
    "plt.show()"
   ],
   "outputs": [
    {
     "data": {
      "text/plain": [
       "<Figure size 800x600 with 2 Axes>"
      ],
      "image/png": "[encoded data removed]"
     },
     "metadata": {},
     "output_type": "display_data"
    }
   ],
   "execution_count": 585
  },
  {
   "metadata": {
    "ExecuteTime": {
     "end_time": "2025-01-18T18:14:24.060827Z",
     "start_time": "2025-01-18T18:14:24.057657Z"
    }
   },
   "cell_type": "code",
   "source": [
    "def plot_line_for_columns(df:pd.DataFrame, columns:list[str]):\n",
    "    for col in columns:\n",
    "        plt.figure(figsize=(5, 3))\n",
    "        sns.lineplot(df[col])\n",
    "        plt.show()\n"
   ],
   "outputs": [],
   "execution_count": 586
  },
  {
   "metadata": {
    "ExecuteTime": {
     "end_time": "2025-01-18T18:14:24.081592Z",
     "start_time": "2025-01-18T18:14:24.078674Z"
    }
   },
   "cell_type": "code",
   "source": "quantitative_attributes",
   "outputs": [
    {
     "data": {
      "text/plain": [
       "['Temperature', 'Humidity', 'WindSpeed', 'DiffuseFlows', 'PowerConsumption']"
      ]
     },
     "execution_count": 587,
     "metadata": {},
     "output_type": "execute_result"
    }
   ],
   "execution_count": 587
  },
  {
   "metadata": {
    "ExecuteTime": {
     "end_time": "2025-01-18T18:14:24.690180Z",
     "start_time": "2025-01-18T18:14:24.104131Z"
    }
   },
   "cell_type": "code",
   "source": "plot_line_for_columns(df,quantitative_attributes)",
   "outputs": [
    {
     "data": {
      "text/plain": [
       "<Figure size 500x300 with 1 Axes>"
      ],
      "image/png": "[encoded data removed]"
     },
     "metadata": {},
     "output_type": "display_data"
    },
    {
     "data": {
      "text/plain": [
       "<Figure size 500x300 with 1 Axes>"
      ],
      "image/png": "[encoded data removed]"
     },
     "metadata": {},
     "output_type": "display_data"
    },
    {
     "data": {
      "text/plain": [
       "<Figure size 500x300 with 1 Axes>"
      ],
      "image/png": "[encoded data removed]"
     },
     "metadata": {},
     "output_type": "display_data"
    },
    {
     "data": {
      "text/plain": [
       "<Figure size 500x300 with 1 Axes>"
      ],
      "image/png": "[encoded data removed]"
     },
     "metadata": {},
     "output_type": "display_data"
    },
    {
     "data": {
      "text/plain": [
       "<Figure size 500x300 with 1 Axes>"
      ],
      "image/png": "[encoded data removed]"
     },
     "metadata": {},
     "output_type": "display_data"
    }
   ],
   "execution_count": 588
  },
  {
   "metadata": {
    "ExecuteTime": {
     "end_time": "2025-01-18T18:14:24.705787Z",
     "start_time": "2025-01-18T18:14:24.704671Z"
    }
   },
   "cell_type": "code",
   "source": "",
   "outputs": [],
   "execution_count": null
  },
  {
   "cell_type": "markdown",
   "metadata": {
    "id": "SDiLVboNjmbU"
   },
   "source": [
    "## Create lags"
   ]
  },
  {
   "cell_type": "code",
   "metadata": {
    "colab": {
     "base_uri": "https://localhost:8080/"
    },
    "id": "pia98cPkjtyV",
    "outputId": "216d41ea-eeeb-4526-e2bb-8e6425db6723",
    "ExecuteTime": {
     "end_time": "2025-01-18T18:14:24.723407Z",
     "start_time": "2025-01-18T18:14:24.721117Z"
    }
   },
   "source": [
    "def shift(df:pd.DataFrame,columns:list[str],n:int) -> pd.DataFrame:\n",
    "    df_copy = df.copy(deep=True)\n",
    "    lags = range(n, 0, -1)\n",
    "    for lag in lags:\n",
    "        for column in columns:\n",
    "            df_copy[f\"{column}_{lag}\"] = df_copy[column].shift(lag)\n",
    "    return df_copy"
   ],
   "outputs": [],
   "execution_count": 589
  },
  {
   "metadata": {
    "ExecuteTime": {
     "end_time": "2025-01-18T18:14:24.741046Z",
     "start_time": "2025-01-18T18:14:24.738487Z"
    }
   },
   "cell_type": "code",
   "source": "list(df.columns)",
   "outputs": [
    {
     "data": {
      "text/plain": [
       "['Temperature', 'Humidity', 'WindSpeed', 'DiffuseFlows', 'PowerConsumption']"
      ]
     },
     "execution_count": 590,
     "metadata": {},
     "output_type": "execute_result"
    }
   ],
   "execution_count": 590
  },
  {
   "cell_type": "code",
   "metadata": {
    "id": "BVxRk6tVGN6Y",
    "ExecuteTime": {
     "end_time": "2025-01-18T18:14:24.760271Z",
     "start_time": "2025-01-18T18:14:24.755629Z"
    }
   },
   "source": "df = shift(df,list(df.columns),5)",
   "outputs": [],
   "execution_count": 591
  },
  {
   "cell_type": "code",
   "metadata": {
    "colab": {
     "base_uri": "https://localhost:8080/",
     "height": 822
    },
    "id": "AnlbjpazGN6Y",
    "outputId": "7f43327d-7180-4316-fa7f-3d9ca3c5d1f7",
    "ExecuteTime": {
     "end_time": "2025-01-18T18:14:24.786751Z",
     "start_time": "2025-01-18T18:14:24.777437Z"
    }
   },
   "source": "df",
   "outputs": [
    {
     "data": {
      "text/plain": [
       "                     Temperature   Humidity  WindSpeed  DiffuseFlows  \\\n",
       "Datetime                                                               \n",
       "2017-01-01 00:00:00     6.428667  74.266667   0.082000      0.101333   \n",
       "2017-01-01 00:30:00     5.941000  75.866667   0.081667      0.096333   \n",
       "2017-01-01 01:00:00     5.605000  77.900000   0.082000      0.110000   \n",
       "2017-01-01 01:30:00     5.492667  77.166667   0.082000      0.115000   \n",
       "2017-01-01 02:00:00     5.000667  78.766667   0.082667      0.127333   \n",
       "...                          ...        ...        ...           ...   \n",
       "2017-12-30 21:30:00     7.913333  70.343333   0.081667      0.087667   \n",
       "2017-12-30 22:00:00     7.793333  69.563333   0.081000      0.108667   \n",
       "2017-12-30 22:30:00     7.403333  71.066667   0.082667      0.107667   \n",
       "2017-12-30 23:00:00     7.009000  72.500000   0.080667      0.094000   \n",
       "2017-12-30 23:30:00     6.746000  73.300000   0.082333      0.091333   \n",
       "\n",
       "                     PowerConsumption  Temperature_5  Humidity_5  WindSpeed_5  \\\n",
       "Datetime                                                                        \n",
       "2017-01-01 00:00:00      30999.493670            NaN         NaN          NaN   \n",
       "2017-01-01 00:30:00      27396.455697            NaN         NaN          NaN   \n",
       "2017-01-01 01:00:00      25407.594937            NaN         NaN          NaN   \n",
       "2017-01-01 01:30:00      23906.835443            NaN         NaN          NaN   \n",
       "2017-01-01 02:00:00      22474.936707            NaN         NaN          NaN   \n",
       "...                               ...            ...         ...          ...   \n",
       "2017-12-30 21:30:00      34786.311787       9.710000   61.685000     0.075000   \n",
       "2017-12-30 22:00:00      34660.583017       9.196667   63.106667     0.074333   \n",
       "2017-12-30 22:30:00      33326.235743       8.933333   63.473333     0.074667   \n",
       "2017-12-30 23:00:00      31249.683140       9.150000   64.506667     0.086000   \n",
       "2017-12-30 23:30:00      28966.286437       8.110000   69.006667     0.081333   \n",
       "\n",
       "                     DiffuseFlows_5  PowerConsumption_5  ...  Temperature_2  \\\n",
       "Datetime                                                 ...                  \n",
       "2017-01-01 00:00:00             NaN                 NaN  ...            NaN   \n",
       "2017-01-01 00:30:00             NaN                 NaN  ...            NaN   \n",
       "2017-01-01 01:00:00             NaN                 NaN  ...       6.428667   \n",
       "2017-01-01 01:30:00             NaN                 NaN  ...       5.941000   \n",
       "2017-01-01 02:00:00             NaN                 NaN  ...       5.605000   \n",
       "...                             ...                 ...  ...            ...   \n",
       "2017-12-30 21:30:00        0.108667        37690.240813  ...       9.150000   \n",
       "2017-12-30 22:00:00        0.095333        37337.389100  ...       8.110000   \n",
       "2017-12-30 22:30:00        0.120000        37171.102660  ...       7.913333   \n",
       "2017-12-30 23:00:00        0.090000        36846.641317  ...       7.793333   \n",
       "2017-12-30 23:30:00        0.109000        35930.038023  ...       7.403333   \n",
       "\n",
       "                     Humidity_2  WindSpeed_2  DiffuseFlows_2  \\\n",
       "Datetime                                                       \n",
       "2017-01-01 00:00:00         NaN          NaN             NaN   \n",
       "2017-01-01 00:30:00         NaN          NaN             NaN   \n",
       "2017-01-01 01:00:00   74.266667     0.082000        0.101333   \n",
       "2017-01-01 01:30:00   75.866667     0.081667        0.096333   \n",
       "2017-01-01 02:00:00   77.900000     0.082000        0.110000   \n",
       "...                         ...          ...             ...   \n",
       "2017-12-30 21:30:00   64.506667     0.086000        0.090000   \n",
       "2017-12-30 22:00:00   69.006667     0.081333        0.109000   \n",
       "2017-12-30 22:30:00   70.343333     0.081667        0.087667   \n",
       "2017-12-30 23:00:00   69.563333     0.081000        0.108667   \n",
       "2017-12-30 23:30:00   71.066667     0.082667        0.107667   \n",
       "\n",
       "                     PowerConsumption_2  Temperature_1  Humidity_1  \\\n",
       "Datetime                                                             \n",
       "2017-01-01 00:00:00                 NaN            NaN         NaN   \n",
       "2017-01-01 00:30:00                 NaN       6.428667   74.266667   \n",
       "2017-01-01 01:00:00        30999.493670       5.941000   75.866667   \n",
       "2017-01-01 01:30:00        27396.455697       5.605000   77.900000   \n",
       "2017-01-01 02:00:00        25407.594937       5.492667   77.166667   \n",
       "...                                 ...            ...         ...   \n",
       "2017-12-30 21:30:00        36846.641317       8.110000   69.006667   \n",
       "2017-12-30 22:00:00        35930.038023       7.913333   70.343333   \n",
       "2017-12-30 22:30:00        34786.311787       7.793333   69.563333   \n",
       "2017-12-30 23:00:00        34660.583017       7.403333   71.066667   \n",
       "2017-12-30 23:30:00        33326.235743       7.009000   72.500000   \n",
       "\n",
       "                     WindSpeed_1  DiffuseFlows_1  PowerConsumption_1  \n",
       "Datetime                                                              \n",
       "2017-01-01 00:00:00          NaN             NaN                 NaN  \n",
       "2017-01-01 00:30:00     0.082000        0.101333        30999.493670  \n",
       "2017-01-01 01:00:00     0.081667        0.096333        27396.455697  \n",
       "2017-01-01 01:30:00     0.082000        0.110000        25407.594937  \n",
       "2017-01-01 02:00:00     0.082000        0.115000        23906.835443  \n",
       "...                          ...             ...                 ...  \n",
       "2017-12-30 21:30:00     0.081333        0.109000        35930.038023  \n",
       "2017-12-30 22:00:00     0.081667        0.087667        34786.311787  \n",
       "2017-12-30 22:30:00     0.081000        0.108667        34660.583017  \n",
       "2017-12-30 23:00:00     0.082667        0.107667        33326.235743  \n",
       "2017-12-30 23:30:00     0.080667        0.094000        31249.683140  \n",
       "\n",
       "[17472 rows x 30 columns]"
      ],
      "text/html": [
       "<div>\n",
       "<style scoped>\n",
       "    .dataframe tbody tr th:only-of-type {\n",
       "        vertical-align: middle;\n",
       "    }\n",
       "\n",
       "    .dataframe tbody tr th {\n",
       "        vertical-align: top;\n",
       "    }\n",
       "\n",
       "    .dataframe thead th {\n",
       "        text-align: right;\n",
       "    }\n",
       "</style>\n",
       "<table border=\"1\" class=\"dataframe\">\n",
       "  <thead>\n",
       "    <tr style=\"text-align: right;\">\n",
       "      <th></th>\n",
       "      <th>Temperature</th>\n",
       "      <th>Humidity</th>\n",
       "      <th>WindSpeed</th>\n",
       "      <th>DiffuseFlows</th>\n",
       "      <th>PowerConsumption</th>\n",
       "      <th>Temperature_5</th>\n",
       "      <th>Humidity_5</th>\n",
       "      <th>WindSpeed_5</th>\n",
       "      <th>DiffuseFlows_5</th>\n",
       "      <th>PowerConsumption_5</th>\n",
       "      <th>...</th>\n",
       "      <th>Temperature_2</th>\n",
       "      <th>Humidity_2</th>\n",
       "      <th>WindSpeed_2</th>\n",
       "      <th>DiffuseFlows_2</th>\n",
       "      <th>PowerConsumption_2</th>\n",
       "      <th>Temperature_1</th>\n",
       "      <th>Humidity_1</th>\n",
       "      <th>WindSpeed_1</th>\n",
       "      <th>DiffuseFlows_1</th>\n",
       "      <th>PowerConsumption_1</th>\n",
       "    </tr>\n",
       "    <tr>\n",
       "      <th>Datetime</th>\n",
       "      <th></th>\n",
       "      <th></th>\n",
       "      <th></th>\n",
       "      <th></th>\n",
       "      <th></th>\n",
       "      <th></th>\n",
       "      <th></th>\n",
       "      <th></th>\n",
       "      <th></th>\n",
       "      <th></th>\n",
       "      <th></th>\n",
       "      <th></th>\n",
       "      <th></th>\n",
       "      <th></th>\n",
       "      <th></th>\n",
       "      <th></th>\n",
       "      <th></th>\n",
       "      <th></th>\n",
       "      <th></th>\n",
       "      <th></th>\n",
       "      <th></th>\n",
       "    </tr>\n",
       "  </thead>\n",
       "  <tbody>\n",
       "    <tr>\n",
       "      <th>2017-01-01 00:00:00</th>\n",
       "      <td>6.428667</td>\n",
       "      <td>74.266667</td>\n",
       "      <td>0.082000</td>\n",
       "      <td>0.101333</td>\n",
       "      <td>30999.493670</td>\n",
       "      <td>NaN</td>\n",
       "      <td>NaN</td>\n",
       "      <td>NaN</td>\n",
       "      <td>NaN</td>\n",
       "      <td>NaN</td>\n",
       "      <td>...</td>\n",
       "      <td>NaN</td>\n",
       "      <td>NaN</td>\n",
       "      <td>NaN</td>\n",
       "      <td>NaN</td>\n",
       "      <td>NaN</td>\n",
       "      <td>NaN</td>\n",
       "      <td>NaN</td>\n",
       "      <td>NaN</td>\n",
       "      <td>NaN</td>\n",
       "      <td>NaN</td>\n",
       "    </tr>\n",
       "    <tr>\n",
       "      <th>2017-01-01 00:30:00</th>\n",
       "      <td>5.941000</td>\n",
       "      <td>75.866667</td>\n",
       "      <td>0.081667</td>\n",
       "      <td>0.096333</td>\n",
       "      <td>27396.455697</td>\n",
       "      <td>NaN</td>\n",
       "      <td>NaN</td>\n",
       "      <td>NaN</td>\n",
       "      <td>NaN</td>\n",
       "      <td>NaN</td>\n",
       "      <td>...</td>\n",
       "      <td>NaN</td>\n",
       "      <td>NaN</td>\n",
       "      <td>NaN</td>\n",
       "      <td>NaN</td>\n",
       "      <td>NaN</td>\n",
       "      <td>6.428667</td>\n",
       "      <td>74.266667</td>\n",
       "      <td>0.082000</td>\n",
       "      <td>0.101333</td>\n",
       "      <td>30999.493670</td>\n",
       "    </tr>\n",
       "    <tr>\n",
       "      <th>2017-01-01 01:00:00</th>\n",
       "      <td>5.605000</td>\n",
       "      <td>77.900000</td>\n",
       "      <td>0.082000</td>\n",
       "      <td>0.110000</td>\n",
       "      <td>25407.594937</td>\n",
       "      <td>NaN</td>\n",
       "      <td>NaN</td>\n",
       "      <td>NaN</td>\n",
       "      <td>NaN</td>\n",
       "      <td>NaN</td>\n",
       "      <td>...</td>\n",
       "      <td>6.428667</td>\n",
       "      <td>74.266667</td>\n",
       "      <td>0.082000</td>\n",
       "      <td>0.101333</td>\n",
       "      <td>30999.493670</td>\n",
       "      <td>5.941000</td>\n",
       "      <td>75.866667</td>\n",
       "      <td>0.081667</td>\n",
       "      <td>0.096333</td>\n",
       "      <td>27396.455697</td>\n",
       "    </tr>\n",
       "    <tr>\n",
       "      <th>2017-01-01 01:30:00</th>\n",
       "      <td>5.492667</td>\n",
       "      <td>77.166667</td>\n",
       "      <td>0.082000</td>\n",
       "      <td>0.115000</td>\n",
       "      <td>23906.835443</td>\n",
       "      <td>NaN</td>\n",
       "      <td>NaN</td>\n",
       "      <td>NaN</td>\n",
       "      <td>NaN</td>\n",
       "      <td>NaN</td>\n",
       "      <td>...</td>\n",
       "      <td>5.941000</td>\n",
       "      <td>75.866667</td>\n",
       "      <td>0.081667</td>\n",
       "      <td>0.096333</td>\n",
       "      <td>27396.455697</td>\n",
       "      <td>5.605000</td>\n",
       "      <td>77.900000</td>\n",
       "      <td>0.082000</td>\n",
       "      <td>0.110000</td>\n",
       "      <td>25407.594937</td>\n",
       "    </tr>\n",
       "    <tr>\n",
       "      <th>2017-01-01 02:00:00</th>\n",
       "      <td>5.000667</td>\n",
       "      <td>78.766667</td>\n",
       "      <td>0.082667</td>\n",
       "      <td>0.127333</td>\n",
       "      <td>22474.936707</td>\n",
       "      <td>NaN</td>\n",
       "      <td>NaN</td>\n",
       "      <td>NaN</td>\n",
       "      <td>NaN</td>\n",
       "      <td>NaN</td>\n",
       "      <td>...</td>\n",
       "      <td>5.605000</td>\n",
       "      <td>77.900000</td>\n",
       "      <td>0.082000</td>\n",
       "      <td>0.110000</td>\n",
       "      <td>25407.594937</td>\n",
       "      <td>5.492667</td>\n",
       "      <td>77.166667</td>\n",
       "      <td>0.082000</td>\n",
       "      <td>0.115000</td>\n",
       "      <td>23906.835443</td>\n",
       "    </tr>\n",
       "    <tr>\n",
       "      <th>...</th>\n",
       "      <td>...</td>\n",
       "      <td>...</td>\n",
       "      <td>...</td>\n",
       "      <td>...</td>\n",
       "      <td>...</td>\n",
       "      <td>...</td>\n",
       "      <td>...</td>\n",
       "      <td>...</td>\n",
       "      <td>...</td>\n",
       "      <td>...</td>\n",
       "      <td>...</td>\n",
       "      <td>...</td>\n",
       "      <td>...</td>\n",
       "      <td>...</td>\n",
       "      <td>...</td>\n",
       "      <td>...</td>\n",
       "      <td>...</td>\n",
       "      <td>...</td>\n",
       "      <td>...</td>\n",
       "      <td>...</td>\n",
       "      <td>...</td>\n",
       "    </tr>\n",
       "    <tr>\n",
       "      <th>2017-12-30 21:30:00</th>\n",
       "      <td>7.913333</td>\n",
       "      <td>70.343333</td>\n",
       "      <td>0.081667</td>\n",
       "      <td>0.087667</td>\n",
       "      <td>34786.311787</td>\n",
       "      <td>9.710000</td>\n",
       "      <td>61.685000</td>\n",
       "      <td>0.075000</td>\n",
       "      <td>0.108667</td>\n",
       "      <td>37690.240813</td>\n",
       "      <td>...</td>\n",
       "      <td>9.150000</td>\n",
       "      <td>64.506667</td>\n",
       "      <td>0.086000</td>\n",
       "      <td>0.090000</td>\n",
       "      <td>36846.641317</td>\n",
       "      <td>8.110000</td>\n",
       "      <td>69.006667</td>\n",
       "      <td>0.081333</td>\n",
       "      <td>0.109000</td>\n",
       "      <td>35930.038023</td>\n",
       "    </tr>\n",
       "    <tr>\n",
       "      <th>2017-12-30 22:00:00</th>\n",
       "      <td>7.793333</td>\n",
       "      <td>69.563333</td>\n",
       "      <td>0.081000</td>\n",
       "      <td>0.108667</td>\n",
       "      <td>34660.583017</td>\n",
       "      <td>9.196667</td>\n",
       "      <td>63.106667</td>\n",
       "      <td>0.074333</td>\n",
       "      <td>0.095333</td>\n",
       "      <td>37337.389100</td>\n",
       "      <td>...</td>\n",
       "      <td>8.110000</td>\n",
       "      <td>69.006667</td>\n",
       "      <td>0.081333</td>\n",
       "      <td>0.109000</td>\n",
       "      <td>35930.038023</td>\n",
       "      <td>7.913333</td>\n",
       "      <td>70.343333</td>\n",
       "      <td>0.081667</td>\n",
       "      <td>0.087667</td>\n",
       "      <td>34786.311787</td>\n",
       "    </tr>\n",
       "    <tr>\n",
       "      <th>2017-12-30 22:30:00</th>\n",
       "      <td>7.403333</td>\n",
       "      <td>71.066667</td>\n",
       "      <td>0.082667</td>\n",
       "      <td>0.107667</td>\n",
       "      <td>33326.235743</td>\n",
       "      <td>8.933333</td>\n",
       "      <td>63.473333</td>\n",
       "      <td>0.074667</td>\n",
       "      <td>0.120000</td>\n",
       "      <td>37171.102660</td>\n",
       "      <td>...</td>\n",
       "      <td>7.913333</td>\n",
       "      <td>70.343333</td>\n",
       "      <td>0.081667</td>\n",
       "      <td>0.087667</td>\n",
       "      <td>34786.311787</td>\n",
       "      <td>7.793333</td>\n",
       "      <td>69.563333</td>\n",
       "      <td>0.081000</td>\n",
       "      <td>0.108667</td>\n",
       "      <td>34660.583017</td>\n",
       "    </tr>\n",
       "    <tr>\n",
       "      <th>2017-12-30 23:00:00</th>\n",
       "      <td>7.009000</td>\n",
       "      <td>72.500000</td>\n",
       "      <td>0.080667</td>\n",
       "      <td>0.094000</td>\n",
       "      <td>31249.683140</td>\n",
       "      <td>9.150000</td>\n",
       "      <td>64.506667</td>\n",
       "      <td>0.086000</td>\n",
       "      <td>0.090000</td>\n",
       "      <td>36846.641317</td>\n",
       "      <td>...</td>\n",
       "      <td>7.793333</td>\n",
       "      <td>69.563333</td>\n",
       "      <td>0.081000</td>\n",
       "      <td>0.108667</td>\n",
       "      <td>34660.583017</td>\n",
       "      <td>7.403333</td>\n",
       "      <td>71.066667</td>\n",
       "      <td>0.082667</td>\n",
       "      <td>0.107667</td>\n",
       "      <td>33326.235743</td>\n",
       "    </tr>\n",
       "    <tr>\n",
       "      <th>2017-12-30 23:30:00</th>\n",
       "      <td>6.746000</td>\n",
       "      <td>73.300000</td>\n",
       "      <td>0.082333</td>\n",
       "      <td>0.091333</td>\n",
       "      <td>28966.286437</td>\n",
       "      <td>8.110000</td>\n",
       "      <td>69.006667</td>\n",
       "      <td>0.081333</td>\n",
       "      <td>0.109000</td>\n",
       "      <td>35930.038023</td>\n",
       "      <td>...</td>\n",
       "      <td>7.403333</td>\n",
       "      <td>71.066667</td>\n",
       "      <td>0.082667</td>\n",
       "      <td>0.107667</td>\n",
       "      <td>33326.235743</td>\n",
       "      <td>7.009000</td>\n",
       "      <td>72.500000</td>\n",
       "      <td>0.080667</td>\n",
       "      <td>0.094000</td>\n",
       "      <td>31249.683140</td>\n",
       "    </tr>\n",
       "  </tbody>\n",
       "</table>\n",
       "<p>17472 rows × 30 columns</p>\n",
       "</div>"
      ]
     },
     "execution_count": 592,
     "metadata": {},
     "output_type": "execute_result"
    }
   ],
   "execution_count": 592
  },
  {
   "metadata": {
    "ExecuteTime": {
     "end_time": "2025-01-18T18:14:24.825562Z",
     "start_time": "2025-01-18T18:14:24.821477Z"
    }
   },
   "cell_type": "code",
   "source": "df.isnull().sum()",
   "outputs": [
    {
     "data": {
      "text/plain": [
       "Temperature           0\n",
       "Humidity              0\n",
       "WindSpeed             0\n",
       "DiffuseFlows          0\n",
       "PowerConsumption      0\n",
       "Temperature_5         5\n",
       "Humidity_5            5\n",
       "WindSpeed_5           5\n",
       "DiffuseFlows_5        5\n",
       "PowerConsumption_5    5\n",
       "Temperature_4         4\n",
       "Humidity_4            4\n",
       "WindSpeed_4           4\n",
       "DiffuseFlows_4        4\n",
       "PowerConsumption_4    4\n",
       "Temperature_3         3\n",
       "Humidity_3            3\n",
       "WindSpeed_3           3\n",
       "DiffuseFlows_3        3\n",
       "PowerConsumption_3    3\n",
       "Temperature_2         2\n",
       "Humidity_2            2\n",
       "WindSpeed_2           2\n",
       "DiffuseFlows_2        2\n",
       "PowerConsumption_2    2\n",
       "Temperature_1         1\n",
       "Humidity_1            1\n",
       "WindSpeed_1           1\n",
       "DiffuseFlows_1        1\n",
       "PowerConsumption_1    1\n",
       "dtype: int64"
      ]
     },
     "execution_count": 593,
     "metadata": {},
     "output_type": "execute_result"
    }
   ],
   "execution_count": 593
  },
  {
   "cell_type": "code",
   "metadata": {
    "id": "oesydNPjGN6Y",
    "ExecuteTime": {
     "end_time": "2025-01-18T18:14:24.868219Z",
     "start_time": "2025-01-18T18:14:24.863998Z"
    }
   },
   "source": "df.dropna(axis=0,inplace=True)",
   "outputs": [],
   "execution_count": 594
  },
  {
   "cell_type": "code",
   "metadata": {
    "id": "kE4nEG4nGN6Z",
    "ExecuteTime": {
     "end_time": "2025-01-18T18:14:24.906469Z",
     "start_time": "2025-01-18T18:14:24.903171Z"
    }
   },
   "source": "df.isnull().sum()",
   "outputs": [
    {
     "data": {
      "text/plain": [
       "Temperature           0\n",
       "Humidity              0\n",
       "WindSpeed             0\n",
       "DiffuseFlows          0\n",
       "PowerConsumption      0\n",
       "Temperature_5         0\n",
       "Humidity_5            0\n",
       "WindSpeed_5           0\n",
       "DiffuseFlows_5        0\n",
       "PowerConsumption_5    0\n",
       "Temperature_4         0\n",
       "Humidity_4            0\n",
       "WindSpeed_4           0\n",
       "DiffuseFlows_4        0\n",
       "PowerConsumption_4    0\n",
       "Temperature_3         0\n",
       "Humidity_3            0\n",
       "WindSpeed_3           0\n",
       "DiffuseFlows_3        0\n",
       "PowerConsumption_3    0\n",
       "Temperature_2         0\n",
       "Humidity_2            0\n",
       "WindSpeed_2           0\n",
       "DiffuseFlows_2        0\n",
       "PowerConsumption_2    0\n",
       "Temperature_1         0\n",
       "Humidity_1            0\n",
       "WindSpeed_1           0\n",
       "DiffuseFlows_1        0\n",
       "PowerConsumption_1    0\n",
       "dtype: int64"
      ]
     },
     "execution_count": 595,
     "metadata": {},
     "output_type": "execute_result"
    }
   ],
   "execution_count": 595
  },
  {
   "cell_type": "code",
   "metadata": {
    "colab": {
     "base_uri": "https://localhost:8080/",
     "height": 822
    },
    "id": "muG47kqGGN6Z",
    "outputId": "66c69e8b-07b1-4b3c-c0d3-b6e0ee29f86e",
    "ExecuteTime": {
     "end_time": "2025-01-18T18:14:24.952458Z",
     "start_time": "2025-01-18T18:14:24.951359Z"
    }
   },
   "source": "",
   "outputs": [],
   "execution_count": null
  },
  {
   "cell_type": "markdown",
   "metadata": {
    "id": "YiHdAHJJjuUL"
   },
   "source": [
    "# Split the dataset into 80% training and 20% testing datasets"
   ]
  },
  {
   "metadata": {
    "ExecuteTime": {
     "end_time": "2025-01-18T18:14:24.979531Z",
     "start_time": "2025-01-18T18:14:24.977044Z"
    }
   },
   "cell_type": "code",
   "source": "df.columns",
   "outputs": [
    {
     "data": {
      "text/plain": [
       "Index(['Temperature', 'Humidity', 'WindSpeed', 'DiffuseFlows',\n",
       "       'PowerConsumption', 'Temperature_5', 'Humidity_5', 'WindSpeed_5',\n",
       "       'DiffuseFlows_5', 'PowerConsumption_5', 'Temperature_4', 'Humidity_4',\n",
       "       'WindSpeed_4', 'DiffuseFlows_4', 'PowerConsumption_4', 'Temperature_3',\n",
       "       'Humidity_3', 'WindSpeed_3', 'DiffuseFlows_3', 'PowerConsumption_3',\n",
       "       'Temperature_2', 'Humidity_2', 'WindSpeed_2', 'DiffuseFlows_2',\n",
       "       'PowerConsumption_2', 'Temperature_1', 'Humidity_1', 'WindSpeed_1',\n",
       "       'DiffuseFlows_1', 'PowerConsumption_1'],\n",
       "      dtype='object')"
      ]
     },
     "execution_count": 596,
     "metadata": {},
     "output_type": "execute_result"
    }
   ],
   "execution_count": 596
  },
  {
   "metadata": {
    "ExecuteTime": {
     "end_time": "2025-01-18T18:14:25.034061Z",
     "start_time": "2025-01-18T18:14:25.032501Z"
    }
   },
   "cell_type": "code",
   "source": "target = \"PowerConsumption\"",
   "outputs": [],
   "execution_count": 597
  },
  {
   "metadata": {
    "ExecuteTime": {
     "end_time": "2025-01-18T18:14:25.056918Z",
     "start_time": "2025-01-18T18:14:25.053594Z"
    }
   },
   "cell_type": "code",
   "source": "quantitative_attributes",
   "outputs": [
    {
     "data": {
      "text/plain": [
       "['Temperature', 'Humidity', 'WindSpeed', 'DiffuseFlows', 'PowerConsumption']"
      ]
     },
     "execution_count": 598,
     "metadata": {},
     "output_type": "execute_result"
    }
   ],
   "execution_count": 598
  },
  {
   "cell_type": "code",
   "metadata": {
    "id": "R4VXcc6uGN6Z",
    "ExecuteTime": {
     "end_time": "2025-01-18T18:14:25.089118Z",
     "start_time": "2025-01-18T18:14:25.084328Z"
    }
   },
   "source": [
    "from sklearn.model_selection import train_test_split\n",
    "X, y = df.drop(columns=quantitative_attributes), df[target]\n",
    "train_X, test_X, train_y, test_y = train_test_split(X, y, test_size=0.20, shuffle=False)"
   ],
   "outputs": [],
   "execution_count": 599
  },
  {
   "cell_type": "code",
   "metadata": {
    "id": "Kpdsa-tgjw-V",
    "ExecuteTime": {
     "end_time": "2025-01-18T18:14:25.120732Z",
     "start_time": "2025-01-18T18:14:25.110564Z"
    }
   },
   "source": "X",
   "outputs": [
    {
     "data": {
      "text/plain": [
       "                     Temperature_5  Humidity_5  WindSpeed_5  DiffuseFlows_5  \\\n",
       "Datetime                                                                      \n",
       "2017-01-01 02:30:00       6.428667   74.266667     0.082000        0.101333   \n",
       "2017-01-01 03:00:00       5.941000   75.866667     0.081667        0.096333   \n",
       "2017-01-01 03:30:00       5.605000   77.900000     0.082000        0.110000   \n",
       "2017-01-01 04:00:00       5.492667   77.166667     0.082000        0.115000   \n",
       "2017-01-01 04:30:00       5.000667   78.766667     0.082667        0.127333   \n",
       "...                            ...         ...          ...             ...   \n",
       "2017-12-30 21:30:00       9.710000   61.685000     0.075000        0.108667   \n",
       "2017-12-30 22:00:00       9.196667   63.106667     0.074333        0.095333   \n",
       "2017-12-30 22:30:00       8.933333   63.473333     0.074667        0.120000   \n",
       "2017-12-30 23:00:00       9.150000   64.506667     0.086000        0.090000   \n",
       "2017-12-30 23:30:00       8.110000   69.006667     0.081333        0.109000   \n",
       "\n",
       "                     PowerConsumption_5  Temperature_4  Humidity_4  \\\n",
       "Datetime                                                             \n",
       "2017-01-01 02:30:00        30999.493670       5.941000   75.866667   \n",
       "2017-01-01 03:00:00        27396.455697       5.605000   77.900000   \n",
       "2017-01-01 03:30:00        25407.594937       5.492667   77.166667   \n",
       "2017-01-01 04:00:00        23906.835443       5.000667   78.766667   \n",
       "2017-01-01 04:30:00        22474.936707       5.108000   79.100000   \n",
       "...                                 ...            ...         ...   \n",
       "2017-12-30 21:30:00        37690.240813       9.196667   63.106667   \n",
       "2017-12-30 22:00:00        37337.389100       8.933333   63.473333   \n",
       "2017-12-30 22:30:00        37171.102660       9.150000   64.506667   \n",
       "2017-12-30 23:00:00        36846.641317       8.110000   69.006667   \n",
       "2017-12-30 23:30:00        35930.038023       7.913333   70.343333   \n",
       "\n",
       "                     WindSpeed_4  DiffuseFlows_4  PowerConsumption_4  ...  \\\n",
       "Datetime                                                              ...   \n",
       "2017-01-01 02:30:00     0.081667        0.096333        27396.455697  ...   \n",
       "2017-01-01 03:00:00     0.082000        0.110000        25407.594937  ...   \n",
       "2017-01-01 03:30:00     0.082000        0.115000        23906.835443  ...   \n",
       "2017-01-01 04:00:00     0.082667        0.127333        22474.936707  ...   \n",
       "2017-01-01 04:30:00     0.082000        0.131000        21691.139240  ...   \n",
       "...                          ...             ...                 ...  ...   \n",
       "2017-12-30 21:30:00     0.074333        0.095333        37337.389100  ...   \n",
       "2017-12-30 22:00:00     0.074667        0.120000        37171.102660  ...   \n",
       "2017-12-30 22:30:00     0.086000        0.090000        36846.641317  ...   \n",
       "2017-12-30 23:00:00     0.081333        0.109000        35930.038023  ...   \n",
       "2017-12-30 23:30:00     0.081667        0.087667        34786.311787  ...   \n",
       "\n",
       "                     Temperature_2  Humidity_2  WindSpeed_2  DiffuseFlows_2  \\\n",
       "Datetime                                                                      \n",
       "2017-01-01 02:30:00       5.492667   77.166667     0.082000        0.115000   \n",
       "2017-01-01 03:00:00       5.000667   78.766667     0.082667        0.127333   \n",
       "2017-01-01 03:30:00       5.108000   79.100000     0.082000        0.131000   \n",
       "2017-01-01 04:00:00       5.097000   77.600000     0.082667        0.130000   \n",
       "2017-01-01 04:30:00       4.911667   76.566667     0.083000        0.152000   \n",
       "...                            ...         ...          ...             ...   \n",
       "2017-12-30 21:30:00       9.150000   64.506667     0.086000        0.090000   \n",
       "2017-12-30 22:00:00       8.110000   69.006667     0.081333        0.109000   \n",
       "2017-12-30 22:30:00       7.913333   70.343333     0.081667        0.087667   \n",
       "2017-12-30 23:00:00       7.793333   69.563333     0.081000        0.108667   \n",
       "2017-12-30 23:30:00       7.403333   71.066667     0.082667        0.107667   \n",
       "\n",
       "                     PowerConsumption_2  Temperature_1  Humidity_1  \\\n",
       "Datetime                                                             \n",
       "2017-01-01 02:30:00        23906.835443       5.000667   78.766667   \n",
       "2017-01-01 03:00:00        22474.936707       5.108000   79.100000   \n",
       "2017-01-01 03:30:00        21691.139240       5.097000   77.600000   \n",
       "2017-01-01 04:00:00        20992.405063       4.911667   76.566667   \n",
       "2017-01-01 04:30:00        20629.873417       4.952333   74.733333   \n",
       "...                                 ...            ...         ...   \n",
       "2017-12-30 21:30:00        36846.641317       8.110000   69.006667   \n",
       "2017-12-30 22:00:00        35930.038023       7.913333   70.343333   \n",
       "2017-12-30 22:30:00        34786.311787       7.793333   69.563333   \n",
       "2017-12-30 23:00:00        34660.583017       7.403333   71.066667   \n",
       "2017-12-30 23:30:00        33326.235743       7.009000   72.500000   \n",
       "\n",
       "                     WindSpeed_1  DiffuseFlows_1  PowerConsumption_1  \n",
       "Datetime                                                              \n",
       "2017-01-01 02:30:00     0.082667        0.127333        22474.936707  \n",
       "2017-01-01 03:00:00     0.082000        0.131000        21691.139240  \n",
       "2017-01-01 03:30:00     0.082667        0.130000        20992.405063  \n",
       "2017-01-01 04:00:00     0.083000        0.152000        20629.873417  \n",
       "2017-01-01 04:30:00     0.083667        0.117333        20512.405063  \n",
       "...                          ...             ...                 ...  \n",
       "2017-12-30 21:30:00     0.081333        0.109000        35930.038023  \n",
       "2017-12-30 22:00:00     0.081667        0.087667        34786.311787  \n",
       "2017-12-30 22:30:00     0.081000        0.108667        34660.583017  \n",
       "2017-12-30 23:00:00     0.082667        0.107667        33326.235743  \n",
       "2017-12-30 23:30:00     0.080667        0.094000        31249.683140  \n",
       "\n",
       "[17467 rows x 25 columns]"
      ],
      "text/html": [
       "<div>\n",
       "<style scoped>\n",
       "    .dataframe tbody tr th:only-of-type {\n",
       "        vertical-align: middle;\n",
       "    }\n",
       "\n",
       "    .dataframe tbody tr th {\n",
       "        vertical-align: top;\n",
       "    }\n",
       "\n",
       "    .dataframe thead th {\n",
       "        text-align: right;\n",
       "    }\n",
       "</style>\n",
       "<table border=\"1\" class=\"dataframe\">\n",
       "  <thead>\n",
       "    <tr style=\"text-align: right;\">\n",
       "      <th></th>\n",
       "      <th>Temperature_5</th>\n",
       "      <th>Humidity_5</th>\n",
       "      <th>WindSpeed_5</th>\n",
       "      <th>DiffuseFlows_5</th>\n",
       "      <th>PowerConsumption_5</th>\n",
       "      <th>Temperature_4</th>\n",
       "      <th>Humidity_4</th>\n",
       "      <th>WindSpeed_4</th>\n",
       "      <th>DiffuseFlows_4</th>\n",
       "      <th>PowerConsumption_4</th>\n",
       "      <th>...</th>\n",
       "      <th>Temperature_2</th>\n",
       "      <th>Humidity_2</th>\n",
       "      <th>WindSpeed_2</th>\n",
       "      <th>DiffuseFlows_2</th>\n",
       "      <th>PowerConsumption_2</th>\n",
       "      <th>Temperature_1</th>\n",
       "      <th>Humidity_1</th>\n",
       "      <th>WindSpeed_1</th>\n",
       "      <th>DiffuseFlows_1</th>\n",
       "      <th>PowerConsumption_1</th>\n",
       "    </tr>\n",
       "    <tr>\n",
       "      <th>Datetime</th>\n",
       "      <th></th>\n",
       "      <th></th>\n",
       "      <th></th>\n",
       "      <th></th>\n",
       "      <th></th>\n",
       "      <th></th>\n",
       "      <th></th>\n",
       "      <th></th>\n",
       "      <th></th>\n",
       "      <th></th>\n",
       "      <th></th>\n",
       "      <th></th>\n",
       "      <th></th>\n",
       "      <th></th>\n",
       "      <th></th>\n",
       "      <th></th>\n",
       "      <th></th>\n",
       "      <th></th>\n",
       "      <th></th>\n",
       "      <th></th>\n",
       "      <th></th>\n",
       "    </tr>\n",
       "  </thead>\n",
       "  <tbody>\n",
       "    <tr>\n",
       "      <th>2017-01-01 02:30:00</th>\n",
       "      <td>6.428667</td>\n",
       "      <td>74.266667</td>\n",
       "      <td>0.082000</td>\n",
       "      <td>0.101333</td>\n",
       "      <td>30999.493670</td>\n",
       "      <td>5.941000</td>\n",
       "      <td>75.866667</td>\n",
       "      <td>0.081667</td>\n",
       "      <td>0.096333</td>\n",
       "      <td>27396.455697</td>\n",
       "      <td>...</td>\n",
       "      <td>5.492667</td>\n",
       "      <td>77.166667</td>\n",
       "      <td>0.082000</td>\n",
       "      <td>0.115000</td>\n",
       "      <td>23906.835443</td>\n",
       "      <td>5.000667</td>\n",
       "      <td>78.766667</td>\n",
       "      <td>0.082667</td>\n",
       "      <td>0.127333</td>\n",
       "      <td>22474.936707</td>\n",
       "    </tr>\n",
       "    <tr>\n",
       "      <th>2017-01-01 03:00:00</th>\n",
       "      <td>5.941000</td>\n",
       "      <td>75.866667</td>\n",
       "      <td>0.081667</td>\n",
       "      <td>0.096333</td>\n",
       "      <td>27396.455697</td>\n",
       "      <td>5.605000</td>\n",
       "      <td>77.900000</td>\n",
       "      <td>0.082000</td>\n",
       "      <td>0.110000</td>\n",
       "      <td>25407.594937</td>\n",
       "      <td>...</td>\n",
       "      <td>5.000667</td>\n",
       "      <td>78.766667</td>\n",
       "      <td>0.082667</td>\n",
       "      <td>0.127333</td>\n",
       "      <td>22474.936707</td>\n",
       "      <td>5.108000</td>\n",
       "      <td>79.100000</td>\n",
       "      <td>0.082000</td>\n",
       "      <td>0.131000</td>\n",
       "      <td>21691.139240</td>\n",
       "    </tr>\n",
       "    <tr>\n",
       "      <th>2017-01-01 03:30:00</th>\n",
       "      <td>5.605000</td>\n",
       "      <td>77.900000</td>\n",
       "      <td>0.082000</td>\n",
       "      <td>0.110000</td>\n",
       "      <td>25407.594937</td>\n",
       "      <td>5.492667</td>\n",
       "      <td>77.166667</td>\n",
       "      <td>0.082000</td>\n",
       "      <td>0.115000</td>\n",
       "      <td>23906.835443</td>\n",
       "      <td>...</td>\n",
       "      <td>5.108000</td>\n",
       "      <td>79.100000</td>\n",
       "      <td>0.082000</td>\n",
       "      <td>0.131000</td>\n",
       "      <td>21691.139240</td>\n",
       "      <td>5.097000</td>\n",
       "      <td>77.600000</td>\n",
       "      <td>0.082667</td>\n",
       "      <td>0.130000</td>\n",
       "      <td>20992.405063</td>\n",
       "    </tr>\n",
       "    <tr>\n",
       "      <th>2017-01-01 04:00:00</th>\n",
       "      <td>5.492667</td>\n",
       "      <td>77.166667</td>\n",
       "      <td>0.082000</td>\n",
       "      <td>0.115000</td>\n",
       "      <td>23906.835443</td>\n",
       "      <td>5.000667</td>\n",
       "      <td>78.766667</td>\n",
       "      <td>0.082667</td>\n",
       "      <td>0.127333</td>\n",
       "      <td>22474.936707</td>\n",
       "      <td>...</td>\n",
       "      <td>5.097000</td>\n",
       "      <td>77.600000</td>\n",
       "      <td>0.082667</td>\n",
       "      <td>0.130000</td>\n",
       "      <td>20992.405063</td>\n",
       "      <td>4.911667</td>\n",
       "      <td>76.566667</td>\n",
       "      <td>0.083000</td>\n",
       "      <td>0.152000</td>\n",
       "      <td>20629.873417</td>\n",
       "    </tr>\n",
       "    <tr>\n",
       "      <th>2017-01-01 04:30:00</th>\n",
       "      <td>5.000667</td>\n",
       "      <td>78.766667</td>\n",
       "      <td>0.082667</td>\n",
       "      <td>0.127333</td>\n",
       "      <td>22474.936707</td>\n",
       "      <td>5.108000</td>\n",
       "      <td>79.100000</td>\n",
       "      <td>0.082000</td>\n",
       "      <td>0.131000</td>\n",
       "      <td>21691.139240</td>\n",
       "      <td>...</td>\n",
       "      <td>4.911667</td>\n",
       "      <td>76.566667</td>\n",
       "      <td>0.083000</td>\n",
       "      <td>0.152000</td>\n",
       "      <td>20629.873417</td>\n",
       "      <td>4.952333</td>\n",
       "      <td>74.733333</td>\n",
       "      <td>0.083667</td>\n",
       "      <td>0.117333</td>\n",
       "      <td>20512.405063</td>\n",
       "    </tr>\n",
       "    <tr>\n",
       "      <th>...</th>\n",
       "      <td>...</td>\n",
       "      <td>...</td>\n",
       "      <td>...</td>\n",
       "      <td>...</td>\n",
       "      <td>...</td>\n",
       "      <td>...</td>\n",
       "      <td>...</td>\n",
       "      <td>...</td>\n",
       "      <td>...</td>\n",
       "      <td>...</td>\n",
       "      <td>...</td>\n",
       "      <td>...</td>\n",
       "      <td>...</td>\n",
       "      <td>...</td>\n",
       "      <td>...</td>\n",
       "      <td>...</td>\n",
       "      <td>...</td>\n",
       "      <td>...</td>\n",
       "      <td>...</td>\n",
       "      <td>...</td>\n",
       "      <td>...</td>\n",
       "    </tr>\n",
       "    <tr>\n",
       "      <th>2017-12-30 21:30:00</th>\n",
       "      <td>9.710000</td>\n",
       "      <td>61.685000</td>\n",
       "      <td>0.075000</td>\n",
       "      <td>0.108667</td>\n",
       "      <td>37690.240813</td>\n",
       "      <td>9.196667</td>\n",
       "      <td>63.106667</td>\n",
       "      <td>0.074333</td>\n",
       "      <td>0.095333</td>\n",
       "      <td>37337.389100</td>\n",
       "      <td>...</td>\n",
       "      <td>9.150000</td>\n",
       "      <td>64.506667</td>\n",
       "      <td>0.086000</td>\n",
       "      <td>0.090000</td>\n",
       "      <td>36846.641317</td>\n",
       "      <td>8.110000</td>\n",
       "      <td>69.006667</td>\n",
       "      <td>0.081333</td>\n",
       "      <td>0.109000</td>\n",
       "      <td>35930.038023</td>\n",
       "    </tr>\n",
       "    <tr>\n",
       "      <th>2017-12-30 22:00:00</th>\n",
       "      <td>9.196667</td>\n",
       "      <td>63.106667</td>\n",
       "      <td>0.074333</td>\n",
       "      <td>0.095333</td>\n",
       "      <td>37337.389100</td>\n",
       "      <td>8.933333</td>\n",
       "      <td>63.473333</td>\n",
       "      <td>0.074667</td>\n",
       "      <td>0.120000</td>\n",
       "      <td>37171.102660</td>\n",
       "      <td>...</td>\n",
       "      <td>8.110000</td>\n",
       "      <td>69.006667</td>\n",
       "      <td>0.081333</td>\n",
       "      <td>0.109000</td>\n",
       "      <td>35930.038023</td>\n",
       "      <td>7.913333</td>\n",
       "      <td>70.343333</td>\n",
       "      <td>0.081667</td>\n",
       "      <td>0.087667</td>\n",
       "      <td>34786.311787</td>\n",
       "    </tr>\n",
       "    <tr>\n",
       "      <th>2017-12-30 22:30:00</th>\n",
       "      <td>8.933333</td>\n",
       "      <td>63.473333</td>\n",
       "      <td>0.074667</td>\n",
       "      <td>0.120000</td>\n",
       "      <td>37171.102660</td>\n",
       "      <td>9.150000</td>\n",
       "      <td>64.506667</td>\n",
       "      <td>0.086000</td>\n",
       "      <td>0.090000</td>\n",
       "      <td>36846.641317</td>\n",
       "      <td>...</td>\n",
       "      <td>7.913333</td>\n",
       "      <td>70.343333</td>\n",
       "      <td>0.081667</td>\n",
       "      <td>0.087667</td>\n",
       "      <td>34786.311787</td>\n",
       "      <td>7.793333</td>\n",
       "      <td>69.563333</td>\n",
       "      <td>0.081000</td>\n",
       "      <td>0.108667</td>\n",
       "      <td>34660.583017</td>\n",
       "    </tr>\n",
       "    <tr>\n",
       "      <th>2017-12-30 23:00:00</th>\n",
       "      <td>9.150000</td>\n",
       "      <td>64.506667</td>\n",
       "      <td>0.086000</td>\n",
       "      <td>0.090000</td>\n",
       "      <td>36846.641317</td>\n",
       "      <td>8.110000</td>\n",
       "      <td>69.006667</td>\n",
       "      <td>0.081333</td>\n",
       "      <td>0.109000</td>\n",
       "      <td>35930.038023</td>\n",
       "      <td>...</td>\n",
       "      <td>7.793333</td>\n",
       "      <td>69.563333</td>\n",
       "      <td>0.081000</td>\n",
       "      <td>0.108667</td>\n",
       "      <td>34660.583017</td>\n",
       "      <td>7.403333</td>\n",
       "      <td>71.066667</td>\n",
       "      <td>0.082667</td>\n",
       "      <td>0.107667</td>\n",
       "      <td>33326.235743</td>\n",
       "    </tr>\n",
       "    <tr>\n",
       "      <th>2017-12-30 23:30:00</th>\n",
       "      <td>8.110000</td>\n",
       "      <td>69.006667</td>\n",
       "      <td>0.081333</td>\n",
       "      <td>0.109000</td>\n",
       "      <td>35930.038023</td>\n",
       "      <td>7.913333</td>\n",
       "      <td>70.343333</td>\n",
       "      <td>0.081667</td>\n",
       "      <td>0.087667</td>\n",
       "      <td>34786.311787</td>\n",
       "      <td>...</td>\n",
       "      <td>7.403333</td>\n",
       "      <td>71.066667</td>\n",
       "      <td>0.082667</td>\n",
       "      <td>0.107667</td>\n",
       "      <td>33326.235743</td>\n",
       "      <td>7.009000</td>\n",
       "      <td>72.500000</td>\n",
       "      <td>0.080667</td>\n",
       "      <td>0.094000</td>\n",
       "      <td>31249.683140</td>\n",
       "    </tr>\n",
       "  </tbody>\n",
       "</table>\n",
       "<p>17467 rows × 25 columns</p>\n",
       "</div>"
      ]
     },
     "execution_count": 600,
     "metadata": {},
     "output_type": "execute_result"
    }
   ],
   "execution_count": 600
  },
  {
   "cell_type": "code",
   "metadata": {
    "id": "mXq9LCJSGN6Z",
    "ExecuteTime": {
     "end_time": "2025-01-18T18:14:25.163563Z",
     "start_time": "2025-01-18T18:14:25.160820Z"
    }
   },
   "source": "y",
   "outputs": [
    {
     "data": {
      "text/plain": [
       "Datetime\n",
       "2017-01-01 02:30:00    21691.139240\n",
       "2017-01-01 03:00:00    20992.405063\n",
       "2017-01-01 03:30:00    20629.873417\n",
       "2017-01-01 04:00:00    20512.405063\n",
       "2017-01-01 04:30:00    20439.493670\n",
       "                           ...     \n",
       "2017-12-30 21:30:00    34786.311787\n",
       "2017-12-30 22:00:00    34660.583017\n",
       "2017-12-30 22:30:00    33326.235743\n",
       "2017-12-30 23:00:00    31249.683140\n",
       "2017-12-30 23:30:00    28966.286437\n",
       "Freq: 30T, Name: PowerConsumption, Length: 17467, dtype: float64"
      ]
     },
     "execution_count": 601,
     "metadata": {},
     "output_type": "execute_result"
    }
   ],
   "execution_count": 601
  },
  {
   "cell_type": "markdown",
   "metadata": {
    "id": "eMx4eOy8j5vE"
   },
   "source": [
    "## Create the model, pre-process the data and make it suitable for training"
   ]
  },
  {
   "cell_type": "code",
   "metadata": {
    "id": "-MesyKu2j9Zw",
    "ExecuteTime": {
     "end_time": "2025-01-18T18:14:25.210601Z",
     "start_time": "2025-01-18T18:14:25.205779Z"
    }
   },
   "source": [
    "from sklearn.preprocessing import MinMaxScaler\n",
    "scaler = MinMaxScaler()\n",
    "train_X = scaler.fit_transform(train_X)\n",
    "test_X = scaler.transform(test_X)"
   ],
   "outputs": [],
   "execution_count": 602
  },
  {
   "cell_type": "code",
   "metadata": {
    "id": "Ko5JwfMSGN6Z",
    "ExecuteTime": {
     "end_time": "2025-01-18T18:14:25.246635Z",
     "start_time": "2025-01-18T18:14:25.244640Z"
    }
   },
   "source": [
    "scaler = MinMaxScaler()\n",
    "train_y = scaler.fit_transform(train_y.to_numpy().reshape(-1, 1))"
   ],
   "outputs": [],
   "execution_count": 603
  },
  {
   "cell_type": "code",
   "metadata": {
    "id": "SG471iTrGN6Z",
    "ExecuteTime": {
     "end_time": "2025-01-18T18:14:25.269424Z",
     "start_time": "2025-01-18T18:14:25.267945Z"
    }
   },
   "source": "# (train_X.shape[0], 5, 5)",
   "outputs": [],
   "execution_count": 604
  },
  {
   "metadata": {
    "ExecuteTime": {
     "end_time": "2025-01-18T18:14:25.290160Z",
     "start_time": "2025-01-18T18:14:25.288190Z"
    }
   },
   "cell_type": "code",
   "source": "train_X.shape[1]",
   "outputs": [
    {
     "data": {
      "text/plain": [
       "25"
      ]
     },
     "execution_count": 605,
     "metadata": {},
     "output_type": "execute_result"
    }
   ],
   "execution_count": 605
  },
  {
   "metadata": {
    "ExecuteTime": {
     "end_time": "2025-01-18T18:14:25.307193Z",
     "start_time": "2025-01-18T18:14:25.305914Z"
    }
   },
   "cell_type": "code",
   "source": "",
   "outputs": [],
   "execution_count": null
  },
  {
   "metadata": {
    "ExecuteTime": {
     "end_time": "2025-01-18T18:14:25.327679Z",
     "start_time": "2025-01-18T18:14:25.325657Z"
    }
   },
   "cell_type": "code",
   "source": [
    "\n",
    "new_train_shape = (train_X.shape[0], 5, 5)\n",
    "new_train_shape"
   ],
   "outputs": [
    {
     "data": {
      "text/plain": [
       "(13973, 5, 5)"
      ]
     },
     "execution_count": 606,
     "metadata": {},
     "output_type": "execute_result"
    }
   ],
   "execution_count": 606
  },
  {
   "metadata": {
    "ExecuteTime": {
     "end_time": "2025-01-18T18:14:25.346193Z",
     "start_time": "2025-01-18T18:14:25.344143Z"
    }
   },
   "cell_type": "code",
   "source": [
    "\n",
    "new_test_shape = (test_X.shape[0], 5, 5)\n",
    "new_test_shape"
   ],
   "outputs": [
    {
     "data": {
      "text/plain": [
       "(3494, 5, 5)"
      ]
     },
     "execution_count": 607,
     "metadata": {},
     "output_type": "execute_result"
    }
   ],
   "execution_count": 607
  },
  {
   "cell_type": "code",
   "metadata": {
    "colab": {
     "base_uri": "https://localhost:8080/"
    },
    "id": "cM5g3YT6GN6d",
    "outputId": "1fef33d7-a1cb-4a6c-9f0a-773e3719e96f",
    "ExecuteTime": {
     "end_time": "2025-01-18T18:14:25.366324Z",
     "start_time": "2025-01-18T18:14:25.364450Z"
    }
   },
   "source": [
    "train_X = train_X.reshape(new_train_shape)\n",
    "test_X = test_X.reshape(new_test_shape)"
   ],
   "outputs": [],
   "execution_count": 608
  },
  {
   "cell_type": "code",
   "metadata": {
    "id": "59bcVLM7GN6d",
    "ExecuteTime": {
     "end_time": "2025-01-18T18:14:25.422226Z",
     "start_time": "2025-01-18T18:14:25.386086Z"
    }
   },
   "source": [
    "from keras.layers import LSTM, Dense\n",
    "from keras import Sequential, Input\n",
    "\n",
    "model = Sequential([\n",
    "    Input((train_X.shape[1], train_X.shape[2],)),\n",
    "    LSTM(64, activation=\"relu\", return_sequences=True),\n",
    "    LSTM(32, activation=\"relu\"),\n",
    "    Dense(1, activation=\"linear\")\n",
    "])"
   ],
   "outputs": [],
   "execution_count": 609
  },
  {
   "cell_type": "code",
   "metadata": {
    "id": "ZtS7t0bHGN6d",
    "ExecuteTime": {
     "end_time": "2025-01-18T18:14:25.443460Z",
     "start_time": "2025-01-18T18:14:25.439281Z"
    }
   },
   "source": "model.summary()",
   "outputs": [
    {
     "name": "stdout",
     "output_type": "stream",
     "text": [
      "Model: \"sequential_2\"\n",
      "_________________________________________________________________\n",
      " Layer (type)                Output Shape              Param #   \n",
      "=================================================================\n",
      " lstm_4 (LSTM)               (None, 5, 64)             17920     \n",
      "                                                                 \n",
      " lstm_5 (LSTM)               (None, 32)                12416     \n",
      "                                                                 \n",
      " dense_2 (Dense)             (None, 1)                 33        \n",
      "                                                                 \n",
      "=================================================================\n",
      "Total params: 30,369\n",
      "Trainable params: 30,369\n",
      "Non-trainable params: 0\n",
      "_________________________________________________________________\n"
     ]
    }
   ],
   "execution_count": 610
  },
  {
   "cell_type": "code",
   "metadata": {
    "colab": {
     "base_uri": "https://localhost:8080/"
    },
    "id": "Fx3NOZ1WGN6d",
    "outputId": "eeb62462-f798-416f-e20c-81633b79e4dd",
    "ExecuteTime": {
     "end_time": "2025-01-18T18:14:25.614719Z",
     "start_time": "2025-01-18T18:14:25.610880Z"
    }
   },
   "source": [
    "model.compile(\n",
    "    loss=\"mean_squared_error\",\n",
    "    optimizer=\"adam\",\n",
    "    metrics=[\"mean_squared_error\"],\n",
    ")"
   ],
   "outputs": [],
   "execution_count": 611
  },
  {
   "cell_type": "code",
   "metadata": {
    "id": "PLsI2x7GGN6d",
    "ExecuteTime": {
     "end_time": "2025-01-18T18:14:33.038908Z",
     "start_time": "2025-01-18T18:14:25.656283Z"
    }
   },
   "source": "history = model.fit(train_X, train_y, validation_split=0.20, epochs=16, batch_size=64, shuffle=False)",
   "outputs": [
    {
     "name": "stdout",
     "output_type": "stream",
     "text": [
      "Epoch 1/16\n",
      "175/175 [==============================] - 1s 3ms/step - loss: 0.0456 - mean_squared_error: 0.0456 - val_loss: 0.0108 - val_mean_squared_error: 0.0108\n",
      "Epoch 2/16\n",
      "175/175 [==============================] - 0s 2ms/step - loss: 0.0111 - mean_squared_error: 0.0111 - val_loss: 0.0097 - val_mean_squared_error: 0.0097\n",
      "Epoch 3/16\n",
      "175/175 [==============================] - 0s 2ms/step - loss: 0.0093 - mean_squared_error: 0.0093 - val_loss: 0.0089 - val_mean_squared_error: 0.0089\n",
      "Epoch 4/16\n",
      "175/175 [==============================] - 0s 2ms/step - loss: 0.0072 - mean_squared_error: 0.0072 - val_loss: 0.0074 - val_mean_squared_error: 0.0074\n",
      "Epoch 5/16\n",
      "175/175 [==============================] - 0s 2ms/step - loss: 0.0049 - mean_squared_error: 0.0049 - val_loss: 0.0039 - val_mean_squared_error: 0.0039\n",
      "Epoch 6/16\n",
      "175/175 [==============================] - 0s 3ms/step - loss: 0.0035 - mean_squared_error: 0.0035 - val_loss: 0.0031 - val_mean_squared_error: 0.0031\n",
      "Epoch 7/16\n",
      "175/175 [==============================] - 0s 2ms/step - loss: 0.0027 - mean_squared_error: 0.0027 - val_loss: 0.0030 - val_mean_squared_error: 0.0030\n",
      "Epoch 8/16\n",
      "175/175 [==============================] - 0s 2ms/step - loss: 0.0025 - mean_squared_error: 0.0025 - val_loss: 0.0025 - val_mean_squared_error: 0.0025\n",
      "Epoch 9/16\n",
      "175/175 [==============================] - 0s 2ms/step - loss: 0.0022 - mean_squared_error: 0.0022 - val_loss: 0.0022 - val_mean_squared_error: 0.0022\n",
      "Epoch 10/16\n",
      "175/175 [==============================] - 0s 2ms/step - loss: 0.0021 - mean_squared_error: 0.0021 - val_loss: 0.0019 - val_mean_squared_error: 0.0019\n",
      "Epoch 11/16\n",
      "175/175 [==============================] - 0s 2ms/step - loss: 0.0020 - mean_squared_error: 0.0020 - val_loss: 0.0018 - val_mean_squared_error: 0.0018\n",
      "Epoch 12/16\n",
      "175/175 [==============================] - 0s 2ms/step - loss: 0.0018 - mean_squared_error: 0.0018 - val_loss: 0.0016 - val_mean_squared_error: 0.0016\n",
      "Epoch 13/16\n",
      "175/175 [==============================] - 0s 2ms/step - loss: 0.0017 - mean_squared_error: 0.0017 - val_loss: 0.0015 - val_mean_squared_error: 0.0015\n",
      "Epoch 14/16\n",
      "175/175 [==============================] - 0s 2ms/step - loss: 0.0016 - mean_squared_error: 0.0016 - val_loss: 0.0015 - val_mean_squared_error: 0.0015\n",
      "Epoch 15/16\n",
      "175/175 [==============================] - 0s 2ms/step - loss: 0.0014 - mean_squared_error: 0.0014 - val_loss: 0.0013 - val_mean_squared_error: 0.0013\n",
      "Epoch 16/16\n",
      "175/175 [==============================] - 0s 2ms/step - loss: 0.0013 - mean_squared_error: 0.0013 - val_loss: 0.0012 - val_mean_squared_error: 0.0012\n"
     ]
    }
   ],
   "execution_count": 612
  },
  {
   "cell_type": "code",
   "metadata": {
    "colab": {
     "base_uri": "https://localhost:8080/",
     "height": 238
    },
    "id": "Y4aqhVxAGN6d",
    "outputId": "aac1e21d-23ca-490f-ec81-68bfd921f232",
    "ExecuteTime": {
     "end_time": "2025-01-18T18:14:33.131170Z",
     "start_time": "2025-01-18T18:14:33.056292Z"
    }
   },
   "source": [
    "\n",
    "sns.lineplot(history.history[\"loss\"], label=\"loss\")\n",
    "sns.lineplot(history.history[\"val_loss\"], label=\"val_loss\")"
   ],
   "outputs": [
    {
     "data": {
      "text/plain": [
       "<Axes: >"
      ]
     },
     "execution_count": 613,
     "metadata": {},
     "output_type": "execute_result"
    },
    {
     "data": {
      "text/plain": [
       "<Figure size 640x480 with 1 Axes>"
      ],
      "image/png": "[encoded data removed]"
     },
     "metadata": {},
     "output_type": "display_data"
    }
   ],
   "execution_count": 613
  },
  {
   "cell_type": "code",
   "metadata": {
    "id": "ZLZoqlw5GN6e",
    "ExecuteTime": {
     "end_time": "2025-01-18T18:14:33.160277Z",
     "start_time": "2025-01-18T18:14:33.158627Z"
    }
   },
   "source": "",
   "outputs": [],
   "execution_count": null
  },
  {
   "cell_type": "markdown",
   "metadata": {
    "id": "VpO5gwPKkEZV"
   },
   "source": [
    "## Train the model, use 20% of the training dataset for validation\n",
    "Train with 10 epochs (due to time limit)"
   ]
  },
  {
   "cell_type": "code",
   "metadata": {
    "colab": {
     "base_uri": "https://localhost:8080/"
    },
    "id": "BwnSFVitkH_F",
    "outputId": "818ecd62-379d-40e7-caa0-79ec04c98316",
    "ExecuteTime": {
     "end_time": "2025-01-18T18:14:33.180303Z",
     "start_time": "2025-01-18T18:14:33.178977Z"
    }
   },
   "source": "",
   "outputs": [],
   "execution_count": null
  },
  {
   "cell_type": "markdown",
   "metadata": {
    "id": "T251oIhoj_py"
   },
   "source": [
    "## Plot the loss function on the training and validation dataset"
   ]
  },
  {
   "cell_type": "code",
   "metadata": {
    "colab": {
     "base_uri": "https://localhost:8080/",
     "height": 447
    },
    "id": "VdHpwfROkCjy",
    "outputId": "d19f0a02-cc9f-4ba3-ed87-9ef4eb50f343",
    "ExecuteTime": {
     "end_time": "2025-01-18T18:14:33.201347Z",
     "start_time": "2025-01-18T18:14:33.200222Z"
    }
   },
   "source": "",
   "outputs": [],
   "execution_count": null
  },
  {
   "cell_type": "markdown",
   "metadata": {
    "id": "dnbQsioUkKys"
   },
   "source": [
    "## Calculate the adequate metrics"
   ]
  },
  {
   "cell_type": "code",
   "metadata": {
    "colab": {
     "base_uri": "https://localhost:8080/"
    },
    "id": "6L_L8NjckNV9",
    "outputId": "67c870a8-4cec-4dc7-ce11-7ce8fb89174a",
    "ExecuteTime": {
     "end_time": "2025-01-18T18:14:53.361624Z",
     "start_time": "2025-01-18T18:14:53.164629Z"
    }
   },
   "source": "pred_y = model.predict(test_X)\n",
   "outputs": [
    {
     "name": "stdout",
     "output_type": "stream",
     "text": [
      "110/110 [==============================] - 0s 550us/step\n"
     ]
    }
   ],
   "execution_count": 614
  },
  {
   "cell_type": "code",
   "metadata": {
    "id": "eD6HWsWQGN6e",
    "ExecuteTime": {
     "end_time": "2025-01-18T18:15:00.582778Z",
     "start_time": "2025-01-18T18:15:00.580002Z"
    }
   },
   "source": "pred_y = scaler.inverse_transform(pred_y)\n",
   "outputs": [],
   "execution_count": 615
  },
  {
   "cell_type": "code",
   "metadata": {
    "colab": {
     "base_uri": "https://localhost:8080/"
    },
    "id": "99g3u0tlGN6e",
    "outputId": "f78d1c13-5d0f-4781-9683-2c9b9125b1e1",
    "ExecuteTime": {
     "end_time": "2025-01-18T18:15:08.990757Z",
     "start_time": "2025-01-18T18:15:08.987492Z"
    }
   },
   "source": [
    "from sklearn.metrics import r2_score\n",
    "\n",
    "r2_score(test_y, pred_y)\n"
   ],
   "outputs": [
    {
     "data": {
      "text/plain": [
       "0.9452396153388152"
      ]
     },
     "execution_count": 617,
     "metadata": {},
     "output_type": "execute_result"
    }
   ],
   "execution_count": 617
  },
  {
   "metadata": {
    "ExecuteTime": {
     "end_time": "2025-01-18T18:15:28.781747Z",
     "start_time": "2025-01-18T18:15:28.778141Z"
    }
   },
   "cell_type": "code",
   "source": [
    "from sklearn.metrics import mean_absolute_error, mean_squared_error, r2_score\n",
    "(mean_absolute_error(test_y, pred_y), mean_squared_error(test_y, pred_y), r2_score(test_y, pred_y))"
   ],
   "outputs": [
    {
     "data": {
      "text/plain": [
       "(1096.3170583181286, 2072839.097527886, 0.9452396153388152)"
      ]
     },
     "execution_count": 618,
     "metadata": {},
     "output_type": "execute_result"
    }
   ],
   "execution_count": 618
  },
  {
   "cell_type": "markdown",
   "metadata": {
    "id": "UAuCQBvSkN1U"
   },
   "source": [
    "## Visualize the targets against the predictions"
   ]
  },
  {
   "cell_type": "code",
   "metadata": {
    "colab": {
     "base_uri": "https://localhost:8080/",
     "height": 466
    },
    "id": "kPkcMVoYkQRd",
    "outputId": "76b63200-0407-4562-98dd-4bfab256a1b7",
    "ExecuteTime": {
     "end_time": "2025-01-18T18:15:42.713375Z",
     "start_time": "2025-01-18T18:15:42.577225Z"
    }
   },
   "source": [
    "sns.lineplot(x=test_y.index, y=test_y.values)\n",
    "sns.lineplot(x=test_y.index, y=pred_y.flatten())"
   ],
   "outputs": [
    {
     "data": {
      "text/plain": [
       "<Axes: xlabel='Datetime'>"
      ]
     },
     "execution_count": 619,
     "metadata": {},
     "output_type": "execute_result"
    },
    {
     "data": {
      "text/plain": [
       "<Figure size 640x480 with 1 Axes>"
      ],
      "image/png": "[encoded data removed]"
     },
     "metadata": {},
     "output_type": "display_data"
    }
   ],
   "execution_count": 619
  },
  {
   "metadata": {},
   "cell_type": "code",
   "outputs": [],
   "execution_count": null,
   "source": ""
  }
 ],
 "metadata": {
  "accelerator": "GPU",
  "colab": {
   "gpuType": "T4",
   "provenance": []
  },
  "kernelspec": {
   "display_name": "Python 3 (ipykernel)",
   "name": "python3",
   "language": "python"
  },
  "language_info": {
   "codemirror_mode": {
    "name": "ipython",
    "version": 3
   },
   "file_extension": ".py",
   "mimetype": "text/x-python",
   "name": "python",
   "nbconvert_exporter": "python",
   "pygments_lexer": "ipython3",
   "version": "3.12.5"
  }
 },
 "nbformat": 4,
 "nbformat_minor": 0
}
