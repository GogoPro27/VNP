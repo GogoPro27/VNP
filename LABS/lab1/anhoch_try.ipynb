{
 "cells": [
  {
   "cell_type": "code",
   "id": "initial_id",
   "metadata": {
    "collapsed": true,
    "ExecuteTime": {
     "end_time": "2024-11-07T09:25:06.524961Z",
     "start_time": "2024-11-07T09:25:02.384269Z"
    }
   },
   "source": [
    "from babel.dates import time_\n",
    "from selenium import webdriver\n",
    "from selenium.webdriver.common.by import By\n",
    "import time\n",
    "\n",
    "# Simple Usage\n",
    "options = webdriver.ChromeOptions()\n",
    "options.add_argument('--headless')\n",
    "options.add_argument('--no-sandbox')\n",
    "options.add_argument('--disable-dev-shm-usage')\n",
    "# Initialize the webdriver.\n",
    "\n",
    "browser = webdriver.Chrome()\n",
    "\n",
    "browser.get(\"https://www.anhoch.com/categories/gaming-and-streaming/products?brand=&attribute=&toPrice=274980&inStockOnly=2&sort=latest&perPage=20&page=1\")\n",
    "\n",
    "time.sleep(2)\n",
    "a = browser.find_element(By.CSS_SELECTOR,\"#app > section.product-search-wrap > div > div > div.product-search-right > div > div.search-result-middle > div > div:nth-child(1) > div\")\n",
    "print(a.text)\n",
    "\n"
   ],
   "outputs": [
    {
     "name": "stdout",
     "output_type": "stream",
     "text": [
      "Game Nintendo - Mario Tennis Aces\n",
      "3.990,00 ден.\n"
     ]
    }
   ],
   "execution_count": 2
  }
 ],
 "metadata": {
  "kernelspec": {
   "display_name": "Python 3",
   "language": "python",
   "name": "python3"
  },
  "language_info": {
   "codemirror_mode": {
    "name": "ipython",
    "version": 2
   },
   "file_extension": ".py",
   "mimetype": "text/x-python",
   "name": "python",
   "nbconvert_exporter": "python",
   "pygments_lexer": "ipython2",
   "version": "2.7.6"
  }
 },
 "nbformat": 4,
 "nbformat_minor": 5
}
