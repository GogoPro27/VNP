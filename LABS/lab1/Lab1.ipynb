{
 "nbformat": 4,
 "nbformat_minor": 0,
 "metadata": {
  "colab": {
   "provenance": []
  },
  "kernelspec": {
   "name": "python3",
   "display_name": "Python 3 (ipykernel)",
   "language": "python"
  },
  "language_info": {
   "name": "python"
  }
 },
 "cells": [
  {
   "cell_type": "markdown",
   "source": [
    "# Lab Exercise 1. Scraping Static Websites\n"
   ],
   "metadata": {
    "id": "skreU4ZawqQ_"
   }
  },
  {
   "cell_type": "markdown",
   "source": [
    "This is the warmup task for the first laboratory exercise. It consists of scraping static Websites with BeautifulSoap.\n",
    "\n",
    " It should be completed at home and presented at the laboratory."
   ],
   "metadata": {
    "id": "VzAWoqz5wwT9"
   }
  },
  {
   "cell_type": "markdown",
   "source": [
    "**Total points: 2**"
   ],
   "metadata": {
    "id": "qpdvbrsow5EE"
   }
  },
  {
   "cell_type": "markdown",
   "source": [
    "### Task Description"
   ],
   "metadata": {
    "id": "6eDmGLrXx0t8"
   }
  },
  {
   "cell_type": "markdown",
   "source": [
    "Scrape the information about the products on the following page:\n",
    "https://clevershop.mk/product-category/mobilni-laptopi-i-tableti/"
   ],
   "metadata": {
    "id": "RG42MHsDxAP_"
   }
  },
  {
   "cell_type": "markdown",
   "source": [
    "For each product scrape:\n",
    "\n",
    "\n",
    "*   Product title (selector `'.wd-entities-title'`)\n",
    "*   Product regular price (selector `'.woocommerce-Price-amount'`)\n",
    "*   Product discount price (if available), same selector as regular price\n",
    "*   URL to the product page\n",
    "*   Add to cart button URL\n",
    "\n",
    "***Help: There are multiple product pages, for each page you need to send a separate request***\n"
   ],
   "metadata": {
    "id": "uoTcMRl4xP3G"
   }
  },
  {
   "cell_type": "markdown",
   "source": [
    "Save the results as a DataFrame object"
   ],
   "metadata": {
    "id": "tc0QvUR8xxwt"
   }
  },
  {
   "cell_type": "markdown",
   "source": [
    "You can add as many code cells as you need."
   ],
   "metadata": {
    "id": "peGjiUZLzbZt"
   }
  },
  {
   "cell_type": "markdown",
   "source": [
    "________________________________________________________________"
   ],
   "metadata": {
    "id": "b7U-kwKSzUIV"
   }
  },
  {
   "cell_type": "markdown",
   "source": [
    "### Requirements"
   ],
   "metadata": {
    "id": "yn5gyMzNx5Vk"
   }
  },
  {
   "cell_type": "markdown",
   "source": [
    "Import libraries and modules that you are going to use"
   ],
   "metadata": {
    "id": "WZ3ifNLhx7tk"
   }
  },
  {
   "cell_type": "code",
   "source": [
    "from idlelib.pyparse import trans\n",
    "\n",
    "import pandas as pd\n",
    "import requests\n",
    "from bs4 import BeautifulSoup\n",
    "from numpy.array_api import trunc"
   ],
   "metadata": {
    "id": "GQ3zSO8WyJC_",
    "ExecuteTime": {
     "end_time": "2024-10-30T20:34:00.379560Z",
     "start_time": "2024-10-30T20:34:00.377524Z"
    }
   },
   "outputs": [],
   "execution_count": 9
  },
  {
   "cell_type": "markdown",
   "source": [
    "### Send HTTP request to the target Website"
   ],
   "metadata": {
    "id": "fsR71mugyJP7"
   }
  },
  {
   "cell_type": "code",
   "source": [
    "URL = \"https://clevershop.mk/product-category/mobilni-laptopi-i-tableti/\"\n",
    "response = requests.get(URL)"
   ],
   "metadata": {
    "id": "61ImGen2yQff",
    "ExecuteTime": {
     "end_time": "2024-10-30T21:15:15.270246Z",
     "start_time": "2024-10-30T21:15:14.733442Z"
    }
   },
   "outputs": [],
   "execution_count": 66
  },
  {
   "cell_type": "markdown",
   "source": [
    "check the response status code"
   ],
   "metadata": {
    "id": "lFnRsSVJyXit"
   }
  },
  {
   "cell_type": "code",
   "source": [
    "status_code = response.status_code\n",
    "print(status_code)"
   ],
   "metadata": {
    "id": "xy6xJ3RGyXUN",
    "ExecuteTime": {
     "end_time": "2024-10-30T20:42:04.513252Z",
     "start_time": "2024-10-30T20:42:04.510530Z"
    }
   },
   "outputs": [
    {
     "name": "stdout",
     "output_type": "stream",
     "text": [
      "200\n"
     ]
    }
   ],
   "execution_count": 25
  },
  {
   "cell_type": "markdown",
   "source": [
    "### Parse the response content with BeautifulSoap"
   ],
   "metadata": {
    "id": "-MykzAV4yQ4j"
   }
  },
  {
   "cell_type": "code",
   "source": "soup = BeautifulSoup(response.text,\"html.parser\")",
   "metadata": {
    "id": "F92A3wvlyUBc",
    "ExecuteTime": {
     "end_time": "2024-10-30T20:37:01.753124Z",
     "start_time": "2024-10-30T20:37:01.727666Z"
    }
   },
   "outputs": [],
   "execution_count": 14
  },
  {
   "cell_type": "markdown",
   "source": [
    "### Extract data from the BeautifulSoap object using any selectors, attribute identifiers, etc."
   ],
   "metadata": {
    "id": "F8hifMvVycfV"
   }
  },
  {
   "cell_type": "markdown",
   "source": [
    "* Product title (selector '.wd-entities-title')\n",
    "* Product regular price (selector '.woocommerce-Price-amount')\n",
    "* Product discount price (if available), same selector as regular price\n",
    "* URL to the product page\n",
    "* Add to cart button URL"
   ],
   "metadata": {
    "id": "sHgfHr61y2tD"
   }
  },
  {
   "cell_type": "code",
   "source": [
    "# products = soup.select(\".product\")\n",
    "# product = products[2]\n",
    "# title = product.select_one(\".wd-entities-title\").text.strip()\n",
    "# regular_price = None\n",
    "# discount = None\n",
    "# prices = product.select(\".woocommerce-Price-amount\")\n",
    "# if len(prices) == 1:\n",
    "#     regular_price = product.select_one(\".woocommerce-Price-amount\").text.strip()\n",
    "# else:\n",
    "#     regular_price = product.select(\".woocommerce-Price-amount\")[0].text.strip()\n",
    "#     discount = product.select(\".woocommerce-Price-amount\")[1].text.strip()\n",
    "# # print(regular_price)\n",
    "# # print(discount)\n",
    "# URL_product = product.select_one(\".product-image-link\").get(\"href\").strip()\n",
    "# # print(URL_product)\n",
    "# URL_add_to_cart = URL + product.select_one(\".add_to_cart_button\").get(\"href\").strip()\n",
    "# # print(URL_add_to_cart)"
   ],
   "metadata": {
    "id": "UV1kZCRyycQF",
    "ExecuteTime": {
     "end_time": "2024-10-30T21:32:35.413587Z",
     "start_time": "2024-10-30T21:32:35.410434Z"
    }
   },
   "outputs": [],
   "execution_count": 72
  },
  {
   "cell_type": "markdown",
   "source": [
    "Repeat the extraction process for each page of products"
   ],
   "metadata": {
    "id": "gToy7d5Jy9Qk"
   }
  },
  {
   "cell_type": "code",
   "source": [
    "parsed_products = []\n",
    "URL = \"https://clevershop.mk/product-category/mobilni-laptopi-i-tableti/\"\n",
    "ctr = 1\n",
    "while True:\n",
    "    response = requests.get(URL+f\"page/{ctr}/\")\n",
    "    if response.status_code != 200:\n",
    "        break\n",
    "    soup = BeautifulSoup(response.text,\"html.parser\")\n",
    "    products = soup.select(\".product\")\n",
    "    \n",
    "    for product in products:\n",
    "        title = product.select_one(\".wd-entities-title\").text.strip()\n",
    "        discount = None\n",
    "        prices = product.select(\".woocommerce-Price-amount\")\n",
    "        if len(prices) == 1:\n",
    "            regular_price = product.select_one(\".woocommerce-Price-amount\").text.replace(\"\\xa0\", \" \")\n",
    "        else:\n",
    "            regular_price = product.select(\".woocommerce-Price-amount\")[0].text.replace(\"\\xa0\", \" \")\n",
    "            discount = product.select(\".woocommerce-Price-amount\")[1].text.replace(\"\\xa0\", \" \")\n",
    "\n",
    "        # print(regular_price)        \n",
    "        URL_product = product.select_one(\".product-image-link\").get(\"href\").strip()\n",
    "        URL_add_to_cart = URL + product.select_one(\".add_to_cart_button\").get(\"href\").strip()\n",
    "        parsed_products.append({\"Title\":title,\"Regular price\":regular_price,\"Discount\":discount,\"URL Product\":URL_product,\"URL Add to Cart\":URL_add_to_cart,\"page\":ctr})\n",
    "    ctr+=1\n",
    "    \n",
    "    # print(parsed_products)\n"
   ],
   "metadata": {
    "id": "rVdYuEv3zArs",
    "ExecuteTime": {
     "end_time": "2024-10-30T21:47:38.005743Z",
     "start_time": "2024-10-30T21:47:29.314009Z"
    }
   },
   "outputs": [],
   "execution_count": 88
  },
  {
   "cell_type": "markdown",
   "source": [
    "### Create a pandas DataFrame with the scraped products"
   ],
   "metadata": {
    "id": "R4OIUt0AynuU"
   }
  },
  {
   "cell_type": "code",
   "source": [
    "df = pd.DataFrame(parsed_products)\n",
    "# df.sort_values(\"Regular price\")"
   ],
   "metadata": {
    "id": "-wCzGEj8yrKU",
    "ExecuteTime": {
     "end_time": "2024-10-30T21:49:08.546426Z",
     "start_time": "2024-10-30T21:49:08.540153Z"
    }
   },
   "outputs": [
    {
     "data": {
      "text/plain": [
       "                                        Title Regular price   Discount  \\\n",
       "189                          Nokia 106 (2018)     1.490 ден       None   \n",
       "280                 Bakeey Z19 SMART часовник     1.990 ден       None   \n",
       "299      Lemfo LEM1995 SMART женска бразлетна     1.990 ден       None   \n",
       "176                   Lenovo Laptop IdeaPad 1    10.490 ден       None   \n",
       "29    ACER Nitro VG240YBMIIX, 24″ LED IPS FHD    10.490 ден       None   \n",
       "..                                        ...           ...        ...   \n",
       "258             Xiaomi Mi 9 Lite 64GB 4GB RAM     9.990 ден       None   \n",
       "45   Apple iPad Pro 12.9 (2021) 128GB 8GB RAM    91.000 ден       None   \n",
       "34     Acer Predator Helios 300 PH315-54-945Y    96.990 ден       None   \n",
       "319             Xiaomi Redmi AirDots Wireless       990 ден       None   \n",
       "295          FS200 Mini Portable SSD – USB3.1       999 ден  2.490 ден   \n",
       "\n",
       "                                           URL Product  \\\n",
       "189      https://clevershop.mk/product/nokia-106-2018/   \n",
       "280  https://clevershop.mk/product/bakeey-z19-smart...   \n",
       "299  https://clevershop.mk/product/lemfo-lem1995-sm...   \n",
       "176  https://clevershop.mk/product/lenovo-laptop-id...   \n",
       "29   https://clevershop.mk/product/acer-nitro-vg240...   \n",
       "..                                                 ...   \n",
       "258  https://clevershop.mk/product/xiaomi-mi-9-lite...   \n",
       "45   https://clevershop.mk/product/apple-ipad-pro-1...   \n",
       "34   https://clevershop.mk/product/acer-predator-he...   \n",
       "319    https://clevershop.mk/product/redmi-headphones/   \n",
       "295  https://clevershop.mk/product/fs200-mini-porta...   \n",
       "\n",
       "                                       URL Add to Cart  page  \n",
       "189  https://clevershop.mk/product-category/mobilni...     8  \n",
       "280  https://clevershop.mk/product-category/mobilni...    12  \n",
       "299  https://clevershop.mk/product-category/mobilni...    13  \n",
       "176  https://clevershop.mk/product-category/mobilni...     8  \n",
       "29   https://clevershop.mk/product-category/mobilni...     2  \n",
       "..                                                 ...   ...  \n",
       "258  https://clevershop.mk/product-category/mobilni...    11  \n",
       "45   https://clevershop.mk/product-category/mobilni...     2  \n",
       "34   https://clevershop.mk/product-category/mobilni...     2  \n",
       "319  https://clevershop.mk/product-category/mobilni...    14  \n",
       "295  https://clevershop.mk/product-category/mobilni...    13  \n",
       "\n",
       "[320 rows x 6 columns]"
      ],
      "text/html": [
       "<div>\n",
       "<style scoped>\n",
       "    .dataframe tbody tr th:only-of-type {\n",
       "        vertical-align: middle;\n",
       "    }\n",
       "\n",
       "    .dataframe tbody tr th {\n",
       "        vertical-align: top;\n",
       "    }\n",
       "\n",
       "    .dataframe thead th {\n",
       "        text-align: right;\n",
       "    }\n",
       "</style>\n",
       "<table border=\"1\" class=\"dataframe\">\n",
       "  <thead>\n",
       "    <tr style=\"text-align: right;\">\n",
       "      <th></th>\n",
       "      <th>Title</th>\n",
       "      <th>Regular price</th>\n",
       "      <th>Discount</th>\n",
       "      <th>URL Product</th>\n",
       "      <th>URL Add to Cart</th>\n",
       "      <th>page</th>\n",
       "    </tr>\n",
       "  </thead>\n",
       "  <tbody>\n",
       "    <tr>\n",
       "      <th>189</th>\n",
       "      <td>Nokia 106 (2018)</td>\n",
       "      <td>1.490 ден</td>\n",
       "      <td>None</td>\n",
       "      <td>https://clevershop.mk/product/nokia-106-2018/</td>\n",
       "      <td>https://clevershop.mk/product-category/mobilni...</td>\n",
       "      <td>8</td>\n",
       "    </tr>\n",
       "    <tr>\n",
       "      <th>280</th>\n",
       "      <td>Bakeey Z19 SMART часовник</td>\n",
       "      <td>1.990 ден</td>\n",
       "      <td>None</td>\n",
       "      <td>https://clevershop.mk/product/bakeey-z19-smart...</td>\n",
       "      <td>https://clevershop.mk/product-category/mobilni...</td>\n",
       "      <td>12</td>\n",
       "    </tr>\n",
       "    <tr>\n",
       "      <th>299</th>\n",
       "      <td>Lemfo LEM1995 SMART женска бразлетна</td>\n",
       "      <td>1.990 ден</td>\n",
       "      <td>None</td>\n",
       "      <td>https://clevershop.mk/product/lemfo-lem1995-sm...</td>\n",
       "      <td>https://clevershop.mk/product-category/mobilni...</td>\n",
       "      <td>13</td>\n",
       "    </tr>\n",
       "    <tr>\n",
       "      <th>176</th>\n",
       "      <td>Lenovo Laptop IdeaPad 1</td>\n",
       "      <td>10.490 ден</td>\n",
       "      <td>None</td>\n",
       "      <td>https://clevershop.mk/product/lenovo-laptop-id...</td>\n",
       "      <td>https://clevershop.mk/product-category/mobilni...</td>\n",
       "      <td>8</td>\n",
       "    </tr>\n",
       "    <tr>\n",
       "      <th>29</th>\n",
       "      <td>ACER Nitro VG240YBMIIX, 24″ LED IPS FHD</td>\n",
       "      <td>10.490 ден</td>\n",
       "      <td>None</td>\n",
       "      <td>https://clevershop.mk/product/acer-nitro-vg240...</td>\n",
       "      <td>https://clevershop.mk/product-category/mobilni...</td>\n",
       "      <td>2</td>\n",
       "    </tr>\n",
       "    <tr>\n",
       "      <th>...</th>\n",
       "      <td>...</td>\n",
       "      <td>...</td>\n",
       "      <td>...</td>\n",
       "      <td>...</td>\n",
       "      <td>...</td>\n",
       "      <td>...</td>\n",
       "    </tr>\n",
       "    <tr>\n",
       "      <th>258</th>\n",
       "      <td>Xiaomi Mi 9 Lite 64GB 4GB RAM</td>\n",
       "      <td>9.990 ден</td>\n",
       "      <td>None</td>\n",
       "      <td>https://clevershop.mk/product/xiaomi-mi-9-lite...</td>\n",
       "      <td>https://clevershop.mk/product-category/mobilni...</td>\n",
       "      <td>11</td>\n",
       "    </tr>\n",
       "    <tr>\n",
       "      <th>45</th>\n",
       "      <td>Apple iPad Pro 12.9 (2021) 128GB 8GB RAM</td>\n",
       "      <td>91.000 ден</td>\n",
       "      <td>None</td>\n",
       "      <td>https://clevershop.mk/product/apple-ipad-pro-1...</td>\n",
       "      <td>https://clevershop.mk/product-category/mobilni...</td>\n",
       "      <td>2</td>\n",
       "    </tr>\n",
       "    <tr>\n",
       "      <th>34</th>\n",
       "      <td>Acer Predator Helios 300 PH315-54-945Y</td>\n",
       "      <td>96.990 ден</td>\n",
       "      <td>None</td>\n",
       "      <td>https://clevershop.mk/product/acer-predator-he...</td>\n",
       "      <td>https://clevershop.mk/product-category/mobilni...</td>\n",
       "      <td>2</td>\n",
       "    </tr>\n",
       "    <tr>\n",
       "      <th>319</th>\n",
       "      <td>Xiaomi Redmi AirDots Wireless</td>\n",
       "      <td>990 ден</td>\n",
       "      <td>None</td>\n",
       "      <td>https://clevershop.mk/product/redmi-headphones/</td>\n",
       "      <td>https://clevershop.mk/product-category/mobilni...</td>\n",
       "      <td>14</td>\n",
       "    </tr>\n",
       "    <tr>\n",
       "      <th>295</th>\n",
       "      <td>FS200 Mini Portable SSD – USB3.1</td>\n",
       "      <td>999 ден</td>\n",
       "      <td>2.490 ден</td>\n",
       "      <td>https://clevershop.mk/product/fs200-mini-porta...</td>\n",
       "      <td>https://clevershop.mk/product-category/mobilni...</td>\n",
       "      <td>13</td>\n",
       "    </tr>\n",
       "  </tbody>\n",
       "</table>\n",
       "<p>320 rows × 6 columns</p>\n",
       "</div>"
      ]
     },
     "execution_count": 91,
     "metadata": {},
     "output_type": "execute_result"
    }
   ],
   "execution_count": 91
  },
  {
   "cell_type": "markdown",
   "source": [
    "Save the dataframe as `.csv`"
   ],
   "metadata": {
    "id": "Rxbi54EOyrb8"
   }
  },
  {
   "cell_type": "code",
   "source": "df.to_csv(\"lab1.csv\")",
   "metadata": {
    "id": "TLNfZQ07yuQE",
    "ExecuteTime": {
     "end_time": "2024-10-30T21:51:15.601423Z",
     "start_time": "2024-10-30T21:51:15.594848Z"
    }
   },
   "outputs": [],
   "execution_count": 93
  }
 ]
}
