{
 "nbformat": 4,
 "nbformat_minor": 0,
 "metadata": {
  "colab": {
   "provenance": []
  },
  "kernelspec": {
   "name": "python3",
   "display_name": "Python 3 (ipykernel)",
   "language": "python"
  },
  "language_info": {
   "name": "python"
  }
 },
 "cells": [
  {
   "cell_type": "markdown",
   "source": [
    "# Requirements"
   ],
   "metadata": {
    "id": "rODb9vHvIEbp"
   }
  },
  {
   "cell_type": "code",
   "source": [
    "# Add as many imports as you need."
   ],
   "metadata": {
    "id": "U4KmHBd2cdx9"
   },
   "execution_count": null,
   "outputs": []
  },
  {
   "cell_type": "markdown",
   "source": [
    "# Laboratory Exercise - Run Mode (8 points)"
   ],
   "metadata": {
    "id": "KNMMoUiUIW3L"
   }
  },
  {
   "cell_type": "markdown",
   "source": [
    "## The Vacation Preferences Dataset\n",
    "The dataset contains information about individuals and their vacation preferences. It includes details such as age, gender, income, and education level. It also provides insights into their vacation habits, like the number of vacations taken each year, preferred activities (such as hiking, swimming, skiing, or sunbathing), and their budget for vacations. Other information includes the type of place they live in (urban, suburban, or rural), how far they live from mountains and beaches, and their favorite season for vacations (summer, winter, spring, or fall). The dataset also contains information whether they have pets and if they are concerned about the environment. All these features serve as input variables for predictive modeling. The 'Preference' attribute serves as the target variable, where 1 represents preference for mountains, 0 for beaches."
   ],
   "metadata": {
    "id": "zBYI-EypaWom"
   }
  },
  {
   "cell_type": "markdown",
   "source": [
    "Load the dataset into a `pandas` data frame."
   ],
   "metadata": {
    "id": "DCm1qm1mZwMr"
   }
  },
  {
   "cell_type": "code",
   "source": [
    "import pandas as pd\n",
    "\n",
    "# Write your code here. Add as many boxes as you need.\n",
    "df = pd.read_csv(\"./vacation_preferences_data.csv\")"
   ],
   "metadata": {
    "id": "KMOn4fgcZn8s",
    "ExecuteTime": {
     "end_time": "2024-11-27T14:52:16.083710Z",
     "start_time": "2024-11-27T14:52:15.745381Z"
    }
   },
   "outputs": [],
   "execution_count": 1
  },
  {
   "cell_type": "markdown",
   "source": [
    "Preprocess the input and the output variables appropriately."
   ],
   "metadata": {
    "id": "7yVjyyL-SENC"
   }
  },
  {
   "cell_type": "code",
   "source": [
    "# Write your code here. Add as many boxes as you need.\n",
    "df.isnull().sum()/len(df)*100\n"
   ],
   "metadata": {
    "id": "VFMBXEUkSD5V",
    "ExecuteTime": {
     "end_time": "2024-11-27T14:55:02.355712Z",
     "start_time": "2024-11-27T14:55:02.346166Z"
    }
   },
   "outputs": [
    {
     "data": {
      "text/plain": [
       "Age                       9.999237\n",
       "Gender                    0.000000\n",
       "Income                    0.000000\n",
       "Education_Level           4.999619\n",
       "Travel_Frequency          0.000000\n",
       "Preferred_Activities      0.000000\n",
       "Vacation_Budget           0.000000\n",
       "Location                  0.000000\n",
       "Proximity_to_Mountains    4.999619\n",
       "Proximity_to_Beaches      0.000000\n",
       "Favorite_Season           0.000000\n",
       "Pets                      0.000000\n",
       "Environmental_Concerns    0.000000\n",
       "Preference                0.000000\n",
       "dtype: float64"
      ]
     },
     "execution_count": 5,
     "metadata": {},
     "output_type": "execute_result"
    }
   ],
   "execution_count": 5
  },
  {
   "metadata": {
    "ExecuteTime": {
     "end_time": "2024-11-27T14:55:42.987822Z",
     "start_time": "2024-11-27T14:55:42.981307Z"
    }
   },
   "cell_type": "code",
   "source": "df.sample(5)",
   "outputs": [
    {
     "data": {
      "text/plain": [
       "        Age      Gender  Income Education_Level  Travel_Frequency  \\\n",
       "1697    NaN  non-binary   97134          master                 5   \n",
       "15095  46.0      female   29701        bachelor                 0   \n",
       "44222  62.0  non-binary  118104          master                 2   \n",
       "7464   28.0        male   63058        bachelor                 3   \n",
       "16149  56.0      female   65297             NaN                 4   \n",
       "\n",
       "      Preferred_Activities  Vacation_Budget  Location  Proximity_to_Mountains  \\\n",
       "1697                skiing             2841     rural                   259.0   \n",
       "15095           sunbathing             1621     urban                   107.0   \n",
       "44222               skiing              646     rural                    69.0   \n",
       "7464                skiing             3399  suburban                    88.0   \n",
       "16149           sunbathing             4260  suburban                    91.0   \n",
       "\n",
       "       Proximity_to_Beaches Favorite_Season  Pets  Environmental_Concerns  \\\n",
       "1697                     76          winter     1                       0   \n",
       "15095                    20            fall     0                       1   \n",
       "44222                    85            fall     1                       0   \n",
       "7464                    238          summer     0                       1   \n",
       "16149                    76            fall     1                       1   \n",
       "\n",
       "       Preference  \n",
       "1697            0  \n",
       "15095           0  \n",
       "44222           1  \n",
       "7464            1  \n",
       "16149           0  "
      ],
      "text/html": [
       "<div>\n",
       "<style scoped>\n",
       "    .dataframe tbody tr th:only-of-type {\n",
       "        vertical-align: middle;\n",
       "    }\n",
       "\n",
       "    .dataframe tbody tr th {\n",
       "        vertical-align: top;\n",
       "    }\n",
       "\n",
       "    .dataframe thead th {\n",
       "        text-align: right;\n",
       "    }\n",
       "</style>\n",
       "<table border=\"1\" class=\"dataframe\">\n",
       "  <thead>\n",
       "    <tr style=\"text-align: right;\">\n",
       "      <th></th>\n",
       "      <th>Age</th>\n",
       "      <th>Gender</th>\n",
       "      <th>Income</th>\n",
       "      <th>Education_Level</th>\n",
       "      <th>Travel_Frequency</th>\n",
       "      <th>Preferred_Activities</th>\n",
       "      <th>Vacation_Budget</th>\n",
       "      <th>Location</th>\n",
       "      <th>Proximity_to_Mountains</th>\n",
       "      <th>Proximity_to_Beaches</th>\n",
       "      <th>Favorite_Season</th>\n",
       "      <th>Pets</th>\n",
       "      <th>Environmental_Concerns</th>\n",
       "      <th>Preference</th>\n",
       "    </tr>\n",
       "  </thead>\n",
       "  <tbody>\n",
       "    <tr>\n",
       "      <th>1697</th>\n",
       "      <td>NaN</td>\n",
       "      <td>non-binary</td>\n",
       "      <td>97134</td>\n",
       "      <td>master</td>\n",
       "      <td>5</td>\n",
       "      <td>skiing</td>\n",
       "      <td>2841</td>\n",
       "      <td>rural</td>\n",
       "      <td>259.0</td>\n",
       "      <td>76</td>\n",
       "      <td>winter</td>\n",
       "      <td>1</td>\n",
       "      <td>0</td>\n",
       "      <td>0</td>\n",
       "    </tr>\n",
       "    <tr>\n",
       "      <th>15095</th>\n",
       "      <td>46.0</td>\n",
       "      <td>female</td>\n",
       "      <td>29701</td>\n",
       "      <td>bachelor</td>\n",
       "      <td>0</td>\n",
       "      <td>sunbathing</td>\n",
       "      <td>1621</td>\n",
       "      <td>urban</td>\n",
       "      <td>107.0</td>\n",
       "      <td>20</td>\n",
       "      <td>fall</td>\n",
       "      <td>0</td>\n",
       "      <td>1</td>\n",
       "      <td>0</td>\n",
       "    </tr>\n",
       "    <tr>\n",
       "      <th>44222</th>\n",
       "      <td>62.0</td>\n",
       "      <td>non-binary</td>\n",
       "      <td>118104</td>\n",
       "      <td>master</td>\n",
       "      <td>2</td>\n",
       "      <td>skiing</td>\n",
       "      <td>646</td>\n",
       "      <td>rural</td>\n",
       "      <td>69.0</td>\n",
       "      <td>85</td>\n",
       "      <td>fall</td>\n",
       "      <td>1</td>\n",
       "      <td>0</td>\n",
       "      <td>1</td>\n",
       "    </tr>\n",
       "    <tr>\n",
       "      <th>7464</th>\n",
       "      <td>28.0</td>\n",
       "      <td>male</td>\n",
       "      <td>63058</td>\n",
       "      <td>bachelor</td>\n",
       "      <td>3</td>\n",
       "      <td>skiing</td>\n",
       "      <td>3399</td>\n",
       "      <td>suburban</td>\n",
       "      <td>88.0</td>\n",
       "      <td>238</td>\n",
       "      <td>summer</td>\n",
       "      <td>0</td>\n",
       "      <td>1</td>\n",
       "      <td>1</td>\n",
       "    </tr>\n",
       "    <tr>\n",
       "      <th>16149</th>\n",
       "      <td>56.0</td>\n",
       "      <td>female</td>\n",
       "      <td>65297</td>\n",
       "      <td>NaN</td>\n",
       "      <td>4</td>\n",
       "      <td>sunbathing</td>\n",
       "      <td>4260</td>\n",
       "      <td>suburban</td>\n",
       "      <td>91.0</td>\n",
       "      <td>76</td>\n",
       "      <td>fall</td>\n",
       "      <td>1</td>\n",
       "      <td>1</td>\n",
       "      <td>0</td>\n",
       "    </tr>\n",
       "  </tbody>\n",
       "</table>\n",
       "</div>"
      ]
     },
     "execution_count": 6,
     "metadata": {},
     "output_type": "execute_result"
    }
   ],
   "execution_count": 6
  },
  {
   "metadata": {
    "ExecuteTime": {
     "end_time": "2024-11-27T14:57:09.941434Z",
     "start_time": "2024-11-27T14:57:09.849277Z"
    }
   },
   "cell_type": "code",
   "source": [
    "for cat in df.select_dtypes(include=[\"object\",\"category\"]):\n",
    "    for num in df.select_dtypes(include=[\"number\"]):\n",
    "        print(df.groupby(cat)[num].mean())\n",
    "        print()"
   ],
   "outputs": [
    {
     "name": "stdout",
     "output_type": "stream",
     "text": [
      "Gender\n",
      "female        43.455148\n",
      "male          43.544625\n",
      "non-binary    43.596840\n",
      "Name: Age, dtype: float64\n",
      "\n",
      "Gender\n",
      "female        70346.368126\n",
      "male          69935.583324\n",
      "non-binary    69764.246876\n",
      "Name: Income, dtype: float64\n",
      "\n",
      "Gender\n",
      "female        4.492006\n",
      "male          4.482308\n",
      "non-binary    4.493520\n",
      "Name: Travel_Frequency, dtype: float64\n",
      "\n",
      "Gender\n",
      "female        2739.589579\n",
      "male          2751.803048\n",
      "non-binary    2733.912057\n",
      "Name: Vacation_Budget, dtype: float64\n",
      "\n",
      "Gender\n",
      "female        148.363826\n",
      "male          150.503330\n",
      "non-binary    150.781779\n",
      "Name: Proximity_to_Mountains, dtype: float64\n",
      "\n",
      "Gender\n",
      "female        149.965529\n",
      "male          149.473062\n",
      "non-binary    150.230907\n",
      "Name: Proximity_to_Beaches, dtype: float64\n",
      "\n",
      "Gender\n",
      "female        0.502041\n",
      "male          0.495834\n",
      "non-binary    0.504744\n",
      "Name: Pets, dtype: float64\n",
      "\n",
      "Gender\n",
      "female        0.502154\n",
      "male          0.493950\n",
      "non-binary    0.499190\n",
      "Name: Environmental_Concerns, dtype: float64\n",
      "\n",
      "Gender\n",
      "female        0.250425\n",
      "male          0.250999\n",
      "non-binary    0.250694\n",
      "Name: Preference, dtype: float64\n",
      "\n",
      "Education_Level\n",
      "bachelor       43.448178\n",
      "doctorate      43.493779\n",
      "high school    43.747901\n",
      "master         43.470461\n",
      "Name: Age, dtype: float64\n",
      "\n",
      "Education_Level\n",
      "bachelor       70284.631326\n",
      "doctorate      69903.926852\n",
      "high school    70034.666130\n",
      "master         69857.039401\n",
      "Name: Income, dtype: float64\n",
      "\n",
      "Education_Level\n",
      "bachelor       4.494395\n",
      "doctorate      4.485671\n",
      "high school    4.512562\n",
      "master         4.448551\n",
      "Name: Travel_Frequency, dtype: float64\n",
      "\n",
      "Education_Level\n",
      "bachelor       2718.142297\n",
      "doctorate      2750.693239\n",
      "high school    2751.087132\n",
      "master         2746.389205\n",
      "Name: Vacation_Budget, dtype: float64\n",
      "\n",
      "Education_Level\n",
      "bachelor       150.356861\n",
      "doctorate      150.986118\n",
      "high school    148.859253\n",
      "master         149.542791\n",
      "Name: Proximity_to_Mountains, dtype: float64\n",
      "\n",
      "Education_Level\n",
      "bachelor       150.305253\n",
      "doctorate      149.093414\n",
      "high school    149.801337\n",
      "master         150.827662\n",
      "Name: Proximity_to_Beaches, dtype: float64\n",
      "\n",
      "Education_Level\n",
      "bachelor       0.498238\n",
      "doctorate      0.500158\n",
      "high school    0.501369\n",
      "master         0.501465\n",
      "Name: Pets, dtype: float64\n",
      "\n",
      "Education_Level\n",
      "bachelor       0.498559\n",
      "doctorate      0.503008\n",
      "high school    0.501772\n",
      "master         0.492185\n",
      "Name: Environmental_Concerns, dtype: float64\n",
      "\n",
      "Education_Level\n",
      "bachelor       0.253043\n",
      "doctorate      0.243271\n",
      "high school    0.257529\n",
      "master         0.250488\n",
      "Name: Preference, dtype: float64\n",
      "\n",
      "Preferred_Activities\n",
      "hiking        43.550119\n",
      "skiing        43.434161\n",
      "sunbathing    43.638456\n",
      "swimming      43.504374\n",
      "Name: Age, dtype: float64\n",
      "\n",
      "Preferred_Activities\n",
      "hiking        69908.984048\n",
      "skiing        69953.157135\n",
      "sunbathing    69948.712427\n",
      "swimming      70261.936004\n",
      "Name: Income, dtype: float64\n",
      "\n",
      "Preferred_Activities\n",
      "hiking        4.512822\n",
      "skiing        4.466089\n",
      "sunbathing    4.455412\n",
      "swimming      4.523545\n",
      "Name: Travel_Frequency, dtype: float64\n",
      "\n",
      "Preferred_Activities\n",
      "hiking        2745.176767\n",
      "skiing        2728.201489\n",
      "sunbathing    2750.674760\n",
      "swimming      2743.145283\n",
      "Name: Vacation_Budget, dtype: float64\n",
      "\n",
      "Preferred_Activities\n",
      "hiking        149.844494\n",
      "skiing        149.514247\n",
      "sunbathing    149.962901\n",
      "swimming      150.184302\n",
      "Name: Proximity_to_Mountains, dtype: float64\n",
      "\n",
      "Preferred_Activities\n",
      "hiking        150.195619\n",
      "skiing        150.668565\n",
      "sunbathing    148.796158\n",
      "swimming      149.899645\n",
      "Name: Proximity_to_Beaches, dtype: float64\n",
      "\n",
      "Preferred_Activities\n",
      "hiking        0.499084\n",
      "skiing        0.496620\n",
      "sunbathing    0.508736\n",
      "swimming      0.498919\n",
      "Name: Pets, dtype: float64\n",
      "\n",
      "Preferred_Activities\n",
      "hiking        0.498168\n",
      "skiing        0.497456\n",
      "sunbathing    0.495424\n",
      "swimming      0.502779\n",
      "Name: Environmental_Concerns, dtype: float64\n",
      "\n",
      "Preferred_Activities\n",
      "hiking        0.500916\n",
      "skiing        0.500114\n",
      "sunbathing    0.000000\n",
      "swimming      0.000000\n",
      "Name: Preference, dtype: float64\n",
      "\n",
      "Location\n",
      "rural       43.517296\n",
      "suburban    43.606228\n",
      "urban       43.471667\n",
      "Name: Age, dtype: float64\n",
      "\n",
      "Location\n",
      "rural       70221.494475\n",
      "suburban    69834.467234\n",
      "urban       69996.263104\n",
      "Name: Income, dtype: float64\n",
      "\n",
      "Location\n",
      "rural       4.480733\n",
      "suburban    4.459293\n",
      "urban       4.527810\n",
      "Name: Travel_Frequency, dtype: float64\n",
      "\n",
      "Location\n",
      "rural       2734.875637\n",
      "suburban    2752.584186\n",
      "urban       2737.916342\n",
      "Name: Vacation_Budget, dtype: float64\n",
      "\n",
      "Location\n",
      "rural       150.234773\n",
      "suburban    149.061587\n",
      "urban       150.332631\n",
      "Name: Proximity_to_Mountains, dtype: float64\n",
      "\n",
      "Location\n",
      "rural       150.476095\n",
      "suburban    149.322688\n",
      "urban       149.867819\n",
      "Name: Proximity_to_Beaches, dtype: float64\n",
      "\n",
      "Location\n",
      "rural       0.503006\n",
      "suburban    0.498315\n",
      "urban       0.501259\n",
      "Name: Pets, dtype: float64\n",
      "\n",
      "Location\n",
      "rural       0.503693\n",
      "suburban    0.497743\n",
      "urban       0.493877\n",
      "Name: Environmental_Concerns, dtype: float64\n",
      "\n",
      "Location\n",
      "rural       0.253307\n",
      "suburban    0.249671\n",
      "urban       0.249142\n",
      "Name: Preference, dtype: float64\n",
      "\n",
      "Favorite_Season\n",
      "fall      43.375717\n",
      "spring    43.594425\n",
      "summer    43.538494\n",
      "winter    43.620828\n",
      "Name: Age, dtype: float64\n",
      "\n",
      "Favorite_Season\n",
      "fall      70144.293014\n",
      "spring    69848.522854\n",
      "summer    70085.589416\n",
      "winter    69986.847838\n",
      "Name: Income, dtype: float64\n",
      "\n",
      "Favorite_Season\n",
      "fall      4.515262\n",
      "spring    4.503243\n",
      "summer    4.480192\n",
      "winter    4.458330\n",
      "Name: Travel_Frequency, dtype: float64\n",
      "\n",
      "Favorite_Season\n",
      "fall      2751.089901\n",
      "spring    2723.925185\n",
      "summer    2742.139668\n",
      "winter    2749.834319\n",
      "Name: Vacation_Budget, dtype: float64\n",
      "\n",
      "Favorite_Season\n",
      "fall      149.749102\n",
      "spring    150.429561\n",
      "summer    150.446597\n",
      "winter    148.871859\n",
      "Name: Proximity_to_Mountains, dtype: float64\n",
      "\n",
      "Favorite_Season\n",
      "fall      149.240243\n",
      "spring    149.403258\n",
      "summer    150.555288\n",
      "winter    150.345495\n",
      "Name: Proximity_to_Beaches, dtype: float64\n",
      "\n",
      "Favorite_Season\n",
      "fall      0.502430\n",
      "spring    0.499228\n",
      "summer    0.503721\n",
      "winter    0.497965\n",
      "Name: Pets, dtype: float64\n",
      "\n",
      "Favorite_Season\n",
      "fall      0.497418\n",
      "spring    0.499846\n",
      "summer    0.501165\n",
      "winter    0.495276\n",
      "Name: Environmental_Concerns, dtype: float64\n",
      "\n",
      "Favorite_Season\n",
      "fall      0.252544\n",
      "spring    0.252007\n",
      "summer    0.248064\n",
      "winter    0.250250\n",
      "Name: Preference, dtype: float64\n",
      "\n"
     ]
    }
   ],
   "execution_count": 9
  },
  {
   "cell_type": "markdown",
   "source": [
    "Explore the dataset using visualizations of your choice."
   ],
   "metadata": {
    "id": "5slwyyhCKRo9"
   }
  },
  {
   "cell_type": "code",
   "source": [
    "# Write your code here. Add as many boxes as you need.\n",
    "df.select_dtypes(include=[\"number\"]).corr()\n"
   ],
   "metadata": {
    "id": "DFY6TKhGKOY4",
    "ExecuteTime": {
     "end_time": "2024-11-27T14:59:50.163501Z",
     "start_time": "2024-11-27T14:59:50.150040Z"
    }
   },
   "outputs": [
    {
     "data": {
      "text/plain": [
       "                             Age    Income  Travel_Frequency  Vacation_Budget  \\\n",
       "Age                     1.000000  0.000778          0.005964         0.001989   \n",
       "Income                  0.000778  1.000000         -0.000378        -0.000731   \n",
       "Travel_Frequency        0.005964 -0.000378          1.000000         0.003593   \n",
       "Vacation_Budget         0.001989 -0.000731          0.003593         1.000000   \n",
       "Proximity_to_Mountains  0.005805 -0.003948          0.009870         0.003322   \n",
       "Proximity_to_Beaches    0.002673  0.000956         -0.003404        -0.000507   \n",
       "Pets                    0.010322  0.003554          0.003719        -0.000671   \n",
       "Environmental_Concerns  0.003018 -0.007597          0.003031        -0.008774   \n",
       "Preference             -0.001001 -0.002998         -0.001680        -0.004754   \n",
       "\n",
       "                        Proximity_to_Mountains  Proximity_to_Beaches  \\\n",
       "Age                                   0.005805              0.002673   \n",
       "Income                               -0.003948              0.000956   \n",
       "Travel_Frequency                      0.009870             -0.003404   \n",
       "Vacation_Budget                       0.003322             -0.000507   \n",
       "Proximity_to_Mountains                1.000000             -0.002892   \n",
       "Proximity_to_Beaches                 -0.002892              1.000000   \n",
       "Pets                                 -0.002395             -0.005369   \n",
       "Environmental_Concerns                0.000780             -0.001777   \n",
       "Preference                           -0.334354              0.334848   \n",
       "\n",
       "                            Pets  Environmental_Concerns  Preference  \n",
       "Age                     0.010322                0.003018   -0.001001  \n",
       "Income                  0.003554               -0.007597   -0.002998  \n",
       "Travel_Frequency        0.003719                0.003031   -0.001680  \n",
       "Vacation_Budget        -0.000671               -0.008774   -0.004754  \n",
       "Proximity_to_Mountains -0.002395                0.000780   -0.334354  \n",
       "Proximity_to_Beaches   -0.005369               -0.001777    0.334848  \n",
       "Pets                    1.000000                0.000044   -0.011375  \n",
       "Environmental_Concerns  0.000044                1.000000    0.001457  \n",
       "Preference             -0.011375                0.001457    1.000000  "
      ],
      "text/html": [
       "<div>\n",
       "<style scoped>\n",
       "    .dataframe tbody tr th:only-of-type {\n",
       "        vertical-align: middle;\n",
       "    }\n",
       "\n",
       "    .dataframe tbody tr th {\n",
       "        vertical-align: top;\n",
       "    }\n",
       "\n",
       "    .dataframe thead th {\n",
       "        text-align: right;\n",
       "    }\n",
       "</style>\n",
       "<table border=\"1\" class=\"dataframe\">\n",
       "  <thead>\n",
       "    <tr style=\"text-align: right;\">\n",
       "      <th></th>\n",
       "      <th>Age</th>\n",
       "      <th>Income</th>\n",
       "      <th>Travel_Frequency</th>\n",
       "      <th>Vacation_Budget</th>\n",
       "      <th>Proximity_to_Mountains</th>\n",
       "      <th>Proximity_to_Beaches</th>\n",
       "      <th>Pets</th>\n",
       "      <th>Environmental_Concerns</th>\n",
       "      <th>Preference</th>\n",
       "    </tr>\n",
       "  </thead>\n",
       "  <tbody>\n",
       "    <tr>\n",
       "      <th>Age</th>\n",
       "      <td>1.000000</td>\n",
       "      <td>0.000778</td>\n",
       "      <td>0.005964</td>\n",
       "      <td>0.001989</td>\n",
       "      <td>0.005805</td>\n",
       "      <td>0.002673</td>\n",
       "      <td>0.010322</td>\n",
       "      <td>0.003018</td>\n",
       "      <td>-0.001001</td>\n",
       "    </tr>\n",
       "    <tr>\n",
       "      <th>Income</th>\n",
       "      <td>0.000778</td>\n",
       "      <td>1.000000</td>\n",
       "      <td>-0.000378</td>\n",
       "      <td>-0.000731</td>\n",
       "      <td>-0.003948</td>\n",
       "      <td>0.000956</td>\n",
       "      <td>0.003554</td>\n",
       "      <td>-0.007597</td>\n",
       "      <td>-0.002998</td>\n",
       "    </tr>\n",
       "    <tr>\n",
       "      <th>Travel_Frequency</th>\n",
       "      <td>0.005964</td>\n",
       "      <td>-0.000378</td>\n",
       "      <td>1.000000</td>\n",
       "      <td>0.003593</td>\n",
       "      <td>0.009870</td>\n",
       "      <td>-0.003404</td>\n",
       "      <td>0.003719</td>\n",
       "      <td>0.003031</td>\n",
       "      <td>-0.001680</td>\n",
       "    </tr>\n",
       "    <tr>\n",
       "      <th>Vacation_Budget</th>\n",
       "      <td>0.001989</td>\n",
       "      <td>-0.000731</td>\n",
       "      <td>0.003593</td>\n",
       "      <td>1.000000</td>\n",
       "      <td>0.003322</td>\n",
       "      <td>-0.000507</td>\n",
       "      <td>-0.000671</td>\n",
       "      <td>-0.008774</td>\n",
       "      <td>-0.004754</td>\n",
       "    </tr>\n",
       "    <tr>\n",
       "      <th>Proximity_to_Mountains</th>\n",
       "      <td>0.005805</td>\n",
       "      <td>-0.003948</td>\n",
       "      <td>0.009870</td>\n",
       "      <td>0.003322</td>\n",
       "      <td>1.000000</td>\n",
       "      <td>-0.002892</td>\n",
       "      <td>-0.002395</td>\n",
       "      <td>0.000780</td>\n",
       "      <td>-0.334354</td>\n",
       "    </tr>\n",
       "    <tr>\n",
       "      <th>Proximity_to_Beaches</th>\n",
       "      <td>0.002673</td>\n",
       "      <td>0.000956</td>\n",
       "      <td>-0.003404</td>\n",
       "      <td>-0.000507</td>\n",
       "      <td>-0.002892</td>\n",
       "      <td>1.000000</td>\n",
       "      <td>-0.005369</td>\n",
       "      <td>-0.001777</td>\n",
       "      <td>0.334848</td>\n",
       "    </tr>\n",
       "    <tr>\n",
       "      <th>Pets</th>\n",
       "      <td>0.010322</td>\n",
       "      <td>0.003554</td>\n",
       "      <td>0.003719</td>\n",
       "      <td>-0.000671</td>\n",
       "      <td>-0.002395</td>\n",
       "      <td>-0.005369</td>\n",
       "      <td>1.000000</td>\n",
       "      <td>0.000044</td>\n",
       "      <td>-0.011375</td>\n",
       "    </tr>\n",
       "    <tr>\n",
       "      <th>Environmental_Concerns</th>\n",
       "      <td>0.003018</td>\n",
       "      <td>-0.007597</td>\n",
       "      <td>0.003031</td>\n",
       "      <td>-0.008774</td>\n",
       "      <td>0.000780</td>\n",
       "      <td>-0.001777</td>\n",
       "      <td>0.000044</td>\n",
       "      <td>1.000000</td>\n",
       "      <td>0.001457</td>\n",
       "    </tr>\n",
       "    <tr>\n",
       "      <th>Preference</th>\n",
       "      <td>-0.001001</td>\n",
       "      <td>-0.002998</td>\n",
       "      <td>-0.001680</td>\n",
       "      <td>-0.004754</td>\n",
       "      <td>-0.334354</td>\n",
       "      <td>0.334848</td>\n",
       "      <td>-0.011375</td>\n",
       "      <td>0.001457</td>\n",
       "      <td>1.000000</td>\n",
       "    </tr>\n",
       "  </tbody>\n",
       "</table>\n",
       "</div>"
      ]
     },
     "execution_count": 14,
     "metadata": {},
     "output_type": "execute_result"
    }
   ],
   "execution_count": 14
  },
  {
   "cell_type": "markdown",
   "source": [
    "Check if the dataset is balanced."
   ],
   "metadata": {
    "id": "aHu0QDOtM-mK"
   }
  },
  {
   "cell_type": "code",
   "source": [
    "# Write your code here. Add as many boxes as you need."
   ],
   "metadata": {
    "id": "y-gl5hyJM_vG"
   },
   "execution_count": null,
   "outputs": []
  },
  {
   "cell_type": "markdown",
   "source": [
    "## Detecting Missing Values\n",
    "Calculate the percentage of missing values present in each column of the dataset."
   ],
   "metadata": {
    "id": "KwGjJs4rLi0P"
   }
  },
  {
   "cell_type": "code",
   "source": [
    "# Write your code here. Add as many boxes as you need."
   ],
   "metadata": {
    "id": "L1l_JV-nL3ND"
   },
   "execution_count": null,
   "outputs": []
  },
  {
   "cell_type": "markdown",
   "source": [
    "## Understanding the Causes Behind Missing Values\n",
    "Using visualization tools such as heatmaps, and dendrograms, illustrate the interdependence between attributes with missing values. Also, visualize the distribution of the missing values within the dataset using matrices and bar charts."
   ],
   "metadata": {
    "id": "_5n7SWKfL46j"
   }
  },
  {
   "cell_type": "code",
   "source": [
    "# Write your code here. Add as many boxes as you need."
   ],
   "metadata": {
    "id": "Wa7uzbI5L4kL"
   },
   "execution_count": null,
   "outputs": []
  },
  {
   "cell_type": "markdown",
   "source": [
    "## Handling the Missing Values\n",
    "Handle the missing values using suitable method based on the insights obtained from the various visualizations."
   ],
   "metadata": {
    "id": "99Gjo6KhMKqt"
   }
  },
  {
   "cell_type": "code",
   "source": [
    "# Write your code here. Add as many boxes as you need."
   ],
   "metadata": {
    "id": "urmTiMn2MKgV"
   },
   "execution_count": null,
   "outputs": []
  },
  {
   "cell_type": "markdown",
   "source": [
    "## Dataset Splitting\n",
    "Partition the dataset into training and testing sets with an 80:20 ratio."
   ],
   "metadata": {
    "id": "tls69_PrbJKW"
   }
  },
  {
   "cell_type": "code",
   "source": [
    "# Write your code here. Add as many boxes as you need."
   ],
   "metadata": {
    "id": "PjGGGMxebeoB"
   },
   "execution_count": null,
   "outputs": []
  },
  {
   "cell_type": "markdown",
   "source": [
    "## Feature Scaling\n",
    "Standardize the features appropriately."
   ],
   "metadata": {
    "id": "qhiEJI_xJ0Bt"
   }
  },
  {
   "cell_type": "code",
   "source": [
    "# Write your code here. Add as many boxes as you need."
   ],
   "metadata": {
    "id": "nwQFchgSKK8p"
   },
   "execution_count": null,
   "outputs": []
  },
  {
   "cell_type": "markdown",
   "source": [
    "## Model Selection"
   ],
   "metadata": {
    "id": "VIkAR1Hibiwr"
   }
  },
  {
   "cell_type": "markdown",
   "source": [
    "Choose and train an approriate model for the given task."
   ],
   "metadata": {
    "id": "qWn1pafKbnxH"
   }
  },
  {
   "cell_type": "code",
   "source": [
    "# Write your code here. Add as many boxes as you need."
   ],
   "metadata": {
    "id": "IXFIrQthbnkb"
   },
   "execution_count": null,
   "outputs": []
  },
  {
   "cell_type": "markdown",
   "source": [
    "Use the trained model to make predictions for the test set."
   ],
   "metadata": {
    "id": "gyXZwAVab8Cp"
   }
  },
  {
   "cell_type": "code",
   "source": [
    "# Write your code here. Add as many boxes as you need."
   ],
   "metadata": {
    "id": "EvMfVum6b_9b"
   },
   "execution_count": null,
   "outputs": []
  },
  {
   "cell_type": "markdown",
   "source": [
    "Assess the performance of the model by using different classification metrics."
   ],
   "metadata": {
    "id": "3VxAvDPtcNCh"
   }
  },
  {
   "cell_type": "code",
   "source": [
    "# Write your code here. Add as many boxes as you need."
   ],
   "metadata": {
    "id": "V4axpktycQhp"
   },
   "execution_count": null,
   "outputs": []
  },
  {
   "cell_type": "markdown",
   "source": [
    "# Laboratory Exercise - Bonus Task (+ 2 points)"
   ],
   "metadata": {
    "id": "RwnD_qSpIeXG"
   }
  },
  {
   "cell_type": "markdown",
   "source": [
    "As part of the bonus task in this laboratory assignment, your objective is to fine-tune at least one hyper-parameter using a cross-validation with grid search. This involves systematically experimenting with various values for the hyper-parameter(s) and evaluating the model's performance using cross-validation. Upon determining the most suitable value(s) for the hyper-parameter(s), evaluate the model's performance on a test set for final assessment.\n",
    "\n",
    "Hint: Use the `GridCVSearch` from the `scikit-learn` library. Check the documentation at https://scikit-learn.org/stable/modules/generated/sklearn.model_selection.GridSearchCV.html."
   ],
   "metadata": {
    "id": "lSTuVpyYd2is"
   }
  },
  {
   "cell_type": "markdown",
   "source": [
    "## Dataset Splitting\n",
    "Partition the dataset into training and testing sets with an 90:10 ratio."
   ],
   "metadata": {
    "id": "yZriA4d4eWLJ"
   }
  },
  {
   "cell_type": "code",
   "source": [
    "# Write your code here. Add as many boxes as you need."
   ],
   "metadata": {
    "id": "ile-T3vmIfsm"
   },
   "execution_count": null,
   "outputs": []
  },
  {
   "cell_type": "markdown",
   "source": [
    "## Feature Scaling\n",
    "Standardize the features appropriately."
   ],
   "metadata": {
    "id": "pq6fQdFSVmXM"
   }
  },
  {
   "cell_type": "code",
   "source": [
    "# Write your code here. Add as many boxes as you need."
   ],
   "metadata": {
    "id": "BfTeMwTpVm-H"
   },
   "execution_count": null,
   "outputs": []
  },
  {
   "cell_type": "markdown",
   "source": [
    "## Fine-tuning the Hyperparameters\n",
    "Experiment with various values for the chosen hyperparameter(s) and evaluate the model's performance using cross-validation."
   ],
   "metadata": {
    "id": "E9myidoNgjmy"
   }
  },
  {
   "cell_type": "code",
   "source": [
    "# Write your code here. Add as many boxes as you need."
   ],
   "metadata": {
    "id": "Vb5WJwEggm1f"
   },
   "execution_count": null,
   "outputs": []
  },
  {
   "cell_type": "markdown",
   "source": [
    "## Final Assessment of the Model Performance\n",
    "Upon determining the most suitable hyperparameter(s), evaluate the model's performance on a test set for final assessment."
   ],
   "metadata": {
    "id": "OzxTQJABiWAp"
   }
  },
  {
   "cell_type": "code",
   "source": [
    "# Write your code here. Add as many boxes as you need."
   ],
   "metadata": {
    "id": "oK__muPhicCr"
   },
   "execution_count": null,
   "outputs": []
  }
 ]
}
