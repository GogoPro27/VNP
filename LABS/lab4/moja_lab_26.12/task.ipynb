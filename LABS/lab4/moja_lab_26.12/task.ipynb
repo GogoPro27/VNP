{
 "nbformat": 4,
 "nbformat_minor": 0,
 "metadata": {
  "colab": {
   "provenance": [],
   "gpuType": "T4"
  },
  "kernelspec": {
   "name": "python3",
   "display_name": "Python 3 (ipykernel)",
   "language": "python"
  },
  "language_info": {
   "name": "python"
  },
  "accelerator": "GPU"
 },
 "cells": [
  {
   "cell_type": "markdown",
   "source": [
    "# Requirements"
   ],
   "metadata": {
    "id": "rODb9vHvIEbp"
   }
  },
  {
   "cell_type": "code",
   "source": [
    "# Add as many imports as you need."
   ],
   "metadata": {
    "id": "U4KmHBd2cdx9",
    "ExecuteTime": {
     "end_time": "2024-12-26T14:11:58.105360Z",
     "start_time": "2024-12-26T14:11:58.102722Z"
    }
   },
   "outputs": [],
   "execution_count": 274
  },
  {
   "cell_type": "markdown",
   "source": [
    "# Laboratory Exercise - Run Mode (8 points)"
   ],
   "metadata": {
    "id": "KNMMoUiUIW3L"
   }
  },
  {
   "cell_type": "markdown",
   "source": [
    "## Introduction\n",
    "This laboratory assignment's primary objective is to fine-tune a pre-trained language model for binary classification on a dataset consisting of Spotify user reviews. The dataset contains two attributes:\n",
    "\n",
    "+ **review** - A text column containing user feedback, opinions, and experiences with the Spotify application.\n",
    "+ **sentiment** - A categorical column indicating whether the review has a positive or negative sentiment.\n",
    "\n",
    "Your task involves training a model to predict the **sentiment** (either \"positive\" or \"negative\") based on the content of the **review**."
   ],
   "metadata": {
    "id": "_rAh_91OIjeS"
   }
  },
  {
   "cell_type": "markdown",
   "source": [
    "## The Spotify User Reviews Dataset"
   ],
   "metadata": {
    "id": "zBYI-EypaWom"
   }
  },
  {
   "cell_type": "markdown",
   "source": [
    "Load the dataset using the `datasets` library."
   ],
   "metadata": {
    "id": "DCm1qm1mZwMr"
   }
  },
  {
   "cell_type": "code",
   "source": [
    "# Write your code here. Add as many boxes as you need.\n",
    "import numpy as np\n",
    "import pandas as pd\n",
    "\n",
    "from datasets import Dataset, load_dataset\n",
    "\n",
    "from transformers import DistilBertForSequenceClassification\n",
    "from transformers import DistilBertTokenizer\n",
    "from transformers import Trainer, TrainingArguments\n",
    "from transformers import DataCollatorWithPadding\n",
    "\n",
    "from imblearn.under_sampling import RandomUnderSampler\n",
    "from imblearn.pipeline import make_pipeline\n",
    "from sklearn.feature_extraction.text import TfidfVectorizer\n",
    "from sklearn.naive_bayes import MultinomialNB\n",
    "\n",
    "\n",
    "import evaluate\n",
    "from sklearn.metrics import accuracy_score, f1_score, precision_score, recall_score, classification_report"
   ],
   "metadata": {
    "id": "KMOn4fgcZn8s",
    "ExecuteTime": {
     "end_time": "2024-12-26T14:11:58.119811Z",
     "start_time": "2024-12-26T14:11:58.116646Z"
    }
   },
   "outputs": [],
   "execution_count": 275
  },
  {
   "metadata": {
    "ExecuteTime": {
     "end_time": "2024-12-26T14:11:58.218137Z",
     "start_time": "2024-12-26T14:11:58.216647Z"
    }
   },
   "cell_type": "code",
   "source": [
    "# from datasets import load_dataset\n",
    "# \n",
    "# dataset = load_dataset(\"csv\", data_files=\"/Users/gorazdfilipovski/PycharmProjects/VNP/LABS/lab4/moja_lab_26.12/spotify-user-reviews.csv\")\n",
    "# dataset"
   ],
   "outputs": [],
   "execution_count": 276
  },
  {
   "metadata": {
    "ExecuteTime": {
     "end_time": "2024-12-26T14:11:58.271241Z",
     "start_time": "2024-12-26T14:11:58.254239Z"
    }
   },
   "cell_type": "code",
   "source": [
    "df = pd.read_csv(\"./spotify-user-reviews.csv\")\n",
    "df"
   ],
   "outputs": [
    {
     "data": {
      "text/plain": [
       "                                                 review     label\n",
       "0                            A huge collection of music  positive\n",
       "1     Downloaded music still can't be played offline...  negative\n",
       "2     This app is the best music app I have ever see...  positive\n",
       "3     Works great just with the car's Bluetooth, but...  negative\n",
       "4                                 Best music app so far  positive\n",
       "...                                                 ...       ...\n",
       "9995   All of a sudden the app will not work on my S22+  negative\n",
       "9996  THE BEST MUSIC APP EVER! I WOULD GIVE IT INFIN...  positive\n",
       "9997  I used to love this app..even though it had so...  negative\n",
       "9998  Great app. Wish I could add multiple tracks fr...  negative\n",
       "9999  This app used to be amazing, but lately, it ke...  negative\n",
       "\n",
       "[10000 rows x 2 columns]"
      ],
      "text/html": [
       "<div>\n",
       "<style scoped>\n",
       "    .dataframe tbody tr th:only-of-type {\n",
       "        vertical-align: middle;\n",
       "    }\n",
       "\n",
       "    .dataframe tbody tr th {\n",
       "        vertical-align: top;\n",
       "    }\n",
       "\n",
       "    .dataframe thead th {\n",
       "        text-align: right;\n",
       "    }\n",
       "</style>\n",
       "<table border=\"1\" class=\"dataframe\">\n",
       "  <thead>\n",
       "    <tr style=\"text-align: right;\">\n",
       "      <th></th>\n",
       "      <th>review</th>\n",
       "      <th>label</th>\n",
       "    </tr>\n",
       "  </thead>\n",
       "  <tbody>\n",
       "    <tr>\n",
       "      <th>0</th>\n",
       "      <td>A huge collection of music</td>\n",
       "      <td>positive</td>\n",
       "    </tr>\n",
       "    <tr>\n",
       "      <th>1</th>\n",
       "      <td>Downloaded music still can't be played offline...</td>\n",
       "      <td>negative</td>\n",
       "    </tr>\n",
       "    <tr>\n",
       "      <th>2</th>\n",
       "      <td>This app is the best music app I have ever see...</td>\n",
       "      <td>positive</td>\n",
       "    </tr>\n",
       "    <tr>\n",
       "      <th>3</th>\n",
       "      <td>Works great just with the car's Bluetooth, but...</td>\n",
       "      <td>negative</td>\n",
       "    </tr>\n",
       "    <tr>\n",
       "      <th>4</th>\n",
       "      <td>Best music app so far</td>\n",
       "      <td>positive</td>\n",
       "    </tr>\n",
       "    <tr>\n",
       "      <th>...</th>\n",
       "      <td>...</td>\n",
       "      <td>...</td>\n",
       "    </tr>\n",
       "    <tr>\n",
       "      <th>9995</th>\n",
       "      <td>All of a sudden the app will not work on my S22+</td>\n",
       "      <td>negative</td>\n",
       "    </tr>\n",
       "    <tr>\n",
       "      <th>9996</th>\n",
       "      <td>THE BEST MUSIC APP EVER! I WOULD GIVE IT INFIN...</td>\n",
       "      <td>positive</td>\n",
       "    </tr>\n",
       "    <tr>\n",
       "      <th>9997</th>\n",
       "      <td>I used to love this app..even though it had so...</td>\n",
       "      <td>negative</td>\n",
       "    </tr>\n",
       "    <tr>\n",
       "      <th>9998</th>\n",
       "      <td>Great app. Wish I could add multiple tracks fr...</td>\n",
       "      <td>negative</td>\n",
       "    </tr>\n",
       "    <tr>\n",
       "      <th>9999</th>\n",
       "      <td>This app used to be amazing, but lately, it ke...</td>\n",
       "      <td>negative</td>\n",
       "    </tr>\n",
       "  </tbody>\n",
       "</table>\n",
       "<p>10000 rows × 2 columns</p>\n",
       "</div>"
      ]
     },
     "execution_count": 277,
     "metadata": {},
     "output_type": "execute_result"
    }
   ],
   "execution_count": 277
  },
  {
   "metadata": {
    "ExecuteTime": {
     "end_time": "2024-12-26T14:11:58.321296Z",
     "start_time": "2024-12-26T14:11:58.319977Z"
    }
   },
   "cell_type": "code",
   "source": "",
   "outputs": [],
   "execution_count": null
  },
  {
   "metadata": {
    "ExecuteTime": {
     "end_time": "2024-12-26T14:11:58.333002Z",
     "start_time": "2024-12-26T14:11:58.329428Z"
    }
   },
   "cell_type": "code",
   "source": [
    "from sklearn.preprocessing import LabelEncoder\n",
    "\n",
    "le = LabelEncoder()\n",
    "df[\"label\"] = le.fit_transform(df[\"label\"])"
   ],
   "outputs": [],
   "execution_count": 278
  },
  {
   "metadata": {
    "ExecuteTime": {
     "end_time": "2024-12-26T14:11:58.353736Z",
     "start_time": "2024-12-26T14:11:58.349640Z"
    }
   },
   "cell_type": "code",
   "source": "df[\"label\"]",
   "outputs": [
    {
     "data": {
      "text/plain": [
       "0       1\n",
       "1       0\n",
       "2       1\n",
       "3       0\n",
       "4       1\n",
       "       ..\n",
       "9995    0\n",
       "9996    1\n",
       "9997    0\n",
       "9998    0\n",
       "9999    0\n",
       "Name: label, Length: 10000, dtype: int64"
      ]
     },
     "execution_count": 279,
     "metadata": {},
     "output_type": "execute_result"
    }
   ],
   "execution_count": 279
  },
  {
   "metadata": {
    "ExecuteTime": {
     "end_time": "2024-12-26T14:11:58.394023Z",
     "start_time": "2024-12-26T14:11:58.388677Z"
    }
   },
   "cell_type": "code",
   "source": [
    "from datasets import Dataset\n",
    "import pandas as pd\n",
    "dataset = Dataset.from_pandas(df[:500])\n",
    "\n",
    "# To verify\n",
    "print(dataset)"
   ],
   "outputs": [
    {
     "name": "stdout",
     "output_type": "stream",
     "text": [
      "Dataset({\n",
      "    features: ['review', 'label'],\n",
      "    num_rows: 500\n",
      "})\n"
     ]
    }
   ],
   "execution_count": 280
  },
  {
   "metadata": {
    "ExecuteTime": {
     "end_time": "2024-12-26T14:11:58.424114Z",
     "start_time": "2024-12-26T14:11:58.422837Z"
    }
   },
   "cell_type": "code",
   "source": "",
   "outputs": [],
   "execution_count": null
  },
  {
   "cell_type": "markdown",
   "source": [
    "## Dataset Splitting\n",
    "Partition the dataset into training and testing sets with an 80:20 ratio.\n"
   ],
   "metadata": {
    "id": "tls69_PrbJKW"
   }
  },
  {
   "cell_type": "code",
   "source": [
    "# Write your code here. Add as many boxes as you need.\n",
    "dataset = dataset.train_test_split(test_size=0.2)\n",
    "dataset"
   ],
   "metadata": {
    "id": "PjGGGMxebeoB",
    "ExecuteTime": {
     "end_time": "2024-12-26T14:11:58.437670Z",
     "start_time": "2024-12-26T14:11:58.433Z"
    }
   },
   "outputs": [
    {
     "data": {
      "text/plain": [
       "DatasetDict({\n",
       "    train: Dataset({\n",
       "        features: ['review', 'label'],\n",
       "        num_rows: 400\n",
       "    })\n",
       "    test: Dataset({\n",
       "        features: ['review', 'label'],\n",
       "        num_rows: 100\n",
       "    })\n",
       "})"
      ]
     },
     "execution_count": 281,
     "metadata": {},
     "output_type": "execute_result"
    }
   ],
   "execution_count": 281
  },
  {
   "metadata": {
    "ExecuteTime": {
     "end_time": "2024-12-26T14:11:58.475458Z",
     "start_time": "2024-12-26T14:11:58.472895Z"
    }
   },
   "cell_type": "code",
   "source": "dataset[\"train\"].features",
   "outputs": [
    {
     "data": {
      "text/plain": [
       "{'review': Value(dtype='string', id=None),\n",
       " 'label': Value(dtype='int64', id=None)}"
      ]
     },
     "execution_count": 282,
     "metadata": {},
     "output_type": "execute_result"
    }
   ],
   "execution_count": 282
  },
  {
   "cell_type": "markdown",
   "source": [
    "## Tokenization\n",
    "Tokenize the texts using the `AutoTokenizer` class."
   ],
   "metadata": {
    "id": "NLnr8v_dWO1i"
   }
  },
  {
   "cell_type": "code",
   "source": [
    "# from transformers import AutoTokenizer, DataCollatorWithPadding\n",
    "# \n",
    "# checkpoint = \"bert-base-uncased\"\n",
    "# tokenizer = AutoTokenizer.from_pretrained(checkpoint)\n",
    "# tokenized_texts = tokenizer(dataset[\"train\"][\"review\"])"
   ],
   "metadata": {
    "id": "esakOh8iWYEN",
    "ExecuteTime": {
     "end_time": "2024-12-26T14:11:58.511233Z",
     "start_time": "2024-12-26T14:11:58.509806Z"
    }
   },
   "outputs": [],
   "execution_count": 283
  },
  {
   "metadata": {
    "ExecuteTime": {
     "end_time": "2024-12-26T14:11:58.546968Z",
     "start_time": "2024-12-26T14:11:58.545283Z"
    }
   },
   "cell_type": "code",
   "source": [
    "def tokenize(sample):\n",
    "    return tokenizer(sample[\"review\"], truncation=True, padding=True)"
   ],
   "outputs": [],
   "execution_count": 284
  },
  {
   "metadata": {
    "ExecuteTime": {
     "end_time": "2024-12-26T14:11:59.029051Z",
     "start_time": "2024-12-26T14:11:58.579672Z"
    }
   },
   "cell_type": "code",
   "source": [
    "from transformers import AutoTokenizer\n",
    "\n",
    "tokenizer = AutoTokenizer.from_pretrained(\"bert-base-uncased\")\n",
    "tokenized_dataset = dataset.map(tokenize, batched=True)"
   ],
   "outputs": [
    {
     "data": {
      "text/plain": [
       "Map:   0%|          | 0/400 [00:00<?, ? examples/s]"
      ],
      "application/vnd.jupyter.widget-view+json": {
       "version_major": 2,
       "version_minor": 0,
       "model_id": "134ffc2059594d33b8f68af89baf92b0"
      }
     },
     "metadata": {},
     "output_type": "display_data"
    },
    {
     "data": {
      "text/plain": [
       "Map:   0%|          | 0/100 [00:00<?, ? examples/s]"
      ],
      "application/vnd.jupyter.widget-view+json": {
       "version_major": 2,
       "version_minor": 0,
       "model_id": "1bd23fb4334b40daa8ecdc563a60b91a"
      }
     },
     "metadata": {},
     "output_type": "display_data"
    }
   ],
   "execution_count": 285
  },
  {
   "metadata": {
    "ExecuteTime": {
     "end_time": "2024-12-26T14:11:59.065524Z",
     "start_time": "2024-12-26T14:11:59.063172Z"
    }
   },
   "cell_type": "code",
   "source": "tokenized_dataset",
   "outputs": [
    {
     "data": {
      "text/plain": [
       "DatasetDict({\n",
       "    train: Dataset({\n",
       "        features: ['review', 'label', 'input_ids', 'token_type_ids', 'attention_mask'],\n",
       "        num_rows: 400\n",
       "    })\n",
       "    test: Dataset({\n",
       "        features: ['review', 'label', 'input_ids', 'token_type_ids', 'attention_mask'],\n",
       "        num_rows: 100\n",
       "    })\n",
       "})"
      ]
     },
     "execution_count": 286,
     "metadata": {},
     "output_type": "execute_result"
    }
   ],
   "execution_count": 286
  },
  {
   "cell_type": "markdown",
   "source": [
    "## Fine-tuning a Pre-trained Language Model for Classification\n",
    "Fine-tune a pre-trained language model for classification on the given dataset."
   ],
   "metadata": {
    "id": "VIkAR1Hibiwr"
   }
  },
  {
   "cell_type": "markdown",
   "source": [
    "Define the model using the `AutoModelForSequenceClassification` class."
   ],
   "metadata": {
    "id": "qWn1pafKbnxH"
   }
  },
  {
   "cell_type": "code",
   "source": [
    "# Write your code here. Add as many boxes as you need.\n",
    "from transformers import AutoModelForSequenceClassification\n",
    "\n",
    "model = AutoModelForSequenceClassification.from_pretrained(\"bert-base-uncased\", num_labels=2)"
   ],
   "metadata": {
    "id": "IXFIrQthbnkb",
    "ExecuteTime": {
     "end_time": "2024-12-26T14:11:59.336022Z",
     "start_time": "2024-12-26T14:11:59.098977Z"
    }
   },
   "outputs": [
    {
     "name": "stderr",
     "output_type": "stream",
     "text": [
      "Some weights of BertForSequenceClassification were not initialized from the model checkpoint at bert-base-uncased and are newly initialized: ['classifier.bias', 'classifier.weight']\n",
      "You should probably TRAIN this model on a down-stream task to be able to use it for predictions and inference.\n"
     ]
    }
   ],
   "execution_count": 287
  },
  {
   "cell_type": "markdown",
   "source": [
    "Define the traning parameters using the `TrainingArguments` class."
   ],
   "metadata": {
    "id": "IuQCSxZbYJOq"
   }
  },
  {
   "metadata": {
    "ExecuteTime": {
     "end_time": "2024-12-26T14:11:59.373601Z",
     "start_time": "2024-12-26T14:11:59.370557Z"
    }
   },
   "cell_type": "code",
   "source": [
    "from transformers import TrainingArguments\n",
    "\n",
    "training_args = TrainingArguments(\n",
    "    output_dir=\"trainer\",\n",
    "    eval_strategy=\"epoch\",\n",
    "    per_device_train_batch_size=8,  # batch size for training\n",
    "    per_device_eval_batch_size=8,  # batch size for evaluation\n",
    "    metric_for_best_model=\"f1\",\n",
    "    num_train_epochs=1\n",
    ")"
   ],
   "outputs": [],
   "execution_count": 288
  },
  {
   "metadata": {
    "ExecuteTime": {
     "end_time": "2024-12-26T14:12:00.222509Z",
     "start_time": "2024-12-26T14:11:59.407447Z"
    }
   },
   "cell_type": "code",
   "source": [
    "import evaluate\n",
    "\n",
    "import evaluate\n",
    "import numpy as np\n",
    "\n",
    "metric = evaluate.load(\"f1\")\n",
    "\n",
    "def compute_metrics(eval_pred):\n",
    "    logits, labels = eval_pred\n",
    "    predictions = np.argmax(logits, axis=-1)\n",
    "    return metric.compute(predictions=predictions, references=labels, average=\"weighted\")"
   ],
   "outputs": [],
   "execution_count": 289
  },
  {
   "metadata": {
    "ExecuteTime": {
     "end_time": "2024-12-26T14:12:00.267307Z",
     "start_time": "2024-12-26T14:12:00.265546Z"
    }
   },
   "cell_type": "code",
   "source": "data_collator = DataCollatorWithPadding(tokenizer=tokenizer)\n",
   "outputs": [],
   "execution_count": 290
  },
  {
   "cell_type": "code",
   "source": "",
   "metadata": {
    "id": "p3sVs-L1YJHu",
    "ExecuteTime": {
     "end_time": "2024-12-26T14:12:00.309842Z",
     "start_time": "2024-12-26T14:12:00.308436Z"
    }
   },
   "outputs": [],
   "execution_count": null
  },
  {
   "cell_type": "markdown",
   "source": [
    "Define the training using the `Trainer` class."
   ],
   "metadata": {
    "id": "pVvRS4L1YKHp"
   }
  },
  {
   "cell_type": "code",
   "source": [
    "# Write your code here. Add as many boxes as you need.\n",
    "# Write your code here. Add as many boxes as you need.\n",
    "from transformers import Trainer\n",
    "\n",
    "trainer = Trainer(\n",
    "    model,\n",
    "    training_args,\n",
    "    train_dataset=tokenized_dataset[\"train\"],\n",
    "    eval_dataset=tokenized_dataset[\"test\"],\n",
    "    compute_metrics=compute_metrics,\n",
    "    data_collator=data_collator,\n",
    ")"
   ],
   "metadata": {
    "id": "O7cyG3PhYJ_M",
    "ExecuteTime": {
     "end_time": "2024-12-26T14:12:01.776971Z",
     "start_time": "2024-12-26T14:12:00.347787Z"
    }
   },
   "outputs": [],
   "execution_count": 291
  },
  {
   "cell_type": "markdown",
   "source": [
    "Fine-tune (train) the pre-trained lanugage model."
   ],
   "metadata": {
    "id": "qFZr21HxYkko"
   }
  },
  {
   "cell_type": "code",
   "source": [
    "# Write your code here. Add as many boxes as you need.\n",
    "import torch\n",
    "torch.cuda.is_available()"
   ],
   "metadata": {
    "id": "U9Dz0P11Ykeh",
    "ExecuteTime": {
     "end_time": "2024-12-26T14:12:01.820557Z",
     "start_time": "2024-12-26T14:12:01.818302Z"
    }
   },
   "outputs": [
    {
     "data": {
      "text/plain": [
       "False"
      ]
     },
     "execution_count": 292,
     "metadata": {},
     "output_type": "execute_result"
    }
   ],
   "execution_count": 292
  },
  {
   "metadata": {
    "ExecuteTime": {
     "end_time": "2024-12-26T14:12:01.859567Z",
     "start_time": "2024-12-26T14:12:01.857866Z"
    }
   },
   "cell_type": "code",
   "source": "device = \"cuda\" if torch.cuda.is_available() else \"cpu\"\n",
   "outputs": [],
   "execution_count": 293
  },
  {
   "metadata": {
    "ExecuteTime": {
     "end_time": "2024-12-26T14:12:01.990814Z",
     "start_time": "2024-12-26T14:12:01.899689Z"
    }
   },
   "cell_type": "code",
   "source": "model.to(device)",
   "outputs": [
    {
     "data": {
      "text/plain": [
       "BertForSequenceClassification(\n",
       "  (bert): BertModel(\n",
       "    (embeddings): BertEmbeddings(\n",
       "      (word_embeddings): Embedding(30522, 768, padding_idx=0)\n",
       "      (position_embeddings): Embedding(512, 768)\n",
       "      (token_type_embeddings): Embedding(2, 768)\n",
       "      (LayerNorm): LayerNorm((768,), eps=1e-12, elementwise_affine=True)\n",
       "      (dropout): Dropout(p=0.1, inplace=False)\n",
       "    )\n",
       "    (encoder): BertEncoder(\n",
       "      (layer): ModuleList(\n",
       "        (0-11): 12 x BertLayer(\n",
       "          (attention): BertAttention(\n",
       "            (self): BertSdpaSelfAttention(\n",
       "              (query): Linear(in_features=768, out_features=768, bias=True)\n",
       "              (key): Linear(in_features=768, out_features=768, bias=True)\n",
       "              (value): Linear(in_features=768, out_features=768, bias=True)\n",
       "              (dropout): Dropout(p=0.1, inplace=False)\n",
       "            )\n",
       "            (output): BertSelfOutput(\n",
       "              (dense): Linear(in_features=768, out_features=768, bias=True)\n",
       "              (LayerNorm): LayerNorm((768,), eps=1e-12, elementwise_affine=True)\n",
       "              (dropout): Dropout(p=0.1, inplace=False)\n",
       "            )\n",
       "          )\n",
       "          (intermediate): BertIntermediate(\n",
       "            (dense): Linear(in_features=768, out_features=3072, bias=True)\n",
       "            (intermediate_act_fn): GELUActivation()\n",
       "          )\n",
       "          (output): BertOutput(\n",
       "            (dense): Linear(in_features=3072, out_features=768, bias=True)\n",
       "            (LayerNorm): LayerNorm((768,), eps=1e-12, elementwise_affine=True)\n",
       "            (dropout): Dropout(p=0.1, inplace=False)\n",
       "          )\n",
       "        )\n",
       "      )\n",
       "    )\n",
       "    (pooler): BertPooler(\n",
       "      (dense): Linear(in_features=768, out_features=768, bias=True)\n",
       "      (activation): Tanh()\n",
       "    )\n",
       "  )\n",
       "  (dropout): Dropout(p=0.1, inplace=False)\n",
       "  (classifier): Linear(in_features=768, out_features=2, bias=True)\n",
       ")"
      ]
     },
     "execution_count": 294,
     "metadata": {},
     "output_type": "execute_result"
    }
   ],
   "execution_count": 294
  },
  {
   "cell_type": "markdown",
   "source": [
    "Use the trained model to make predictions for the test set."
   ],
   "metadata": {
    "id": "gyXZwAVab8Cp"
   }
  },
  {
   "cell_type": "code",
   "source": [
    "# Write your code here. Add as many boxes as you need.\n",
    "trainer.train()\n"
   ],
   "metadata": {
    "id": "EvMfVum6b_9b",
    "ExecuteTime": {
     "end_time": "2024-12-26T14:12:28.151953Z",
     "start_time": "2024-12-26T14:12:02.068702Z"
    }
   },
   "outputs": [
    {
     "data": {
      "text/plain": [
       "<IPython.core.display.HTML object>"
      ],
      "text/html": [
       "\n",
       "    <div>\n",
       "      \n",
       "      <progress value='50' max='50' style='width:300px; height:20px; vertical-align: middle;'></progress>\n",
       "      [50/50 00:24, Epoch 1/1]\n",
       "    </div>\n",
       "    <table border=\"1\" class=\"dataframe\">\n",
       "  <thead>\n",
       " <tr style=\"text-align: left;\">\n",
       "      <th>Epoch</th>\n",
       "      <th>Training Loss</th>\n",
       "      <th>Validation Loss</th>\n",
       "      <th>F1</th>\n",
       "    </tr>\n",
       "  </thead>\n",
       "  <tbody>\n",
       "    <tr>\n",
       "      <td>1</td>\n",
       "      <td>No log</td>\n",
       "      <td>0.342300</td>\n",
       "      <td>0.889835</td>\n",
       "    </tr>\n",
       "  </tbody>\n",
       "</table><p>"
      ]
     },
     "metadata": {},
     "output_type": "display_data"
    },
    {
     "data": {
      "text/plain": [
       "TrainOutput(global_step=50, training_loss=0.535837287902832, metrics={'train_runtime': 25.4948, 'train_samples_per_second': 15.689, 'train_steps_per_second': 1.961, 'total_flos': 42961102008000.0, 'train_loss': 0.535837287902832, 'epoch': 1.0})"
      ]
     },
     "execution_count": 295,
     "metadata": {},
     "output_type": "execute_result"
    }
   ],
   "execution_count": 295
  },
  {
   "cell_type": "markdown",
   "source": [
    "Assess the performance of the model by using different metrics provided by the `scikit-learn` library."
   ],
   "metadata": {
    "id": "3VxAvDPtcNCh"
   }
  },
  {
   "cell_type": "code",
   "source": [
    "# Write your code here. Add as many boxes as you need.\n",
    "predictions = trainer.predict(tokenized_dataset[\"test\"])\n"
   ],
   "metadata": {
    "id": "V4axpktycQhp",
    "ExecuteTime": {
     "end_time": "2024-12-26T14:12:29.131173Z",
     "start_time": "2024-12-26T14:12:28.229054Z"
    }
   },
   "outputs": [
    {
     "data": {
      "text/plain": [
       "<IPython.core.display.HTML object>"
      ],
      "text/html": []
     },
     "metadata": {},
     "output_type": "display_data"
    }
   ],
   "execution_count": 296
  },
  {
   "metadata": {
    "ExecuteTime": {
     "end_time": "2024-12-26T14:12:29.169972Z",
     "start_time": "2024-12-26T14:12:29.168317Z"
    }
   },
   "cell_type": "code",
   "source": [
    "logits, labels = predictions.predictions, predictions.label_ids\n",
    "preds = np.argmax(logits, axis=-1)"
   ],
   "outputs": [],
   "execution_count": 297
  },
  {
   "metadata": {
    "ExecuteTime": {
     "end_time": "2024-12-26T14:12:29.209054Z",
     "start_time": "2024-12-26T14:12:29.206913Z"
    }
   },
   "cell_type": "code",
   "source": "preds",
   "outputs": [
    {
     "data": {
      "text/plain": [
       "array([0, 1, 0, 1, 1, 1, 1, 0, 0, 1, 0, 1, 1, 0, 0, 1, 1, 1, 1, 0, 1, 1,\n",
       "       1, 0, 1, 1, 0, 1, 0, 0, 1, 0, 1, 1, 0, 0, 0, 0, 0, 0, 1, 0, 1, 0,\n",
       "       0, 0, 1, 0, 1, 0, 1, 0, 1, 0, 1, 0, 1, 0, 0, 1, 1, 0, 1, 1, 1, 0,\n",
       "       1, 0, 1, 0, 0, 1, 0, 0, 1, 1, 1, 1, 1, 1, 1, 1, 1, 1, 0, 0, 1, 1,\n",
       "       1, 0, 0, 0, 1, 0, 0, 0, 1, 1, 1, 0])"
      ]
     },
     "execution_count": 298,
     "metadata": {},
     "output_type": "execute_result"
    }
   ],
   "execution_count": 298
  },
  {
   "metadata": {
    "ExecuteTime": {
     "end_time": "2024-12-26T14:12:29.249741Z",
     "start_time": "2024-12-26T14:12:29.244838Z"
    }
   },
   "cell_type": "code",
   "source": "print(classification_report(labels, preds))\n",
   "outputs": [
    {
     "name": "stdout",
     "output_type": "stream",
     "text": [
      "              precision    recall  f1-score   support\n",
      "\n",
      "           0       0.93      0.84      0.89        51\n",
      "           1       0.85      0.94      0.89        49\n",
      "\n",
      "    accuracy                           0.89       100\n",
      "   macro avg       0.89      0.89      0.89       100\n",
      "weighted avg       0.89      0.89      0.89       100\n",
      "\n"
     ]
    }
   ],
   "execution_count": 299
  },
  {
   "metadata": {
    "ExecuteTime": {
     "end_time": "2024-12-26T14:12:29.357807Z",
     "start_time": "2024-12-26T14:12:29.286061Z"
    }
   },
   "cell_type": "code",
   "source": [
    "from sklearn.metrics import confusion_matrix\n",
    "import seaborn as sns\n",
    "import matplotlib.pyplot as plt\n",
    "\n",
    "sns.heatmap(confusion_matrix(labels, preds), annot=True, fmt=\"5.2f\", cmap=\"Blues\")\n",
    "plt.xlabel(\"Predicted Labels\")\n",
    "plt.ylabel(\"True Labels\")\n",
    "plt.title(\"Confusion Matrix\")"
   ],
   "outputs": [
    {
     "data": {
      "text/plain": [
       "Text(0.5, 1.0, 'Confusion Matrix')"
      ]
     },
     "execution_count": 300,
     "metadata": {},
     "output_type": "execute_result"
    },
    {
     "data": {
      "text/plain": [
       "<Figure size 640x480 with 2 Axes>"
      ],
      "image/png": "[encoded data removed]"
     },
     "metadata": {},
     "output_type": "display_data"
    }
   ],
   "execution_count": 300
  },
  {
   "metadata": {
    "ExecuteTime": {
     "end_time": "2024-12-26T14:12:29.396680Z",
     "start_time": "2024-12-26T14:12:29.395501Z"
    }
   },
   "cell_type": "code",
   "source": "",
   "outputs": [],
   "execution_count": null
  },
  {
   "cell_type": "markdown",
   "source": [
    "# Laboratory Exercise - Bonus Task (+ 2 points)"
   ],
   "metadata": {
    "id": "RwnD_qSpIeXG"
   }
  },
  {
   "cell_type": "markdown",
   "source": [
    "Implement a machine learning pipeline to classify Spotify user reviews as positive or negative. Use TF-IDF vectorization to transform the review text into numerical features, and train a logistic regression model on the transformed data. Split the dataset into training and testing sets, fit the pipeline on the training data, and evaluate its performance using metrics such as precision, recall, and F1-score. To gain insights into the most influential words or phrases associated with positive and negative reviews, analyze the coefficients from the logistic regression model trained on the TF-IDF features. Present the top keywords for each sentiment in a table or a bar chart to provide a clear understanding of the terms driving user feedback."
   ],
   "metadata": {
    "id": "At5xnEDq3A2h"
   }
  },
  {
   "cell_type": "code",
   "source": [
    "# Write your code here. Add as many boxes as you need."
   ],
   "metadata": {
    "id": "akxvW5SZ3DoV",
    "ExecuteTime": {
     "end_time": "2024-12-26T14:12:29.435361Z",
     "start_time": "2024-12-26T14:12:29.433769Z"
    }
   },
   "outputs": [],
   "execution_count": 301
  },
  {
   "metadata": {
    "ExecuteTime": {
     "end_time": "2024-12-26T14:12:29.486553Z",
     "start_time": "2024-12-26T14:12:29.471580Z"
    }
   },
   "cell_type": "code",
   "source": "data = pd.read_csv(\"./spotify-user-reviews.csv\")",
   "outputs": [],
   "execution_count": 302
  },
  {
   "metadata": {
    "ExecuteTime": {
     "end_time": "2024-12-26T14:12:29.526185Z",
     "start_time": "2024-12-26T14:12:29.522207Z"
    }
   },
   "cell_type": "code",
   "source": "data",
   "outputs": [
    {
     "data": {
      "text/plain": [
       "                                                 review     label\n",
       "0                            A huge collection of music  positive\n",
       "1     Downloaded music still can't be played offline...  negative\n",
       "2     This app is the best music app I have ever see...  positive\n",
       "3     Works great just with the car's Bluetooth, but...  negative\n",
       "4                                 Best music app so far  positive\n",
       "...                                                 ...       ...\n",
       "9995   All of a sudden the app will not work on my S22+  negative\n",
       "9996  THE BEST MUSIC APP EVER! I WOULD GIVE IT INFIN...  positive\n",
       "9997  I used to love this app..even though it had so...  negative\n",
       "9998  Great app. Wish I could add multiple tracks fr...  negative\n",
       "9999  This app used to be amazing, but lately, it ke...  negative\n",
       "\n",
       "[10000 rows x 2 columns]"
      ],
      "text/html": [
       "<div>\n",
       "<style scoped>\n",
       "    .dataframe tbody tr th:only-of-type {\n",
       "        vertical-align: middle;\n",
       "    }\n",
       "\n",
       "    .dataframe tbody tr th {\n",
       "        vertical-align: top;\n",
       "    }\n",
       "\n",
       "    .dataframe thead th {\n",
       "        text-align: right;\n",
       "    }\n",
       "</style>\n",
       "<table border=\"1\" class=\"dataframe\">\n",
       "  <thead>\n",
       "    <tr style=\"text-align: right;\">\n",
       "      <th></th>\n",
       "      <th>review</th>\n",
       "      <th>label</th>\n",
       "    </tr>\n",
       "  </thead>\n",
       "  <tbody>\n",
       "    <tr>\n",
       "      <th>0</th>\n",
       "      <td>A huge collection of music</td>\n",
       "      <td>positive</td>\n",
       "    </tr>\n",
       "    <tr>\n",
       "      <th>1</th>\n",
       "      <td>Downloaded music still can't be played offline...</td>\n",
       "      <td>negative</td>\n",
       "    </tr>\n",
       "    <tr>\n",
       "      <th>2</th>\n",
       "      <td>This app is the best music app I have ever see...</td>\n",
       "      <td>positive</td>\n",
       "    </tr>\n",
       "    <tr>\n",
       "      <th>3</th>\n",
       "      <td>Works great just with the car's Bluetooth, but...</td>\n",
       "      <td>negative</td>\n",
       "    </tr>\n",
       "    <tr>\n",
       "      <th>4</th>\n",
       "      <td>Best music app so far</td>\n",
       "      <td>positive</td>\n",
       "    </tr>\n",
       "    <tr>\n",
       "      <th>...</th>\n",
       "      <td>...</td>\n",
       "      <td>...</td>\n",
       "    </tr>\n",
       "    <tr>\n",
       "      <th>9995</th>\n",
       "      <td>All of a sudden the app will not work on my S22+</td>\n",
       "      <td>negative</td>\n",
       "    </tr>\n",
       "    <tr>\n",
       "      <th>9996</th>\n",
       "      <td>THE BEST MUSIC APP EVER! I WOULD GIVE IT INFIN...</td>\n",
       "      <td>positive</td>\n",
       "    </tr>\n",
       "    <tr>\n",
       "      <th>9997</th>\n",
       "      <td>I used to love this app..even though it had so...</td>\n",
       "      <td>negative</td>\n",
       "    </tr>\n",
       "    <tr>\n",
       "      <th>9998</th>\n",
       "      <td>Great app. Wish I could add multiple tracks fr...</td>\n",
       "      <td>negative</td>\n",
       "    </tr>\n",
       "    <tr>\n",
       "      <th>9999</th>\n",
       "      <td>This app used to be amazing, but lately, it ke...</td>\n",
       "      <td>negative</td>\n",
       "    </tr>\n",
       "  </tbody>\n",
       "</table>\n",
       "<p>10000 rows × 2 columns</p>\n",
       "</div>"
      ]
     },
     "execution_count": 303,
     "metadata": {},
     "output_type": "execute_result"
    }
   ],
   "execution_count": 303
  },
  {
   "metadata": {
    "ExecuteTime": {
     "end_time": "2024-12-26T14:12:29.581220Z",
     "start_time": "2024-12-26T14:12:29.578297Z"
    }
   },
   "cell_type": "code",
   "source": [
    "from sklearn.model_selection import train_test_split\n",
    "\n",
    "X_train, X_test, Y_train, Y_test = train_test_split(data['review'],  data['label'], test_size=0.2)"
   ],
   "outputs": [],
   "execution_count": 304
  },
  {
   "metadata": {
    "ExecuteTime": {
     "end_time": "2024-12-26T14:12:29.607786Z",
     "start_time": "2024-12-26T14:12:29.604175Z"
    }
   },
   "cell_type": "code",
   "source": "X_train",
   "outputs": [
    {
     "data": {
      "text/plain": [
       "9254    This app need to be fixed. It doesn't let me t...\n",
       "1561                                                 Good\n",
       "1670                        Super music player i enjoy it\n",
       "6087    I love music and I like that I can I mean love...\n",
       "6669    it is easy to get on this app. and alot of mus...\n",
       "                              ...                        \n",
       "5734    Its a good app because if you are sad mood thi...\n",
       "5191    Easy to make a playlist of your favorite artists.\n",
       "5390                     Very good and nice app for music\n",
       "860            Great selections and app is user friendly.\n",
       "7270    I really enjoy the company of spotify . Thank ...\n",
       "Name: review, Length: 8000, dtype: object"
      ]
     },
     "execution_count": 305,
     "metadata": {},
     "output_type": "execute_result"
    }
   ],
   "execution_count": 305
  },
  {
   "metadata": {
    "ExecuteTime": {
     "end_time": "2024-12-26T14:18:23.934906Z",
     "start_time": "2024-12-26T14:18:23.789351Z"
    }
   },
   "cell_type": "code",
   "source": [
    "from sklearn.naive_bayes import MultinomialNB\n",
    "from sklearn.pipeline import make_pipeline\n",
    "from sklearn.linear_model import LogisticRegression\n",
    "\n",
    "vectorizer  = TfidfVectorizer()\n",
    "classificator = LogisticRegression()\n",
    "\n",
    "model = make_pipeline(vectorizer, classificator)\n",
    "model.fit(X_train, Y_train)\n",
    "\n",
    "y_pred = model.predict(X_test)"
   ],
   "outputs": [],
   "execution_count": 308
  },
  {
   "metadata": {
    "ExecuteTime": {
     "end_time": "2024-12-26T14:18:24.123899Z",
     "start_time": "2024-12-26T14:18:24.097852Z"
    }
   },
   "cell_type": "code",
   "source": [
    "\n",
    "from imblearn.metrics import classification_report_imbalanced\n",
    "\n",
    "print(classification_report_imbalanced(Y_test, y_pred))"
   ],
   "outputs": [
    {
     "name": "stdout",
     "output_type": "stream",
     "text": [
      "                   pre       rec       spe        f1       geo       iba       sup\n",
      "\n",
      "   negative       0.85      0.88      0.85      0.87      0.86      0.75       990\n",
      "   positive       0.88      0.85      0.88      0.86      0.86      0.75      1010\n",
      "\n",
      "avg / total       0.87      0.86      0.87      0.86      0.86      0.75      2000\n",
      "\n"
     ]
    }
   ],
   "execution_count": 309
  },
  {
   "metadata": {
    "ExecuteTime": {
     "end_time": "2024-12-26T14:20:25.951181Z",
     "start_time": "2024-12-26T14:20:25.942430Z"
    }
   },
   "cell_type": "code",
   "source": [
    "pd.DataFrame({\n",
    "    \"terms\": vectorizer.get_feature_names_out(),\n",
    "    \"coeffs\": classificator.coef_[0],\n",
    "}).nsmallest(10, \"coeffs\")"
   ],
   "outputs": [
    {
     "data": {
      "text/plain": [
       "         terms    coeffs\n",
       "2779       fix -3.658682\n",
       "4776       not -3.528561\n",
       "553   annoying -3.064332\n",
       "351        ads -2.904663\n",
       "7499    update -2.887510\n",
       "7896     worst -2.856310\n",
       "7808       why -2.664985\n",
       "2165     doesn -2.550402\n",
       "1166       but -2.406378\n",
       "4898      only -2.313535"
      ],
      "text/html": [
       "<div>\n",
       "<style scoped>\n",
       "    .dataframe tbody tr th:only-of-type {\n",
       "        vertical-align: middle;\n",
       "    }\n",
       "\n",
       "    .dataframe tbody tr th {\n",
       "        vertical-align: top;\n",
       "    }\n",
       "\n",
       "    .dataframe thead th {\n",
       "        text-align: right;\n",
       "    }\n",
       "</style>\n",
       "<table border=\"1\" class=\"dataframe\">\n",
       "  <thead>\n",
       "    <tr style=\"text-align: right;\">\n",
       "      <th></th>\n",
       "      <th>terms</th>\n",
       "      <th>coeffs</th>\n",
       "    </tr>\n",
       "  </thead>\n",
       "  <tbody>\n",
       "    <tr>\n",
       "      <th>2779</th>\n",
       "      <td>fix</td>\n",
       "      <td>-3.658682</td>\n",
       "    </tr>\n",
       "    <tr>\n",
       "      <th>4776</th>\n",
       "      <td>not</td>\n",
       "      <td>-3.528561</td>\n",
       "    </tr>\n",
       "    <tr>\n",
       "      <th>553</th>\n",
       "      <td>annoying</td>\n",
       "      <td>-3.064332</td>\n",
       "    </tr>\n",
       "    <tr>\n",
       "      <th>351</th>\n",
       "      <td>ads</td>\n",
       "      <td>-2.904663</td>\n",
       "    </tr>\n",
       "    <tr>\n",
       "      <th>7499</th>\n",
       "      <td>update</td>\n",
       "      <td>-2.887510</td>\n",
       "    </tr>\n",
       "    <tr>\n",
       "      <th>7896</th>\n",
       "      <td>worst</td>\n",
       "      <td>-2.856310</td>\n",
       "    </tr>\n",
       "    <tr>\n",
       "      <th>7808</th>\n",
       "      <td>why</td>\n",
       "      <td>-2.664985</td>\n",
       "    </tr>\n",
       "    <tr>\n",
       "      <th>2165</th>\n",
       "      <td>doesn</td>\n",
       "      <td>-2.550402</td>\n",
       "    </tr>\n",
       "    <tr>\n",
       "      <th>1166</th>\n",
       "      <td>but</td>\n",
       "      <td>-2.406378</td>\n",
       "    </tr>\n",
       "    <tr>\n",
       "      <th>4898</th>\n",
       "      <td>only</td>\n",
       "      <td>-2.313535</td>\n",
       "    </tr>\n",
       "  </tbody>\n",
       "</table>\n",
       "</div>"
      ]
     },
     "execution_count": 316,
     "metadata": {},
     "output_type": "execute_result"
    }
   ],
   "execution_count": 316
  },
  {
   "metadata": {},
   "cell_type": "code",
   "outputs": [],
   "execution_count": null,
   "source": ""
  }
 ]
}
