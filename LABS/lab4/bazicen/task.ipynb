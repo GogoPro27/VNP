{
 "cells": [
  {
   "metadata": {},
   "cell_type": "markdown",
   "source": [
    "# Laboratory exercise 4\n",
    "\n",
    "## Warm-Up Mode (2 points)\n",
    "\n",
    "**Task Description**  \n",
    "Using the given dataset, develop and implement **3** different neural networks to predict the **air quality level**. Each network should differ in the following ways:  \n",
    "\n",
    "- **layer configurations** - use different numbers and types of layers;\n",
    "- **activation functions** - try different activation functions;\n",
    "- **neurons per layer** - experiment with different numbers of neurons in each layer; and\n",
    "- **number of layers** - build networks with varying depths.\n",
    "\n",
    "After developing the models, evaluate and compare the performance of all **3** approaches.\n",
    "\n",
    "**About the Dataset**  \n",
    "This dataset focuses on air quality assessment across various regions. The dataset contains 5,000 samples and captures critical environmental and demographic factors that influence pollution levels.\n",
    "\n",
    "**Features**:  \n",
    "- **Temperature (°C)**: Average temperature of the region.  \n",
    "- **Humidity (%)**: Relative humidity recorded in the region.  \n",
    "- **PM2.5 Concentration (µg/m³)**: Levels of fine particulate matter.  \n",
    "- **PM10 Concentration (µg/m³)**: Levels of coarse particulate matter.  \n",
    "- **NO2 Concentration (ppb)**: Nitrogen dioxide levels.  \n",
    "- **SO2 Concentration (ppb)**: Sulfur dioxide levels.  \n",
    "- **CO Concentration (ppm)**: Carbon monoxide levels.  \n",
    "- **Proximity to Industrial Areas (km)**: Distance to the nearest industrial zone.  \n",
    "- **Population Density (people/km²)**: Number of people per square kilometer in the region.  \n",
    "\n",
    "**Target Variable**: **Air Quality**  \n",
    "- **Good**: Clean air with low pollution levels.  \n",
    "- **Moderate**: Acceptable air quality but with some pollutants present.  \n",
    "- **Poor**: Noticeable pollution that may cause health issues for sensitive groups.  \n",
    "- **Hazardous**: Highly polluted air posing serious health risks to the population.  "
   ],
   "id": "89102a7ddfe851d9"
  },
  {
   "metadata": {
    "ExecuteTime": {
     "end_time": "2024-12-26T10:19:49.253393Z",
     "start_time": "2024-12-26T10:19:49.250720Z"
    }
   },
   "cell_type": "code",
   "source": [
    "\n",
    "import pandas as pd\n",
    "from sklearn.model_selection import train_test_split\n",
    "from sklearn.preprocessing import LabelEncoder, StandardScaler\n",
    "from tensorflow.keras.models import Sequential\n",
    "from tensorflow.keras.layers import Dense\n",
    "from tensorflow.keras.utils import to_categorical"
   ],
   "id": "6d68b0181a235c7a",
   "outputs": [],
   "execution_count": 166
  },
  {
   "metadata": {
    "ExecuteTime": {
     "end_time": "2024-12-26T10:19:49.269211Z",
     "start_time": "2024-12-26T10:19:49.263931Z"
    }
   },
   "cell_type": "code",
   "source": [
    "file_path = \"./pollution_dataset.csv\"  # Update the path if necessary\n",
    "df = pd.read_csv(file_path)"
   ],
   "id": "3acec64d008b63a1",
   "outputs": [],
   "execution_count": 167
  },
  {
   "metadata": {
    "ExecuteTime": {
     "end_time": "2024-12-26T10:19:49.282116Z",
     "start_time": "2024-12-26T10:19:49.279853Z"
    }
   },
   "cell_type": "code",
   "source": [
    "label_encoder = LabelEncoder()\n",
    "df['Air Quality'] = label_encoder.fit_transform(df['Air Quality'])"
   ],
   "id": "f05742f706e5ba15",
   "outputs": [],
   "execution_count": 168
  },
  {
   "metadata": {
    "ExecuteTime": {
     "end_time": "2024-12-26T10:19:49.293472Z",
     "start_time": "2024-12-26T10:19:49.291580Z"
    }
   },
   "cell_type": "code",
   "source": [
    "X = df.drop(columns=['Air Quality'])\n",
    "y = df['Air Quality']"
   ],
   "id": "800ad35627a506d7",
   "outputs": [],
   "execution_count": 169
  },
  {
   "metadata": {
    "ExecuteTime": {
     "end_time": "2024-12-26T10:19:49.304758Z",
     "start_time": "2024-12-26T10:19:49.301828Z"
    }
   },
   "cell_type": "code",
   "source": "train_X, test_X, train_y, test_y = train_test_split(X, y, test_size=0.2, random_state=42, stratify=y)\n",
   "id": "f53d0dbe220fc1ae",
   "outputs": [],
   "execution_count": 170
  },
  {
   "metadata": {
    "ExecuteTime": {
     "end_time": "2024-12-26T10:19:49.318374Z",
     "start_time": "2024-12-26T10:19:49.315229Z"
    }
   },
   "cell_type": "code",
   "source": [
    "scaler = StandardScaler()\n",
    "train_X = scaler.fit_transform(train_X)\n",
    "test_X = scaler.transform(test_X)"
   ],
   "id": "e90216f7dffb1d3a",
   "outputs": [],
   "execution_count": 171
  },
  {
   "metadata": {
    "ExecuteTime": {
     "end_time": "2024-12-26T10:19:49.328034Z",
     "start_time": "2024-12-26T10:19:49.326478Z"
    }
   },
   "cell_type": "code",
   "source": [
    "train_y = to_categorical(train_y)\n",
    "test_y = to_categorical(test_y)"
   ],
   "id": "a5ec4e2973391d2e",
   "outputs": [],
   "execution_count": 172
  },
  {
   "metadata": {
    "ExecuteTime": {
     "end_time": "2024-12-26T10:19:49.339321Z",
     "start_time": "2024-12-26T10:19:49.336808Z"
    }
   },
   "cell_type": "code",
   "source": "train_y",
   "id": "88cba122545d3bcf",
   "outputs": [
    {
     "data": {
      "text/plain": [
       "array([[1., 0., 0., 0.],\n",
       "       [1., 0., 0., 0.],\n",
       "       [1., 0., 0., 0.],\n",
       "       ...,\n",
       "       [0., 0., 0., 1.],\n",
       "       [0., 1., 0., 0.],\n",
       "       [1., 0., 0., 0.]], dtype=float32)"
      ]
     },
     "execution_count": 173,
     "metadata": {},
     "output_type": "execute_result"
    }
   ],
   "execution_count": 173
  },
  {
   "metadata": {
    "ExecuteTime": {
     "end_time": "2024-12-26T10:19:49.366348Z",
     "start_time": "2024-12-26T10:19:49.364895Z"
    }
   },
   "cell_type": "code",
   "source": "# train_y",
   "id": "8e567344acacdbc2",
   "outputs": [],
   "execution_count": 174
  },
  {
   "metadata": {},
   "cell_type": "markdown",
   "source": "## FIRST NN\n",
   "id": "d6f9fa79ecac8318"
  },
  {
   "metadata": {
    "ExecuteTime": {
     "end_time": "2024-12-26T10:19:49.402503Z",
     "start_time": "2024-12-26T10:19:49.390408Z"
    }
   },
   "cell_type": "code",
   "source": [
    "from keras import Input\n",
    "model = Sequential([\n",
    "    Input(shape=(train_X.shape[1],)),\n",
    "    Dense(32, kernel_initializer=\"uniform\", activation=\"relu\"),\n",
    "    Dense(16, kernel_initializer=\"uniform\", activation=\"relu\"),\n",
    "    Dense(16, kernel_initializer=\"uniform\", activation=\"relu\"),\n",
    "    Dense(train_y.shape[1], kernel_initializer=\"uniform\", activation=\"softmax\"),\n",
    "])"
   ],
   "id": "12a76fb9b3f508e2",
   "outputs": [],
   "execution_count": 175
  },
  {
   "metadata": {
    "ExecuteTime": {
     "end_time": "2024-12-26T10:19:49.410183Z",
     "start_time": "2024-12-26T10:19:49.406462Z"
    }
   },
   "cell_type": "code",
   "source": "model.compile(optimizer='adam', loss='categorical_crossentropy', metrics=['accuracy'])\n",
   "id": "a4d5286c9e5d4c93",
   "outputs": [],
   "execution_count": 176
  },
  {
   "metadata": {
    "ExecuteTime": {
     "end_time": "2024-12-26T10:19:51.735236Z",
     "start_time": "2024-12-26T10:19:49.419987Z"
    }
   },
   "cell_type": "code",
   "source": "history = model.fit(train_X, train_y, validation_split=0.2, epochs=32, batch_size=16)\n",
   "id": "71b200983bccfd67",
   "outputs": [
    {
     "name": "stdout",
     "output_type": "stream",
     "text": [
      "Epoch 1/32\n",
      "200/200 [==============================] - 0s 562us/step - loss: 0.9269 - accuracy: 0.6147 - val_loss: 0.4987 - val_accuracy: 0.8000\n",
      "Epoch 2/32\n",
      "200/200 [==============================] - 0s 343us/step - loss: 0.3451 - accuracy: 0.8741 - val_loss: 0.2474 - val_accuracy: 0.9187\n",
      "Epoch 3/32\n",
      "200/200 [==============================] - 0s 320us/step - loss: 0.2188 - accuracy: 0.9231 - val_loss: 0.1971 - val_accuracy: 0.9250\n",
      "Epoch 4/32\n",
      "200/200 [==============================] - 0s 318us/step - loss: 0.1848 - accuracy: 0.9322 - val_loss: 0.1690 - val_accuracy: 0.9362\n",
      "Epoch 5/32\n",
      "200/200 [==============================] - 0s 318us/step - loss: 0.1732 - accuracy: 0.9375 - val_loss: 0.1620 - val_accuracy: 0.9362\n",
      "Epoch 6/32\n",
      "200/200 [==============================] - 0s 319us/step - loss: 0.1655 - accuracy: 0.9366 - val_loss: 0.1455 - val_accuracy: 0.9400\n",
      "Epoch 7/32\n",
      "200/200 [==============================] - 0s 323us/step - loss: 0.1624 - accuracy: 0.9400 - val_loss: 0.1545 - val_accuracy: 0.9375\n",
      "Epoch 8/32\n",
      "200/200 [==============================] - 0s 318us/step - loss: 0.1587 - accuracy: 0.9372 - val_loss: 0.1412 - val_accuracy: 0.9400\n",
      "Epoch 9/32\n",
      "200/200 [==============================] - 0s 322us/step - loss: 0.1588 - accuracy: 0.9409 - val_loss: 0.1413 - val_accuracy: 0.9413\n",
      "Epoch 10/32\n",
      "200/200 [==============================] - 0s 318us/step - loss: 0.1545 - accuracy: 0.9413 - val_loss: 0.1416 - val_accuracy: 0.9413\n",
      "Epoch 11/32\n",
      "200/200 [==============================] - 0s 318us/step - loss: 0.1521 - accuracy: 0.9450 - val_loss: 0.1425 - val_accuracy: 0.9438\n",
      "Epoch 12/32\n",
      "200/200 [==============================] - 0s 316us/step - loss: 0.1511 - accuracy: 0.9431 - val_loss: 0.1373 - val_accuracy: 0.9438\n",
      "Epoch 13/32\n",
      "200/200 [==============================] - 0s 319us/step - loss: 0.1507 - accuracy: 0.9419 - val_loss: 0.1392 - val_accuracy: 0.9450\n",
      "Epoch 14/32\n",
      "200/200 [==============================] - 0s 318us/step - loss: 0.1516 - accuracy: 0.9450 - val_loss: 0.1382 - val_accuracy: 0.9413\n",
      "Epoch 15/32\n",
      "200/200 [==============================] - 0s 323us/step - loss: 0.1503 - accuracy: 0.9400 - val_loss: 0.1385 - val_accuracy: 0.9475\n",
      "Epoch 16/32\n",
      "200/200 [==============================] - 0s 315us/step - loss: 0.1452 - accuracy: 0.9441 - val_loss: 0.1353 - val_accuracy: 0.9425\n",
      "Epoch 17/32\n",
      "200/200 [==============================] - 0s 316us/step - loss: 0.1457 - accuracy: 0.9413 - val_loss: 0.1337 - val_accuracy: 0.9463\n",
      "Epoch 18/32\n",
      "200/200 [==============================] - 0s 318us/step - loss: 0.1474 - accuracy: 0.9425 - val_loss: 0.1391 - val_accuracy: 0.9513\n",
      "Epoch 19/32\n",
      "200/200 [==============================] - 0s 317us/step - loss: 0.1480 - accuracy: 0.9428 - val_loss: 0.1343 - val_accuracy: 0.9475\n",
      "Epoch 20/32\n",
      "200/200 [==============================] - 0s 318us/step - loss: 0.1452 - accuracy: 0.9447 - val_loss: 0.1318 - val_accuracy: 0.9438\n",
      "Epoch 21/32\n",
      "200/200 [==============================] - 0s 318us/step - loss: 0.1426 - accuracy: 0.9447 - val_loss: 0.1379 - val_accuracy: 0.9450\n",
      "Epoch 22/32\n",
      "200/200 [==============================] - 0s 317us/step - loss: 0.1426 - accuracy: 0.9447 - val_loss: 0.1426 - val_accuracy: 0.9400\n",
      "Epoch 23/32\n",
      "200/200 [==============================] - 0s 322us/step - loss: 0.1443 - accuracy: 0.9447 - val_loss: 0.1342 - val_accuracy: 0.9425\n",
      "Epoch 24/32\n",
      "200/200 [==============================] - 0s 314us/step - loss: 0.1411 - accuracy: 0.9444 - val_loss: 0.1381 - val_accuracy: 0.9425\n",
      "Epoch 25/32\n",
      "200/200 [==============================] - 0s 319us/step - loss: 0.1435 - accuracy: 0.9438 - val_loss: 0.1343 - val_accuracy: 0.9375\n",
      "Epoch 26/32\n",
      "200/200 [==============================] - 0s 317us/step - loss: 0.1407 - accuracy: 0.9466 - val_loss: 0.1337 - val_accuracy: 0.9425\n",
      "Epoch 27/32\n",
      "200/200 [==============================] - 0s 318us/step - loss: 0.1386 - accuracy: 0.9466 - val_loss: 0.1341 - val_accuracy: 0.9438\n",
      "Epoch 28/32\n",
      "200/200 [==============================] - 0s 318us/step - loss: 0.1414 - accuracy: 0.9447 - val_loss: 0.1312 - val_accuracy: 0.9375\n",
      "Epoch 29/32\n",
      "200/200 [==============================] - 0s 321us/step - loss: 0.1365 - accuracy: 0.9453 - val_loss: 0.1461 - val_accuracy: 0.9488\n",
      "Epoch 30/32\n",
      "200/200 [==============================] - 0s 320us/step - loss: 0.1389 - accuracy: 0.9453 - val_loss: 0.1323 - val_accuracy: 0.9450\n",
      "Epoch 31/32\n",
      "200/200 [==============================] - 0s 321us/step - loss: 0.1376 - accuracy: 0.9459 - val_loss: 0.1370 - val_accuracy: 0.9400\n",
      "Epoch 32/32\n",
      "200/200 [==============================] - 0s 321us/step - loss: 0.1376 - accuracy: 0.9475 - val_loss: 0.1302 - val_accuracy: 0.9463\n"
     ]
    }
   ],
   "execution_count": 177
  },
  {
   "metadata": {
    "ExecuteTime": {
     "end_time": "2024-12-26T10:19:51.820560Z",
     "start_time": "2024-12-26T10:19:51.744458Z"
    }
   },
   "cell_type": "code",
   "source": [
    "import seaborn as sns\n",
    "sns.lineplot(history.history['loss'], label='loss')\n",
    "sns.lineplot(history.history['val_loss'], label='val_loss')"
   ],
   "id": "735466426f046001",
   "outputs": [
    {
     "data": {
      "text/plain": [
       "<Axes: >"
      ]
     },
     "execution_count": 178,
     "metadata": {},
     "output_type": "execute_result"
    },
    {
     "data": {
      "text/plain": [
       "<Figure size 640x480 with 1 Axes>"
      ],
      "image/png": "[encoded data removed]"
     },
     "metadata": {},
     "output_type": "display_data"
    }
   ],
   "execution_count": 178
  },
  {
   "metadata": {
    "ExecuteTime": {
     "end_time": "2024-12-26T10:19:51.874359Z",
     "start_time": "2024-12-26T10:19:51.830634Z"
    }
   },
   "cell_type": "code",
   "source": "pred_y = model.predict(test_X)",
   "id": "d3f9a88f961dea0",
   "outputs": [
    {
     "name": "stdout",
     "output_type": "stream",
     "text": [
      "32/32 [==============================] - 0s 296us/step\n"
     ]
    }
   ],
   "execution_count": 179
  },
  {
   "metadata": {
    "ExecuteTime": {
     "end_time": "2024-12-26T10:19:51.887463Z",
     "start_time": "2024-12-26T10:19:51.884249Z"
    }
   },
   "cell_type": "code",
   "source": [
    "from sklearn.metrics import r2_score\n",
    "\n",
    "r2_score(test_y, pred_y)"
   ],
   "id": "1078a6ac2b4c5a4",
   "outputs": [
    {
     "data": {
      "text/plain": [
       "0.841964602470398"
      ]
     },
     "execution_count": 180,
     "metadata": {},
     "output_type": "execute_result"
    }
   ],
   "execution_count": 180
  },
  {
   "metadata": {
    "ExecuteTime": {
     "end_time": "2024-12-26T10:19:51.898418Z",
     "start_time": "2024-12-26T10:19:51.897243Z"
    }
   },
   "cell_type": "code",
   "source": "",
   "id": "782975437f6ed967",
   "outputs": [],
   "execution_count": null
  },
  {
   "metadata": {},
   "cell_type": "markdown",
   "source": "## SECOND NN",
   "id": "843d9280c5b0305b"
  },
  {
   "metadata": {
    "ExecuteTime": {
     "end_time": "2024-12-26T10:19:51.918336Z",
     "start_time": "2024-12-26T10:19:51.907760Z"
    }
   },
   "cell_type": "code",
   "source": [
    "model2 = Sequential([\n",
    "    Dense(64, activation='sigmoid', input_shape=(train_X.shape[1],)),  \n",
    "    Dense(32, activation='sigmoid'),  \n",
    "    Dense(train_y.shape[1], activation='softmax') \n",
    "])"
   ],
   "id": "334c7df8a46b6739",
   "outputs": [],
   "execution_count": 181
  },
  {
   "metadata": {
    "ExecuteTime": {
     "end_time": "2024-12-26T10:19:51.930921Z",
     "start_time": "2024-12-26T10:19:51.927033Z"
    }
   },
   "cell_type": "code",
   "source": "model2.compile(optimizer='adam', loss='categorical_crossentropy', metrics=['accuracy'])\n",
   "id": "d54f69d392f7b2ac",
   "outputs": [],
   "execution_count": 182
  },
  {
   "metadata": {
    "ExecuteTime": {
     "end_time": "2024-12-26T10:19:54.198182Z",
     "start_time": "2024-12-26T10:19:51.940996Z"
    }
   },
   "cell_type": "code",
   "source": "history2 = model2.fit(train_X, train_y, validation_split=0.2, epochs=32, batch_size=16, verbose=1)\n",
   "id": "8658568b20f705df",
   "outputs": [
    {
     "name": "stdout",
     "output_type": "stream",
     "text": [
      "Epoch 1/32\n",
      "200/200 [==============================] - 0s 514us/step - loss: 1.0726 - accuracy: 0.4641 - val_loss: 0.7345 - val_accuracy: 0.6775\n",
      "Epoch 2/32\n",
      "200/200 [==============================] - 0s 324us/step - loss: 0.5837 - accuracy: 0.8125 - val_loss: 0.4715 - val_accuracy: 0.8413\n",
      "Epoch 3/32\n",
      "200/200 [==============================] - 0s 315us/step - loss: 0.4078 - accuracy: 0.8494 - val_loss: 0.3494 - val_accuracy: 0.8587\n",
      "Epoch 4/32\n",
      "200/200 [==============================] - 0s 317us/step - loss: 0.3253 - accuracy: 0.8784 - val_loss: 0.2848 - val_accuracy: 0.9100\n",
      "Epoch 5/32\n",
      "200/200 [==============================] - 0s 317us/step - loss: 0.2764 - accuracy: 0.9191 - val_loss: 0.2435 - val_accuracy: 0.9375\n",
      "Epoch 6/32\n",
      "200/200 [==============================] - 0s 318us/step - loss: 0.2434 - accuracy: 0.9334 - val_loss: 0.2147 - val_accuracy: 0.9400\n",
      "Epoch 7/32\n",
      "200/200 [==============================] - 0s 315us/step - loss: 0.2201 - accuracy: 0.9362 - val_loss: 0.1953 - val_accuracy: 0.9400\n",
      "Epoch 8/32\n",
      "200/200 [==============================] - 0s 324us/step - loss: 0.2027 - accuracy: 0.9378 - val_loss: 0.1771 - val_accuracy: 0.9438\n",
      "Epoch 9/32\n",
      "200/200 [==============================] - 0s 317us/step - loss: 0.1903 - accuracy: 0.9394 - val_loss: 0.1670 - val_accuracy: 0.9450\n",
      "Epoch 10/32\n",
      "200/200 [==============================] - 0s 318us/step - loss: 0.1819 - accuracy: 0.9425 - val_loss: 0.1616 - val_accuracy: 0.9475\n",
      "Epoch 11/32\n",
      "200/200 [==============================] - 0s 315us/step - loss: 0.1773 - accuracy: 0.9403 - val_loss: 0.1571 - val_accuracy: 0.9413\n",
      "Epoch 12/32\n",
      "200/200 [==============================] - 0s 318us/step - loss: 0.1712 - accuracy: 0.9378 - val_loss: 0.1506 - val_accuracy: 0.9413\n",
      "Epoch 13/32\n",
      "200/200 [==============================] - 0s 315us/step - loss: 0.1675 - accuracy: 0.9409 - val_loss: 0.1546 - val_accuracy: 0.9413\n",
      "Epoch 14/32\n",
      "200/200 [==============================] - 0s 315us/step - loss: 0.1649 - accuracy: 0.9403 - val_loss: 0.1484 - val_accuracy: 0.9388\n",
      "Epoch 15/32\n",
      "200/200 [==============================] - 0s 313us/step - loss: 0.1645 - accuracy: 0.9391 - val_loss: 0.1445 - val_accuracy: 0.9475\n",
      "Epoch 16/32\n",
      "200/200 [==============================] - 0s 321us/step - loss: 0.1627 - accuracy: 0.9413 - val_loss: 0.1442 - val_accuracy: 0.9450\n",
      "Epoch 17/32\n",
      "200/200 [==============================] - 0s 315us/step - loss: 0.1594 - accuracy: 0.9428 - val_loss: 0.1457 - val_accuracy: 0.9413\n",
      "Epoch 18/32\n",
      "200/200 [==============================] - 0s 317us/step - loss: 0.1588 - accuracy: 0.9425 - val_loss: 0.1448 - val_accuracy: 0.9388\n",
      "Epoch 19/32\n",
      "200/200 [==============================] - 0s 314us/step - loss: 0.1575 - accuracy: 0.9388 - val_loss: 0.1448 - val_accuracy: 0.9425\n",
      "Epoch 20/32\n",
      "200/200 [==============================] - 0s 318us/step - loss: 0.1574 - accuracy: 0.9413 - val_loss: 0.1478 - val_accuracy: 0.9413\n",
      "Epoch 21/32\n",
      "200/200 [==============================] - 0s 314us/step - loss: 0.1557 - accuracy: 0.9425 - val_loss: 0.1397 - val_accuracy: 0.9475\n",
      "Epoch 22/32\n",
      "200/200 [==============================] - 0s 318us/step - loss: 0.1565 - accuracy: 0.9413 - val_loss: 0.1394 - val_accuracy: 0.9450\n",
      "Epoch 23/32\n",
      "200/200 [==============================] - 0s 315us/step - loss: 0.1532 - accuracy: 0.9456 - val_loss: 0.1455 - val_accuracy: 0.9450\n",
      "Epoch 24/32\n",
      "200/200 [==============================] - 0s 319us/step - loss: 0.1542 - accuracy: 0.9431 - val_loss: 0.1474 - val_accuracy: 0.9438\n",
      "Epoch 25/32\n",
      "200/200 [==============================] - 0s 316us/step - loss: 0.1533 - accuracy: 0.9425 - val_loss: 0.1386 - val_accuracy: 0.9450\n",
      "Epoch 26/32\n",
      "200/200 [==============================] - 0s 317us/step - loss: 0.1531 - accuracy: 0.9413 - val_loss: 0.1403 - val_accuracy: 0.9413\n",
      "Epoch 27/32\n",
      "200/200 [==============================] - 0s 314us/step - loss: 0.1526 - accuracy: 0.9419 - val_loss: 0.1396 - val_accuracy: 0.9438\n",
      "Epoch 28/32\n",
      "200/200 [==============================] - 0s 317us/step - loss: 0.1516 - accuracy: 0.9431 - val_loss: 0.1410 - val_accuracy: 0.9425\n",
      "Epoch 29/32\n",
      "200/200 [==============================] - 0s 316us/step - loss: 0.1525 - accuracy: 0.9438 - val_loss: 0.1390 - val_accuracy: 0.9425\n",
      "Epoch 30/32\n",
      "200/200 [==============================] - 0s 316us/step - loss: 0.1510 - accuracy: 0.9428 - val_loss: 0.1434 - val_accuracy: 0.9425\n",
      "Epoch 31/32\n",
      "200/200 [==============================] - 0s 319us/step - loss: 0.1511 - accuracy: 0.9425 - val_loss: 0.1396 - val_accuracy: 0.9450\n",
      "Epoch 32/32\n",
      "200/200 [==============================] - 0s 315us/step - loss: 0.1500 - accuracy: 0.9447 - val_loss: 0.1387 - val_accuracy: 0.9463\n"
     ]
    }
   ],
   "execution_count": 183
  },
  {
   "metadata": {
    "ExecuteTime": {
     "end_time": "2024-12-26T10:19:54.279380Z",
     "start_time": "2024-12-26T10:19:54.207658Z"
    }
   },
   "cell_type": "code",
   "source": [
    "sns.lineplot(history2.history['loss'], label='loss')\n",
    "sns.lineplot(history2.history['val_loss'], label='val_loss')"
   ],
   "id": "53954778692bef9c",
   "outputs": [
    {
     "data": {
      "text/plain": [
       "<Axes: >"
      ]
     },
     "execution_count": 184,
     "metadata": {},
     "output_type": "execute_result"
    },
    {
     "data": {
      "text/plain": [
       "<Figure size 640x480 with 1 Axes>"
      ],
      "image/png": "[encoded data removed]"
     },
     "metadata": {},
     "output_type": "display_data"
    }
   ],
   "execution_count": 184
  },
  {
   "metadata": {
    "ExecuteTime": {
     "end_time": "2024-12-26T10:19:54.329012Z",
     "start_time": "2024-12-26T10:19:54.289232Z"
    }
   },
   "cell_type": "code",
   "source": [
    "pred_y = model2.predict(test_X)\n",
    "r2_score(test_y, pred_y)"
   ],
   "id": "6fecd43c18b9e2cc",
   "outputs": [
    {
     "name": "stdout",
     "output_type": "stream",
     "text": [
      "32/32 [==============================] - 0s 271us/step\n"
     ]
    },
    {
     "data": {
      "text/plain": [
       "0.8331644535064697"
      ]
     },
     "execution_count": 185,
     "metadata": {},
     "output_type": "execute_result"
    }
   ],
   "execution_count": 185
  },
  {
   "metadata": {
    "ExecuteTime": {
     "end_time": "2024-12-26T10:19:54.340266Z",
     "start_time": "2024-12-26T10:19:54.338959Z"
    }
   },
   "cell_type": "code",
   "source": "",
   "id": "7804ca0c8c2dcd4c",
   "outputs": [],
   "execution_count": null
  },
  {
   "metadata": {},
   "cell_type": "markdown",
   "source": "## THIRD NN",
   "id": "c810874b2e5e4ee6"
  },
  {
   "metadata": {
    "ExecuteTime": {
     "end_time": "2024-12-26T10:19:54.364648Z",
     "start_time": "2024-12-26T10:19:54.350157Z"
    }
   },
   "cell_type": "code",
   "source": [
    "model3 = Sequential([\n",
    "    Dense(256, activation='tanh', input_shape=(train_X.shape[1],)),  \n",
    "    Dense(128, activation='tanh'),  \n",
    "    Dense(64, activation='tanh'), \n",
    "    Dense(32, activation='tanh'), \n",
    "    Dense(train_y.shape[1], activation='softmax')  \n",
    "])"
   ],
   "id": "f81aab7e4569c376",
   "outputs": [],
   "execution_count": 186
  },
  {
   "metadata": {
    "ExecuteTime": {
     "end_time": "2024-12-26T10:19:54.378285Z",
     "start_time": "2024-12-26T10:19:54.373835Z"
    }
   },
   "cell_type": "code",
   "source": "model3.compile(optimizer='adam', loss='categorical_crossentropy', metrics=['accuracy'])\n",
   "id": "3c15c1433d9037c7",
   "outputs": [],
   "execution_count": 187
  },
  {
   "metadata": {
    "ExecuteTime": {
     "end_time": "2024-12-26T10:19:57.978823Z",
     "start_time": "2024-12-26T10:19:54.388336Z"
    }
   },
   "cell_type": "code",
   "source": "history3 = model3.fit(train_X, train_y, validation_split=0.2, epochs=32, batch_size=16, verbose=1)",
   "id": "c08c600fd44e450e",
   "outputs": [
    {
     "name": "stdout",
     "output_type": "stream",
     "text": [
      "Epoch 1/32\n",
      "200/200 [==============================] - 0s 696us/step - loss: 0.3175 - accuracy: 0.8816 - val_loss: 0.1966 - val_accuracy: 0.9125\n",
      "Epoch 2/32\n",
      "200/200 [==============================] - 0s 505us/step - loss: 0.2088 - accuracy: 0.9209 - val_loss: 0.1983 - val_accuracy: 0.9250\n",
      "Epoch 3/32\n",
      "200/200 [==============================] - 0s 499us/step - loss: 0.1895 - accuracy: 0.9262 - val_loss: 0.1540 - val_accuracy: 0.9463\n",
      "Epoch 4/32\n",
      "200/200 [==============================] - 0s 503us/step - loss: 0.1812 - accuracy: 0.9297 - val_loss: 0.1576 - val_accuracy: 0.9362\n",
      "Epoch 5/32\n",
      "200/200 [==============================] - 0s 507us/step - loss: 0.1798 - accuracy: 0.9316 - val_loss: 0.1502 - val_accuracy: 0.9375\n",
      "Epoch 6/32\n",
      "200/200 [==============================] - 0s 507us/step - loss: 0.1736 - accuracy: 0.9300 - val_loss: 0.1463 - val_accuracy: 0.9438\n",
      "Epoch 7/32\n",
      "200/200 [==============================] - 0s 518us/step - loss: 0.1619 - accuracy: 0.9406 - val_loss: 0.1449 - val_accuracy: 0.9488\n",
      "Epoch 8/32\n",
      "200/200 [==============================] - 0s 536us/step - loss: 0.1535 - accuracy: 0.9444 - val_loss: 0.1493 - val_accuracy: 0.9438\n",
      "Epoch 9/32\n",
      "200/200 [==============================] - 0s 528us/step - loss: 0.1661 - accuracy: 0.9322 - val_loss: 0.2067 - val_accuracy: 0.9125\n",
      "Epoch 10/32\n",
      "200/200 [==============================] - 0s 525us/step - loss: 0.1477 - accuracy: 0.9416 - val_loss: 0.1481 - val_accuracy: 0.9488\n",
      "Epoch 11/32\n",
      "200/200 [==============================] - 0s 516us/step - loss: 0.1511 - accuracy: 0.9403 - val_loss: 0.1283 - val_accuracy: 0.9488\n",
      "Epoch 12/32\n",
      "200/200 [==============================] - 0s 516us/step - loss: 0.1451 - accuracy: 0.9450 - val_loss: 0.1257 - val_accuracy: 0.9488\n",
      "Epoch 13/32\n",
      "200/200 [==============================] - 0s 518us/step - loss: 0.1453 - accuracy: 0.9431 - val_loss: 0.1339 - val_accuracy: 0.9500\n",
      "Epoch 14/32\n",
      "200/200 [==============================] - 0s 514us/step - loss: 0.1370 - accuracy: 0.9459 - val_loss: 0.1427 - val_accuracy: 0.9463\n",
      "Epoch 15/32\n",
      "200/200 [==============================] - 0s 520us/step - loss: 0.1362 - accuracy: 0.9463 - val_loss: 0.2314 - val_accuracy: 0.8988\n",
      "Epoch 16/32\n",
      "200/200 [==============================] - 0s 515us/step - loss: 0.1354 - accuracy: 0.9488 - val_loss: 0.1423 - val_accuracy: 0.9413\n",
      "Epoch 17/32\n",
      "200/200 [==============================] - 0s 520us/step - loss: 0.1424 - accuracy: 0.9413 - val_loss: 0.1444 - val_accuracy: 0.9475\n",
      "Epoch 18/32\n",
      "200/200 [==============================] - 0s 529us/step - loss: 0.1220 - accuracy: 0.9519 - val_loss: 0.1439 - val_accuracy: 0.9400\n",
      "Epoch 19/32\n",
      "200/200 [==============================] - 0s 527us/step - loss: 0.1294 - accuracy: 0.9469 - val_loss: 0.1702 - val_accuracy: 0.9300\n",
      "Epoch 20/32\n",
      "200/200 [==============================] - 0s 515us/step - loss: 0.1241 - accuracy: 0.9491 - val_loss: 0.1467 - val_accuracy: 0.9388\n",
      "Epoch 21/32\n",
      "200/200 [==============================] - 0s 509us/step - loss: 0.1164 - accuracy: 0.9516 - val_loss: 0.1519 - val_accuracy: 0.9362\n",
      "Epoch 22/32\n",
      "200/200 [==============================] - 0s 509us/step - loss: 0.1143 - accuracy: 0.9556 - val_loss: 0.1373 - val_accuracy: 0.9425\n",
      "Epoch 23/32\n",
      "200/200 [==============================] - 0s 506us/step - loss: 0.1087 - accuracy: 0.9544 - val_loss: 0.1330 - val_accuracy: 0.9463\n",
      "Epoch 24/32\n",
      "200/200 [==============================] - 0s 511us/step - loss: 0.1133 - accuracy: 0.9509 - val_loss: 0.1400 - val_accuracy: 0.9413\n",
      "Epoch 25/32\n",
      "200/200 [==============================] - 0s 510us/step - loss: 0.1113 - accuracy: 0.9566 - val_loss: 0.1812 - val_accuracy: 0.9312\n",
      "Epoch 26/32\n",
      "200/200 [==============================] - 0s 518us/step - loss: 0.1102 - accuracy: 0.9528 - val_loss: 0.1303 - val_accuracy: 0.9475\n",
      "Epoch 27/32\n",
      "200/200 [==============================] - 0s 513us/step - loss: 0.0949 - accuracy: 0.9613 - val_loss: 0.1375 - val_accuracy: 0.9438\n",
      "Epoch 28/32\n",
      "200/200 [==============================] - 0s 517us/step - loss: 0.0975 - accuracy: 0.9603 - val_loss: 0.1410 - val_accuracy: 0.9438\n",
      "Epoch 29/32\n",
      "200/200 [==============================] - 0s 525us/step - loss: 0.0976 - accuracy: 0.9581 - val_loss: 0.1417 - val_accuracy: 0.9463\n",
      "Epoch 30/32\n",
      "200/200 [==============================] - 0s 521us/step - loss: 0.1001 - accuracy: 0.9591 - val_loss: 0.1421 - val_accuracy: 0.9525\n",
      "Epoch 31/32\n",
      "200/200 [==============================] - 0s 516us/step - loss: 0.0946 - accuracy: 0.9606 - val_loss: 0.1419 - val_accuracy: 0.9500\n",
      "Epoch 32/32\n",
      "200/200 [==============================] - 0s 508us/step - loss: 0.0932 - accuracy: 0.9628 - val_loss: 0.1888 - val_accuracy: 0.9337\n"
     ]
    }
   ],
   "execution_count": 188
  },
  {
   "metadata": {
    "ExecuteTime": {
     "end_time": "2024-12-26T10:19:58.061761Z",
     "start_time": "2024-12-26T10:19:57.988179Z"
    }
   },
   "cell_type": "code",
   "source": [
    "sns.lineplot(history3.history['loss'], label='loss')\n",
    "sns.lineplot(history3.history['val_loss'], label='val_loss')"
   ],
   "id": "50d1c37658f514ae",
   "outputs": [
    {
     "data": {
      "text/plain": [
       "<Axes: >"
      ]
     },
     "execution_count": 189,
     "metadata": {},
     "output_type": "execute_result"
    },
    {
     "data": {
      "text/plain": [
       "<Figure size 640x480 with 1 Axes>"
      ],
      "image/png": "[encoded data removed]"
     },
     "metadata": {},
     "output_type": "display_data"
    }
   ],
   "execution_count": 189
  },
  {
   "metadata": {
    "ExecuteTime": {
     "end_time": "2024-12-26T10:19:58.128013Z",
     "start_time": "2024-12-26T10:19:58.078364Z"
    }
   },
   "cell_type": "code",
   "source": [
    "pred_y = model3.predict(test_X)\n",
    "r2_score(test_y, pred_y)"
   ],
   "id": "1bc4cb0147168444",
   "outputs": [
    {
     "name": "stdout",
     "output_type": "stream",
     "text": [
      "32/32 [==============================] - 0s 343us/step\n"
     ]
    },
    {
     "data": {
      "text/plain": [
       "0.8009165525436401"
      ]
     },
     "execution_count": 190,
     "metadata": {},
     "output_type": "execute_result"
    }
   ],
   "execution_count": 190
  }
 ],
 "metadata": {
  "kernelspec": {
   "display_name": "Python 3",
   "language": "python",
   "name": "python3"
  },
  "language_info": {
   "codemirror_mode": {
    "name": "ipython",
    "version": 2
   },
   "file_extension": ".py",
   "mimetype": "text/x-python",
   "name": "python",
   "nbconvert_exporter": "python",
   "pygments_lexer": "ipython2",
   "version": "2.7.6"
  }
 },
 "nbformat": 4,
 "nbformat_minor": 5
}
