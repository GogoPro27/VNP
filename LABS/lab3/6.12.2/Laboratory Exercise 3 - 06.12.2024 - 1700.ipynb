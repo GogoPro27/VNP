{
 "cells": [
  {
   "cell_type": "markdown",
   "metadata": {},
   "source": [
    "---\n",
    "# Imports"
   ]
  },
  {
   "cell_type": "code",
   "metadata": {
    "ExecuteTime": {
     "end_time": "2024-12-09T21:47:13.392260Z",
     "start_time": "2024-12-09T21:47:13.390391Z"
    }
   },
   "source": [
    "# Write your code here. Add as many boxes as you need."
   ],
   "outputs": [],
   "execution_count": 87
  },
  {
   "cell_type": "markdown",
   "metadata": {},
   "source": [
    "---\n",
    "# Laboratory Exercise - Run Mode (8 points)"
   ]
  },
  {
   "cell_type": "markdown",
   "metadata": {},
   "source": [
    "## Introduction\n",
    "In this laboratory assignment, the focus is on time series forecasting, specifically targeting the prediction of **atmospheric data** in Skopje. Your task involves employing bagging and boosting methods to forecast the **required measurements**. To accomplish this you will be using Pulse Eco Skopje measurements from **1 sensor**, which consists of the following values:\n",
    "\n",
    "- Measurement Type (humidity, noise_dba, pm10, pm25, temperature)\n",
    "- Value (Measured value for the given type)\n",
    "- Stamp (A timestamp of the measurement)\n",
    "\n",
    "**Note: You are required to perform this laboratory assignment on your local machine.**"
   ]
  },
  {
   "cell_type": "markdown",
   "metadata": {},
   "source": [
    "\n",
    "# Read the data"
   ]
  },
  {
   "cell_type": "markdown",
   "metadata": {},
   "source": [
    "You are required to load the given data from the `pulse_eco_one_sensor_data.csv` file. Load the data into a `pandas dataframe` and display the first 5 rows of the dataframe."
   ]
  },
  {
   "cell_type": "code",
   "metadata": {
    "ExecuteTime": {
     "end_time": "2024-12-09T21:47:13.507604Z",
     "start_time": "2024-12-09T21:47:13.412130Z"
    }
   },
   "source": [
    "from unittest.mock import inplace\n",
    "\n",
    "# Write your code here. Add as many boxes as you need.\n",
    "import pandas as pd\n",
    "\n",
    "df = pd.read_csv(\"./pulse_eco_one_sensor_data.csv\")\n",
    "df.sample(5)\n"
   ],
   "outputs": [
    {
     "data": {
      "text/plain": [
       "               Type  Value                      Stamp\n",
       "205808         pm10     12  2024-03-29T11:22:42+01:00\n",
       "28570   temperature      8  2023-02-28T07:57:38+01:00\n",
       "75315     noise_dba     44  2023-06-16T06:52:30+02:00\n",
       "268060         pm25     16  2024-08-20T00:37:36+02:00\n",
       "168657  temperature      3  2024-01-01T02:49:44+01:00"
      ],
      "text/html": [
       "<div>\n",
       "<style scoped>\n",
       "    .dataframe tbody tr th:only-of-type {\n",
       "        vertical-align: middle;\n",
       "    }\n",
       "\n",
       "    .dataframe tbody tr th {\n",
       "        vertical-align: top;\n",
       "    }\n",
       "\n",
       "    .dataframe thead th {\n",
       "        text-align: right;\n",
       "    }\n",
       "</style>\n",
       "<table border=\"1\" class=\"dataframe\">\n",
       "  <thead>\n",
       "    <tr style=\"text-align: right;\">\n",
       "      <th></th>\n",
       "      <th>Type</th>\n",
       "      <th>Value</th>\n",
       "      <th>Stamp</th>\n",
       "    </tr>\n",
       "  </thead>\n",
       "  <tbody>\n",
       "    <tr>\n",
       "      <th>205808</th>\n",
       "      <td>pm10</td>\n",
       "      <td>12</td>\n",
       "      <td>2024-03-29T11:22:42+01:00</td>\n",
       "    </tr>\n",
       "    <tr>\n",
       "      <th>28570</th>\n",
       "      <td>temperature</td>\n",
       "      <td>8</td>\n",
       "      <td>2023-02-28T07:57:38+01:00</td>\n",
       "    </tr>\n",
       "    <tr>\n",
       "      <th>75315</th>\n",
       "      <td>noise_dba</td>\n",
       "      <td>44</td>\n",
       "      <td>2023-06-16T06:52:30+02:00</td>\n",
       "    </tr>\n",
       "    <tr>\n",
       "      <th>268060</th>\n",
       "      <td>pm25</td>\n",
       "      <td>16</td>\n",
       "      <td>2024-08-20T00:37:36+02:00</td>\n",
       "    </tr>\n",
       "    <tr>\n",
       "      <th>168657</th>\n",
       "      <td>temperature</td>\n",
       "      <td>3</td>\n",
       "      <td>2024-01-01T02:49:44+01:00</td>\n",
       "    </tr>\n",
       "  </tbody>\n",
       "</table>\n",
       "</div>"
      ]
     },
     "execution_count": 88,
     "metadata": {},
     "output_type": "execute_result"
    }
   ],
   "execution_count": 88
  },
  {
   "cell_type": "code",
   "metadata": {
    "ExecuteTime": {
     "end_time": "2024-12-09T21:47:13.540861Z",
     "start_time": "2024-12-09T21:47:13.530286Z"
    }
   },
   "source": [
    "# Write your code here. Add as many boxes as you need.\n",
    "df[\"Type\"].unique()"
   ],
   "outputs": [
    {
     "data": {
      "text/plain": [
       "array(['humidity', 'noise_dba', 'pm10', 'pm25', 'temperature'],\n",
       "      dtype=object)"
      ]
     },
     "execution_count": 89,
     "metadata": {},
     "output_type": "execute_result"
    }
   ],
   "execution_count": 89
  },
  {
   "cell_type": "markdown",
   "metadata": {},
   "source": [
    "---\n",
    "# Data Preprocessing"
   ]
  },
  {
   "cell_type": "markdown",
   "metadata": {},
   "source": [
    "## Group the 'Stamp' column into 15 minute intervals"
   ]
  },
  {
   "cell_type": "markdown",
   "metadata": {},
   "source": [
    "As the sensor produce data in infrequent intervals, we need to resample the data to 15 minute intervals. To do this you will need to:\n",
    "\n",
    "- Convert the 'timestamp' column to a datetime object (use `pd.to_datetime` function ([Documentation](https://pandas.pydata.org/docs/reference/api/pandas.to_datetime.html)), with the `utc` argument set to `True`) \n",
    "- Floor each timestamp to the nearest 15 minutes (use the `.dt.floor` method ([Documentation](https://pandas.pydata.org/docs/reference/api/pandas.Series.dt.floor.html)))\n",
    "\n",
    "\n",
    "Example of `.dt.floor` for 1h:\n",
    "- data['TimeStamp'] = data['TimeStamp'].dt.floor('1h') "
   ]
  },
  {
   "cell_type": "code",
   "metadata": {
    "ExecuteTime": {
     "end_time": "2024-12-09T21:47:14.230446Z",
     "start_time": "2024-12-09T21:47:13.593086Z"
    }
   },
   "source": [
    "# Write your code here. Add as many boxes as you need.\n",
    "df[\"Stamp\"] = pd.to_datetime(df[\"Stamp\"],utc=True)"
   ],
   "outputs": [],
   "execution_count": 90
  },
  {
   "metadata": {
    "ExecuteTime": {
     "end_time": "2024-12-09T21:47:14.248563Z",
     "start_time": "2024-12-09T21:47:14.240783Z"
    }
   },
   "cell_type": "code",
   "source": [
    "df[\"Stamp\"] = df[\"Stamp\"].dt.floor('15min')\n",
    "df[\"Stamp\"].sample(5)"
   ],
   "outputs": [
    {
     "data": {
      "text/plain": [
       "233481   2024-05-25 22:45:00+00:00\n",
       "16908    2023-02-06 08:30:00+00:00\n",
       "67865    2023-05-29 06:15:00+00:00\n",
       "10168    2023-01-27 11:45:00+00:00\n",
       "201620   2024-03-19 00:15:00+00:00\n",
       "Name: Stamp, dtype: datetime64[ns, UTC]"
      ]
     },
     "execution_count": 91,
     "metadata": {},
     "output_type": "execute_result"
    }
   ],
   "execution_count": 91
  },
  {
   "cell_type": "markdown",
   "metadata": {},
   "source": [
    "Check if the operation was successful by displaying the first 5 rows of the data frame."
   ]
  },
  {
   "cell_type": "code",
   "metadata": {
    "ExecuteTime": {
     "end_time": "2024-12-09T21:47:14.272098Z",
     "start_time": "2024-12-09T21:47:14.270714Z"
    }
   },
   "source": [
    "# Write your code here. Add as many boxes as you need."
   ],
   "outputs": [],
   "execution_count": 92
  },
  {
   "cell_type": "markdown",
   "metadata": {},
   "source": [
    "## Sensor data to Pivot Table"
   ]
  },
  {
   "cell_type": "markdown",
   "metadata": {},
   "source": [
    "To combine each measurement with the corresponding weather data, we will create a pivot table with the weather data and group the measurements by timestamp. Moreover, we will resample for each 15min, to add missing measurements.\n",
    "\n",
    "**DO NOT MODIFY THE FOLLOWING CELLS, except for changing the df name.**\n",
    "\n",
    "This operations will be given by the following code:"
   ]
  },
  {
   "cell_type": "code",
   "metadata": {
    "ExecuteTime": {
     "end_time": "2024-12-09T21:47:14.353194Z",
     "start_time": "2024-12-09T21:47:14.300996Z"
    }
   },
   "source": [
    "pivot = df.pivot_table(index='Stamp', columns='Type', values='Value', aggfunc='mean')\n",
    "pivot"
   ],
   "outputs": [
    {
     "data": {
      "text/plain": [
       "Type                       humidity  noise_dba   pm10   pm25  temperature\n",
       "Stamp                                                                    \n",
       "2023-01-01 00:00:00+00:00      87.0       45.0  473.0  156.0          5.0\n",
       "2023-01-01 00:15:00+00:00      87.0       44.0  333.0  120.0          5.0\n",
       "2023-01-01 00:30:00+00:00      87.0       46.0  328.0  108.0          5.0\n",
       "2023-01-01 00:45:00+00:00      87.0       44.0  415.0  125.0          5.0\n",
       "2023-01-01 01:00:00+00:00      87.0       44.0  341.0  110.0          5.0\n",
       "...                             ...        ...    ...    ...          ...\n",
       "2024-11-21 21:45:00+00:00      74.0       50.0  108.0   47.0          2.0\n",
       "2024-11-21 22:00:00+00:00      74.0       50.0   79.0   35.0          2.0\n",
       "2024-11-21 22:15:00+00:00      74.0       50.0   81.0   33.0          2.0\n",
       "2024-11-21 22:30:00+00:00      74.0       48.0   70.0   32.0          2.0\n",
       "2024-11-21 22:45:00+00:00      74.0       48.0   51.0   22.0          2.0\n",
       "\n",
       "[62528 rows x 5 columns]"
      ],
      "text/html": [
       "<div>\n",
       "<style scoped>\n",
       "    .dataframe tbody tr th:only-of-type {\n",
       "        vertical-align: middle;\n",
       "    }\n",
       "\n",
       "    .dataframe tbody tr th {\n",
       "        vertical-align: top;\n",
       "    }\n",
       "\n",
       "    .dataframe thead th {\n",
       "        text-align: right;\n",
       "    }\n",
       "</style>\n",
       "<table border=\"1\" class=\"dataframe\">\n",
       "  <thead>\n",
       "    <tr style=\"text-align: right;\">\n",
       "      <th>Type</th>\n",
       "      <th>humidity</th>\n",
       "      <th>noise_dba</th>\n",
       "      <th>pm10</th>\n",
       "      <th>pm25</th>\n",
       "      <th>temperature</th>\n",
       "    </tr>\n",
       "    <tr>\n",
       "      <th>Stamp</th>\n",
       "      <th></th>\n",
       "      <th></th>\n",
       "      <th></th>\n",
       "      <th></th>\n",
       "      <th></th>\n",
       "    </tr>\n",
       "  </thead>\n",
       "  <tbody>\n",
       "    <tr>\n",
       "      <th>2023-01-01 00:00:00+00:00</th>\n",
       "      <td>87.0</td>\n",
       "      <td>45.0</td>\n",
       "      <td>473.0</td>\n",
       "      <td>156.0</td>\n",
       "      <td>5.0</td>\n",
       "    </tr>\n",
       "    <tr>\n",
       "      <th>2023-01-01 00:15:00+00:00</th>\n",
       "      <td>87.0</td>\n",
       "      <td>44.0</td>\n",
       "      <td>333.0</td>\n",
       "      <td>120.0</td>\n",
       "      <td>5.0</td>\n",
       "    </tr>\n",
       "    <tr>\n",
       "      <th>2023-01-01 00:30:00+00:00</th>\n",
       "      <td>87.0</td>\n",
       "      <td>46.0</td>\n",
       "      <td>328.0</td>\n",
       "      <td>108.0</td>\n",
       "      <td>5.0</td>\n",
       "    </tr>\n",
       "    <tr>\n",
       "      <th>2023-01-01 00:45:00+00:00</th>\n",
       "      <td>87.0</td>\n",
       "      <td>44.0</td>\n",
       "      <td>415.0</td>\n",
       "      <td>125.0</td>\n",
       "      <td>5.0</td>\n",
       "    </tr>\n",
       "    <tr>\n",
       "      <th>2023-01-01 01:00:00+00:00</th>\n",
       "      <td>87.0</td>\n",
       "      <td>44.0</td>\n",
       "      <td>341.0</td>\n",
       "      <td>110.0</td>\n",
       "      <td>5.0</td>\n",
       "    </tr>\n",
       "    <tr>\n",
       "      <th>...</th>\n",
       "      <td>...</td>\n",
       "      <td>...</td>\n",
       "      <td>...</td>\n",
       "      <td>...</td>\n",
       "      <td>...</td>\n",
       "    </tr>\n",
       "    <tr>\n",
       "      <th>2024-11-21 21:45:00+00:00</th>\n",
       "      <td>74.0</td>\n",
       "      <td>50.0</td>\n",
       "      <td>108.0</td>\n",
       "      <td>47.0</td>\n",
       "      <td>2.0</td>\n",
       "    </tr>\n",
       "    <tr>\n",
       "      <th>2024-11-21 22:00:00+00:00</th>\n",
       "      <td>74.0</td>\n",
       "      <td>50.0</td>\n",
       "      <td>79.0</td>\n",
       "      <td>35.0</td>\n",
       "      <td>2.0</td>\n",
       "    </tr>\n",
       "    <tr>\n",
       "      <th>2024-11-21 22:15:00+00:00</th>\n",
       "      <td>74.0</td>\n",
       "      <td>50.0</td>\n",
       "      <td>81.0</td>\n",
       "      <td>33.0</td>\n",
       "      <td>2.0</td>\n",
       "    </tr>\n",
       "    <tr>\n",
       "      <th>2024-11-21 22:30:00+00:00</th>\n",
       "      <td>74.0</td>\n",
       "      <td>48.0</td>\n",
       "      <td>70.0</td>\n",
       "      <td>32.0</td>\n",
       "      <td>2.0</td>\n",
       "    </tr>\n",
       "    <tr>\n",
       "      <th>2024-11-21 22:45:00+00:00</th>\n",
       "      <td>74.0</td>\n",
       "      <td>48.0</td>\n",
       "      <td>51.0</td>\n",
       "      <td>22.0</td>\n",
       "      <td>2.0</td>\n",
       "    </tr>\n",
       "  </tbody>\n",
       "</table>\n",
       "<p>62528 rows × 5 columns</p>\n",
       "</div>"
      ]
     },
     "execution_count": 93,
     "metadata": {},
     "output_type": "execute_result"
    }
   ],
   "execution_count": 93
  },
  {
   "metadata": {
    "ExecuteTime": {
     "end_time": "2024-12-09T21:47:14.383006Z",
     "start_time": "2024-12-09T21:47:14.378158Z"
    }
   },
   "cell_type": "code",
   "source": "pivot = pivot.resample('15min').first()",
   "outputs": [],
   "execution_count": 94
  },
  {
   "cell_type": "code",
   "metadata": {
    "ExecuteTime": {
     "end_time": "2024-12-09T21:47:14.422532Z",
     "start_time": "2024-12-09T21:47:14.416063Z"
    }
   },
   "source": "pivot",
   "outputs": [
    {
     "data": {
      "text/plain": [
       "Type                       humidity  noise_dba   pm10   pm25  temperature\n",
       "Stamp                                                                    \n",
       "2023-01-01 00:00:00+00:00      87.0       45.0  473.0  156.0          5.0\n",
       "2023-01-01 00:15:00+00:00      87.0       44.0  333.0  120.0          5.0\n",
       "2023-01-01 00:30:00+00:00      87.0       46.0  328.0  108.0          5.0\n",
       "2023-01-01 00:45:00+00:00      87.0       44.0  415.0  125.0          5.0\n",
       "2023-01-01 01:00:00+00:00      87.0       44.0  341.0  110.0          5.0\n",
       "...                             ...        ...    ...    ...          ...\n",
       "2024-11-21 21:45:00+00:00      74.0       50.0  108.0   47.0          2.0\n",
       "2024-11-21 22:00:00+00:00      74.0       50.0   79.0   35.0          2.0\n",
       "2024-11-21 22:15:00+00:00      74.0       50.0   81.0   33.0          2.0\n",
       "2024-11-21 22:30:00+00:00      74.0       48.0   70.0   32.0          2.0\n",
       "2024-11-21 22:45:00+00:00      74.0       48.0   51.0   22.0          2.0\n",
       "\n",
       "[66332 rows x 5 columns]"
      ],
      "text/html": [
       "<div>\n",
       "<style scoped>\n",
       "    .dataframe tbody tr th:only-of-type {\n",
       "        vertical-align: middle;\n",
       "    }\n",
       "\n",
       "    .dataframe tbody tr th {\n",
       "        vertical-align: top;\n",
       "    }\n",
       "\n",
       "    .dataframe thead th {\n",
       "        text-align: right;\n",
       "    }\n",
       "</style>\n",
       "<table border=\"1\" class=\"dataframe\">\n",
       "  <thead>\n",
       "    <tr style=\"text-align: right;\">\n",
       "      <th>Type</th>\n",
       "      <th>humidity</th>\n",
       "      <th>noise_dba</th>\n",
       "      <th>pm10</th>\n",
       "      <th>pm25</th>\n",
       "      <th>temperature</th>\n",
       "    </tr>\n",
       "    <tr>\n",
       "      <th>Stamp</th>\n",
       "      <th></th>\n",
       "      <th></th>\n",
       "      <th></th>\n",
       "      <th></th>\n",
       "      <th></th>\n",
       "    </tr>\n",
       "  </thead>\n",
       "  <tbody>\n",
       "    <tr>\n",
       "      <th>2023-01-01 00:00:00+00:00</th>\n",
       "      <td>87.0</td>\n",
       "      <td>45.0</td>\n",
       "      <td>473.0</td>\n",
       "      <td>156.0</td>\n",
       "      <td>5.0</td>\n",
       "    </tr>\n",
       "    <tr>\n",
       "      <th>2023-01-01 00:15:00+00:00</th>\n",
       "      <td>87.0</td>\n",
       "      <td>44.0</td>\n",
       "      <td>333.0</td>\n",
       "      <td>120.0</td>\n",
       "      <td>5.0</td>\n",
       "    </tr>\n",
       "    <tr>\n",
       "      <th>2023-01-01 00:30:00+00:00</th>\n",
       "      <td>87.0</td>\n",
       "      <td>46.0</td>\n",
       "      <td>328.0</td>\n",
       "      <td>108.0</td>\n",
       "      <td>5.0</td>\n",
       "    </tr>\n",
       "    <tr>\n",
       "      <th>2023-01-01 00:45:00+00:00</th>\n",
       "      <td>87.0</td>\n",
       "      <td>44.0</td>\n",
       "      <td>415.0</td>\n",
       "      <td>125.0</td>\n",
       "      <td>5.0</td>\n",
       "    </tr>\n",
       "    <tr>\n",
       "      <th>2023-01-01 01:00:00+00:00</th>\n",
       "      <td>87.0</td>\n",
       "      <td>44.0</td>\n",
       "      <td>341.0</td>\n",
       "      <td>110.0</td>\n",
       "      <td>5.0</td>\n",
       "    </tr>\n",
       "    <tr>\n",
       "      <th>...</th>\n",
       "      <td>...</td>\n",
       "      <td>...</td>\n",
       "      <td>...</td>\n",
       "      <td>...</td>\n",
       "      <td>...</td>\n",
       "    </tr>\n",
       "    <tr>\n",
       "      <th>2024-11-21 21:45:00+00:00</th>\n",
       "      <td>74.0</td>\n",
       "      <td>50.0</td>\n",
       "      <td>108.0</td>\n",
       "      <td>47.0</td>\n",
       "      <td>2.0</td>\n",
       "    </tr>\n",
       "    <tr>\n",
       "      <th>2024-11-21 22:00:00+00:00</th>\n",
       "      <td>74.0</td>\n",
       "      <td>50.0</td>\n",
       "      <td>79.0</td>\n",
       "      <td>35.0</td>\n",
       "      <td>2.0</td>\n",
       "    </tr>\n",
       "    <tr>\n",
       "      <th>2024-11-21 22:15:00+00:00</th>\n",
       "      <td>74.0</td>\n",
       "      <td>50.0</td>\n",
       "      <td>81.0</td>\n",
       "      <td>33.0</td>\n",
       "      <td>2.0</td>\n",
       "    </tr>\n",
       "    <tr>\n",
       "      <th>2024-11-21 22:30:00+00:00</th>\n",
       "      <td>74.0</td>\n",
       "      <td>48.0</td>\n",
       "      <td>70.0</td>\n",
       "      <td>32.0</td>\n",
       "      <td>2.0</td>\n",
       "    </tr>\n",
       "    <tr>\n",
       "      <th>2024-11-21 22:45:00+00:00</th>\n",
       "      <td>74.0</td>\n",
       "      <td>48.0</td>\n",
       "      <td>51.0</td>\n",
       "      <td>22.0</td>\n",
       "      <td>2.0</td>\n",
       "    </tr>\n",
       "  </tbody>\n",
       "</table>\n",
       "<p>66332 rows × 5 columns</p>\n",
       "</div>"
      ]
     },
     "execution_count": 95,
     "metadata": {},
     "output_type": "execute_result"
    }
   ],
   "execution_count": 95
  },
  {
   "cell_type": "markdown",
   "metadata": {},
   "source": [
    "## Missing values"
   ]
  },
  {
   "cell_type": "markdown",
   "metadata": {},
   "source": [
    "### Check for missing values "
   ]
  },
  {
   "cell_type": "markdown",
   "metadata": {},
   "source": [
    "Check if there are any missing values in the pivot data."
   ]
  },
  {
   "cell_type": "code",
   "metadata": {
    "ExecuteTime": {
     "end_time": "2024-12-09T21:47:14.475144Z",
     "start_time": "2024-12-09T21:47:14.471992Z"
    }
   },
   "source": [
    "# Write your code here. Add as many boxes as you need.\n",
    "pivot.isnull().sum()"
   ],
   "outputs": [
    {
     "data": {
      "text/plain": [
       "Type\n",
       "humidity       5010\n",
       "noise_dba      3804\n",
       "pm10           5317\n",
       "pm25           5312\n",
       "temperature    5010\n",
       "dtype: int64"
      ]
     },
     "execution_count": 96,
     "metadata": {},
     "output_type": "execute_result"
    }
   ],
   "execution_count": 96
  },
  {
   "cell_type": "markdown",
   "metadata": {},
   "source": [
    "### Check for reason of missing values"
   ]
  },
  {
   "cell_type": "markdown",
   "metadata": {},
   "source": [
    "Check if there is any reason for the missing data in the dataset."
   ]
  },
  {
   "cell_type": "code",
   "metadata": {
    "ExecuteTime": {
     "end_time": "2024-12-09T21:47:14.708240Z",
     "start_time": "2024-12-09T21:47:14.547238Z"
    }
   },
   "source": [
    "# Write your code here. Add as many boxes as you need.\n",
    "import missingno as msno\n",
    "msno.heatmap(pivot)"
   ],
   "outputs": [
    {
     "data": {
      "text/plain": [
       "<Axes: xlabel='Type', ylabel='Type'>"
      ]
     },
     "execution_count": 97,
     "metadata": {},
     "output_type": "execute_result"
    },
    {
     "data": {
      "text/plain": [
       "<Figure size 2000x1200 with 2 Axes>"
      ],
      "image/png": "[encoded data removed]"
     },
     "metadata": {},
     "output_type": "display_data"
    }
   ],
   "execution_count": 97
  },
  {
   "metadata": {
    "ExecuteTime": {
     "end_time": "2024-12-09T21:47:14.922366Z",
     "start_time": "2024-12-09T21:47:14.726882Z"
    }
   },
   "cell_type": "code",
   "source": "msno.matrix(pivot)",
   "outputs": [
    {
     "data": {
      "text/plain": [
       "<Axes: >"
      ]
     },
     "execution_count": 98,
     "metadata": {},
     "output_type": "execute_result"
    },
    {
     "data": {
      "text/plain": [
       "<Figure size 2500x1000 with 2 Axes>"
      ],
      "image/png": "[encoded data removed]"
     },
     "metadata": {},
     "output_type": "display_data"
    }
   ],
   "execution_count": 98
  },
  {
   "metadata": {
    "ExecuteTime": {
     "end_time": "2024-12-09T21:47:15.040983Z",
     "start_time": "2024-12-09T21:47:14.934647Z"
    }
   },
   "cell_type": "code",
   "source": [
    "import seaborn as sns\n",
    "sns.heatmap(pivot.corr(),annot=True)\n"
   ],
   "outputs": [
    {
     "data": {
      "text/plain": [
       "<Axes: xlabel='Type', ylabel='Type'>"
      ]
     },
     "execution_count": 99,
     "metadata": {},
     "output_type": "execute_result"
    },
    {
     "data": {
      "text/plain": [
       "<Figure size 640x480 with 2 Axes>"
      ],
      "image/png": "[encoded data removed]"
     },
     "metadata": {},
     "output_type": "display_data"
    }
   ],
   "execution_count": 99
  },
  {
   "cell_type": "markdown",
   "metadata": {},
   "source": [
    "### Deal with missing values (Interpolation)"
   ]
  },
  {
   "cell_type": "markdown",
   "metadata": {},
   "source": [
    "Use the `Interpolation` method to fill in the missing values in the dataset."
   ]
  },
  {
   "cell_type": "code",
   "metadata": {
    "ExecuteTime": {
     "end_time": "2024-12-09T21:47:15.084402Z",
     "start_time": "2024-12-09T21:47:15.050318Z"
    }
   },
   "source": [
    "# Write your code here. Add as many boxes as you need.\n",
    "pivot.interpolate(method='cubic', limit_direction='both', inplace=True) \n"
   ],
   "outputs": [],
   "execution_count": 100
  },
  {
   "cell_type": "markdown",
   "metadata": {},
   "source": [
    "#### Check if there are any missing values (Sanity Check)"
   ]
  },
  {
   "cell_type": "markdown",
   "metadata": {},
   "source": [
    "Recheck for missing values."
   ]
  },
  {
   "cell_type": "code",
   "metadata": {
    "ExecuteTime": {
     "end_time": "2024-12-09T21:47:15.109573Z",
     "start_time": "2024-12-09T21:47:15.105801Z"
    }
   },
   "source": [
    "# Write your code here. Add as many boxes as you need.\n",
    "pivot.isnull().sum()"
   ],
   "outputs": [
    {
     "data": {
      "text/plain": [
       "Type\n",
       "humidity       0\n",
       "noise_dba      0\n",
       "pm10           0\n",
       "pm25           0\n",
       "temperature    0\n",
       "dtype: int64"
      ]
     },
     "execution_count": 101,
     "metadata": {},
     "output_type": "execute_result"
    }
   ],
   "execution_count": 101
  },
  {
   "cell_type": "markdown",
   "metadata": {},
   "source": [
    "---\n",
    "# Feature Engineering"
   ]
  },
  {
   "cell_type": "markdown",
   "metadata": {},
   "source": [
    "## Drop Noise DBA as it is not relevant."
   ]
  },
  {
   "cell_type": "code",
   "metadata": {
    "ExecuteTime": {
     "end_time": "2024-12-09T21:47:15.142675Z",
     "start_time": "2024-12-09T21:47:15.139969Z"
    }
   },
   "source": [
    "# Write your code here. Add as many boxes as you need.\n",
    "pivot.drop(columns=[\"noise_dba\"],axis=1,inplace=True)\n"
   ],
   "outputs": [],
   "execution_count": 102
  },
  {
   "cell_type": "markdown",
   "metadata": {},
   "source": [
    "Check that the drop was successful."
   ]
  },
  {
   "cell_type": "code",
   "metadata": {
    "ExecuteTime": {
     "end_time": "2024-12-09T21:47:15.175100Z",
     "start_time": "2024-12-09T21:47:15.172769Z"
    }
   },
   "source": [
    "# Write your code here. Add as many boxes as you need.\n",
    "pivot.columns"
   ],
   "outputs": [
    {
     "data": {
      "text/plain": [
       "Index(['humidity', 'pm10', 'pm25', 'temperature'], dtype='object', name='Type')"
      ]
     },
     "execution_count": 103,
     "metadata": {},
     "output_type": "execute_result"
    }
   ],
   "execution_count": 103
  },
  {
   "cell_type": "markdown",
   "metadata": {},
   "source": [
    "## Create Lag Features (3 prev values) for each measurement"
   ]
  },
  {
   "cell_type": "markdown",
   "metadata": {},
   "source": [
    "Apply a lag of 15min, 30min, and 45min (3x15min intervals) to each feature, creating a set of features representing the meteorological conditions from the previous 45 minutes. To maintain dataset integrity, eliminate any resulting missing values at the beginning of the dataset.\n",
    "\n",
    "Hint: Use `df['column_name'].shift(period)`. Check the documentation at https://pandas.pydata.org/docs/reference/api/pandas.DataFrame.shift.html."
   ]
  },
  {
   "cell_type": "code",
   "metadata": {
    "ExecuteTime": {
     "end_time": "2024-12-09T21:47:15.214733Z",
     "start_time": "2024-12-09T21:47:15.208489Z"
    }
   },
   "source": [
    "# Write your code here. Add as many boxes as you need.\n",
    "COLUMNS = pivot.columns\n",
    "\n",
    "for column in COLUMNS:\n",
    "    for i in range(1, 4):\n",
    "        pivot[f'{column}_{i}_{i*15}mins'] = pivot[column].shift(i)"
   ],
   "outputs": [],
   "execution_count": 104
  },
  {
   "metadata": {
    "ExecuteTime": {
     "end_time": "2024-12-09T21:47:15.242572Z",
     "start_time": "2024-12-09T21:47:15.236935Z"
    }
   },
   "cell_type": "code",
   "source": "pivot.dropna(inplace=True)\n",
   "outputs": [],
   "execution_count": 105
  },
  {
   "cell_type": "code",
   "metadata": {
    "ExecuteTime": {
     "end_time": "2024-12-09T21:47:15.274410Z",
     "start_time": "2024-12-09T21:47:15.264388Z"
    }
   },
   "source": [
    "# Write your code here. Add as many boxes as you need.\n",
    "pivot\n"
   ],
   "outputs": [
    {
     "data": {
      "text/plain": [
       "Type                       humidity   pm10   pm25  temperature  \\\n",
       "Stamp                                                            \n",
       "2023-01-01 00:45:00+00:00      87.0  415.0  125.0          5.0   \n",
       "2023-01-01 01:00:00+00:00      87.0  341.0  110.0          5.0   \n",
       "2023-01-01 01:15:00+00:00      87.0  326.0  110.0          5.0   \n",
       "2023-01-01 01:30:00+00:00      87.0  330.0  110.0          5.0   \n",
       "2023-01-01 01:45:00+00:00      87.0  337.0  112.0          5.0   \n",
       "...                             ...    ...    ...          ...   \n",
       "2024-11-21 21:45:00+00:00      74.0  108.0   47.0          2.0   \n",
       "2024-11-21 22:00:00+00:00      74.0   79.0   35.0          2.0   \n",
       "2024-11-21 22:15:00+00:00      74.0   81.0   33.0          2.0   \n",
       "2024-11-21 22:30:00+00:00      74.0   70.0   32.0          2.0   \n",
       "2024-11-21 22:45:00+00:00      74.0   51.0   22.0          2.0   \n",
       "\n",
       "Type                       humidity_1_15mins  humidity_2_30mins  \\\n",
       "Stamp                                                             \n",
       "2023-01-01 00:45:00+00:00               87.0               87.0   \n",
       "2023-01-01 01:00:00+00:00               87.0               87.0   \n",
       "2023-01-01 01:15:00+00:00               87.0               87.0   \n",
       "2023-01-01 01:30:00+00:00               87.0               87.0   \n",
       "2023-01-01 01:45:00+00:00               87.0               87.0   \n",
       "...                                      ...                ...   \n",
       "2024-11-21 21:45:00+00:00               74.0               73.0   \n",
       "2024-11-21 22:00:00+00:00               74.0               74.0   \n",
       "2024-11-21 22:15:00+00:00               74.0               74.0   \n",
       "2024-11-21 22:30:00+00:00               74.0               74.0   \n",
       "2024-11-21 22:45:00+00:00               74.0               74.0   \n",
       "\n",
       "Type                       humidity_3_45mins  pm10_1_15mins  pm10_2_30mins  \\\n",
       "Stamp                                                                        \n",
       "2023-01-01 00:45:00+00:00               87.0          328.0          333.0   \n",
       "2023-01-01 01:00:00+00:00               87.0          415.0          328.0   \n",
       "2023-01-01 01:15:00+00:00               87.0          341.0          415.0   \n",
       "2023-01-01 01:30:00+00:00               87.0          326.0          341.0   \n",
       "2023-01-01 01:45:00+00:00               87.0          330.0          326.0   \n",
       "...                                      ...            ...            ...   \n",
       "2024-11-21 21:45:00+00:00               71.0          107.0          115.0   \n",
       "2024-11-21 22:00:00+00:00               73.0          108.0          107.0   \n",
       "2024-11-21 22:15:00+00:00               74.0           79.0          108.0   \n",
       "2024-11-21 22:30:00+00:00               74.0           81.0           79.0   \n",
       "2024-11-21 22:45:00+00:00               74.0           70.0           81.0   \n",
       "\n",
       "Type                       pm10_3_45mins  pm25_1_15mins  pm25_2_30mins  \\\n",
       "Stamp                                                                    \n",
       "2023-01-01 00:45:00+00:00          473.0          108.0          120.0   \n",
       "2023-01-01 01:00:00+00:00          333.0          125.0          108.0   \n",
       "2023-01-01 01:15:00+00:00          328.0          110.0          125.0   \n",
       "2023-01-01 01:30:00+00:00          415.0          110.0          110.0   \n",
       "2023-01-01 01:45:00+00:00          341.0          110.0          110.0   \n",
       "...                                  ...            ...            ...   \n",
       "2024-11-21 21:45:00+00:00          119.0           49.0           52.0   \n",
       "2024-11-21 22:00:00+00:00          115.0           47.0           49.0   \n",
       "2024-11-21 22:15:00+00:00          107.0           35.0           47.0   \n",
       "2024-11-21 22:30:00+00:00          108.0           33.0           35.0   \n",
       "2024-11-21 22:45:00+00:00           79.0           32.0           33.0   \n",
       "\n",
       "Type                       pm25_3_45mins  temperature_1_15mins  \\\n",
       "Stamp                                                            \n",
       "2023-01-01 00:45:00+00:00          156.0                   5.0   \n",
       "2023-01-01 01:00:00+00:00          120.0                   5.0   \n",
       "2023-01-01 01:15:00+00:00          108.0                   5.0   \n",
       "2023-01-01 01:30:00+00:00          125.0                   5.0   \n",
       "2023-01-01 01:45:00+00:00          110.0                   5.0   \n",
       "...                                  ...                   ...   \n",
       "2024-11-21 21:45:00+00:00           49.0                   2.0   \n",
       "2024-11-21 22:00:00+00:00           52.0                   2.0   \n",
       "2024-11-21 22:15:00+00:00           49.0                   2.0   \n",
       "2024-11-21 22:30:00+00:00           47.0                   2.0   \n",
       "2024-11-21 22:45:00+00:00           35.0                   2.0   \n",
       "\n",
       "Type                       temperature_2_30mins  temperature_3_45mins  \n",
       "Stamp                                                                  \n",
       "2023-01-01 00:45:00+00:00                   5.0                   5.0  \n",
       "2023-01-01 01:00:00+00:00                   5.0                   5.0  \n",
       "2023-01-01 01:15:00+00:00                   5.0                   5.0  \n",
       "2023-01-01 01:30:00+00:00                   5.0                   5.0  \n",
       "2023-01-01 01:45:00+00:00                   5.0                   5.0  \n",
       "...                                         ...                   ...  \n",
       "2024-11-21 21:45:00+00:00                   3.0                   3.0  \n",
       "2024-11-21 22:00:00+00:00                   2.0                   3.0  \n",
       "2024-11-21 22:15:00+00:00                   2.0                   2.0  \n",
       "2024-11-21 22:30:00+00:00                   2.0                   2.0  \n",
       "2024-11-21 22:45:00+00:00                   2.0                   2.0  \n",
       "\n",
       "[66329 rows x 16 columns]"
      ],
      "text/html": [
       "<div>\n",
       "<style scoped>\n",
       "    .dataframe tbody tr th:only-of-type {\n",
       "        vertical-align: middle;\n",
       "    }\n",
       "\n",
       "    .dataframe tbody tr th {\n",
       "        vertical-align: top;\n",
       "    }\n",
       "\n",
       "    .dataframe thead th {\n",
       "        text-align: right;\n",
       "    }\n",
       "</style>\n",
       "<table border=\"1\" class=\"dataframe\">\n",
       "  <thead>\n",
       "    <tr style=\"text-align: right;\">\n",
       "      <th>Type</th>\n",
       "      <th>humidity</th>\n",
       "      <th>pm10</th>\n",
       "      <th>pm25</th>\n",
       "      <th>temperature</th>\n",
       "      <th>humidity_1_15mins</th>\n",
       "      <th>humidity_2_30mins</th>\n",
       "      <th>humidity_3_45mins</th>\n",
       "      <th>pm10_1_15mins</th>\n",
       "      <th>pm10_2_30mins</th>\n",
       "      <th>pm10_3_45mins</th>\n",
       "      <th>pm25_1_15mins</th>\n",
       "      <th>pm25_2_30mins</th>\n",
       "      <th>pm25_3_45mins</th>\n",
       "      <th>temperature_1_15mins</th>\n",
       "      <th>temperature_2_30mins</th>\n",
       "      <th>temperature_3_45mins</th>\n",
       "    </tr>\n",
       "    <tr>\n",
       "      <th>Stamp</th>\n",
       "      <th></th>\n",
       "      <th></th>\n",
       "      <th></th>\n",
       "      <th></th>\n",
       "      <th></th>\n",
       "      <th></th>\n",
       "      <th></th>\n",
       "      <th></th>\n",
       "      <th></th>\n",
       "      <th></th>\n",
       "      <th></th>\n",
       "      <th></th>\n",
       "      <th></th>\n",
       "      <th></th>\n",
       "      <th></th>\n",
       "      <th></th>\n",
       "    </tr>\n",
       "  </thead>\n",
       "  <tbody>\n",
       "    <tr>\n",
       "      <th>2023-01-01 00:45:00+00:00</th>\n",
       "      <td>87.0</td>\n",
       "      <td>415.0</td>\n",
       "      <td>125.0</td>\n",
       "      <td>5.0</td>\n",
       "      <td>87.0</td>\n",
       "      <td>87.0</td>\n",
       "      <td>87.0</td>\n",
       "      <td>328.0</td>\n",
       "      <td>333.0</td>\n",
       "      <td>473.0</td>\n",
       "      <td>108.0</td>\n",
       "      <td>120.0</td>\n",
       "      <td>156.0</td>\n",
       "      <td>5.0</td>\n",
       "      <td>5.0</td>\n",
       "      <td>5.0</td>\n",
       "    </tr>\n",
       "    <tr>\n",
       "      <th>2023-01-01 01:00:00+00:00</th>\n",
       "      <td>87.0</td>\n",
       "      <td>341.0</td>\n",
       "      <td>110.0</td>\n",
       "      <td>5.0</td>\n",
       "      <td>87.0</td>\n",
       "      <td>87.0</td>\n",
       "      <td>87.0</td>\n",
       "      <td>415.0</td>\n",
       "      <td>328.0</td>\n",
       "      <td>333.0</td>\n",
       "      <td>125.0</td>\n",
       "      <td>108.0</td>\n",
       "      <td>120.0</td>\n",
       "      <td>5.0</td>\n",
       "      <td>5.0</td>\n",
       "      <td>5.0</td>\n",
       "    </tr>\n",
       "    <tr>\n",
       "      <th>2023-01-01 01:15:00+00:00</th>\n",
       "      <td>87.0</td>\n",
       "      <td>326.0</td>\n",
       "      <td>110.0</td>\n",
       "      <td>5.0</td>\n",
       "      <td>87.0</td>\n",
       "      <td>87.0</td>\n",
       "      <td>87.0</td>\n",
       "      <td>341.0</td>\n",
       "      <td>415.0</td>\n",
       "      <td>328.0</td>\n",
       "      <td>110.0</td>\n",
       "      <td>125.0</td>\n",
       "      <td>108.0</td>\n",
       "      <td>5.0</td>\n",
       "      <td>5.0</td>\n",
       "      <td>5.0</td>\n",
       "    </tr>\n",
       "    <tr>\n",
       "      <th>2023-01-01 01:30:00+00:00</th>\n",
       "      <td>87.0</td>\n",
       "      <td>330.0</td>\n",
       "      <td>110.0</td>\n",
       "      <td>5.0</td>\n",
       "      <td>87.0</td>\n",
       "      <td>87.0</td>\n",
       "      <td>87.0</td>\n",
       "      <td>326.0</td>\n",
       "      <td>341.0</td>\n",
       "      <td>415.0</td>\n",
       "      <td>110.0</td>\n",
       "      <td>110.0</td>\n",
       "      <td>125.0</td>\n",
       "      <td>5.0</td>\n",
       "      <td>5.0</td>\n",
       "      <td>5.0</td>\n",
       "    </tr>\n",
       "    <tr>\n",
       "      <th>2023-01-01 01:45:00+00:00</th>\n",
       "      <td>87.0</td>\n",
       "      <td>337.0</td>\n",
       "      <td>112.0</td>\n",
       "      <td>5.0</td>\n",
       "      <td>87.0</td>\n",
       "      <td>87.0</td>\n",
       "      <td>87.0</td>\n",
       "      <td>330.0</td>\n",
       "      <td>326.0</td>\n",
       "      <td>341.0</td>\n",
       "      <td>110.0</td>\n",
       "      <td>110.0</td>\n",
       "      <td>110.0</td>\n",
       "      <td>5.0</td>\n",
       "      <td>5.0</td>\n",
       "      <td>5.0</td>\n",
       "    </tr>\n",
       "    <tr>\n",
       "      <th>...</th>\n",
       "      <td>...</td>\n",
       "      <td>...</td>\n",
       "      <td>...</td>\n",
       "      <td>...</td>\n",
       "      <td>...</td>\n",
       "      <td>...</td>\n",
       "      <td>...</td>\n",
       "      <td>...</td>\n",
       "      <td>...</td>\n",
       "      <td>...</td>\n",
       "      <td>...</td>\n",
       "      <td>...</td>\n",
       "      <td>...</td>\n",
       "      <td>...</td>\n",
       "      <td>...</td>\n",
       "      <td>...</td>\n",
       "    </tr>\n",
       "    <tr>\n",
       "      <th>2024-11-21 21:45:00+00:00</th>\n",
       "      <td>74.0</td>\n",
       "      <td>108.0</td>\n",
       "      <td>47.0</td>\n",
       "      <td>2.0</td>\n",
       "      <td>74.0</td>\n",
       "      <td>73.0</td>\n",
       "      <td>71.0</td>\n",
       "      <td>107.0</td>\n",
       "      <td>115.0</td>\n",
       "      <td>119.0</td>\n",
       "      <td>49.0</td>\n",
       "      <td>52.0</td>\n",
       "      <td>49.0</td>\n",
       "      <td>2.0</td>\n",
       "      <td>3.0</td>\n",
       "      <td>3.0</td>\n",
       "    </tr>\n",
       "    <tr>\n",
       "      <th>2024-11-21 22:00:00+00:00</th>\n",
       "      <td>74.0</td>\n",
       "      <td>79.0</td>\n",
       "      <td>35.0</td>\n",
       "      <td>2.0</td>\n",
       "      <td>74.0</td>\n",
       "      <td>74.0</td>\n",
       "      <td>73.0</td>\n",
       "      <td>108.0</td>\n",
       "      <td>107.0</td>\n",
       "      <td>115.0</td>\n",
       "      <td>47.0</td>\n",
       "      <td>49.0</td>\n",
       "      <td>52.0</td>\n",
       "      <td>2.0</td>\n",
       "      <td>2.0</td>\n",
       "      <td>3.0</td>\n",
       "    </tr>\n",
       "    <tr>\n",
       "      <th>2024-11-21 22:15:00+00:00</th>\n",
       "      <td>74.0</td>\n",
       "      <td>81.0</td>\n",
       "      <td>33.0</td>\n",
       "      <td>2.0</td>\n",
       "      <td>74.0</td>\n",
       "      <td>74.0</td>\n",
       "      <td>74.0</td>\n",
       "      <td>79.0</td>\n",
       "      <td>108.0</td>\n",
       "      <td>107.0</td>\n",
       "      <td>35.0</td>\n",
       "      <td>47.0</td>\n",
       "      <td>49.0</td>\n",
       "      <td>2.0</td>\n",
       "      <td>2.0</td>\n",
       "      <td>2.0</td>\n",
       "    </tr>\n",
       "    <tr>\n",
       "      <th>2024-11-21 22:30:00+00:00</th>\n",
       "      <td>74.0</td>\n",
       "      <td>70.0</td>\n",
       "      <td>32.0</td>\n",
       "      <td>2.0</td>\n",
       "      <td>74.0</td>\n",
       "      <td>74.0</td>\n",
       "      <td>74.0</td>\n",
       "      <td>81.0</td>\n",
       "      <td>79.0</td>\n",
       "      <td>108.0</td>\n",
       "      <td>33.0</td>\n",
       "      <td>35.0</td>\n",
       "      <td>47.0</td>\n",
       "      <td>2.0</td>\n",
       "      <td>2.0</td>\n",
       "      <td>2.0</td>\n",
       "    </tr>\n",
       "    <tr>\n",
       "      <th>2024-11-21 22:45:00+00:00</th>\n",
       "      <td>74.0</td>\n",
       "      <td>51.0</td>\n",
       "      <td>22.0</td>\n",
       "      <td>2.0</td>\n",
       "      <td>74.0</td>\n",
       "      <td>74.0</td>\n",
       "      <td>74.0</td>\n",
       "      <td>70.0</td>\n",
       "      <td>81.0</td>\n",
       "      <td>79.0</td>\n",
       "      <td>32.0</td>\n",
       "      <td>33.0</td>\n",
       "      <td>35.0</td>\n",
       "      <td>2.0</td>\n",
       "      <td>2.0</td>\n",
       "      <td>2.0</td>\n",
       "    </tr>\n",
       "  </tbody>\n",
       "</table>\n",
       "<p>66329 rows × 16 columns</p>\n",
       "</div>"
      ]
     },
     "execution_count": 106,
     "metadata": {},
     "output_type": "execute_result"
    }
   ],
   "execution_count": 106
  },
  {
   "cell_type": "markdown",
   "metadata": {},
   "source": [
    "## Check Correlation between the extracted features and target"
   ]
  },
  {
   "cell_type": "code",
   "metadata": {
    "ExecuteTime": {
     "end_time": "2024-12-09T21:48:17.628297Z",
     "start_time": "2024-12-09T21:48:17.319373Z"
    }
   },
   "source": [
    "from matplotlib import pyplot as plt\n",
    "\n",
    "# Write your code here. Add as many boxes as you need.\n",
    "plt.figure(figsize=(12, 6))\n",
    "sns.heatmap(pivot.corr(), annot=True, fmt=\".2f\", cmap='coolwarm')"
   ],
   "outputs": [
    {
     "data": {
      "text/plain": [
       "<Axes: xlabel='Type', ylabel='Type'>"
      ]
     },
     "execution_count": 121,
     "metadata": {},
     "output_type": "execute_result"
    },
    {
     "data": {
      "text/plain": [
       "<Figure size 1200x600 with 2 Axes>"
      ],
      "image/png": "[encoded data removed]"
     },
     "metadata": {},
     "output_type": "display_data"
    }
   ],
   "execution_count": 121
  },
  {
   "cell_type": "markdown",
   "metadata": {},
   "source": [
    "---\n",
    "# Train and test models"
   ]
  },
  {
   "cell_type": "markdown",
   "metadata": {},
   "source": [
    "## Dataset Splitting\n",
    "Partition the dataset into training and testing sets with an 80:20 ratio.\n",
    "\n",
    "**RECOMMENDATION: Use only first 1 000 data points.**\n",
    "\n",
    "**WARNING: DO NOT SHUFFLE THE DATASET.**"
   ]
  },
  {
   "cell_type": "markdown",
   "metadata": {},
   "source": [
    "**Columns for prediction:**\n",
    "- 'humidity'\n",
    "- 'pm25'\n",
    "- 'pm10' \n",
    "- 'temperature'"
   ]
  },
  {
   "cell_type": "code",
   "metadata": {
    "ExecuteTime": {
     "end_time": "2024-12-09T21:49:50.560243Z",
     "start_time": "2024-12-09T21:49:50.555674Z"
    }
   },
   "source": [
    "pivot.sort_index(inplace=True)"
   ],
   "outputs": [],
   "execution_count": 122
  },
  {
   "cell_type": "code",
   "metadata": {
    "ExecuteTime": {
     "end_time": "2024-12-09T21:53:37.455580Z",
     "start_time": "2024-12-09T21:53:37.448272Z"
    }
   },
   "source": [
    "# Write your code here. Add as many boxes as you need.\n",
    "X = pivot.drop(columns=COLUMNS).head(1000)\n",
    "y = pivot[COLUMNS].head(1000)"
   ],
   "outputs": [],
   "execution_count": 123
  },
  {
   "cell_type": "code",
   "metadata": {
    "ExecuteTime": {
     "end_time": "2024-12-09T21:56:17.042825Z",
     "start_time": "2024-12-09T21:56:16.949854Z"
    }
   },
   "source": [
    "from sklearn.model_selection import train_test_split\n",
    "\n",
    "# Write your code here. Add as many boxes as you need.\n",
    "X_train, X_test, y_train, y_test = train_test_split(X, y, test_size=0.2, shuffle=False)"
   ],
   "outputs": [],
   "execution_count": 126
  },
  {
   "cell_type": "markdown",
   "metadata": {},
   "source": [
    "## Ensemble Learning Methods"
   ]
  },
  {
   "cell_type": "markdown",
   "metadata": {},
   "source": [
    "### Bagging"
   ]
  },
  {
   "cell_type": "markdown",
   "metadata": {},
   "source": [
    "Create an instance of a Random Forest model and train it using the `fit` function."
   ]
  },
  {
   "cell_type": "code",
   "metadata": {
    "ExecuteTime": {
     "end_time": "2024-12-09T21:57:25.720443Z",
     "start_time": "2024-12-09T21:57:25.355354Z"
    }
   },
   "source": [
    "from sklearn.ensemble import RandomForestRegressor\n",
    "\n",
    "# Write your code here. Add as many boxes as you need.\n",
    "model = RandomForestRegressor(n_estimators=100, random_state=42)\n",
    "model.fit(X_train, y_train)"
   ],
   "outputs": [
    {
     "data": {
      "text/plain": [
       "RandomForestRegressor(random_state=42)"
      ],
      "text/html": [
       "<style>#sk-container-id-1 {\n",
       "  /* Definition of color scheme common for light and dark mode */\n",
       "  --sklearn-color-text: black;\n",
       "  --sklearn-color-line: gray;\n",
       "  /* Definition of color scheme for unfitted estimators */\n",
       "  --sklearn-color-unfitted-level-0: #fff5e6;\n",
       "  --sklearn-color-unfitted-level-1: #f6e4d2;\n",
       "  --sklearn-color-unfitted-level-2: #ffe0b3;\n",
       "  --sklearn-color-unfitted-level-3: chocolate;\n",
       "  /* Definition of color scheme for fitted estimators */\n",
       "  --sklearn-color-fitted-level-0: #f0f8ff;\n",
       "  --sklearn-color-fitted-level-1: #d4ebff;\n",
       "  --sklearn-color-fitted-level-2: #b3dbfd;\n",
       "  --sklearn-color-fitted-level-3: cornflowerblue;\n",
       "\n",
       "  /* Specific color for light theme */\n",
       "  --sklearn-color-text-on-default-background: var(--sg-text-color, var(--theme-code-foreground, var(--jp-content-font-color1, black)));\n",
       "  --sklearn-color-background: var(--sg-background-color, var(--theme-background, var(--jp-layout-color0, white)));\n",
       "  --sklearn-color-border-box: var(--sg-text-color, var(--theme-code-foreground, var(--jp-content-font-color1, black)));\n",
       "  --sklearn-color-icon: #696969;\n",
       "\n",
       "  @media (prefers-color-scheme: dark) {\n",
       "    /* Redefinition of color scheme for dark theme */\n",
       "    --sklearn-color-text-on-default-background: var(--sg-text-color, var(--theme-code-foreground, var(--jp-content-font-color1, white)));\n",
       "    --sklearn-color-background: var(--sg-background-color, var(--theme-background, var(--jp-layout-color0, #111)));\n",
       "    --sklearn-color-border-box: var(--sg-text-color, var(--theme-code-foreground, var(--jp-content-font-color1, white)));\n",
       "    --sklearn-color-icon: #878787;\n",
       "  }\n",
       "}\n",
       "\n",
       "#sk-container-id-1 {\n",
       "  color: var(--sklearn-color-text);\n",
       "}\n",
       "\n",
       "#sk-container-id-1 pre {\n",
       "  padding: 0;\n",
       "}\n",
       "\n",
       "#sk-container-id-1 input.sk-hidden--visually {\n",
       "  border: 0;\n",
       "  clip: rect(1px 1px 1px 1px);\n",
       "  clip: rect(1px, 1px, 1px, 1px);\n",
       "  height: 1px;\n",
       "  margin: -1px;\n",
       "  overflow: hidden;\n",
       "  padding: 0;\n",
       "  position: absolute;\n",
       "  width: 1px;\n",
       "}\n",
       "\n",
       "#sk-container-id-1 div.sk-dashed-wrapped {\n",
       "  border: 1px dashed var(--sklearn-color-line);\n",
       "  margin: 0 0.4em 0.5em 0.4em;\n",
       "  box-sizing: border-box;\n",
       "  padding-bottom: 0.4em;\n",
       "  background-color: var(--sklearn-color-background);\n",
       "}\n",
       "\n",
       "#sk-container-id-1 div.sk-container {\n",
       "  /* jupyter's `normalize.less` sets `[hidden] { display: none; }`\n",
       "     but bootstrap.min.css set `[hidden] { display: none !important; }`\n",
       "     so we also need the `!important` here to be able to override the\n",
       "     default hidden behavior on the sphinx rendered scikit-learn.org.\n",
       "     See: https://github.com/scikit-learn/scikit-learn/issues/21755 */\n",
       "  display: inline-block !important;\n",
       "  position: relative;\n",
       "}\n",
       "\n",
       "#sk-container-id-1 div.sk-text-repr-fallback {\n",
       "  display: none;\n",
       "}\n",
       "\n",
       "div.sk-parallel-item,\n",
       "div.sk-serial,\n",
       "div.sk-item {\n",
       "  /* draw centered vertical line to link estimators */\n",
       "  background-image: linear-gradient(var(--sklearn-color-text-on-default-background), var(--sklearn-color-text-on-default-background));\n",
       "  background-size: 2px 100%;\n",
       "  background-repeat: no-repeat;\n",
       "  background-position: center center;\n",
       "}\n",
       "\n",
       "/* Parallel-specific style estimator block */\n",
       "\n",
       "#sk-container-id-1 div.sk-parallel-item::after {\n",
       "  content: \"\";\n",
       "  width: 100%;\n",
       "  border-bottom: 2px solid var(--sklearn-color-text-on-default-background);\n",
       "  flex-grow: 1;\n",
       "}\n",
       "\n",
       "#sk-container-id-1 div.sk-parallel {\n",
       "  display: flex;\n",
       "  align-items: stretch;\n",
       "  justify-content: center;\n",
       "  background-color: var(--sklearn-color-background);\n",
       "  position: relative;\n",
       "}\n",
       "\n",
       "#sk-container-id-1 div.sk-parallel-item {\n",
       "  display: flex;\n",
       "  flex-direction: column;\n",
       "}\n",
       "\n",
       "#sk-container-id-1 div.sk-parallel-item:first-child::after {\n",
       "  align-self: flex-end;\n",
       "  width: 50%;\n",
       "}\n",
       "\n",
       "#sk-container-id-1 div.sk-parallel-item:last-child::after {\n",
       "  align-self: flex-start;\n",
       "  width: 50%;\n",
       "}\n",
       "\n",
       "#sk-container-id-1 div.sk-parallel-item:only-child::after {\n",
       "  width: 0;\n",
       "}\n",
       "\n",
       "/* Serial-specific style estimator block */\n",
       "\n",
       "#sk-container-id-1 div.sk-serial {\n",
       "  display: flex;\n",
       "  flex-direction: column;\n",
       "  align-items: center;\n",
       "  background-color: var(--sklearn-color-background);\n",
       "  padding-right: 1em;\n",
       "  padding-left: 1em;\n",
       "}\n",
       "\n",
       "\n",
       "/* Toggleable style: style used for estimator/Pipeline/ColumnTransformer box that is\n",
       "clickable and can be expanded/collapsed.\n",
       "- Pipeline and ColumnTransformer use this feature and define the default style\n",
       "- Estimators will overwrite some part of the style using the `sk-estimator` class\n",
       "*/\n",
       "\n",
       "/* Pipeline and ColumnTransformer style (default) */\n",
       "\n",
       "#sk-container-id-1 div.sk-toggleable {\n",
       "  /* Default theme specific background. It is overwritten whether we have a\n",
       "  specific estimator or a Pipeline/ColumnTransformer */\n",
       "  background-color: var(--sklearn-color-background);\n",
       "}\n",
       "\n",
       "/* Toggleable label */\n",
       "#sk-container-id-1 label.sk-toggleable__label {\n",
       "  cursor: pointer;\n",
       "  display: block;\n",
       "  width: 100%;\n",
       "  margin-bottom: 0;\n",
       "  padding: 0.5em;\n",
       "  box-sizing: border-box;\n",
       "  text-align: center;\n",
       "}\n",
       "\n",
       "#sk-container-id-1 label.sk-toggleable__label-arrow:before {\n",
       "  /* Arrow on the left of the label */\n",
       "  content: \"▸\";\n",
       "  float: left;\n",
       "  margin-right: 0.25em;\n",
       "  color: var(--sklearn-color-icon);\n",
       "}\n",
       "\n",
       "#sk-container-id-1 label.sk-toggleable__label-arrow:hover:before {\n",
       "  color: var(--sklearn-color-text);\n",
       "}\n",
       "\n",
       "/* Toggleable content - dropdown */\n",
       "\n",
       "#sk-container-id-1 div.sk-toggleable__content {\n",
       "  max-height: 0;\n",
       "  max-width: 0;\n",
       "  overflow: hidden;\n",
       "  text-align: left;\n",
       "  /* unfitted */\n",
       "  background-color: var(--sklearn-color-unfitted-level-0);\n",
       "}\n",
       "\n",
       "#sk-container-id-1 div.sk-toggleable__content.fitted {\n",
       "  /* fitted */\n",
       "  background-color: var(--sklearn-color-fitted-level-0);\n",
       "}\n",
       "\n",
       "#sk-container-id-1 div.sk-toggleable__content pre {\n",
       "  margin: 0.2em;\n",
       "  border-radius: 0.25em;\n",
       "  color: var(--sklearn-color-text);\n",
       "  /* unfitted */\n",
       "  background-color: var(--sklearn-color-unfitted-level-0);\n",
       "}\n",
       "\n",
       "#sk-container-id-1 div.sk-toggleable__content.fitted pre {\n",
       "  /* unfitted */\n",
       "  background-color: var(--sklearn-color-fitted-level-0);\n",
       "}\n",
       "\n",
       "#sk-container-id-1 input.sk-toggleable__control:checked~div.sk-toggleable__content {\n",
       "  /* Expand drop-down */\n",
       "  max-height: 200px;\n",
       "  max-width: 100%;\n",
       "  overflow: auto;\n",
       "}\n",
       "\n",
       "#sk-container-id-1 input.sk-toggleable__control:checked~label.sk-toggleable__label-arrow:before {\n",
       "  content: \"▾\";\n",
       "}\n",
       "\n",
       "/* Pipeline/ColumnTransformer-specific style */\n",
       "\n",
       "#sk-container-id-1 div.sk-label input.sk-toggleable__control:checked~label.sk-toggleable__label {\n",
       "  color: var(--sklearn-color-text);\n",
       "  background-color: var(--sklearn-color-unfitted-level-2);\n",
       "}\n",
       "\n",
       "#sk-container-id-1 div.sk-label.fitted input.sk-toggleable__control:checked~label.sk-toggleable__label {\n",
       "  background-color: var(--sklearn-color-fitted-level-2);\n",
       "}\n",
       "\n",
       "/* Estimator-specific style */\n",
       "\n",
       "/* Colorize estimator box */\n",
       "#sk-container-id-1 div.sk-estimator input.sk-toggleable__control:checked~label.sk-toggleable__label {\n",
       "  /* unfitted */\n",
       "  background-color: var(--sklearn-color-unfitted-level-2);\n",
       "}\n",
       "\n",
       "#sk-container-id-1 div.sk-estimator.fitted input.sk-toggleable__control:checked~label.sk-toggleable__label {\n",
       "  /* fitted */\n",
       "  background-color: var(--sklearn-color-fitted-level-2);\n",
       "}\n",
       "\n",
       "#sk-container-id-1 div.sk-label label.sk-toggleable__label,\n",
       "#sk-container-id-1 div.sk-label label {\n",
       "  /* The background is the default theme color */\n",
       "  color: var(--sklearn-color-text-on-default-background);\n",
       "}\n",
       "\n",
       "/* On hover, darken the color of the background */\n",
       "#sk-container-id-1 div.sk-label:hover label.sk-toggleable__label {\n",
       "  color: var(--sklearn-color-text);\n",
       "  background-color: var(--sklearn-color-unfitted-level-2);\n",
       "}\n",
       "\n",
       "/* Label box, darken color on hover, fitted */\n",
       "#sk-container-id-1 div.sk-label.fitted:hover label.sk-toggleable__label.fitted {\n",
       "  color: var(--sklearn-color-text);\n",
       "  background-color: var(--sklearn-color-fitted-level-2);\n",
       "}\n",
       "\n",
       "/* Estimator label */\n",
       "\n",
       "#sk-container-id-1 div.sk-label label {\n",
       "  font-family: monospace;\n",
       "  font-weight: bold;\n",
       "  display: inline-block;\n",
       "  line-height: 1.2em;\n",
       "}\n",
       "\n",
       "#sk-container-id-1 div.sk-label-container {\n",
       "  text-align: center;\n",
       "}\n",
       "\n",
       "/* Estimator-specific */\n",
       "#sk-container-id-1 div.sk-estimator {\n",
       "  font-family: monospace;\n",
       "  border: 1px dotted var(--sklearn-color-border-box);\n",
       "  border-radius: 0.25em;\n",
       "  box-sizing: border-box;\n",
       "  margin-bottom: 0.5em;\n",
       "  /* unfitted */\n",
       "  background-color: var(--sklearn-color-unfitted-level-0);\n",
       "}\n",
       "\n",
       "#sk-container-id-1 div.sk-estimator.fitted {\n",
       "  /* fitted */\n",
       "  background-color: var(--sklearn-color-fitted-level-0);\n",
       "}\n",
       "\n",
       "/* on hover */\n",
       "#sk-container-id-1 div.sk-estimator:hover {\n",
       "  /* unfitted */\n",
       "  background-color: var(--sklearn-color-unfitted-level-2);\n",
       "}\n",
       "\n",
       "#sk-container-id-1 div.sk-estimator.fitted:hover {\n",
       "  /* fitted */\n",
       "  background-color: var(--sklearn-color-fitted-level-2);\n",
       "}\n",
       "\n",
       "/* Specification for estimator info (e.g. \"i\" and \"?\") */\n",
       "\n",
       "/* Common style for \"i\" and \"?\" */\n",
       "\n",
       ".sk-estimator-doc-link,\n",
       "a:link.sk-estimator-doc-link,\n",
       "a:visited.sk-estimator-doc-link {\n",
       "  float: right;\n",
       "  font-size: smaller;\n",
       "  line-height: 1em;\n",
       "  font-family: monospace;\n",
       "  background-color: var(--sklearn-color-background);\n",
       "  border-radius: 1em;\n",
       "  height: 1em;\n",
       "  width: 1em;\n",
       "  text-decoration: none !important;\n",
       "  margin-left: 1ex;\n",
       "  /* unfitted */\n",
       "  border: var(--sklearn-color-unfitted-level-1) 1pt solid;\n",
       "  color: var(--sklearn-color-unfitted-level-1);\n",
       "}\n",
       "\n",
       ".sk-estimator-doc-link.fitted,\n",
       "a:link.sk-estimator-doc-link.fitted,\n",
       "a:visited.sk-estimator-doc-link.fitted {\n",
       "  /* fitted */\n",
       "  border: var(--sklearn-color-fitted-level-1) 1pt solid;\n",
       "  color: var(--sklearn-color-fitted-level-1);\n",
       "}\n",
       "\n",
       "/* On hover */\n",
       "div.sk-estimator:hover .sk-estimator-doc-link:hover,\n",
       ".sk-estimator-doc-link:hover,\n",
       "div.sk-label-container:hover .sk-estimator-doc-link:hover,\n",
       ".sk-estimator-doc-link:hover {\n",
       "  /* unfitted */\n",
       "  background-color: var(--sklearn-color-unfitted-level-3);\n",
       "  color: var(--sklearn-color-background);\n",
       "  text-decoration: none;\n",
       "}\n",
       "\n",
       "div.sk-estimator.fitted:hover .sk-estimator-doc-link.fitted:hover,\n",
       ".sk-estimator-doc-link.fitted:hover,\n",
       "div.sk-label-container:hover .sk-estimator-doc-link.fitted:hover,\n",
       ".sk-estimator-doc-link.fitted:hover {\n",
       "  /* fitted */\n",
       "  background-color: var(--sklearn-color-fitted-level-3);\n",
       "  color: var(--sklearn-color-background);\n",
       "  text-decoration: none;\n",
       "}\n",
       "\n",
       "/* Span, style for the box shown on hovering the info icon */\n",
       ".sk-estimator-doc-link span {\n",
       "  display: none;\n",
       "  z-index: 9999;\n",
       "  position: relative;\n",
       "  font-weight: normal;\n",
       "  right: .2ex;\n",
       "  padding: .5ex;\n",
       "  margin: .5ex;\n",
       "  width: min-content;\n",
       "  min-width: 20ex;\n",
       "  max-width: 50ex;\n",
       "  color: var(--sklearn-color-text);\n",
       "  box-shadow: 2pt 2pt 4pt #999;\n",
       "  /* unfitted */\n",
       "  background: var(--sklearn-color-unfitted-level-0);\n",
       "  border: .5pt solid var(--sklearn-color-unfitted-level-3);\n",
       "}\n",
       "\n",
       ".sk-estimator-doc-link.fitted span {\n",
       "  /* fitted */\n",
       "  background: var(--sklearn-color-fitted-level-0);\n",
       "  border: var(--sklearn-color-fitted-level-3);\n",
       "}\n",
       "\n",
       ".sk-estimator-doc-link:hover span {\n",
       "  display: block;\n",
       "}\n",
       "\n",
       "/* \"?\"-specific style due to the `<a>` HTML tag */\n",
       "\n",
       "#sk-container-id-1 a.estimator_doc_link {\n",
       "  float: right;\n",
       "  font-size: 1rem;\n",
       "  line-height: 1em;\n",
       "  font-family: monospace;\n",
       "  background-color: var(--sklearn-color-background);\n",
       "  border-radius: 1rem;\n",
       "  height: 1rem;\n",
       "  width: 1rem;\n",
       "  text-decoration: none;\n",
       "  /* unfitted */\n",
       "  color: var(--sklearn-color-unfitted-level-1);\n",
       "  border: var(--sklearn-color-unfitted-level-1) 1pt solid;\n",
       "}\n",
       "\n",
       "#sk-container-id-1 a.estimator_doc_link.fitted {\n",
       "  /* fitted */\n",
       "  border: var(--sklearn-color-fitted-level-1) 1pt solid;\n",
       "  color: var(--sklearn-color-fitted-level-1);\n",
       "}\n",
       "\n",
       "/* On hover */\n",
       "#sk-container-id-1 a.estimator_doc_link:hover {\n",
       "  /* unfitted */\n",
       "  background-color: var(--sklearn-color-unfitted-level-3);\n",
       "  color: var(--sklearn-color-background);\n",
       "  text-decoration: none;\n",
       "}\n",
       "\n",
       "#sk-container-id-1 a.estimator_doc_link.fitted:hover {\n",
       "  /* fitted */\n",
       "  background-color: var(--sklearn-color-fitted-level-3);\n",
       "}\n",
       "</style><div id=\"sk-container-id-1\" class=\"sk-top-container\"><div class=\"sk-text-repr-fallback\"><pre>RandomForestRegressor(random_state=42)</pre><b>In a Jupyter environment, please rerun this cell to show the HTML representation or trust the notebook. <br />On GitHub, the HTML representation is unable to render, please try loading this page with nbviewer.org.</b></div><div class=\"sk-container\" hidden><div class=\"sk-item\"><div class=\"sk-estimator fitted sk-toggleable\"><input class=\"sk-toggleable__control sk-hidden--visually\" id=\"sk-estimator-id-1\" type=\"checkbox\" checked><label for=\"sk-estimator-id-1\" class=\"sk-toggleable__label fitted sk-toggleable__label-arrow fitted\">&nbsp;&nbsp;RandomForestRegressor<a class=\"sk-estimator-doc-link fitted\" rel=\"noreferrer\" target=\"_blank\" href=\"https://scikit-learn.org/1.5/modules/generated/sklearn.ensemble.RandomForestRegressor.html\">?<span>Documentation for RandomForestRegressor</span></a><span class=\"sk-estimator-doc-link fitted\">i<span>Fitted</span></span></label><div class=\"sk-toggleable__content fitted\"><pre>RandomForestRegressor(random_state=42)</pre></div> </div></div></div></div>"
      ]
     },
     "execution_count": 127,
     "metadata": {},
     "output_type": "execute_result"
    }
   ],
   "execution_count": 127
  },
  {
   "cell_type": "markdown",
   "metadata": {},
   "source": [
    "Use the trained model to make predictions for the test set."
   ]
  },
  {
   "cell_type": "code",
   "metadata": {
    "ExecuteTime": {
     "end_time": "2024-12-09T21:57:43.258939Z",
     "start_time": "2024-12-09T21:57:43.253446Z"
    }
   },
   "source": [
    "# Write your code here. Add as many boxes as you need.\n",
    "y_pred = model.predict(X_test)\n"
   ],
   "outputs": [],
   "execution_count": 129
  },
  {
   "cell_type": "markdown",
   "metadata": {},
   "source": [
    "Assess the performance of the model by using different metrics provided by the `scikit-learn` library.\n",
    "\n",
    "Output independent metrics for each column you predict. "
   ]
  },
  {
   "cell_type": "code",
   "metadata": {
    "ExecuteTime": {
     "end_time": "2024-12-09T21:47:15.464860Z",
     "start_time": "2024-12-09T21:47:15.463331Z"
    }
   },
   "source": [
    "# Write your code here. Add as many boxes as you need."
   ],
   "outputs": [],
   "execution_count": 113
  },
  {
   "cell_type": "markdown",
   "metadata": {},
   "source": [
    "### Boosting"
   ]
  },
  {
   "cell_type": "markdown",
   "metadata": {},
   "source": [
    "Create an instance of an XGBoost model and train it using the `fit` function."
   ]
  },
  {
   "cell_type": "code",
   "metadata": {
    "ExecuteTime": {
     "end_time": "2024-12-09T21:47:15.479015Z",
     "start_time": "2024-12-09T21:47:15.477349Z"
    }
   },
   "source": [
    "# Write your code here. Add as many boxes as you need."
   ],
   "outputs": [],
   "execution_count": 114
  },
  {
   "cell_type": "markdown",
   "metadata": {},
   "source": [
    "Use the trained model to make predictions for the test set."
   ]
  },
  {
   "cell_type": "code",
   "metadata": {
    "ExecuteTime": {
     "end_time": "2024-12-09T21:47:15.496810Z",
     "start_time": "2024-12-09T21:47:15.494872Z"
    }
   },
   "source": [
    "# Write your code here. Add as many boxes as you need."
   ],
   "outputs": [],
   "execution_count": 115
  },
  {
   "cell_type": "markdown",
   "metadata": {},
   "source": [
    "Assess the performance of the model by using different metrics provided by the `scikit-learn` library.\n",
    "\n",
    "Output independent metrics for each column you predict. "
   ]
  },
  {
   "cell_type": "code",
   "metadata": {
    "ExecuteTime": {
     "end_time": "2024-12-09T21:47:15.519655Z",
     "start_time": "2024-12-09T21:47:15.518129Z"
    }
   },
   "source": [
    "# Write your code here. Add as many boxes as you need."
   ],
   "outputs": [],
   "execution_count": 116
  },
  {
   "cell_type": "markdown",
   "metadata": {},
   "source": [
    "# Laboratory Exercise - Bonus Task (+ 2 points)"
   ]
  },
  {
   "cell_type": "markdown",
   "metadata": {},
   "source": [
    "As part of the bonus task in this laboratory assignment, your objective is to fine-tune the number of estimators (`n_estimators`) for the XGBoost model using a cross-validation with grid search and time series split. This involves systematically experimenting with various values for `n_estimators` and evaluating the model's performance using cross-validation. Upon determining the most suitable `n_estimators` value, evaluate the model's performance on a test set for final assessment.\n",
    "\n",
    "Hints:\n",
    "- For grid search use the `GridCVSearch` from the `scikit-learn` library. Check the documentation at https://scikit-learn.org/stable/modules/generated/sklearn.model_selection.GridSearchCV.html.\n",
    "- For cross-validation use the `TimeSeriesSplit` from the `scikit-learn` library. Check the documentation at https://scikit-learn.org/stable/modules/generated/sklearn.model_selection.TimeSeriesSplit.html."
   ]
  },
  {
   "cell_type": "markdown",
   "metadata": {},
   "source": [
    "## Dataset Splitting\n",
    "Partition the dataset into training and testing sets with an 90:10 ratio.\n",
    "\n",
    "**WARNING: DO NOT SHUFFLE THE DATASET.**"
   ]
  },
  {
   "cell_type": "code",
   "metadata": {
    "ExecuteTime": {
     "end_time": "2024-12-09T21:47:15.533724Z",
     "start_time": "2024-12-09T21:47:15.532199Z"
    }
   },
   "source": [
    "# Write your code here. Add as many boxes as you need."
   ],
   "outputs": [],
   "execution_count": 117
  },
  {
   "cell_type": "markdown",
   "metadata": {},
   "source": [
    "## Fine-tuning the XGBoost Hyperparameter\n",
    "Experiment with various values for `n_estimators` and evaluate the model's performance using cross-validation."
   ]
  },
  {
   "cell_type": "code",
   "metadata": {
    "ExecuteTime": {
     "end_time": "2024-12-09T21:47:15.546048Z",
     "start_time": "2024-12-09T21:47:15.543934Z"
    }
   },
   "source": [
    "# Write your code here. Add as many boxes as you need."
   ],
   "outputs": [],
   "execution_count": 118
  },
  {
   "cell_type": "markdown",
   "metadata": {},
   "source": [
    "## Final Assessment of the Model Performance\n",
    "Upon determining the most suitable `n_estimators` value, evaluate the model's performance on a test set for final assessment."
   ]
  },
  {
   "cell_type": "code",
   "metadata": {
    "ExecuteTime": {
     "end_time": "2024-12-09T21:47:15.556747Z",
     "start_time": "2024-12-09T21:47:15.555083Z"
    }
   },
   "source": [
    "# Write your code here. Add as many boxes as you need."
   ],
   "outputs": [],
   "execution_count": 119
  },
  {
   "cell_type": "markdown",
   "metadata": {},
   "source": [
    "---"
   ]
  }
 ],
 "metadata": {
  "kernelspec": {
   "display_name": "base",
   "language": "python",
   "name": "python3"
  },
  "language_info": {
   "codemirror_mode": {
    "name": "ipython",
    "version": 3
   },
   "file_extension": ".py",
   "mimetype": "text/x-python",
   "name": "python",
   "nbconvert_exporter": "python",
   "pygments_lexer": "ipython3",
   "version": "3.10.9"
  }
 },
 "nbformat": 4,
 "nbformat_minor": 2
}
