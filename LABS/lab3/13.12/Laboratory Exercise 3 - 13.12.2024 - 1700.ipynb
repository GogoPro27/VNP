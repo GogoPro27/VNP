{
 "cells": [
  {
   "cell_type": "markdown",
   "metadata": {},
   "source": [
    "---\n",
    "# Install the required packages"
   ]
  },
  {
   "cell_type": "markdown",
   "metadata": {},
   "source": [
    "If needed install the following packages:"
   ]
  },
  {
   "cell_type": "code",
   "metadata": {
    "ExecuteTime": {
     "end_time": "2025-01-19T16:09:39.255064Z",
     "start_time": "2025-01-19T16:09:39.253285Z"
    }
   },
   "source": [
    "# !pip install tensorflow keras"
   ],
   "outputs": [],
   "execution_count": 158
  },
  {
   "cell_type": "markdown",
   "metadata": {},
   "source": [
    "---\n",
    "# Imports"
   ]
  },
  {
   "cell_type": "code",
   "metadata": {
    "ExecuteTime": {
     "end_time": "2025-01-19T16:09:39.267944Z",
     "start_time": "2025-01-19T16:09:39.266214Z"
    }
   },
   "source": [
    "# Write your code here. Add as many boxes as you need."
   ],
   "outputs": [],
   "execution_count": 159
  },
  {
   "cell_type": "markdown",
   "metadata": {},
   "source": [
    "---\n",
    "# Laboratory Exercise - Run Mode (8 points)"
   ]
  },
  {
   "cell_type": "markdown",
   "metadata": {},
   "source": [
    "## Introduction\n",
    "In this laboratory assignment, the focus is on time series forecasting, specifically targeting the prediction of **R peak interval** for a patient. Your task involves employing deep learning methods to forecast the **required measurements**. To accomplish this you will be using a patient's ECG measurements from the MITDB database, which consists of the following values:\n",
    "\n",
    "- R peak Interval (int: the time the R peak appeared)\n",
    "- Beat Annotation (string: the beat type)\n",
    "- Episode Annotation (string: the episode type)\n",
    "\n",
    "**Note: You are required to perform this laboratory assignment on your local machine.**"
   ]
  },
  {
   "cell_type": "markdown",
   "metadata": {},
   "source": [
    "\n",
    "# Read the data"
   ]
  },
  {
   "cell_type": "markdown",
   "metadata": {},
   "source": [
    "You are required to load the given data from the `201_cleaned.ann` file (csv format). Load the data into a `pandas dataframe` and display the first 5 rows of the dataframe."
   ]
  },
  {
   "cell_type": "code",
   "metadata": {
    "ExecuteTime": {
     "end_time": "2025-01-19T16:09:39.279804Z",
     "start_time": "2025-01-19T16:09:39.277230Z"
    }
   },
   "source": [
    "import pandas as pd\n",
    "from pandas import DataFrame\n",
    "\n",
    "# Write your code here. Add as many boxes as you need.\n",
    "df = pd.read_csv(\"./201_cleaned.ann\")"
   ],
   "outputs": [],
   "execution_count": 160
  },
  {
   "metadata": {
    "ExecuteTime": {
     "end_time": "2025-01-19T16:09:39.293491Z",
     "start_time": "2025-01-19T16:09:39.289992Z"
    }
   },
   "cell_type": "code",
   "source": "df",
   "outputs": [
    {
     "data": {
      "text/plain": [
       "      R peak Interval Beat Annotation Episode Annotation\n",
       "0                  55               N              (AFIB\n",
       "1                 144               N              (AFIB\n",
       "2                 238               N              (AFIB\n",
       "3                 314               N              (AFIB\n",
       "4                 412               N              (AFIB\n",
       "...               ...             ...                ...\n",
       "1999           225145               N                 (N\n",
       "2000           225206               a                 (N\n",
       "2001           225383               N                 (N\n",
       "2002           225410               x                 (N\n",
       "2003           225625               N                 (N\n",
       "\n",
       "[2004 rows x 3 columns]"
      ],
      "text/html": [
       "<div>\n",
       "<style scoped>\n",
       "    .dataframe tbody tr th:only-of-type {\n",
       "        vertical-align: middle;\n",
       "    }\n",
       "\n",
       "    .dataframe tbody tr th {\n",
       "        vertical-align: top;\n",
       "    }\n",
       "\n",
       "    .dataframe thead th {\n",
       "        text-align: right;\n",
       "    }\n",
       "</style>\n",
       "<table border=\"1\" class=\"dataframe\">\n",
       "  <thead>\n",
       "    <tr style=\"text-align: right;\">\n",
       "      <th></th>\n",
       "      <th>R peak Interval</th>\n",
       "      <th>Beat Annotation</th>\n",
       "      <th>Episode Annotation</th>\n",
       "    </tr>\n",
       "  </thead>\n",
       "  <tbody>\n",
       "    <tr>\n",
       "      <th>0</th>\n",
       "      <td>55</td>\n",
       "      <td>N</td>\n",
       "      <td>(AFIB</td>\n",
       "    </tr>\n",
       "    <tr>\n",
       "      <th>1</th>\n",
       "      <td>144</td>\n",
       "      <td>N</td>\n",
       "      <td>(AFIB</td>\n",
       "    </tr>\n",
       "    <tr>\n",
       "      <th>2</th>\n",
       "      <td>238</td>\n",
       "      <td>N</td>\n",
       "      <td>(AFIB</td>\n",
       "    </tr>\n",
       "    <tr>\n",
       "      <th>3</th>\n",
       "      <td>314</td>\n",
       "      <td>N</td>\n",
       "      <td>(AFIB</td>\n",
       "    </tr>\n",
       "    <tr>\n",
       "      <th>4</th>\n",
       "      <td>412</td>\n",
       "      <td>N</td>\n",
       "      <td>(AFIB</td>\n",
       "    </tr>\n",
       "    <tr>\n",
       "      <th>...</th>\n",
       "      <td>...</td>\n",
       "      <td>...</td>\n",
       "      <td>...</td>\n",
       "    </tr>\n",
       "    <tr>\n",
       "      <th>1999</th>\n",
       "      <td>225145</td>\n",
       "      <td>N</td>\n",
       "      <td>(N</td>\n",
       "    </tr>\n",
       "    <tr>\n",
       "      <th>2000</th>\n",
       "      <td>225206</td>\n",
       "      <td>a</td>\n",
       "      <td>(N</td>\n",
       "    </tr>\n",
       "    <tr>\n",
       "      <th>2001</th>\n",
       "      <td>225383</td>\n",
       "      <td>N</td>\n",
       "      <td>(N</td>\n",
       "    </tr>\n",
       "    <tr>\n",
       "      <th>2002</th>\n",
       "      <td>225410</td>\n",
       "      <td>x</td>\n",
       "      <td>(N</td>\n",
       "    </tr>\n",
       "    <tr>\n",
       "      <th>2003</th>\n",
       "      <td>225625</td>\n",
       "      <td>N</td>\n",
       "      <td>(N</td>\n",
       "    </tr>\n",
       "  </tbody>\n",
       "</table>\n",
       "<p>2004 rows × 3 columns</p>\n",
       "</div>"
      ]
     },
     "execution_count": 161,
     "metadata": {},
     "output_type": "execute_result"
    }
   ],
   "execution_count": 161
  },
  {
   "metadata": {
    "ExecuteTime": {
     "end_time": "2025-01-19T16:09:39.317724Z",
     "start_time": "2025-01-19T16:09:39.315553Z"
    }
   },
   "cell_type": "code",
   "source": "len(df[\"Episode Annotation\"].unique())",
   "outputs": [
    {
     "data": {
      "text/plain": [
       "5"
      ]
     },
     "execution_count": 162,
     "metadata": {},
     "output_type": "execute_result"
    }
   ],
   "execution_count": 162
  },
  {
   "metadata": {
    "ExecuteTime": {
     "end_time": "2025-01-19T16:09:39.350841Z",
     "start_time": "2025-01-19T16:09:39.344166Z"
    }
   },
   "cell_type": "code",
   "source": "df[\"Episode Annotation\"].unique()",
   "outputs": [
    {
     "data": {
      "text/plain": [
       "array(['(AFIB', '(NOD', '(N', '(T', '(SVTA'], dtype=object)"
      ]
     },
     "execution_count": 163,
     "metadata": {},
     "output_type": "execute_result"
    }
   ],
   "execution_count": 163
  },
  {
   "cell_type": "markdown",
   "metadata": {},
   "source": [
    "---\n",
    "# EDA"
   ]
  },
  {
   "cell_type": "markdown",
   "metadata": {},
   "source": [
    "## Explore the Beat Annotation Distribution"
   ]
  },
  {
   "cell_type": "code",
   "metadata": {
    "ExecuteTime": {
     "end_time": "2025-01-19T16:09:39.398414Z",
     "start_time": "2025-01-19T16:09:39.395758Z"
    }
   },
   "source": [
    "# Write your code here. Add as many boxes as you need.\n",
    "len(df[\"Beat Annotation\"].unique())"
   ],
   "outputs": [
    {
     "data": {
      "text/plain": [
       "9"
      ]
     },
     "execution_count": 164,
     "metadata": {},
     "output_type": "execute_result"
    }
   ],
   "execution_count": 164
  },
  {
   "metadata": {
    "ExecuteTime": {
     "end_time": "2025-01-19T16:09:39.422316Z",
     "start_time": "2025-01-19T16:09:39.420972Z"
    }
   },
   "cell_type": "code",
   "source": "",
   "outputs": [],
   "execution_count": null
  },
  {
   "metadata": {
    "ExecuteTime": {
     "end_time": "2025-01-19T16:09:39.434757Z",
     "start_time": "2025-01-19T16:09:39.432034Z"
    }
   },
   "cell_type": "code",
   "source": [
    "import matplotlib.pyplot as plt\n",
    "import seaborn as sns\n",
    "def grouped_corr(df: pd.DataFrame):\n",
    "    qualitative_attributes = [col for col in df.columns if len(df[col].unique()) <= 10]\n",
    "    quantitative_attributes = [col for col in df.columns if len(df[col].unique()) > 10]\n",
    "    for cat in qualitative_attributes:\n",
    "        for num in quantitative_attributes:\n",
    "            print(cat+\"--->\"+num)\n",
    "            print(\"####\")\n",
    "            print(df.groupby(cat)[num].mean())\n",
    "            print(\"####\")\n",
    "            plt.figure(figsize=(8, 6))\n",
    "            sns.boxplot(x=cat, y=num, data=df)\n",
    "            plt.show()"
   ],
   "outputs": [],
   "execution_count": 165
  },
  {
   "metadata": {
    "ExecuteTime": {
     "end_time": "2025-01-19T16:09:39.445730Z",
     "start_time": "2025-01-19T16:09:39.443832Z"
    }
   },
   "cell_type": "code",
   "source": [
    "def distributions(df:pd.DataFrame,columns:list[str]):\n",
    "    for col in columns:\n",
    "        plt.figure(figsize=(5,2))\n",
    "        sns.countplot(x=col, data=df)\n",
    "        plt.title(col)\n",
    "        plt.show()"
   ],
   "outputs": [],
   "execution_count": 166
  },
  {
   "metadata": {
    "ExecuteTime": {
     "end_time": "2025-01-19T16:09:39.455765Z",
     "start_time": "2025-01-19T16:09:39.453981Z"
    }
   },
   "cell_type": "code",
   "source": "cat = list(df.select_dtypes(include=[\"object\",\"category\"]).columns)",
   "outputs": [],
   "execution_count": 167
  },
  {
   "metadata": {
    "ExecuteTime": {
     "end_time": "2025-01-19T16:09:39.569102Z",
     "start_time": "2025-01-19T16:09:39.464436Z"
    }
   },
   "cell_type": "code",
   "source": "distributions(df,cat)",
   "outputs": [
    {
     "data": {
      "text/plain": [
       "<Figure size 500x200 with 1 Axes>"
      ],
      "image/png": "[encoded data removed]"
     },
     "metadata": {},
     "output_type": "display_data"
    },
    {
     "data": {
      "text/plain": [
       "<Figure size 500x200 with 1 Axes>"
      ],
      "image/png": "[encoded data removed]"
     },
     "metadata": {},
     "output_type": "display_data"
    }
   ],
   "execution_count": 168
  },
  {
   "metadata": {
    "ExecuteTime": {
     "end_time": "2025-01-19T16:09:39.702623Z",
     "start_time": "2025-01-19T16:09:39.579501Z"
    }
   },
   "cell_type": "code",
   "source": "grouped_corr(df)",
   "outputs": [
    {
     "name": "stdout",
     "output_type": "stream",
     "text": [
      "Beat Annotation--->R peak Interval\n",
      "####\n",
      "Beat Annotation\n",
      "A    156327.833333\n",
      "F    189502.000000\n",
      "J     65832.000000\n",
      "N    104781.849231\n",
      "V    117970.828283\n",
      "a    150070.288660\n",
      "j    106648.000000\n",
      "x    137510.189189\n",
      "~    137541.500000\n",
      "Name: R peak Interval, dtype: float64\n",
      "####\n"
     ]
    },
    {
     "data": {
      "text/plain": [
       "<Figure size 800x600 with 1 Axes>"
      ],
      "image/png": "[encoded data removed]"
     },
     "metadata": {},
     "output_type": "display_data"
    },
    {
     "name": "stdout",
     "output_type": "stream",
     "text": [
      "Episode Annotation--->R peak Interval\n",
      "####\n",
      "Episode Annotation\n",
      "(AFIB     87058.721186\n",
      "(N       134347.967123\n",
      "(NOD     111259.000000\n",
      "(SVTA    198206.333333\n",
      "(T       117000.703170\n",
      "Name: R peak Interval, dtype: float64\n",
      "####\n"
     ]
    },
    {
     "data": {
      "text/plain": [
       "<Figure size 800x600 with 1 Axes>"
      ],
      "image/png": "[encoded data removed]"
     },
     "metadata": {},
     "output_type": "display_data"
    }
   ],
   "execution_count": 169
  },
  {
   "cell_type": "markdown",
   "metadata": {},
   "source": [
    "## Explore the Episode Annotation Distribution"
   ]
  },
  {
   "cell_type": "code",
   "metadata": {
    "ExecuteTime": {
     "end_time": "2025-01-19T16:09:39.710432Z",
     "start_time": "2025-01-19T16:09:39.708733Z"
    }
   },
   "source": [
    "# Write your code here. Add as many boxes as you need."
   ],
   "outputs": [],
   "execution_count": 170
  },
  {
   "cell_type": "markdown",
   "metadata": {},
   "source": [
    "---\n",
    "# Feature Engineering"
   ]
  },
  {
   "cell_type": "markdown",
   "metadata": {},
   "source": [
    "## Re-Labeling the data (Beat Annotation)\n",
    "\n",
    "Re-label the data into 3 beat types:\n",
    "- Normal Beat (N)\n",
    "- Ventricular Beat (V)\n",
    "- Other Beats (Other)"
   ]
  },
  {
   "cell_type": "code",
   "metadata": {
    "ExecuteTime": {
     "end_time": "2025-01-19T16:09:39.718622Z",
     "start_time": "2025-01-19T16:09:39.716446Z"
    }
   },
   "source": [
    "# Write your code here. Add as many boxes as you need.\n",
    "df[\"Beat Annotation\"] = df[\"Beat Annotation\"].apply( lambda x : x if x in ['N','V'] else 'Other') "
   ],
   "outputs": [],
   "execution_count": 171
  },
  {
   "metadata": {
    "ExecuteTime": {
     "end_time": "2025-01-19T16:09:39.732520Z",
     "start_time": "2025-01-19T16:09:39.729568Z"
    }
   },
   "cell_type": "code",
   "source": "df[\"Beat Annotation\"].unique()",
   "outputs": [
    {
     "data": {
      "text/plain": [
       "array(['N', 'Other', 'V'], dtype=object)"
      ]
     },
     "execution_count": 172,
     "metadata": {},
     "output_type": "execute_result"
    }
   ],
   "execution_count": 172
  },
  {
   "cell_type": "markdown",
   "metadata": {},
   "source": [
    "Check that the mapping worked:"
   ]
  },
  {
   "cell_type": "code",
   "metadata": {
    "ExecuteTime": {
     "end_time": "2025-01-19T16:09:39.750291Z",
     "start_time": "2025-01-19T16:09:39.748390Z"
    }
   },
   "source": [
    "# Write your code here. Add as many boxes as you need."
   ],
   "outputs": [],
   "execution_count": 173
  },
  {
   "cell_type": "markdown",
   "metadata": {},
   "source": [
    "## Re-Labeling the data (Episode Annotation)\n",
    "\n",
    "Re-label the data into 3 beat types:\n",
    "- Normal Episode: (N\n",
    "- Atrial Fibrillation: (AFIB\n",
    "- Other Episode: (Other"
   ]
  },
  {
   "cell_type": "code",
   "metadata": {
    "ExecuteTime": {
     "end_time": "2025-01-19T16:09:39.763929Z",
     "start_time": "2025-01-19T16:09:39.761513Z"
    }
   },
   "source": [
    "# Write your code here. Add as many boxes as you need.\n",
    "df[\"Episode Annotation\"] = df[\"Episode Annotation\"].apply( lambda x : x if x in [\"(N\",\"(AFIB\"] else 'Other') \n"
   ],
   "outputs": [],
   "execution_count": 174
  },
  {
   "cell_type": "markdown",
   "metadata": {},
   "source": [
    "Check that the mapping worked:"
   ]
  },
  {
   "cell_type": "code",
   "metadata": {
    "ExecuteTime": {
     "end_time": "2025-01-19T16:09:39.774934Z",
     "start_time": "2025-01-19T16:09:39.772126Z"
    }
   },
   "source": [
    "# Write your code here. Add as many boxes as you need.\n",
    "df[\"Episode Annotation\"].unique()"
   ],
   "outputs": [
    {
     "data": {
      "text/plain": [
       "array(['(AFIB', 'Other', '(N'], dtype=object)"
      ]
     },
     "execution_count": 175,
     "metadata": {},
     "output_type": "execute_result"
    }
   ],
   "execution_count": 175
  },
  {
   "cell_type": "markdown",
   "metadata": {},
   "source": [
    "## Create Lag Features (5 prev values) for R peak Interval measurement"
   ]
  },
  {
   "cell_type": "markdown",
   "metadata": {},
   "source": [
    "Apply a lag for the R peak Interval, creating a set of features representing the historical patient data. To maintain dataset integrity, eliminate any resulting missing values at the beginning of the dataset.\n",
    "\n",
    "Hint: Use `df['column_name'].shift(period)`. Check the documentation at https://pandas.pydata.org/docs/reference/api/pandas.DataFrame.shift.html."
   ]
  },
  {
   "cell_type": "code",
   "metadata": {
    "ExecuteTime": {
     "end_time": "2025-01-19T16:09:39.790965Z",
     "start_time": "2025-01-19T16:09:39.788377Z"
    }
   },
   "source": [
    "# Write your code here. Add as many boxes as you need.\n",
    "def shift(df:pd.DataFrame,columns:list[str],n:int) -> pd.DataFrame:\n",
    "    df_copy = df.copy(deep=True)\n",
    "    lags = range(n, 0, -1)\n",
    "    for lag in lags:\n",
    "        for column in columns:\n",
    "            df_copy[f\"{column}_{lag}\"] = df_copy[column].shift(lag)\n",
    "    return df_copy"
   ],
   "outputs": [],
   "execution_count": 176
  },
  {
   "metadata": {
    "ExecuteTime": {
     "end_time": "2025-01-19T16:09:39.799435Z",
     "start_time": "2025-01-19T16:09:39.796761Z"
    }
   },
   "cell_type": "code",
   "source": "df = shift(df,[\"R peak Interval\"],5)",
   "outputs": [],
   "execution_count": 177
  },
  {
   "metadata": {
    "ExecuteTime": {
     "end_time": "2025-01-19T16:09:39.814472Z",
     "start_time": "2025-01-19T16:09:39.809081Z"
    }
   },
   "cell_type": "code",
   "source": "df",
   "outputs": [
    {
     "data": {
      "text/plain": [
       "      R peak Interval Beat Annotation Episode Annotation  R peak Interval_5  \\\n",
       "0                  55               N              (AFIB                NaN   \n",
       "1                 144               N              (AFIB                NaN   \n",
       "2                 238               N              (AFIB                NaN   \n",
       "3                 314               N              (AFIB                NaN   \n",
       "4                 412               N              (AFIB                NaN   \n",
       "...               ...             ...                ...                ...   \n",
       "1999           225145               N                 (N           224485.0   \n",
       "2000           225206           Other                 (N           224545.0   \n",
       "2001           225383               N                 (N           224739.0   \n",
       "2002           225410           Other                 (N           224764.0   \n",
       "2003           225625               N                 (N           224987.0   \n",
       "\n",
       "      R peak Interval_4  R peak Interval_3  R peak Interval_2  \\\n",
       "0                   NaN                NaN                NaN   \n",
       "1                   NaN                NaN                NaN   \n",
       "2                   NaN                NaN               55.0   \n",
       "3                   NaN               55.0              144.0   \n",
       "4                  55.0              144.0              238.0   \n",
       "...                 ...                ...                ...   \n",
       "1999           224545.0           224739.0           224764.0   \n",
       "2000           224739.0           224764.0           224987.0   \n",
       "2001           224764.0           224987.0           225145.0   \n",
       "2002           224987.0           225145.0           225206.0   \n",
       "2003           225145.0           225206.0           225383.0   \n",
       "\n",
       "      R peak Interval_1  \n",
       "0                   NaN  \n",
       "1                  55.0  \n",
       "2                 144.0  \n",
       "3                 238.0  \n",
       "4                 314.0  \n",
       "...                 ...  \n",
       "1999           224987.0  \n",
       "2000           225145.0  \n",
       "2001           225206.0  \n",
       "2002           225383.0  \n",
       "2003           225410.0  \n",
       "\n",
       "[2004 rows x 8 columns]"
      ],
      "text/html": [
       "<div>\n",
       "<style scoped>\n",
       "    .dataframe tbody tr th:only-of-type {\n",
       "        vertical-align: middle;\n",
       "    }\n",
       "\n",
       "    .dataframe tbody tr th {\n",
       "        vertical-align: top;\n",
       "    }\n",
       "\n",
       "    .dataframe thead th {\n",
       "        text-align: right;\n",
       "    }\n",
       "</style>\n",
       "<table border=\"1\" class=\"dataframe\">\n",
       "  <thead>\n",
       "    <tr style=\"text-align: right;\">\n",
       "      <th></th>\n",
       "      <th>R peak Interval</th>\n",
       "      <th>Beat Annotation</th>\n",
       "      <th>Episode Annotation</th>\n",
       "      <th>R peak Interval_5</th>\n",
       "      <th>R peak Interval_4</th>\n",
       "      <th>R peak Interval_3</th>\n",
       "      <th>R peak Interval_2</th>\n",
       "      <th>R peak Interval_1</th>\n",
       "    </tr>\n",
       "  </thead>\n",
       "  <tbody>\n",
       "    <tr>\n",
       "      <th>0</th>\n",
       "      <td>55</td>\n",
       "      <td>N</td>\n",
       "      <td>(AFIB</td>\n",
       "      <td>NaN</td>\n",
       "      <td>NaN</td>\n",
       "      <td>NaN</td>\n",
       "      <td>NaN</td>\n",
       "      <td>NaN</td>\n",
       "    </tr>\n",
       "    <tr>\n",
       "      <th>1</th>\n",
       "      <td>144</td>\n",
       "      <td>N</td>\n",
       "      <td>(AFIB</td>\n",
       "      <td>NaN</td>\n",
       "      <td>NaN</td>\n",
       "      <td>NaN</td>\n",
       "      <td>NaN</td>\n",
       "      <td>55.0</td>\n",
       "    </tr>\n",
       "    <tr>\n",
       "      <th>2</th>\n",
       "      <td>238</td>\n",
       "      <td>N</td>\n",
       "      <td>(AFIB</td>\n",
       "      <td>NaN</td>\n",
       "      <td>NaN</td>\n",
       "      <td>NaN</td>\n",
       "      <td>55.0</td>\n",
       "      <td>144.0</td>\n",
       "    </tr>\n",
       "    <tr>\n",
       "      <th>3</th>\n",
       "      <td>314</td>\n",
       "      <td>N</td>\n",
       "      <td>(AFIB</td>\n",
       "      <td>NaN</td>\n",
       "      <td>NaN</td>\n",
       "      <td>55.0</td>\n",
       "      <td>144.0</td>\n",
       "      <td>238.0</td>\n",
       "    </tr>\n",
       "    <tr>\n",
       "      <th>4</th>\n",
       "      <td>412</td>\n",
       "      <td>N</td>\n",
       "      <td>(AFIB</td>\n",
       "      <td>NaN</td>\n",
       "      <td>55.0</td>\n",
       "      <td>144.0</td>\n",
       "      <td>238.0</td>\n",
       "      <td>314.0</td>\n",
       "    </tr>\n",
       "    <tr>\n",
       "      <th>...</th>\n",
       "      <td>...</td>\n",
       "      <td>...</td>\n",
       "      <td>...</td>\n",
       "      <td>...</td>\n",
       "      <td>...</td>\n",
       "      <td>...</td>\n",
       "      <td>...</td>\n",
       "      <td>...</td>\n",
       "    </tr>\n",
       "    <tr>\n",
       "      <th>1999</th>\n",
       "      <td>225145</td>\n",
       "      <td>N</td>\n",
       "      <td>(N</td>\n",
       "      <td>224485.0</td>\n",
       "      <td>224545.0</td>\n",
       "      <td>224739.0</td>\n",
       "      <td>224764.0</td>\n",
       "      <td>224987.0</td>\n",
       "    </tr>\n",
       "    <tr>\n",
       "      <th>2000</th>\n",
       "      <td>225206</td>\n",
       "      <td>Other</td>\n",
       "      <td>(N</td>\n",
       "      <td>224545.0</td>\n",
       "      <td>224739.0</td>\n",
       "      <td>224764.0</td>\n",
       "      <td>224987.0</td>\n",
       "      <td>225145.0</td>\n",
       "    </tr>\n",
       "    <tr>\n",
       "      <th>2001</th>\n",
       "      <td>225383</td>\n",
       "      <td>N</td>\n",
       "      <td>(N</td>\n",
       "      <td>224739.0</td>\n",
       "      <td>224764.0</td>\n",
       "      <td>224987.0</td>\n",
       "      <td>225145.0</td>\n",
       "      <td>225206.0</td>\n",
       "    </tr>\n",
       "    <tr>\n",
       "      <th>2002</th>\n",
       "      <td>225410</td>\n",
       "      <td>Other</td>\n",
       "      <td>(N</td>\n",
       "      <td>224764.0</td>\n",
       "      <td>224987.0</td>\n",
       "      <td>225145.0</td>\n",
       "      <td>225206.0</td>\n",
       "      <td>225383.0</td>\n",
       "    </tr>\n",
       "    <tr>\n",
       "      <th>2003</th>\n",
       "      <td>225625</td>\n",
       "      <td>N</td>\n",
       "      <td>(N</td>\n",
       "      <td>224987.0</td>\n",
       "      <td>225145.0</td>\n",
       "      <td>225206.0</td>\n",
       "      <td>225383.0</td>\n",
       "      <td>225410.0</td>\n",
       "    </tr>\n",
       "  </tbody>\n",
       "</table>\n",
       "<p>2004 rows × 8 columns</p>\n",
       "</div>"
      ]
     },
     "execution_count": 178,
     "metadata": {},
     "output_type": "execute_result"
    }
   ],
   "execution_count": 178
  },
  {
   "cell_type": "markdown",
   "metadata": {},
   "source": [
    "Check that the mapping worked:"
   ]
  },
  {
   "cell_type": "code",
   "metadata": {
    "ExecuteTime": {
     "end_time": "2025-01-19T16:09:39.839828Z",
     "start_time": "2025-01-19T16:09:39.837758Z"
    }
   },
   "source": [
    "# Write your code here. Add as many boxes as you need."
   ],
   "outputs": [],
   "execution_count": 179
  },
  {
   "cell_type": "markdown",
   "metadata": {},
   "source": [
    "## Generate R-R interval features\n"
   ]
  },
  {
   "cell_type": "markdown",
   "metadata": {},
   "source": [
    "For the past 5 R peak intervals ($R_{i}, i \\in \\{-1, -2, -3, -4, -5\\}$), generate the 4 R-R intervals as features.\n",
    "\n",
    "$RR_{i} = R_{i} - R_{i-1}$"
   ]
  },
  {
   "cell_type": "code",
   "metadata": {
    "ExecuteTime": {
     "end_time": "2025-01-19T16:09:39.866991Z",
     "start_time": "2025-01-19T16:09:39.864421Z"
    }
   },
   "source": [
    "# Write your code here. Add as many boxes as you need.\n",
    "for i in range(1, 5):\n",
    "    df[f'RR {i}'] = df[f'R peak Interval_{i}'] - df[f'R peak Interval_{i+1}']"
   ],
   "outputs": [],
   "execution_count": 180
  },
  {
   "metadata": {
    "ExecuteTime": {
     "end_time": "2025-01-19T16:09:39.880028Z",
     "start_time": "2025-01-19T16:09:39.878574Z"
    }
   },
   "cell_type": "code",
   "source": "",
   "outputs": [],
   "execution_count": null
  },
  {
   "cell_type": "markdown",
   "metadata": {},
   "source": [
    "Additionally, generate the current R-R Interval, which we will be using as a target.  \n",
    "\n",
    "$RR_{curr} = (R_{0} - R_{-1})$"
   ]
  },
  {
   "cell_type": "code",
   "metadata": {
    "ExecuteTime": {
     "end_time": "2025-01-19T16:09:39.889018Z",
     "start_time": "2025-01-19T16:09:39.886930Z"
    }
   },
   "source": "df['RR'] = df['R peak Interval'] - df['R peak Interval_1']",
   "outputs": [],
   "execution_count": 181
  },
  {
   "cell_type": "markdown",
   "metadata": {},
   "source": [
    "Check that the mapping worked:"
   ]
  },
  {
   "metadata": {
    "ExecuteTime": {
     "end_time": "2025-01-19T16:09:39.910271Z",
     "start_time": "2025-01-19T16:09:39.902765Z"
    }
   },
   "cell_type": "code",
   "source": "df",
   "outputs": [
    {
     "data": {
      "text/plain": [
       "      R peak Interval Beat Annotation Episode Annotation  R peak Interval_5  \\\n",
       "0                  55               N              (AFIB                NaN   \n",
       "1                 144               N              (AFIB                NaN   \n",
       "2                 238               N              (AFIB                NaN   \n",
       "3                 314               N              (AFIB                NaN   \n",
       "4                 412               N              (AFIB                NaN   \n",
       "...               ...             ...                ...                ...   \n",
       "1999           225145               N                 (N           224485.0   \n",
       "2000           225206           Other                 (N           224545.0   \n",
       "2001           225383               N                 (N           224739.0   \n",
       "2002           225410           Other                 (N           224764.0   \n",
       "2003           225625               N                 (N           224987.0   \n",
       "\n",
       "      R peak Interval_4  R peak Interval_3  R peak Interval_2  \\\n",
       "0                   NaN                NaN                NaN   \n",
       "1                   NaN                NaN                NaN   \n",
       "2                   NaN                NaN               55.0   \n",
       "3                   NaN               55.0              144.0   \n",
       "4                  55.0              144.0              238.0   \n",
       "...                 ...                ...                ...   \n",
       "1999           224545.0           224739.0           224764.0   \n",
       "2000           224739.0           224764.0           224987.0   \n",
       "2001           224764.0           224987.0           225145.0   \n",
       "2002           224987.0           225145.0           225206.0   \n",
       "2003           225145.0           225206.0           225383.0   \n",
       "\n",
       "      R peak Interval_1   RR 1   RR 2   RR 3   RR 4     RR  \n",
       "0                   NaN    NaN    NaN    NaN    NaN    NaN  \n",
       "1                  55.0    NaN    NaN    NaN    NaN   89.0  \n",
       "2                 144.0   89.0    NaN    NaN    NaN   94.0  \n",
       "3                 238.0   94.0   89.0    NaN    NaN   76.0  \n",
       "4                 314.0   76.0   94.0   89.0    NaN   98.0  \n",
       "...                 ...    ...    ...    ...    ...    ...  \n",
       "1999           224987.0  223.0   25.0  194.0   60.0  158.0  \n",
       "2000           225145.0  158.0  223.0   25.0  194.0   61.0  \n",
       "2001           225206.0   61.0  158.0  223.0   25.0  177.0  \n",
       "2002           225383.0  177.0   61.0  158.0  223.0   27.0  \n",
       "2003           225410.0   27.0  177.0   61.0  158.0  215.0  \n",
       "\n",
       "[2004 rows x 13 columns]"
      ],
      "text/html": [
       "<div>\n",
       "<style scoped>\n",
       "    .dataframe tbody tr th:only-of-type {\n",
       "        vertical-align: middle;\n",
       "    }\n",
       "\n",
       "    .dataframe tbody tr th {\n",
       "        vertical-align: top;\n",
       "    }\n",
       "\n",
       "    .dataframe thead th {\n",
       "        text-align: right;\n",
       "    }\n",
       "</style>\n",
       "<table border=\"1\" class=\"dataframe\">\n",
       "  <thead>\n",
       "    <tr style=\"text-align: right;\">\n",
       "      <th></th>\n",
       "      <th>R peak Interval</th>\n",
       "      <th>Beat Annotation</th>\n",
       "      <th>Episode Annotation</th>\n",
       "      <th>R peak Interval_5</th>\n",
       "      <th>R peak Interval_4</th>\n",
       "      <th>R peak Interval_3</th>\n",
       "      <th>R peak Interval_2</th>\n",
       "      <th>R peak Interval_1</th>\n",
       "      <th>RR 1</th>\n",
       "      <th>RR 2</th>\n",
       "      <th>RR 3</th>\n",
       "      <th>RR 4</th>\n",
       "      <th>RR</th>\n",
       "    </tr>\n",
       "  </thead>\n",
       "  <tbody>\n",
       "    <tr>\n",
       "      <th>0</th>\n",
       "      <td>55</td>\n",
       "      <td>N</td>\n",
       "      <td>(AFIB</td>\n",
       "      <td>NaN</td>\n",
       "      <td>NaN</td>\n",
       "      <td>NaN</td>\n",
       "      <td>NaN</td>\n",
       "      <td>NaN</td>\n",
       "      <td>NaN</td>\n",
       "      <td>NaN</td>\n",
       "      <td>NaN</td>\n",
       "      <td>NaN</td>\n",
       "      <td>NaN</td>\n",
       "    </tr>\n",
       "    <tr>\n",
       "      <th>1</th>\n",
       "      <td>144</td>\n",
       "      <td>N</td>\n",
       "      <td>(AFIB</td>\n",
       "      <td>NaN</td>\n",
       "      <td>NaN</td>\n",
       "      <td>NaN</td>\n",
       "      <td>NaN</td>\n",
       "      <td>55.0</td>\n",
       "      <td>NaN</td>\n",
       "      <td>NaN</td>\n",
       "      <td>NaN</td>\n",
       "      <td>NaN</td>\n",
       "      <td>89.0</td>\n",
       "    </tr>\n",
       "    <tr>\n",
       "      <th>2</th>\n",
       "      <td>238</td>\n",
       "      <td>N</td>\n",
       "      <td>(AFIB</td>\n",
       "      <td>NaN</td>\n",
       "      <td>NaN</td>\n",
       "      <td>NaN</td>\n",
       "      <td>55.0</td>\n",
       "      <td>144.0</td>\n",
       "      <td>89.0</td>\n",
       "      <td>NaN</td>\n",
       "      <td>NaN</td>\n",
       "      <td>NaN</td>\n",
       "      <td>94.0</td>\n",
       "    </tr>\n",
       "    <tr>\n",
       "      <th>3</th>\n",
       "      <td>314</td>\n",
       "      <td>N</td>\n",
       "      <td>(AFIB</td>\n",
       "      <td>NaN</td>\n",
       "      <td>NaN</td>\n",
       "      <td>55.0</td>\n",
       "      <td>144.0</td>\n",
       "      <td>238.0</td>\n",
       "      <td>94.0</td>\n",
       "      <td>89.0</td>\n",
       "      <td>NaN</td>\n",
       "      <td>NaN</td>\n",
       "      <td>76.0</td>\n",
       "    </tr>\n",
       "    <tr>\n",
       "      <th>4</th>\n",
       "      <td>412</td>\n",
       "      <td>N</td>\n",
       "      <td>(AFIB</td>\n",
       "      <td>NaN</td>\n",
       "      <td>55.0</td>\n",
       "      <td>144.0</td>\n",
       "      <td>238.0</td>\n",
       "      <td>314.0</td>\n",
       "      <td>76.0</td>\n",
       "      <td>94.0</td>\n",
       "      <td>89.0</td>\n",
       "      <td>NaN</td>\n",
       "      <td>98.0</td>\n",
       "    </tr>\n",
       "    <tr>\n",
       "      <th>...</th>\n",
       "      <td>...</td>\n",
       "      <td>...</td>\n",
       "      <td>...</td>\n",
       "      <td>...</td>\n",
       "      <td>...</td>\n",
       "      <td>...</td>\n",
       "      <td>...</td>\n",
       "      <td>...</td>\n",
       "      <td>...</td>\n",
       "      <td>...</td>\n",
       "      <td>...</td>\n",
       "      <td>...</td>\n",
       "      <td>...</td>\n",
       "    </tr>\n",
       "    <tr>\n",
       "      <th>1999</th>\n",
       "      <td>225145</td>\n",
       "      <td>N</td>\n",
       "      <td>(N</td>\n",
       "      <td>224485.0</td>\n",
       "      <td>224545.0</td>\n",
       "      <td>224739.0</td>\n",
       "      <td>224764.0</td>\n",
       "      <td>224987.0</td>\n",
       "      <td>223.0</td>\n",
       "      <td>25.0</td>\n",
       "      <td>194.0</td>\n",
       "      <td>60.0</td>\n",
       "      <td>158.0</td>\n",
       "    </tr>\n",
       "    <tr>\n",
       "      <th>2000</th>\n",
       "      <td>225206</td>\n",
       "      <td>Other</td>\n",
       "      <td>(N</td>\n",
       "      <td>224545.0</td>\n",
       "      <td>224739.0</td>\n",
       "      <td>224764.0</td>\n",
       "      <td>224987.0</td>\n",
       "      <td>225145.0</td>\n",
       "      <td>158.0</td>\n",
       "      <td>223.0</td>\n",
       "      <td>25.0</td>\n",
       "      <td>194.0</td>\n",
       "      <td>61.0</td>\n",
       "    </tr>\n",
       "    <tr>\n",
       "      <th>2001</th>\n",
       "      <td>225383</td>\n",
       "      <td>N</td>\n",
       "      <td>(N</td>\n",
       "      <td>224739.0</td>\n",
       "      <td>224764.0</td>\n",
       "      <td>224987.0</td>\n",
       "      <td>225145.0</td>\n",
       "      <td>225206.0</td>\n",
       "      <td>61.0</td>\n",
       "      <td>158.0</td>\n",
       "      <td>223.0</td>\n",
       "      <td>25.0</td>\n",
       "      <td>177.0</td>\n",
       "    </tr>\n",
       "    <tr>\n",
       "      <th>2002</th>\n",
       "      <td>225410</td>\n",
       "      <td>Other</td>\n",
       "      <td>(N</td>\n",
       "      <td>224764.0</td>\n",
       "      <td>224987.0</td>\n",
       "      <td>225145.0</td>\n",
       "      <td>225206.0</td>\n",
       "      <td>225383.0</td>\n",
       "      <td>177.0</td>\n",
       "      <td>61.0</td>\n",
       "      <td>158.0</td>\n",
       "      <td>223.0</td>\n",
       "      <td>27.0</td>\n",
       "    </tr>\n",
       "    <tr>\n",
       "      <th>2003</th>\n",
       "      <td>225625</td>\n",
       "      <td>N</td>\n",
       "      <td>(N</td>\n",
       "      <td>224987.0</td>\n",
       "      <td>225145.0</td>\n",
       "      <td>225206.0</td>\n",
       "      <td>225383.0</td>\n",
       "      <td>225410.0</td>\n",
       "      <td>27.0</td>\n",
       "      <td>177.0</td>\n",
       "      <td>61.0</td>\n",
       "      <td>158.0</td>\n",
       "      <td>215.0</td>\n",
       "    </tr>\n",
       "  </tbody>\n",
       "</table>\n",
       "<p>2004 rows × 13 columns</p>\n",
       "</div>"
      ]
     },
     "execution_count": 182,
     "metadata": {},
     "output_type": "execute_result"
    }
   ],
   "execution_count": 182
  },
  {
   "cell_type": "code",
   "metadata": {
    "ExecuteTime": {
     "end_time": "2025-01-19T16:09:39.936613Z",
     "start_time": "2025-01-19T16:09:39.935100Z"
    }
   },
   "source": "# Write your code here. Add as many boxes as you need.\n",
   "outputs": [],
   "execution_count": 183
  },
  {
   "cell_type": "markdown",
   "metadata": {},
   "source": [
    "## Encode the categorical variables"
   ]
  },
  {
   "cell_type": "code",
   "metadata": {
    "ExecuteTime": {
     "end_time": "2025-01-19T16:10:09.840401Z",
     "start_time": "2025-01-19T16:10:09.793968Z"
    }
   },
   "source": [
    "from sklearn.preprocessing import OrdinalEncoder\n",
    "\n",
    "# Write your code here. Add as many boxes as you need.\n",
    "beat_enc = OrdinalEncoder()\n",
    "episode_enc = OrdinalEncoder()\n",
    "\n",
    "df['Beat Annotation'] = beat_enc.fit_transform(df[['Beat Annotation']])\n",
    "df['Episode Annotation'] = episode_enc.fit_transform(df[['Episode Annotation']])"
   ],
   "outputs": [],
   "execution_count": 193
  },
  {
   "cell_type": "markdown",
   "metadata": {},
   "source": [
    "Check that the mapping worked:"
   ]
  },
  {
   "cell_type": "code",
   "metadata": {
    "ExecuteTime": {
     "end_time": "2025-01-19T16:10:18.844036Z",
     "start_time": "2025-01-19T16:10:18.834637Z"
    }
   },
   "source": [
    "# Write your code here. Add as many boxes as you need.\n",
    "df.sample(10)"
   ],
   "outputs": [
    {
     "data": {
      "text/plain": [
       "      R peak Interval  Beat Annotation  Episode Annotation  R peak Interval_5  \\\n",
       "85               7147              0.0                 0.0             6701.0   \n",
       "147             12282              0.0                 0.0            11927.0   \n",
       "710             65998              1.0                 1.0            65478.0   \n",
       "443             37654              0.0                 0.0            37134.0   \n",
       "1477           172661              0.0                 1.0           171921.0   \n",
       "1864           213232              0.0                 0.0           212840.0   \n",
       "1324           151415              0.0                 1.0           150669.0   \n",
       "750             71309              0.0                 2.0            70577.0   \n",
       "1531           180592              0.0                 1.0           179878.0   \n",
       "1858           212749              0.0                 0.0           212262.0   \n",
       "\n",
       "      R peak Interval_4  R peak Interval_3  R peak Interval_2  \\\n",
       "85               6802.0             6883.0             6961.0   \n",
       "147             12022.0            12107.0            12159.0   \n",
       "710             65647.0            65760.0            65832.0   \n",
       "443             37256.0            37376.0            37490.0   \n",
       "1477           172067.0           172227.0           172378.0   \n",
       "1864           212911.0           212982.0           213047.0   \n",
       "1324           150826.0           150969.0           151094.0   \n",
       "750             70697.0            70863.0            71020.0   \n",
       "1531           180016.0           180157.0           180301.0   \n",
       "1858           212360.0           212441.0           212546.0   \n",
       "\n",
       "      R peak Interval_1   RR 1   RR 2   RR 3   RR 4     RR  \n",
       "85               7038.0   77.0   78.0   81.0  101.0  109.0  \n",
       "147             12229.0   70.0   52.0   85.0   95.0   53.0  \n",
       "710             65973.0  141.0   72.0  113.0  169.0   25.0  \n",
       "443             37559.0   69.0  114.0  120.0  122.0   95.0  \n",
       "1477           172520.0  142.0  151.0  160.0  146.0  141.0  \n",
       "1864           213122.0   75.0   65.0   71.0   71.0  110.0  \n",
       "1324           151266.0  172.0  125.0  143.0  157.0  149.0  \n",
       "750             71140.0  120.0  157.0  166.0  120.0  169.0  \n",
       "1531           180456.0  155.0  144.0  141.0  138.0  136.0  \n",
       "1858           212639.0   93.0  105.0   81.0   98.0  110.0  "
      ],
      "text/html": [
       "<div>\n",
       "<style scoped>\n",
       "    .dataframe tbody tr th:only-of-type {\n",
       "        vertical-align: middle;\n",
       "    }\n",
       "\n",
       "    .dataframe tbody tr th {\n",
       "        vertical-align: top;\n",
       "    }\n",
       "\n",
       "    .dataframe thead th {\n",
       "        text-align: right;\n",
       "    }\n",
       "</style>\n",
       "<table border=\"1\" class=\"dataframe\">\n",
       "  <thead>\n",
       "    <tr style=\"text-align: right;\">\n",
       "      <th></th>\n",
       "      <th>R peak Interval</th>\n",
       "      <th>Beat Annotation</th>\n",
       "      <th>Episode Annotation</th>\n",
       "      <th>R peak Interval_5</th>\n",
       "      <th>R peak Interval_4</th>\n",
       "      <th>R peak Interval_3</th>\n",
       "      <th>R peak Interval_2</th>\n",
       "      <th>R peak Interval_1</th>\n",
       "      <th>RR 1</th>\n",
       "      <th>RR 2</th>\n",
       "      <th>RR 3</th>\n",
       "      <th>RR 4</th>\n",
       "      <th>RR</th>\n",
       "    </tr>\n",
       "  </thead>\n",
       "  <tbody>\n",
       "    <tr>\n",
       "      <th>85</th>\n",
       "      <td>7147</td>\n",
       "      <td>0.0</td>\n",
       "      <td>0.0</td>\n",
       "      <td>6701.0</td>\n",
       "      <td>6802.0</td>\n",
       "      <td>6883.0</td>\n",
       "      <td>6961.0</td>\n",
       "      <td>7038.0</td>\n",
       "      <td>77.0</td>\n",
       "      <td>78.0</td>\n",
       "      <td>81.0</td>\n",
       "      <td>101.0</td>\n",
       "      <td>109.0</td>\n",
       "    </tr>\n",
       "    <tr>\n",
       "      <th>147</th>\n",
       "      <td>12282</td>\n",
       "      <td>0.0</td>\n",
       "      <td>0.0</td>\n",
       "      <td>11927.0</td>\n",
       "      <td>12022.0</td>\n",
       "      <td>12107.0</td>\n",
       "      <td>12159.0</td>\n",
       "      <td>12229.0</td>\n",
       "      <td>70.0</td>\n",
       "      <td>52.0</td>\n",
       "      <td>85.0</td>\n",
       "      <td>95.0</td>\n",
       "      <td>53.0</td>\n",
       "    </tr>\n",
       "    <tr>\n",
       "      <th>710</th>\n",
       "      <td>65998</td>\n",
       "      <td>1.0</td>\n",
       "      <td>1.0</td>\n",
       "      <td>65478.0</td>\n",
       "      <td>65647.0</td>\n",
       "      <td>65760.0</td>\n",
       "      <td>65832.0</td>\n",
       "      <td>65973.0</td>\n",
       "      <td>141.0</td>\n",
       "      <td>72.0</td>\n",
       "      <td>113.0</td>\n",
       "      <td>169.0</td>\n",
       "      <td>25.0</td>\n",
       "    </tr>\n",
       "    <tr>\n",
       "      <th>443</th>\n",
       "      <td>37654</td>\n",
       "      <td>0.0</td>\n",
       "      <td>0.0</td>\n",
       "      <td>37134.0</td>\n",
       "      <td>37256.0</td>\n",
       "      <td>37376.0</td>\n",
       "      <td>37490.0</td>\n",
       "      <td>37559.0</td>\n",
       "      <td>69.0</td>\n",
       "      <td>114.0</td>\n",
       "      <td>120.0</td>\n",
       "      <td>122.0</td>\n",
       "      <td>95.0</td>\n",
       "    </tr>\n",
       "    <tr>\n",
       "      <th>1477</th>\n",
       "      <td>172661</td>\n",
       "      <td>0.0</td>\n",
       "      <td>1.0</td>\n",
       "      <td>171921.0</td>\n",
       "      <td>172067.0</td>\n",
       "      <td>172227.0</td>\n",
       "      <td>172378.0</td>\n",
       "      <td>172520.0</td>\n",
       "      <td>142.0</td>\n",
       "      <td>151.0</td>\n",
       "      <td>160.0</td>\n",
       "      <td>146.0</td>\n",
       "      <td>141.0</td>\n",
       "    </tr>\n",
       "    <tr>\n",
       "      <th>1864</th>\n",
       "      <td>213232</td>\n",
       "      <td>0.0</td>\n",
       "      <td>0.0</td>\n",
       "      <td>212840.0</td>\n",
       "      <td>212911.0</td>\n",
       "      <td>212982.0</td>\n",
       "      <td>213047.0</td>\n",
       "      <td>213122.0</td>\n",
       "      <td>75.0</td>\n",
       "      <td>65.0</td>\n",
       "      <td>71.0</td>\n",
       "      <td>71.0</td>\n",
       "      <td>110.0</td>\n",
       "    </tr>\n",
       "    <tr>\n",
       "      <th>1324</th>\n",
       "      <td>151415</td>\n",
       "      <td>0.0</td>\n",
       "      <td>1.0</td>\n",
       "      <td>150669.0</td>\n",
       "      <td>150826.0</td>\n",
       "      <td>150969.0</td>\n",
       "      <td>151094.0</td>\n",
       "      <td>151266.0</td>\n",
       "      <td>172.0</td>\n",
       "      <td>125.0</td>\n",
       "      <td>143.0</td>\n",
       "      <td>157.0</td>\n",
       "      <td>149.0</td>\n",
       "    </tr>\n",
       "    <tr>\n",
       "      <th>750</th>\n",
       "      <td>71309</td>\n",
       "      <td>0.0</td>\n",
       "      <td>2.0</td>\n",
       "      <td>70577.0</td>\n",
       "      <td>70697.0</td>\n",
       "      <td>70863.0</td>\n",
       "      <td>71020.0</td>\n",
       "      <td>71140.0</td>\n",
       "      <td>120.0</td>\n",
       "      <td>157.0</td>\n",
       "      <td>166.0</td>\n",
       "      <td>120.0</td>\n",
       "      <td>169.0</td>\n",
       "    </tr>\n",
       "    <tr>\n",
       "      <th>1531</th>\n",
       "      <td>180592</td>\n",
       "      <td>0.0</td>\n",
       "      <td>1.0</td>\n",
       "      <td>179878.0</td>\n",
       "      <td>180016.0</td>\n",
       "      <td>180157.0</td>\n",
       "      <td>180301.0</td>\n",
       "      <td>180456.0</td>\n",
       "      <td>155.0</td>\n",
       "      <td>144.0</td>\n",
       "      <td>141.0</td>\n",
       "      <td>138.0</td>\n",
       "      <td>136.0</td>\n",
       "    </tr>\n",
       "    <tr>\n",
       "      <th>1858</th>\n",
       "      <td>212749</td>\n",
       "      <td>0.0</td>\n",
       "      <td>0.0</td>\n",
       "      <td>212262.0</td>\n",
       "      <td>212360.0</td>\n",
       "      <td>212441.0</td>\n",
       "      <td>212546.0</td>\n",
       "      <td>212639.0</td>\n",
       "      <td>93.0</td>\n",
       "      <td>105.0</td>\n",
       "      <td>81.0</td>\n",
       "      <td>98.0</td>\n",
       "      <td>110.0</td>\n",
       "    </tr>\n",
       "  </tbody>\n",
       "</table>\n",
       "</div>"
      ]
     },
     "execution_count": 194,
     "metadata": {},
     "output_type": "execute_result"
    }
   ],
   "execution_count": 194
  },
  {
   "cell_type": "markdown",
   "metadata": {},
   "source": [
    "---\n",
    "# Model Training"
   ]
  },
  {
   "cell_type": "markdown",
   "metadata": {},
   "source": [
    "## Remove unnecessary columns"
   ]
  },
  {
   "cell_type": "markdown",
   "metadata": {},
   "source": [
    "For the purposes of training we will only be using the following columns as features:\n",
    "- Beat Annotation\n",
    "- Episode Annotation\n",
    "- **All historical** 4 RR intervals\n",
    "\n",
    "Moreover, the target column we will be forcasting is the ```current RR``` interval."
   ]
  },
  {
   "cell_type": "code",
   "metadata": {
    "ExecuteTime": {
     "end_time": "2025-01-19T16:09:40.013132Z",
     "start_time": "2025-01-19T16:09:40.011516Z"
    }
   },
   "source": [
    "# Write your code here. Add as many boxes as you need."
   ],
   "outputs": [],
   "execution_count": 186
  },
  {
   "cell_type": "markdown",
   "metadata": {},
   "source": [
    "## Dataset Splitting\n",
    "Partition the dataset into training and testing sets with an 80:20 ratio.\n",
    "\n",
    "**WARNING: DO NOT SHUFFLE THE DATASET.**"
   ]
  },
  {
   "cell_type": "code",
   "metadata": {
    "ExecuteTime": {
     "end_time": "2025-01-19T16:09:40.024757Z",
     "start_time": "2025-01-19T16:09:40.023343Z"
    }
   },
   "source": [
    "# Write your code here. Add as many boxes as you need."
   ],
   "outputs": [],
   "execution_count": 187
  },
  {
   "cell_type": "markdown",
   "metadata": {},
   "source": [
    "## Neural Network (RNN / CRNN)\n",
    "\n",
    "Create a deep (convolutional) recurrent neural network using:\n",
    "- Minimum of 1 Convolutional Layer **(+2 points Optional)** and\n",
    "- Minimum of 1 LSTM Layer"
   ]
  },
  {
   "cell_type": "code",
   "metadata": {
    "ExecuteTime": {
     "end_time": "2025-01-19T16:09:40.032694Z",
     "start_time": "2025-01-19T16:09:40.031391Z"
    }
   },
   "source": [
    "# Write your code here. Add as many boxes as you need."
   ],
   "outputs": [],
   "execution_count": 188
  },
  {
   "cell_type": "markdown",
   "metadata": {},
   "source": [
    "**Reshape Data If Necessary**"
   ]
  },
  {
   "cell_type": "code",
   "metadata": {
    "ExecuteTime": {
     "end_time": "2025-01-19T16:09:40.041014Z",
     "start_time": "2025-01-19T16:09:40.039694Z"
    }
   },
   "source": [
    "# Write your code here. Add as many boxes as you need."
   ],
   "outputs": [],
   "execution_count": 189
  },
  {
   "cell_type": "markdown",
   "metadata": {},
   "source": [
    "Compile and fit the model (Run only train 3 Epoch)."
   ]
  },
  {
   "cell_type": "code",
   "metadata": {
    "ExecuteTime": {
     "end_time": "2025-01-19T16:09:40.048660Z",
     "start_time": "2025-01-19T16:09:40.047368Z"
    }
   },
   "source": [
    "# Write your code here. Add as many boxes as you need."
   ],
   "outputs": [],
   "execution_count": 190
  },
  {
   "cell_type": "markdown",
   "metadata": {},
   "source": [
    "---\n",
    "# Model Evaluation"
   ]
  },
  {
   "cell_type": "markdown",
   "metadata": {},
   "source": [
    "Use the trained model to make predictions for the test set."
   ]
  },
  {
   "cell_type": "code",
   "metadata": {
    "ExecuteTime": {
     "end_time": "2025-01-19T16:09:40.056150Z",
     "start_time": "2025-01-19T16:09:40.054847Z"
    }
   },
   "source": [
    "# Write your code here. Add as many boxes as you need."
   ],
   "outputs": [],
   "execution_count": 191
  },
  {
   "cell_type": "markdown",
   "metadata": {},
   "source": [
    "Assess the performance of the model by using different metrics provided by the `scikit-learn` library."
   ]
  },
  {
   "cell_type": "code",
   "metadata": {
    "ExecuteTime": {
     "end_time": "2025-01-19T16:09:40.063419Z",
     "start_time": "2025-01-19T16:09:40.062092Z"
    }
   },
   "source": [
    "# Write your code here. Add as many boxes as you need."
   ],
   "outputs": [],
   "execution_count": 192
  }
 ],
 "metadata": {
  "kernelspec": {
   "display_name": "base",
   "language": "python",
   "name": "python3"
  },
  "language_info": {
   "codemirror_mode": {
    "name": "ipython",
    "version": 3
   },
   "file_extension": ".py",
   "mimetype": "text/x-python",
   "name": "python",
   "nbconvert_exporter": "python",
   "pygments_lexer": "ipython3",
   "version": "3.10.9"
  }
 },
 "nbformat": 4,
 "nbformat_minor": 2
}
