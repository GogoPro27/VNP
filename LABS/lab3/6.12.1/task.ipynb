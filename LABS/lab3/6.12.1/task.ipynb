{
 "cells": [
  {
   "cell_type": "markdown",
   "metadata": {
    "id": "rODb9vHvIEbp"
   },
   "source": [
    "# Requirements"
   ]
  },
  {
   "cell_type": "code",
   "metadata": {
    "id": "-rgNa1IOH9KV",
    "ExecuteTime": {
     "end_time": "2024-12-12T11:33:51.509941Z",
     "start_time": "2024-12-12T11:33:51.508249Z"
    }
   },
   "source": [
    "import matplotlib.pyplot as plt\n",
    "import pandas as pd\n",
    "from IPython.core.pylabtools import figsize"
   ],
   "outputs": [],
   "execution_count": 66
  },
  {
   "cell_type": "code",
   "metadata": {
    "id": "U4KmHBd2cdx9",
    "ExecuteTime": {
     "end_time": "2024-12-12T11:33:51.585358Z",
     "start_time": "2024-12-12T11:33:51.583756Z"
    }
   },
   "source": [
    "# Add as many imports as you need."
   ],
   "outputs": [],
   "execution_count": 67
  },
  {
   "cell_type": "markdown",
   "metadata": {
    "id": "KNMMoUiUIW3L"
   },
   "source": [
    "# Laboratory Exercise - Run Mode (8 points)"
   ]
  },
  {
   "cell_type": "markdown",
   "metadata": {
    "id": "_rAh_91OIjeS"
   },
   "source": [
    "## Introduction\n",
    "In this laboratory assignment, the focus is on time series forecasting, specifically targeting the prediction of the current **mean temperature** in the city of Delhi. Your task involves employing bagging and boosting methods to forecast the **mean temperature**. To accomplish this use data from the preceding three days, consisting of **mean temperature**, **humidity**, **wind speed**, and **mean pressure**.\n",
    "\n",
    "**Note: You are required to perform this laboratory assignment on your local machine.**"
   ]
  },
  {
   "cell_type": "markdown",
   "metadata": {
    "id": "zBYI-EypaWom"
   },
   "source": [
    "## The Climate Dataset"
   ]
  },
  {
   "cell_type": "markdown",
   "metadata": {
    "id": "IDW_23TIK6iv"
   },
   "source": [
    "## Downloading the Climate Dataset"
   ]
  },
  {
   "cell_type": "code",
   "metadata": {
    "colab": {
     "base_uri": "https://localhost:8080/"
    },
    "id": "NNtbofJTIWqK",
    "outputId": "ddcadec0-faff-427e-eae1-6f139b57eced",
    "ExecuteTime": {
     "end_time": "2024-12-12T11:33:51.596502Z",
     "start_time": "2024-12-12T11:33:51.594920Z"
    }
   },
   "source": "# !gdown 1kczX2FpFTH1QEsDeg6dszXM3Azwyd7XC # Download the dataset.",
   "outputs": [],
   "execution_count": 68
  },
  {
   "cell_type": "markdown",
   "metadata": {
    "id": "iAtPoYzAZo1v"
   },
   "source": [
    "## Exploring the Climate Dataset\n",
    "This dataset consists of daily weather records for the city of Delhi spanning a period of 4 years (from 2013 to 2017). The dataset includes the following attributes:\n",
    "\n",
    "- date - date in the format YYYY-MM-DD,\n",
    "- meantemp - mean temperature averaged from multiple 3-hour intervals in a day,\n",
    "- humidity - humidity value for the day (measured in grams of water vapor per cubic meter volume of air),\n",
    "- wind_speed - wind speed measured in kilometers per hour, and\n",
    "- meanpressure - pressure reading of the weather (measured in atm).\n",
    "\n",
    "*Note: The dataset is complete, with no missing values in any of its entries.*"
   ]
  },
  {
   "cell_type": "markdown",
   "metadata": {
    "id": "DCm1qm1mZwMr"
   },
   "source": [
    "Load the dataset into a `pandas` data frame."
   ]
  },
  {
   "cell_type": "code",
   "metadata": {
    "id": "KMOn4fgcZn8s",
    "ExecuteTime": {
     "end_time": "2025-01-19T13:58:41.459544Z",
     "start_time": "2025-01-19T13:58:41.454523Z"
    }
   },
   "source": [
    "# Write your code here. Add as many boxes as you need.\n",
    "import pandas as pd\n",
    "df = pd.read_csv(\"./climate-data.csv\")"
   ],
   "outputs": [],
   "execution_count": 1
  },
  {
   "metadata": {
    "ExecuteTime": {
     "end_time": "2025-01-19T13:58:41.472971Z",
     "start_time": "2025-01-19T13:58:41.467213Z"
    }
   },
   "cell_type": "code",
   "source": "df",
   "outputs": [
    {
     "data": {
      "text/plain": [
       "            date   meantemp    humidity  wind_speed  meanpressure\n",
       "0     2013-01-01  10.000000   84.500000    0.000000   1015.666667\n",
       "1     2013-01-02   7.400000   92.000000    2.980000   1017.800000\n",
       "2     2013-01-03   7.166667   87.000000    4.633333   1018.666667\n",
       "3     2013-01-04   8.666667   71.333333    1.233333   1017.166667\n",
       "4     2013-01-05   6.000000   86.833333    3.700000   1016.500000\n",
       "...          ...        ...         ...         ...           ...\n",
       "1457  2016-12-28  17.217391   68.043478    3.547826   1015.565217\n",
       "1458  2016-12-29  15.238095   87.857143    6.000000   1016.904762\n",
       "1459  2016-12-30  14.095238   89.666667    6.266667   1017.904762\n",
       "1460  2016-12-31  15.052632   87.000000    7.325000   1016.100000\n",
       "1461  2017-01-01  10.000000  100.000000    0.000000   1016.000000\n",
       "\n",
       "[1462 rows x 5 columns]"
      ],
      "text/html": [
       "<div>\n",
       "<style scoped>\n",
       "    .dataframe tbody tr th:only-of-type {\n",
       "        vertical-align: middle;\n",
       "    }\n",
       "\n",
       "    .dataframe tbody tr th {\n",
       "        vertical-align: top;\n",
       "    }\n",
       "\n",
       "    .dataframe thead th {\n",
       "        text-align: right;\n",
       "    }\n",
       "</style>\n",
       "<table border=\"1\" class=\"dataframe\">\n",
       "  <thead>\n",
       "    <tr style=\"text-align: right;\">\n",
       "      <th></th>\n",
       "      <th>date</th>\n",
       "      <th>meantemp</th>\n",
       "      <th>humidity</th>\n",
       "      <th>wind_speed</th>\n",
       "      <th>meanpressure</th>\n",
       "    </tr>\n",
       "  </thead>\n",
       "  <tbody>\n",
       "    <tr>\n",
       "      <th>0</th>\n",
       "      <td>2013-01-01</td>\n",
       "      <td>10.000000</td>\n",
       "      <td>84.500000</td>\n",
       "      <td>0.000000</td>\n",
       "      <td>1015.666667</td>\n",
       "    </tr>\n",
       "    <tr>\n",
       "      <th>1</th>\n",
       "      <td>2013-01-02</td>\n",
       "      <td>7.400000</td>\n",
       "      <td>92.000000</td>\n",
       "      <td>2.980000</td>\n",
       "      <td>1017.800000</td>\n",
       "    </tr>\n",
       "    <tr>\n",
       "      <th>2</th>\n",
       "      <td>2013-01-03</td>\n",
       "      <td>7.166667</td>\n",
       "      <td>87.000000</td>\n",
       "      <td>4.633333</td>\n",
       "      <td>1018.666667</td>\n",
       "    </tr>\n",
       "    <tr>\n",
       "      <th>3</th>\n",
       "      <td>2013-01-04</td>\n",
       "      <td>8.666667</td>\n",
       "      <td>71.333333</td>\n",
       "      <td>1.233333</td>\n",
       "      <td>1017.166667</td>\n",
       "    </tr>\n",
       "    <tr>\n",
       "      <th>4</th>\n",
       "      <td>2013-01-05</td>\n",
       "      <td>6.000000</td>\n",
       "      <td>86.833333</td>\n",
       "      <td>3.700000</td>\n",
       "      <td>1016.500000</td>\n",
       "    </tr>\n",
       "    <tr>\n",
       "      <th>...</th>\n",
       "      <td>...</td>\n",
       "      <td>...</td>\n",
       "      <td>...</td>\n",
       "      <td>...</td>\n",
       "      <td>...</td>\n",
       "    </tr>\n",
       "    <tr>\n",
       "      <th>1457</th>\n",
       "      <td>2016-12-28</td>\n",
       "      <td>17.217391</td>\n",
       "      <td>68.043478</td>\n",
       "      <td>3.547826</td>\n",
       "      <td>1015.565217</td>\n",
       "    </tr>\n",
       "    <tr>\n",
       "      <th>1458</th>\n",
       "      <td>2016-12-29</td>\n",
       "      <td>15.238095</td>\n",
       "      <td>87.857143</td>\n",
       "      <td>6.000000</td>\n",
       "      <td>1016.904762</td>\n",
       "    </tr>\n",
       "    <tr>\n",
       "      <th>1459</th>\n",
       "      <td>2016-12-30</td>\n",
       "      <td>14.095238</td>\n",
       "      <td>89.666667</td>\n",
       "      <td>6.266667</td>\n",
       "      <td>1017.904762</td>\n",
       "    </tr>\n",
       "    <tr>\n",
       "      <th>1460</th>\n",
       "      <td>2016-12-31</td>\n",
       "      <td>15.052632</td>\n",
       "      <td>87.000000</td>\n",
       "      <td>7.325000</td>\n",
       "      <td>1016.100000</td>\n",
       "    </tr>\n",
       "    <tr>\n",
       "      <th>1461</th>\n",
       "      <td>2017-01-01</td>\n",
       "      <td>10.000000</td>\n",
       "      <td>100.000000</td>\n",
       "      <td>0.000000</td>\n",
       "      <td>1016.000000</td>\n",
       "    </tr>\n",
       "  </tbody>\n",
       "</table>\n",
       "<p>1462 rows × 5 columns</p>\n",
       "</div>"
      ]
     },
     "execution_count": 2,
     "metadata": {},
     "output_type": "execute_result"
    }
   ],
   "execution_count": 2
  },
  {
   "cell_type": "markdown",
   "metadata": {
    "id": "5slwyyhCKRo9"
   },
   "source": [
    "Explore the dataset using visualizations of your choice."
   ]
  },
  {
   "cell_type": "code",
   "metadata": {
    "id": "DFY6TKhGKOY4",
    "ExecuteTime": {
     "end_time": "2025-01-19T13:58:45.766510Z",
     "start_time": "2025-01-19T13:58:45.763142Z"
    }
   },
   "source": [
    "# Write your code here. Add as many boxes as you need.\n",
    "df.isnull().sum()"
   ],
   "outputs": [
    {
     "data": {
      "text/plain": [
       "date            0\n",
       "meantemp        0\n",
       "humidity        0\n",
       "wind_speed      0\n",
       "meanpressure    0\n",
       "dtype: int64"
      ]
     },
     "execution_count": 3,
     "metadata": {},
     "output_type": "execute_result"
    }
   ],
   "execution_count": 3
  },
  {
   "metadata": {
    "ExecuteTime": {
     "end_time": "2025-01-19T13:58:47.855394Z",
     "start_time": "2025-01-19T13:58:47.844394Z"
    }
   },
   "cell_type": "code",
   "source": "df[\"date\"] = pd.to_datetime(df[\"date\"])\n",
   "outputs": [],
   "execution_count": 4
  },
  {
   "metadata": {
    "ExecuteTime": {
     "end_time": "2025-01-19T13:58:48.313438Z",
     "start_time": "2025-01-19T13:58:48.310412Z"
    }
   },
   "cell_type": "code",
   "source": "df.set_index(keys=[\"date\"], inplace=True)\n",
   "outputs": [],
   "execution_count": 5
  },
  {
   "metadata": {
    "ExecuteTime": {
     "end_time": "2025-01-19T13:58:49.707010Z",
     "start_time": "2025-01-19T13:58:49.701376Z"
    }
   },
   "cell_type": "code",
   "source": "df",
   "outputs": [
    {
     "data": {
      "text/plain": [
       "             meantemp    humidity  wind_speed  meanpressure\n",
       "date                                                       \n",
       "2013-01-01  10.000000   84.500000    0.000000   1015.666667\n",
       "2013-01-02   7.400000   92.000000    2.980000   1017.800000\n",
       "2013-01-03   7.166667   87.000000    4.633333   1018.666667\n",
       "2013-01-04   8.666667   71.333333    1.233333   1017.166667\n",
       "2013-01-05   6.000000   86.833333    3.700000   1016.500000\n",
       "...               ...         ...         ...           ...\n",
       "2016-12-28  17.217391   68.043478    3.547826   1015.565217\n",
       "2016-12-29  15.238095   87.857143    6.000000   1016.904762\n",
       "2016-12-30  14.095238   89.666667    6.266667   1017.904762\n",
       "2016-12-31  15.052632   87.000000    7.325000   1016.100000\n",
       "2017-01-01  10.000000  100.000000    0.000000   1016.000000\n",
       "\n",
       "[1462 rows x 4 columns]"
      ],
      "text/html": [
       "<div>\n",
       "<style scoped>\n",
       "    .dataframe tbody tr th:only-of-type {\n",
       "        vertical-align: middle;\n",
       "    }\n",
       "\n",
       "    .dataframe tbody tr th {\n",
       "        vertical-align: top;\n",
       "    }\n",
       "\n",
       "    .dataframe thead th {\n",
       "        text-align: right;\n",
       "    }\n",
       "</style>\n",
       "<table border=\"1\" class=\"dataframe\">\n",
       "  <thead>\n",
       "    <tr style=\"text-align: right;\">\n",
       "      <th></th>\n",
       "      <th>meantemp</th>\n",
       "      <th>humidity</th>\n",
       "      <th>wind_speed</th>\n",
       "      <th>meanpressure</th>\n",
       "    </tr>\n",
       "    <tr>\n",
       "      <th>date</th>\n",
       "      <th></th>\n",
       "      <th></th>\n",
       "      <th></th>\n",
       "      <th></th>\n",
       "    </tr>\n",
       "  </thead>\n",
       "  <tbody>\n",
       "    <tr>\n",
       "      <th>2013-01-01</th>\n",
       "      <td>10.000000</td>\n",
       "      <td>84.500000</td>\n",
       "      <td>0.000000</td>\n",
       "      <td>1015.666667</td>\n",
       "    </tr>\n",
       "    <tr>\n",
       "      <th>2013-01-02</th>\n",
       "      <td>7.400000</td>\n",
       "      <td>92.000000</td>\n",
       "      <td>2.980000</td>\n",
       "      <td>1017.800000</td>\n",
       "    </tr>\n",
       "    <tr>\n",
       "      <th>2013-01-03</th>\n",
       "      <td>7.166667</td>\n",
       "      <td>87.000000</td>\n",
       "      <td>4.633333</td>\n",
       "      <td>1018.666667</td>\n",
       "    </tr>\n",
       "    <tr>\n",
       "      <th>2013-01-04</th>\n",
       "      <td>8.666667</td>\n",
       "      <td>71.333333</td>\n",
       "      <td>1.233333</td>\n",
       "      <td>1017.166667</td>\n",
       "    </tr>\n",
       "    <tr>\n",
       "      <th>2013-01-05</th>\n",
       "      <td>6.000000</td>\n",
       "      <td>86.833333</td>\n",
       "      <td>3.700000</td>\n",
       "      <td>1016.500000</td>\n",
       "    </tr>\n",
       "    <tr>\n",
       "      <th>...</th>\n",
       "      <td>...</td>\n",
       "      <td>...</td>\n",
       "      <td>...</td>\n",
       "      <td>...</td>\n",
       "    </tr>\n",
       "    <tr>\n",
       "      <th>2016-12-28</th>\n",
       "      <td>17.217391</td>\n",
       "      <td>68.043478</td>\n",
       "      <td>3.547826</td>\n",
       "      <td>1015.565217</td>\n",
       "    </tr>\n",
       "    <tr>\n",
       "      <th>2016-12-29</th>\n",
       "      <td>15.238095</td>\n",
       "      <td>87.857143</td>\n",
       "      <td>6.000000</td>\n",
       "      <td>1016.904762</td>\n",
       "    </tr>\n",
       "    <tr>\n",
       "      <th>2016-12-30</th>\n",
       "      <td>14.095238</td>\n",
       "      <td>89.666667</td>\n",
       "      <td>6.266667</td>\n",
       "      <td>1017.904762</td>\n",
       "    </tr>\n",
       "    <tr>\n",
       "      <th>2016-12-31</th>\n",
       "      <td>15.052632</td>\n",
       "      <td>87.000000</td>\n",
       "      <td>7.325000</td>\n",
       "      <td>1016.100000</td>\n",
       "    </tr>\n",
       "    <tr>\n",
       "      <th>2017-01-01</th>\n",
       "      <td>10.000000</td>\n",
       "      <td>100.000000</td>\n",
       "      <td>0.000000</td>\n",
       "      <td>1016.000000</td>\n",
       "    </tr>\n",
       "  </tbody>\n",
       "</table>\n",
       "<p>1462 rows × 4 columns</p>\n",
       "</div>"
      ]
     },
     "execution_count": 6,
     "metadata": {},
     "output_type": "execute_result"
    }
   ],
   "execution_count": 6
  },
  {
   "metadata": {
    "ExecuteTime": {
     "end_time": "2025-01-19T13:58:50.872280Z",
     "start_time": "2025-01-19T13:58:50.869373Z"
    }
   },
   "cell_type": "code",
   "source": "df.sort_index(inplace=True)\n",
   "outputs": [],
   "execution_count": 7
  },
  {
   "cell_type": "markdown",
   "metadata": {
    "id": "hZceBEFuiGpI"
   },
   "source": [
    "# Feauture Extraction\n",
    "Apply a lag of one, two, and three days to each feature, creating a set of features representing the meteorological conditions from the previous three days. To maintain dataset integrity, eliminate any resulting missing values at the beginning of the dataset.\n",
    "\n",
    "Hint: Use `df['column_name'].shift(period)`. Check the documentation at https://pandas.pydata.org/docs/reference/api/pandas.DataFrame.shift.html."
   ]
  },
  {
   "metadata": {
    "ExecuteTime": {
     "end_time": "2025-01-19T13:58:54.816479Z",
     "start_time": "2025-01-19T13:58:54.812907Z"
    }
   },
   "cell_type": "code",
   "source": [
    "def shift_columns(df:pd.DataFrame,columns:list[str],n:int):\n",
    "    df_copy = df.copy(deep=True)\n",
    "    for column in columns:\n",
    "        for i in range(1, n+1):\n",
    "            df_copy[f'{column}_shifted_{i}'] = df_copy[column].shift(i)\n",
    "    return df_copy"
   ],
   "outputs": [],
   "execution_count": 8
  },
  {
   "cell_type": "code",
   "metadata": {
    "id": "qHwGg9ieiFL1",
    "ExecuteTime": {
     "end_time": "2025-01-19T13:58:55.877751Z",
     "start_time": "2025-01-19T13:58:55.873094Z"
    }
   },
   "source": [
    "# Write your code here. Add as many boxes as you need.\n",
    "columns = list(df.columns)\n",
    "df = shift_columns(df,columns,3)"
   ],
   "outputs": [],
   "execution_count": 9
  },
  {
   "metadata": {
    "ExecuteTime": {
     "end_time": "2025-01-19T13:58:57.380770Z",
     "start_time": "2025-01-19T13:58:57.372376Z"
    }
   },
   "cell_type": "code",
   "source": "df",
   "outputs": [
    {
     "data": {
      "text/plain": [
       "             meantemp    humidity  wind_speed  meanpressure  \\\n",
       "date                                                          \n",
       "2013-01-01  10.000000   84.500000    0.000000   1015.666667   \n",
       "2013-01-02   7.400000   92.000000    2.980000   1017.800000   \n",
       "2013-01-03   7.166667   87.000000    4.633333   1018.666667   \n",
       "2013-01-04   8.666667   71.333333    1.233333   1017.166667   \n",
       "2013-01-05   6.000000   86.833333    3.700000   1016.500000   \n",
       "...               ...         ...         ...           ...   \n",
       "2016-12-28  17.217391   68.043478    3.547826   1015.565217   \n",
       "2016-12-29  15.238095   87.857143    6.000000   1016.904762   \n",
       "2016-12-30  14.095238   89.666667    6.266667   1017.904762   \n",
       "2016-12-31  15.052632   87.000000    7.325000   1016.100000   \n",
       "2017-01-01  10.000000  100.000000    0.000000   1016.000000   \n",
       "\n",
       "            meantemp_shifted_1  meantemp_shifted_2  meantemp_shifted_3  \\\n",
       "date                                                                     \n",
       "2013-01-01                 NaN                 NaN                 NaN   \n",
       "2013-01-02           10.000000                 NaN                 NaN   \n",
       "2013-01-03            7.400000           10.000000                 NaN   \n",
       "2013-01-04            7.166667            7.400000           10.000000   \n",
       "2013-01-05            8.666667            7.166667            7.400000   \n",
       "...                        ...                 ...                 ...   \n",
       "2016-12-28           16.850000           17.142857           14.000000   \n",
       "2016-12-29           17.217391           16.850000           17.142857   \n",
       "2016-12-30           15.238095           17.217391           16.850000   \n",
       "2016-12-31           14.095238           15.238095           17.217391   \n",
       "2017-01-01           15.052632           14.095238           15.238095   \n",
       "\n",
       "            humidity_shifted_1  humidity_shifted_2  humidity_shifted_3  \\\n",
       "date                                                                     \n",
       "2013-01-01                 NaN                 NaN                 NaN   \n",
       "2013-01-02           84.500000                 NaN                 NaN   \n",
       "2013-01-03           92.000000           84.500000                 NaN   \n",
       "2013-01-04           87.000000           92.000000           84.500000   \n",
       "2013-01-05           71.333333           87.000000           92.000000   \n",
       "...                        ...                 ...                 ...   \n",
       "2016-12-28           67.550000           74.857143           94.300000   \n",
       "2016-12-29           68.043478           67.550000           74.857143   \n",
       "2016-12-30           87.857143           68.043478           67.550000   \n",
       "2016-12-31           89.666667           87.857143           68.043478   \n",
       "2017-01-01           87.000000           89.666667           87.857143   \n",
       "\n",
       "            wind_speed_shifted_1  wind_speed_shifted_2  wind_speed_shifted_3  \\\n",
       "date                                                                           \n",
       "2013-01-01                   NaN                   NaN                   NaN   \n",
       "2013-01-02              0.000000                   NaN                   NaN   \n",
       "2013-01-03              2.980000              0.000000                   NaN   \n",
       "2013-01-04              4.633333              2.980000              0.000000   \n",
       "2013-01-05              1.233333              4.633333              2.980000   \n",
       "...                          ...                   ...                   ...   \n",
       "2016-12-28              8.335000              8.784211              9.085000   \n",
       "2016-12-29              3.547826              8.335000              8.784211   \n",
       "2016-12-30              6.000000              3.547826              8.335000   \n",
       "2016-12-31              6.266667              6.000000              3.547826   \n",
       "2017-01-01              7.325000              6.266667              6.000000   \n",
       "\n",
       "            meanpressure_shifted_1  meanpressure_shifted_2  \\\n",
       "date                                                         \n",
       "2013-01-01                     NaN                     NaN   \n",
       "2013-01-02             1015.666667                     NaN   \n",
       "2013-01-03             1017.800000             1015.666667   \n",
       "2013-01-04             1018.666667             1017.800000   \n",
       "2013-01-05             1017.166667             1018.666667   \n",
       "...                            ...                     ...   \n",
       "2016-12-28             1017.200000             1016.952381   \n",
       "2016-12-29             1015.565217             1017.200000   \n",
       "2016-12-30             1016.904762             1015.565217   \n",
       "2016-12-31             1017.904762             1016.904762   \n",
       "2017-01-01             1016.100000             1017.904762   \n",
       "\n",
       "            meanpressure_shifted_3  \n",
       "date                                \n",
       "2013-01-01                     NaN  \n",
       "2013-01-02                     NaN  \n",
       "2013-01-03                     NaN  \n",
       "2013-01-04             1015.666667  \n",
       "2013-01-05             1017.800000  \n",
       "...                            ...  \n",
       "2016-12-28             1014.350000  \n",
       "2016-12-29             1016.952381  \n",
       "2016-12-30             1017.200000  \n",
       "2016-12-31             1015.565217  \n",
       "2017-01-01             1016.904762  \n",
       "\n",
       "[1462 rows x 16 columns]"
      ],
      "text/html": [
       "<div>\n",
       "<style scoped>\n",
       "    .dataframe tbody tr th:only-of-type {\n",
       "        vertical-align: middle;\n",
       "    }\n",
       "\n",
       "    .dataframe tbody tr th {\n",
       "        vertical-align: top;\n",
       "    }\n",
       "\n",
       "    .dataframe thead th {\n",
       "        text-align: right;\n",
       "    }\n",
       "</style>\n",
       "<table border=\"1\" class=\"dataframe\">\n",
       "  <thead>\n",
       "    <tr style=\"text-align: right;\">\n",
       "      <th></th>\n",
       "      <th>meantemp</th>\n",
       "      <th>humidity</th>\n",
       "      <th>wind_speed</th>\n",
       "      <th>meanpressure</th>\n",
       "      <th>meantemp_shifted_1</th>\n",
       "      <th>meantemp_shifted_2</th>\n",
       "      <th>meantemp_shifted_3</th>\n",
       "      <th>humidity_shifted_1</th>\n",
       "      <th>humidity_shifted_2</th>\n",
       "      <th>humidity_shifted_3</th>\n",
       "      <th>wind_speed_shifted_1</th>\n",
       "      <th>wind_speed_shifted_2</th>\n",
       "      <th>wind_speed_shifted_3</th>\n",
       "      <th>meanpressure_shifted_1</th>\n",
       "      <th>meanpressure_shifted_2</th>\n",
       "      <th>meanpressure_shifted_3</th>\n",
       "    </tr>\n",
       "    <tr>\n",
       "      <th>date</th>\n",
       "      <th></th>\n",
       "      <th></th>\n",
       "      <th></th>\n",
       "      <th></th>\n",
       "      <th></th>\n",
       "      <th></th>\n",
       "      <th></th>\n",
       "      <th></th>\n",
       "      <th></th>\n",
       "      <th></th>\n",
       "      <th></th>\n",
       "      <th></th>\n",
       "      <th></th>\n",
       "      <th></th>\n",
       "      <th></th>\n",
       "      <th></th>\n",
       "    </tr>\n",
       "  </thead>\n",
       "  <tbody>\n",
       "    <tr>\n",
       "      <th>2013-01-01</th>\n",
       "      <td>10.000000</td>\n",
       "      <td>84.500000</td>\n",
       "      <td>0.000000</td>\n",
       "      <td>1015.666667</td>\n",
       "      <td>NaN</td>\n",
       "      <td>NaN</td>\n",
       "      <td>NaN</td>\n",
       "      <td>NaN</td>\n",
       "      <td>NaN</td>\n",
       "      <td>NaN</td>\n",
       "      <td>NaN</td>\n",
       "      <td>NaN</td>\n",
       "      <td>NaN</td>\n",
       "      <td>NaN</td>\n",
       "      <td>NaN</td>\n",
       "      <td>NaN</td>\n",
       "    </tr>\n",
       "    <tr>\n",
       "      <th>2013-01-02</th>\n",
       "      <td>7.400000</td>\n",
       "      <td>92.000000</td>\n",
       "      <td>2.980000</td>\n",
       "      <td>1017.800000</td>\n",
       "      <td>10.000000</td>\n",
       "      <td>NaN</td>\n",
       "      <td>NaN</td>\n",
       "      <td>84.500000</td>\n",
       "      <td>NaN</td>\n",
       "      <td>NaN</td>\n",
       "      <td>0.000000</td>\n",
       "      <td>NaN</td>\n",
       "      <td>NaN</td>\n",
       "      <td>1015.666667</td>\n",
       "      <td>NaN</td>\n",
       "      <td>NaN</td>\n",
       "    </tr>\n",
       "    <tr>\n",
       "      <th>2013-01-03</th>\n",
       "      <td>7.166667</td>\n",
       "      <td>87.000000</td>\n",
       "      <td>4.633333</td>\n",
       "      <td>1018.666667</td>\n",
       "      <td>7.400000</td>\n",
       "      <td>10.000000</td>\n",
       "      <td>NaN</td>\n",
       "      <td>92.000000</td>\n",
       "      <td>84.500000</td>\n",
       "      <td>NaN</td>\n",
       "      <td>2.980000</td>\n",
       "      <td>0.000000</td>\n",
       "      <td>NaN</td>\n",
       "      <td>1017.800000</td>\n",
       "      <td>1015.666667</td>\n",
       "      <td>NaN</td>\n",
       "    </tr>\n",
       "    <tr>\n",
       "      <th>2013-01-04</th>\n",
       "      <td>8.666667</td>\n",
       "      <td>71.333333</td>\n",
       "      <td>1.233333</td>\n",
       "      <td>1017.166667</td>\n",
       "      <td>7.166667</td>\n",
       "      <td>7.400000</td>\n",
       "      <td>10.000000</td>\n",
       "      <td>87.000000</td>\n",
       "      <td>92.000000</td>\n",
       "      <td>84.500000</td>\n",
       "      <td>4.633333</td>\n",
       "      <td>2.980000</td>\n",
       "      <td>0.000000</td>\n",
       "      <td>1018.666667</td>\n",
       "      <td>1017.800000</td>\n",
       "      <td>1015.666667</td>\n",
       "    </tr>\n",
       "    <tr>\n",
       "      <th>2013-01-05</th>\n",
       "      <td>6.000000</td>\n",
       "      <td>86.833333</td>\n",
       "      <td>3.700000</td>\n",
       "      <td>1016.500000</td>\n",
       "      <td>8.666667</td>\n",
       "      <td>7.166667</td>\n",
       "      <td>7.400000</td>\n",
       "      <td>71.333333</td>\n",
       "      <td>87.000000</td>\n",
       "      <td>92.000000</td>\n",
       "      <td>1.233333</td>\n",
       "      <td>4.633333</td>\n",
       "      <td>2.980000</td>\n",
       "      <td>1017.166667</td>\n",
       "      <td>1018.666667</td>\n",
       "      <td>1017.800000</td>\n",
       "    </tr>\n",
       "    <tr>\n",
       "      <th>...</th>\n",
       "      <td>...</td>\n",
       "      <td>...</td>\n",
       "      <td>...</td>\n",
       "      <td>...</td>\n",
       "      <td>...</td>\n",
       "      <td>...</td>\n",
       "      <td>...</td>\n",
       "      <td>...</td>\n",
       "      <td>...</td>\n",
       "      <td>...</td>\n",
       "      <td>...</td>\n",
       "      <td>...</td>\n",
       "      <td>...</td>\n",
       "      <td>...</td>\n",
       "      <td>...</td>\n",
       "      <td>...</td>\n",
       "    </tr>\n",
       "    <tr>\n",
       "      <th>2016-12-28</th>\n",
       "      <td>17.217391</td>\n",
       "      <td>68.043478</td>\n",
       "      <td>3.547826</td>\n",
       "      <td>1015.565217</td>\n",
       "      <td>16.850000</td>\n",
       "      <td>17.142857</td>\n",
       "      <td>14.000000</td>\n",
       "      <td>67.550000</td>\n",
       "      <td>74.857143</td>\n",
       "      <td>94.300000</td>\n",
       "      <td>8.335000</td>\n",
       "      <td>8.784211</td>\n",
       "      <td>9.085000</td>\n",
       "      <td>1017.200000</td>\n",
       "      <td>1016.952381</td>\n",
       "      <td>1014.350000</td>\n",
       "    </tr>\n",
       "    <tr>\n",
       "      <th>2016-12-29</th>\n",
       "      <td>15.238095</td>\n",
       "      <td>87.857143</td>\n",
       "      <td>6.000000</td>\n",
       "      <td>1016.904762</td>\n",
       "      <td>17.217391</td>\n",
       "      <td>16.850000</td>\n",
       "      <td>17.142857</td>\n",
       "      <td>68.043478</td>\n",
       "      <td>67.550000</td>\n",
       "      <td>74.857143</td>\n",
       "      <td>3.547826</td>\n",
       "      <td>8.335000</td>\n",
       "      <td>8.784211</td>\n",
       "      <td>1015.565217</td>\n",
       "      <td>1017.200000</td>\n",
       "      <td>1016.952381</td>\n",
       "    </tr>\n",
       "    <tr>\n",
       "      <th>2016-12-30</th>\n",
       "      <td>14.095238</td>\n",
       "      <td>89.666667</td>\n",
       "      <td>6.266667</td>\n",
       "      <td>1017.904762</td>\n",
       "      <td>15.238095</td>\n",
       "      <td>17.217391</td>\n",
       "      <td>16.850000</td>\n",
       "      <td>87.857143</td>\n",
       "      <td>68.043478</td>\n",
       "      <td>67.550000</td>\n",
       "      <td>6.000000</td>\n",
       "      <td>3.547826</td>\n",
       "      <td>8.335000</td>\n",
       "      <td>1016.904762</td>\n",
       "      <td>1015.565217</td>\n",
       "      <td>1017.200000</td>\n",
       "    </tr>\n",
       "    <tr>\n",
       "      <th>2016-12-31</th>\n",
       "      <td>15.052632</td>\n",
       "      <td>87.000000</td>\n",
       "      <td>7.325000</td>\n",
       "      <td>1016.100000</td>\n",
       "      <td>14.095238</td>\n",
       "      <td>15.238095</td>\n",
       "      <td>17.217391</td>\n",
       "      <td>89.666667</td>\n",
       "      <td>87.857143</td>\n",
       "      <td>68.043478</td>\n",
       "      <td>6.266667</td>\n",
       "      <td>6.000000</td>\n",
       "      <td>3.547826</td>\n",
       "      <td>1017.904762</td>\n",
       "      <td>1016.904762</td>\n",
       "      <td>1015.565217</td>\n",
       "    </tr>\n",
       "    <tr>\n",
       "      <th>2017-01-01</th>\n",
       "      <td>10.000000</td>\n",
       "      <td>100.000000</td>\n",
       "      <td>0.000000</td>\n",
       "      <td>1016.000000</td>\n",
       "      <td>15.052632</td>\n",
       "      <td>14.095238</td>\n",
       "      <td>15.238095</td>\n",
       "      <td>87.000000</td>\n",
       "      <td>89.666667</td>\n",
       "      <td>87.857143</td>\n",
       "      <td>7.325000</td>\n",
       "      <td>6.266667</td>\n",
       "      <td>6.000000</td>\n",
       "      <td>1016.100000</td>\n",
       "      <td>1017.904762</td>\n",
       "      <td>1016.904762</td>\n",
       "    </tr>\n",
       "  </tbody>\n",
       "</table>\n",
       "<p>1462 rows × 16 columns</p>\n",
       "</div>"
      ]
     },
     "execution_count": 10,
     "metadata": {},
     "output_type": "execute_result"
    }
   ],
   "execution_count": 10
  },
  {
   "metadata": {
    "ExecuteTime": {
     "end_time": "2025-01-19T13:59:06.423564Z",
     "start_time": "2025-01-19T13:59:06.418628Z"
    }
   },
   "cell_type": "code",
   "source": "df.dropna(axis=0,inplace=True)",
   "outputs": [],
   "execution_count": 11
  },
  {
   "metadata": {
    "ExecuteTime": {
     "end_time": "2025-01-19T13:59:07.789109Z",
     "start_time": "2025-01-19T13:59:07.375352Z"
    }
   },
   "cell_type": "code",
   "source": [
    "import seaborn as sns\n",
    "import matplotlib.pyplot as plt\n",
    "\n",
    "plt.figure(figsize=(15,15))\n",
    "sns.heatmap(df.corr(),annot=True,linewidths=2)"
   ],
   "outputs": [
    {
     "data": {
      "text/plain": [
       "<Axes: >"
      ]
     },
     "execution_count": 12,
     "metadata": {},
     "output_type": "execute_result"
    },
    {
     "data": {
      "text/plain": [
       "<Figure size 1500x1500 with 2 Axes>"
      ],
      "image/png": "[encoded data removed]"
     },
     "metadata": {},
     "output_type": "display_data"
    }
   ],
   "execution_count": 12
  },
  {
   "metadata": {
    "ExecuteTime": {
     "end_time": "2025-01-19T14:00:02.064748Z",
     "start_time": "2025-01-19T14:00:02.062122Z"
    }
   },
   "cell_type": "code",
   "source": "columns",
   "outputs": [
    {
     "data": {
      "text/plain": [
       "['meantemp', 'humidity', 'wind_speed', 'meanpressure']"
      ]
     },
     "execution_count": 13,
     "metadata": {},
     "output_type": "execute_result"
    }
   ],
   "execution_count": 13
  },
  {
   "metadata": {
    "ExecuteTime": {
     "end_time": "2024-12-12T11:33:53.109091Z",
     "start_time": "2024-12-12T11:33:53.107521Z"
    }
   },
   "cell_type": "code",
   "source": "# sns.pairplot(df)",
   "outputs": [],
   "execution_count": 81
  },
  {
   "cell_type": "markdown",
   "metadata": {
    "id": "tls69_PrbJKW"
   },
   "source": [
    "## Dataset Splitting\n",
    "Partition the dataset into training and testing sets with an 80:20 ratio.\n",
    "\n",
    "**WARNING: DO NOT SHUFFLE THE DATASET.**\n",
    "\n"
   ]
  },
  {
   "cell_type": "code",
   "metadata": {
    "id": "PjGGGMxebeoB",
    "ExecuteTime": {
     "end_time": "2024-12-12T11:33:53.119560Z",
     "start_time": "2024-12-12T11:33:53.117886Z"
    }
   },
   "source": [
    "# Write your code here. Add as many boxes as you need.\n",
    "df.sort_index(inplace=True)"
   ],
   "outputs": [],
   "execution_count": 82
  },
  {
   "metadata": {
    "ExecuteTime": {
     "end_time": "2024-12-12T11:33:53.138237Z",
     "start_time": "2024-12-12T11:33:53.135988Z"
    }
   },
   "cell_type": "code",
   "source": "X,y = df.drop(columns=columns,axis=1),df[columns]",
   "outputs": [],
   "execution_count": 83
  },
  {
   "metadata": {
    "ExecuteTime": {
     "end_time": "2024-12-12T11:34:11.829736Z",
     "start_time": "2024-12-12T11:34:11.823047Z"
    }
   },
   "cell_type": "code",
   "source": "y",
   "outputs": [
    {
     "data": {
      "text/plain": [
       "             meantemp    humidity  wind_speed  meanpressure\n",
       "date                                                       \n",
       "2013-01-04   8.666667   71.333333    1.233333   1017.166667\n",
       "2013-01-05   6.000000   86.833333    3.700000   1016.500000\n",
       "2013-01-06   7.000000   82.800000    1.480000   1018.000000\n",
       "2013-01-07   7.000000   78.600000    6.300000   1020.000000\n",
       "2013-01-08   8.857143   63.714286    7.142857   1018.714286\n",
       "...               ...         ...         ...           ...\n",
       "2016-12-28  17.217391   68.043478    3.547826   1015.565217\n",
       "2016-12-29  15.238095   87.857143    6.000000   1016.904762\n",
       "2016-12-30  14.095238   89.666667    6.266667   1017.904762\n",
       "2016-12-31  15.052632   87.000000    7.325000   1016.100000\n",
       "2017-01-01  10.000000  100.000000    0.000000   1016.000000\n",
       "\n",
       "[1459 rows x 4 columns]"
      ],
      "text/html": [
       "<div>\n",
       "<style scoped>\n",
       "    .dataframe tbody tr th:only-of-type {\n",
       "        vertical-align: middle;\n",
       "    }\n",
       "\n",
       "    .dataframe tbody tr th {\n",
       "        vertical-align: top;\n",
       "    }\n",
       "\n",
       "    .dataframe thead th {\n",
       "        text-align: right;\n",
       "    }\n",
       "</style>\n",
       "<table border=\"1\" class=\"dataframe\">\n",
       "  <thead>\n",
       "    <tr style=\"text-align: right;\">\n",
       "      <th></th>\n",
       "      <th>meantemp</th>\n",
       "      <th>humidity</th>\n",
       "      <th>wind_speed</th>\n",
       "      <th>meanpressure</th>\n",
       "    </tr>\n",
       "    <tr>\n",
       "      <th>date</th>\n",
       "      <th></th>\n",
       "      <th></th>\n",
       "      <th></th>\n",
       "      <th></th>\n",
       "    </tr>\n",
       "  </thead>\n",
       "  <tbody>\n",
       "    <tr>\n",
       "      <th>2013-01-04</th>\n",
       "      <td>8.666667</td>\n",
       "      <td>71.333333</td>\n",
       "      <td>1.233333</td>\n",
       "      <td>1017.166667</td>\n",
       "    </tr>\n",
       "    <tr>\n",
       "      <th>2013-01-05</th>\n",
       "      <td>6.000000</td>\n",
       "      <td>86.833333</td>\n",
       "      <td>3.700000</td>\n",
       "      <td>1016.500000</td>\n",
       "    </tr>\n",
       "    <tr>\n",
       "      <th>2013-01-06</th>\n",
       "      <td>7.000000</td>\n",
       "      <td>82.800000</td>\n",
       "      <td>1.480000</td>\n",
       "      <td>1018.000000</td>\n",
       "    </tr>\n",
       "    <tr>\n",
       "      <th>2013-01-07</th>\n",
       "      <td>7.000000</td>\n",
       "      <td>78.600000</td>\n",
       "      <td>6.300000</td>\n",
       "      <td>1020.000000</td>\n",
       "    </tr>\n",
       "    <tr>\n",
       "      <th>2013-01-08</th>\n",
       "      <td>8.857143</td>\n",
       "      <td>63.714286</td>\n",
       "      <td>7.142857</td>\n",
       "      <td>1018.714286</td>\n",
       "    </tr>\n",
       "    <tr>\n",
       "      <th>...</th>\n",
       "      <td>...</td>\n",
       "      <td>...</td>\n",
       "      <td>...</td>\n",
       "      <td>...</td>\n",
       "    </tr>\n",
       "    <tr>\n",
       "      <th>2016-12-28</th>\n",
       "      <td>17.217391</td>\n",
       "      <td>68.043478</td>\n",
       "      <td>3.547826</td>\n",
       "      <td>1015.565217</td>\n",
       "    </tr>\n",
       "    <tr>\n",
       "      <th>2016-12-29</th>\n",
       "      <td>15.238095</td>\n",
       "      <td>87.857143</td>\n",
       "      <td>6.000000</td>\n",
       "      <td>1016.904762</td>\n",
       "    </tr>\n",
       "    <tr>\n",
       "      <th>2016-12-30</th>\n",
       "      <td>14.095238</td>\n",
       "      <td>89.666667</td>\n",
       "      <td>6.266667</td>\n",
       "      <td>1017.904762</td>\n",
       "    </tr>\n",
       "    <tr>\n",
       "      <th>2016-12-31</th>\n",
       "      <td>15.052632</td>\n",
       "      <td>87.000000</td>\n",
       "      <td>7.325000</td>\n",
       "      <td>1016.100000</td>\n",
       "    </tr>\n",
       "    <tr>\n",
       "      <th>2017-01-01</th>\n",
       "      <td>10.000000</td>\n",
       "      <td>100.000000</td>\n",
       "      <td>0.000000</td>\n",
       "      <td>1016.000000</td>\n",
       "    </tr>\n",
       "  </tbody>\n",
       "</table>\n",
       "<p>1459 rows × 4 columns</p>\n",
       "</div>"
      ]
     },
     "execution_count": 91,
     "metadata": {},
     "output_type": "execute_result"
    }
   ],
   "execution_count": 91
  },
  {
   "metadata": {
    "ExecuteTime": {
     "end_time": "2024-12-12T11:34:33.202124Z",
     "start_time": "2024-12-12T11:34:33.096685Z"
    }
   },
   "cell_type": "code",
   "source": [
    "from sklearn.model_selection import train_test_split\n",
    "\n",
    "X_train, X_test, y_train, y_test = train_test_split(X, y, test_size=0.2, shuffle=False)"
   ],
   "outputs": [],
   "execution_count": 92
  },
  {
   "cell_type": "markdown",
   "metadata": {
    "id": "VIkAR1Hibiwr"
   },
   "source": [
    "## Ensemble Learning Methods"
   ]
  },
  {
   "cell_type": "markdown",
   "metadata": {
    "id": "-XPgBlD7jgI5"
   },
   "source": [
    "### Bagging"
   ]
  },
  {
   "cell_type": "markdown",
   "metadata": {
    "id": "qWn1pafKbnxH"
   },
   "source": [
    "Create an instance of a Random Forest model and train it using the `fit` function."
   ]
  },
  {
   "cell_type": "code",
   "metadata": {
    "id": "IXFIrQthbnkb",
    "ExecuteTime": {
     "end_time": "2024-12-12T11:34:55.126669Z",
     "start_time": "2024-12-12T11:34:54.410971Z"
    }
   },
   "source": [
    "from sklearn.ensemble import RandomForestRegressor\n",
    "\n",
    "# Write your code here. Add as many boxes as you need.\n",
    "model = RandomForestRegressor(n_estimators=100, random_state=42)\n",
    "model.fit(X_train, y_train)"
   ],
   "outputs": [
    {
     "data": {
      "text/plain": [
       "RandomForestRegressor(random_state=42)"
      ],
      "text/html": [
       "<style>#sk-container-id-1 {\n",
       "  /* Definition of color scheme common for light and dark mode */\n",
       "  --sklearn-color-text: black;\n",
       "  --sklearn-color-line: gray;\n",
       "  /* Definition of color scheme for unfitted estimators */\n",
       "  --sklearn-color-unfitted-level-0: #fff5e6;\n",
       "  --sklearn-color-unfitted-level-1: #f6e4d2;\n",
       "  --sklearn-color-unfitted-level-2: #ffe0b3;\n",
       "  --sklearn-color-unfitted-level-3: chocolate;\n",
       "  /* Definition of color scheme for fitted estimators */\n",
       "  --sklearn-color-fitted-level-0: #f0f8ff;\n",
       "  --sklearn-color-fitted-level-1: #d4ebff;\n",
       "  --sklearn-color-fitted-level-2: #b3dbfd;\n",
       "  --sklearn-color-fitted-level-3: cornflowerblue;\n",
       "\n",
       "  /* Specific color for light theme */\n",
       "  --sklearn-color-text-on-default-background: var(--sg-text-color, var(--theme-code-foreground, var(--jp-content-font-color1, black)));\n",
       "  --sklearn-color-background: var(--sg-background-color, var(--theme-background, var(--jp-layout-color0, white)));\n",
       "  --sklearn-color-border-box: var(--sg-text-color, var(--theme-code-foreground, var(--jp-content-font-color1, black)));\n",
       "  --sklearn-color-icon: #696969;\n",
       "\n",
       "  @media (prefers-color-scheme: dark) {\n",
       "    /* Redefinition of color scheme for dark theme */\n",
       "    --sklearn-color-text-on-default-background: var(--sg-text-color, var(--theme-code-foreground, var(--jp-content-font-color1, white)));\n",
       "    --sklearn-color-background: var(--sg-background-color, var(--theme-background, var(--jp-layout-color0, #111)));\n",
       "    --sklearn-color-border-box: var(--sg-text-color, var(--theme-code-foreground, var(--jp-content-font-color1, white)));\n",
       "    --sklearn-color-icon: #878787;\n",
       "  }\n",
       "}\n",
       "\n",
       "#sk-container-id-1 {\n",
       "  color: var(--sklearn-color-text);\n",
       "}\n",
       "\n",
       "#sk-container-id-1 pre {\n",
       "  padding: 0;\n",
       "}\n",
       "\n",
       "#sk-container-id-1 input.sk-hidden--visually {\n",
       "  border: 0;\n",
       "  clip: rect(1px 1px 1px 1px);\n",
       "  clip: rect(1px, 1px, 1px, 1px);\n",
       "  height: 1px;\n",
       "  margin: -1px;\n",
       "  overflow: hidden;\n",
       "  padding: 0;\n",
       "  position: absolute;\n",
       "  width: 1px;\n",
       "}\n",
       "\n",
       "#sk-container-id-1 div.sk-dashed-wrapped {\n",
       "  border: 1px dashed var(--sklearn-color-line);\n",
       "  margin: 0 0.4em 0.5em 0.4em;\n",
       "  box-sizing: border-box;\n",
       "  padding-bottom: 0.4em;\n",
       "  background-color: var(--sklearn-color-background);\n",
       "}\n",
       "\n",
       "#sk-container-id-1 div.sk-container {\n",
       "  /* jupyter's `normalize.less` sets `[hidden] { display: none; }`\n",
       "     but bootstrap.min.css set `[hidden] { display: none !important; }`\n",
       "     so we also need the `!important` here to be able to override the\n",
       "     default hidden behavior on the sphinx rendered scikit-learn.org.\n",
       "     See: https://github.com/scikit-learn/scikit-learn/issues/21755 */\n",
       "  display: inline-block !important;\n",
       "  position: relative;\n",
       "}\n",
       "\n",
       "#sk-container-id-1 div.sk-text-repr-fallback {\n",
       "  display: none;\n",
       "}\n",
       "\n",
       "div.sk-parallel-item,\n",
       "div.sk-serial,\n",
       "div.sk-item {\n",
       "  /* draw centered vertical line to link estimators */\n",
       "  background-image: linear-gradient(var(--sklearn-color-text-on-default-background), var(--sklearn-color-text-on-default-background));\n",
       "  background-size: 2px 100%;\n",
       "  background-repeat: no-repeat;\n",
       "  background-position: center center;\n",
       "}\n",
       "\n",
       "/* Parallel-specific style estimator block */\n",
       "\n",
       "#sk-container-id-1 div.sk-parallel-item::after {\n",
       "  content: \"\";\n",
       "  width: 100%;\n",
       "  border-bottom: 2px solid var(--sklearn-color-text-on-default-background);\n",
       "  flex-grow: 1;\n",
       "}\n",
       "\n",
       "#sk-container-id-1 div.sk-parallel {\n",
       "  display: flex;\n",
       "  align-items: stretch;\n",
       "  justify-content: center;\n",
       "  background-color: var(--sklearn-color-background);\n",
       "  position: relative;\n",
       "}\n",
       "\n",
       "#sk-container-id-1 div.sk-parallel-item {\n",
       "  display: flex;\n",
       "  flex-direction: column;\n",
       "}\n",
       "\n",
       "#sk-container-id-1 div.sk-parallel-item:first-child::after {\n",
       "  align-self: flex-end;\n",
       "  width: 50%;\n",
       "}\n",
       "\n",
       "#sk-container-id-1 div.sk-parallel-item:last-child::after {\n",
       "  align-self: flex-start;\n",
       "  width: 50%;\n",
       "}\n",
       "\n",
       "#sk-container-id-1 div.sk-parallel-item:only-child::after {\n",
       "  width: 0;\n",
       "}\n",
       "\n",
       "/* Serial-specific style estimator block */\n",
       "\n",
       "#sk-container-id-1 div.sk-serial {\n",
       "  display: flex;\n",
       "  flex-direction: column;\n",
       "  align-items: center;\n",
       "  background-color: var(--sklearn-color-background);\n",
       "  padding-right: 1em;\n",
       "  padding-left: 1em;\n",
       "}\n",
       "\n",
       "\n",
       "/* Toggleable style: style used for estimator/Pipeline/ColumnTransformer box that is\n",
       "clickable and can be expanded/collapsed.\n",
       "- Pipeline and ColumnTransformer use this feature and define the default style\n",
       "- Estimators will overwrite some part of the style using the `sk-estimator` class\n",
       "*/\n",
       "\n",
       "/* Pipeline and ColumnTransformer style (default) */\n",
       "\n",
       "#sk-container-id-1 div.sk-toggleable {\n",
       "  /* Default theme specific background. It is overwritten whether we have a\n",
       "  specific estimator or a Pipeline/ColumnTransformer */\n",
       "  background-color: var(--sklearn-color-background);\n",
       "}\n",
       "\n",
       "/* Toggleable label */\n",
       "#sk-container-id-1 label.sk-toggleable__label {\n",
       "  cursor: pointer;\n",
       "  display: block;\n",
       "  width: 100%;\n",
       "  margin-bottom: 0;\n",
       "  padding: 0.5em;\n",
       "  box-sizing: border-box;\n",
       "  text-align: center;\n",
       "}\n",
       "\n",
       "#sk-container-id-1 label.sk-toggleable__label-arrow:before {\n",
       "  /* Arrow on the left of the label */\n",
       "  content: \"▸\";\n",
       "  float: left;\n",
       "  margin-right: 0.25em;\n",
       "  color: var(--sklearn-color-icon);\n",
       "}\n",
       "\n",
       "#sk-container-id-1 label.sk-toggleable__label-arrow:hover:before {\n",
       "  color: var(--sklearn-color-text);\n",
       "}\n",
       "\n",
       "/* Toggleable content - dropdown */\n",
       "\n",
       "#sk-container-id-1 div.sk-toggleable__content {\n",
       "  max-height: 0;\n",
       "  max-width: 0;\n",
       "  overflow: hidden;\n",
       "  text-align: left;\n",
       "  /* unfitted */\n",
       "  background-color: var(--sklearn-color-unfitted-level-0);\n",
       "}\n",
       "\n",
       "#sk-container-id-1 div.sk-toggleable__content.fitted {\n",
       "  /* fitted */\n",
       "  background-color: var(--sklearn-color-fitted-level-0);\n",
       "}\n",
       "\n",
       "#sk-container-id-1 div.sk-toggleable__content pre {\n",
       "  margin: 0.2em;\n",
       "  border-radius: 0.25em;\n",
       "  color: var(--sklearn-color-text);\n",
       "  /* unfitted */\n",
       "  background-color: var(--sklearn-color-unfitted-level-0);\n",
       "}\n",
       "\n",
       "#sk-container-id-1 div.sk-toggleable__content.fitted pre {\n",
       "  /* unfitted */\n",
       "  background-color: var(--sklearn-color-fitted-level-0);\n",
       "}\n",
       "\n",
       "#sk-container-id-1 input.sk-toggleable__control:checked~div.sk-toggleable__content {\n",
       "  /* Expand drop-down */\n",
       "  max-height: 200px;\n",
       "  max-width: 100%;\n",
       "  overflow: auto;\n",
       "}\n",
       "\n",
       "#sk-container-id-1 input.sk-toggleable__control:checked~label.sk-toggleable__label-arrow:before {\n",
       "  content: \"▾\";\n",
       "}\n",
       "\n",
       "/* Pipeline/ColumnTransformer-specific style */\n",
       "\n",
       "#sk-container-id-1 div.sk-label input.sk-toggleable__control:checked~label.sk-toggleable__label {\n",
       "  color: var(--sklearn-color-text);\n",
       "  background-color: var(--sklearn-color-unfitted-level-2);\n",
       "}\n",
       "\n",
       "#sk-container-id-1 div.sk-label.fitted input.sk-toggleable__control:checked~label.sk-toggleable__label {\n",
       "  background-color: var(--sklearn-color-fitted-level-2);\n",
       "}\n",
       "\n",
       "/* Estimator-specific style */\n",
       "\n",
       "/* Colorize estimator box */\n",
       "#sk-container-id-1 div.sk-estimator input.sk-toggleable__control:checked~label.sk-toggleable__label {\n",
       "  /* unfitted */\n",
       "  background-color: var(--sklearn-color-unfitted-level-2);\n",
       "}\n",
       "\n",
       "#sk-container-id-1 div.sk-estimator.fitted input.sk-toggleable__control:checked~label.sk-toggleable__label {\n",
       "  /* fitted */\n",
       "  background-color: var(--sklearn-color-fitted-level-2);\n",
       "}\n",
       "\n",
       "#sk-container-id-1 div.sk-label label.sk-toggleable__label,\n",
       "#sk-container-id-1 div.sk-label label {\n",
       "  /* The background is the default theme color */\n",
       "  color: var(--sklearn-color-text-on-default-background);\n",
       "}\n",
       "\n",
       "/* On hover, darken the color of the background */\n",
       "#sk-container-id-1 div.sk-label:hover label.sk-toggleable__label {\n",
       "  color: var(--sklearn-color-text);\n",
       "  background-color: var(--sklearn-color-unfitted-level-2);\n",
       "}\n",
       "\n",
       "/* Label box, darken color on hover, fitted */\n",
       "#sk-container-id-1 div.sk-label.fitted:hover label.sk-toggleable__label.fitted {\n",
       "  color: var(--sklearn-color-text);\n",
       "  background-color: var(--sklearn-color-fitted-level-2);\n",
       "}\n",
       "\n",
       "/* Estimator label */\n",
       "\n",
       "#sk-container-id-1 div.sk-label label {\n",
       "  font-family: monospace;\n",
       "  font-weight: bold;\n",
       "  display: inline-block;\n",
       "  line-height: 1.2em;\n",
       "}\n",
       "\n",
       "#sk-container-id-1 div.sk-label-container {\n",
       "  text-align: center;\n",
       "}\n",
       "\n",
       "/* Estimator-specific */\n",
       "#sk-container-id-1 div.sk-estimator {\n",
       "  font-family: monospace;\n",
       "  border: 1px dotted var(--sklearn-color-border-box);\n",
       "  border-radius: 0.25em;\n",
       "  box-sizing: border-box;\n",
       "  margin-bottom: 0.5em;\n",
       "  /* unfitted */\n",
       "  background-color: var(--sklearn-color-unfitted-level-0);\n",
       "}\n",
       "\n",
       "#sk-container-id-1 div.sk-estimator.fitted {\n",
       "  /* fitted */\n",
       "  background-color: var(--sklearn-color-fitted-level-0);\n",
       "}\n",
       "\n",
       "/* on hover */\n",
       "#sk-container-id-1 div.sk-estimator:hover {\n",
       "  /* unfitted */\n",
       "  background-color: var(--sklearn-color-unfitted-level-2);\n",
       "}\n",
       "\n",
       "#sk-container-id-1 div.sk-estimator.fitted:hover {\n",
       "  /* fitted */\n",
       "  background-color: var(--sklearn-color-fitted-level-2);\n",
       "}\n",
       "\n",
       "/* Specification for estimator info (e.g. \"i\" and \"?\") */\n",
       "\n",
       "/* Common style for \"i\" and \"?\" */\n",
       "\n",
       ".sk-estimator-doc-link,\n",
       "a:link.sk-estimator-doc-link,\n",
       "a:visited.sk-estimator-doc-link {\n",
       "  float: right;\n",
       "  font-size: smaller;\n",
       "  line-height: 1em;\n",
       "  font-family: monospace;\n",
       "  background-color: var(--sklearn-color-background);\n",
       "  border-radius: 1em;\n",
       "  height: 1em;\n",
       "  width: 1em;\n",
       "  text-decoration: none !important;\n",
       "  margin-left: 1ex;\n",
       "  /* unfitted */\n",
       "  border: var(--sklearn-color-unfitted-level-1) 1pt solid;\n",
       "  color: var(--sklearn-color-unfitted-level-1);\n",
       "}\n",
       "\n",
       ".sk-estimator-doc-link.fitted,\n",
       "a:link.sk-estimator-doc-link.fitted,\n",
       "a:visited.sk-estimator-doc-link.fitted {\n",
       "  /* fitted */\n",
       "  border: var(--sklearn-color-fitted-level-1) 1pt solid;\n",
       "  color: var(--sklearn-color-fitted-level-1);\n",
       "}\n",
       "\n",
       "/* On hover */\n",
       "div.sk-estimator:hover .sk-estimator-doc-link:hover,\n",
       ".sk-estimator-doc-link:hover,\n",
       "div.sk-label-container:hover .sk-estimator-doc-link:hover,\n",
       ".sk-estimator-doc-link:hover {\n",
       "  /* unfitted */\n",
       "  background-color: var(--sklearn-color-unfitted-level-3);\n",
       "  color: var(--sklearn-color-background);\n",
       "  text-decoration: none;\n",
       "}\n",
       "\n",
       "div.sk-estimator.fitted:hover .sk-estimator-doc-link.fitted:hover,\n",
       ".sk-estimator-doc-link.fitted:hover,\n",
       "div.sk-label-container:hover .sk-estimator-doc-link.fitted:hover,\n",
       ".sk-estimator-doc-link.fitted:hover {\n",
       "  /* fitted */\n",
       "  background-color: var(--sklearn-color-fitted-level-3);\n",
       "  color: var(--sklearn-color-background);\n",
       "  text-decoration: none;\n",
       "}\n",
       "\n",
       "/* Span, style for the box shown on hovering the info icon */\n",
       ".sk-estimator-doc-link span {\n",
       "  display: none;\n",
       "  z-index: 9999;\n",
       "  position: relative;\n",
       "  font-weight: normal;\n",
       "  right: .2ex;\n",
       "  padding: .5ex;\n",
       "  margin: .5ex;\n",
       "  width: min-content;\n",
       "  min-width: 20ex;\n",
       "  max-width: 50ex;\n",
       "  color: var(--sklearn-color-text);\n",
       "  box-shadow: 2pt 2pt 4pt #999;\n",
       "  /* unfitted */\n",
       "  background: var(--sklearn-color-unfitted-level-0);\n",
       "  border: .5pt solid var(--sklearn-color-unfitted-level-3);\n",
       "}\n",
       "\n",
       ".sk-estimator-doc-link.fitted span {\n",
       "  /* fitted */\n",
       "  background: var(--sklearn-color-fitted-level-0);\n",
       "  border: var(--sklearn-color-fitted-level-3);\n",
       "}\n",
       "\n",
       ".sk-estimator-doc-link:hover span {\n",
       "  display: block;\n",
       "}\n",
       "\n",
       "/* \"?\"-specific style due to the `<a>` HTML tag */\n",
       "\n",
       "#sk-container-id-1 a.estimator_doc_link {\n",
       "  float: right;\n",
       "  font-size: 1rem;\n",
       "  line-height: 1em;\n",
       "  font-family: monospace;\n",
       "  background-color: var(--sklearn-color-background);\n",
       "  border-radius: 1rem;\n",
       "  height: 1rem;\n",
       "  width: 1rem;\n",
       "  text-decoration: none;\n",
       "  /* unfitted */\n",
       "  color: var(--sklearn-color-unfitted-level-1);\n",
       "  border: var(--sklearn-color-unfitted-level-1) 1pt solid;\n",
       "}\n",
       "\n",
       "#sk-container-id-1 a.estimator_doc_link.fitted {\n",
       "  /* fitted */\n",
       "  border: var(--sklearn-color-fitted-level-1) 1pt solid;\n",
       "  color: var(--sklearn-color-fitted-level-1);\n",
       "}\n",
       "\n",
       "/* On hover */\n",
       "#sk-container-id-1 a.estimator_doc_link:hover {\n",
       "  /* unfitted */\n",
       "  background-color: var(--sklearn-color-unfitted-level-3);\n",
       "  color: var(--sklearn-color-background);\n",
       "  text-decoration: none;\n",
       "}\n",
       "\n",
       "#sk-container-id-1 a.estimator_doc_link.fitted:hover {\n",
       "  /* fitted */\n",
       "  background-color: var(--sklearn-color-fitted-level-3);\n",
       "}\n",
       "</style><div id=\"sk-container-id-1\" class=\"sk-top-container\"><div class=\"sk-text-repr-fallback\"><pre>RandomForestRegressor(random_state=42)</pre><b>In a Jupyter environment, please rerun this cell to show the HTML representation or trust the notebook. <br />On GitHub, the HTML representation is unable to render, please try loading this page with nbviewer.org.</b></div><div class=\"sk-container\" hidden><div class=\"sk-item\"><div class=\"sk-estimator fitted sk-toggleable\"><input class=\"sk-toggleable__control sk-hidden--visually\" id=\"sk-estimator-id-1\" type=\"checkbox\" checked><label for=\"sk-estimator-id-1\" class=\"sk-toggleable__label fitted sk-toggleable__label-arrow fitted\">&nbsp;&nbsp;RandomForestRegressor<a class=\"sk-estimator-doc-link fitted\" rel=\"noreferrer\" target=\"_blank\" href=\"https://scikit-learn.org/1.5/modules/generated/sklearn.ensemble.RandomForestRegressor.html\">?<span>Documentation for RandomForestRegressor</span></a><span class=\"sk-estimator-doc-link fitted\">i<span>Fitted</span></span></label><div class=\"sk-toggleable__content fitted\"><pre>RandomForestRegressor(random_state=42)</pre></div> </div></div></div></div>"
      ]
     },
     "execution_count": 94,
     "metadata": {},
     "output_type": "execute_result"
    }
   ],
   "execution_count": 94
  },
  {
   "cell_type": "markdown",
   "metadata": {
    "id": "gyXZwAVab8Cp"
   },
   "source": [
    "Use the trained model to make predictions for the test set."
   ]
  },
  {
   "cell_type": "code",
   "metadata": {
    "id": "EvMfVum6b_9b",
    "ExecuteTime": {
     "end_time": "2024-12-12T11:35:06.156210Z",
     "start_time": "2024-12-12T11:35:06.144915Z"
    }
   },
   "source": [
    "# Write your code here. Add as many boxes as you need.\n",
    "y_pred = model.predict(X_test)"
   ],
   "outputs": [],
   "execution_count": 95
  },
  {
   "cell_type": "markdown",
   "metadata": {
    "id": "3VxAvDPtcNCh"
   },
   "source": [
    "Assess the performance of the model by using different metrics provided by the `scikit-learn` library."
   ]
  },
  {
   "cell_type": "code",
   "metadata": {
    "id": "V4axpktycQhp",
    "ExecuteTime": {
     "end_time": "2024-12-12T11:48:06.663134Z",
     "start_time": "2024-12-12T11:48:06.652479Z"
    }
   },
   "source": [
    "import numpy as np\n",
    "from sklearn.metrics import r2_score, mean_squared_error\n",
    "\n",
    "# Write your code here. Add as many boxes as you need.\n",
    "for i, column in enumerate(columns):\n",
    "    print(f'{column} R2: {r2_score(y_test[column], y_pred[:, i])}')\n",
    "    print(f'{column} RMSE: {np.sqrt(mean_squared_error(y_test[column], y_pred[:, i]))}')\n",
    "    print('---' * 10)"
   ],
   "outputs": [
    {
     "name": "stdout",
     "output_type": "stream",
     "text": [
      "meantemp R2: 0.868474540343996\n",
      "meantemp RMSE: 2.0525499168130312\n",
      "------------------------------\n",
      "humidity R2: 0.7881656705625603\n",
      "humidity RMSE: 7.841618474161858\n",
      "------------------------------\n",
      "wind_speed R2: 0.15324669027983173\n",
      "wind_speed RMSE: 3.712868759523657\n",
      "------------------------------\n",
      "meanpressure R2: 0.0009698728880975782\n",
      "meanpressure RMSE: 402.52706813065475\n",
      "------------------------------\n"
     ]
    }
   ],
   "execution_count": 96
  },
  {
   "cell_type": "markdown",
   "metadata": {
    "id": "4LF1v6lbjcGL"
   },
   "source": [
    "### Boosting"
   ]
  },
  {
   "cell_type": "markdown",
   "metadata": {
    "id": "VpuBInwyjkRr"
   },
   "source": [
    "Create an instance of an XGBoost model and train it using the `fit` function."
   ]
  },
  {
   "cell_type": "code",
   "metadata": {
    "id": "f7IPuXNMjb3K",
    "ExecuteTime": {
     "end_time": "2024-12-12T11:48:49.662274Z",
     "start_time": "2024-12-12T11:48:49.420662Z"
    }
   },
   "source": [
    "from xgboost import XGBRegressor\n",
    "\n",
    "# Write your code here. Add as many boxes as you need.\n",
    "xgb = XGBRegressor(n_estimators=100, random_state=42)\n",
    "xgb.fit(X_train, y_train)"
   ],
   "outputs": [
    {
     "data": {
      "text/plain": [
       "XGBRegressor(base_score=None, booster=None, callbacks=None,\n",
       "             colsample_bylevel=None, colsample_bynode=None,\n",
       "             colsample_bytree=None, device=None, early_stopping_rounds=None,\n",
       "             enable_categorical=False, eval_metric=None, feature_types=None,\n",
       "             gamma=None, grow_policy=None, importance_type=None,\n",
       "             interaction_constraints=None, learning_rate=None, max_bin=None,\n",
       "             max_cat_threshold=None, max_cat_to_onehot=None,\n",
       "             max_delta_step=None, max_depth=None, max_leaves=None,\n",
       "             min_child_weight=None, missing=nan, monotone_constraints=None,\n",
       "             multi_strategy=None, n_estimators=100, n_jobs=None,\n",
       "             num_parallel_tree=None, random_state=42, ...)"
      ],
      "text/html": [
       "<style>#sk-container-id-2 {\n",
       "  /* Definition of color scheme common for light and dark mode */\n",
       "  --sklearn-color-text: black;\n",
       "  --sklearn-color-line: gray;\n",
       "  /* Definition of color scheme for unfitted estimators */\n",
       "  --sklearn-color-unfitted-level-0: #fff5e6;\n",
       "  --sklearn-color-unfitted-level-1: #f6e4d2;\n",
       "  --sklearn-color-unfitted-level-2: #ffe0b3;\n",
       "  --sklearn-color-unfitted-level-3: chocolate;\n",
       "  /* Definition of color scheme for fitted estimators */\n",
       "  --sklearn-color-fitted-level-0: #f0f8ff;\n",
       "  --sklearn-color-fitted-level-1: #d4ebff;\n",
       "  --sklearn-color-fitted-level-2: #b3dbfd;\n",
       "  --sklearn-color-fitted-level-3: cornflowerblue;\n",
       "\n",
       "  /* Specific color for light theme */\n",
       "  --sklearn-color-text-on-default-background: var(--sg-text-color, var(--theme-code-foreground, var(--jp-content-font-color1, black)));\n",
       "  --sklearn-color-background: var(--sg-background-color, var(--theme-background, var(--jp-layout-color0, white)));\n",
       "  --sklearn-color-border-box: var(--sg-text-color, var(--theme-code-foreground, var(--jp-content-font-color1, black)));\n",
       "  --sklearn-color-icon: #696969;\n",
       "\n",
       "  @media (prefers-color-scheme: dark) {\n",
       "    /* Redefinition of color scheme for dark theme */\n",
       "    --sklearn-color-text-on-default-background: var(--sg-text-color, var(--theme-code-foreground, var(--jp-content-font-color1, white)));\n",
       "    --sklearn-color-background: var(--sg-background-color, var(--theme-background, var(--jp-layout-color0, #111)));\n",
       "    --sklearn-color-border-box: var(--sg-text-color, var(--theme-code-foreground, var(--jp-content-font-color1, white)));\n",
       "    --sklearn-color-icon: #878787;\n",
       "  }\n",
       "}\n",
       "\n",
       "#sk-container-id-2 {\n",
       "  color: var(--sklearn-color-text);\n",
       "}\n",
       "\n",
       "#sk-container-id-2 pre {\n",
       "  padding: 0;\n",
       "}\n",
       "\n",
       "#sk-container-id-2 input.sk-hidden--visually {\n",
       "  border: 0;\n",
       "  clip: rect(1px 1px 1px 1px);\n",
       "  clip: rect(1px, 1px, 1px, 1px);\n",
       "  height: 1px;\n",
       "  margin: -1px;\n",
       "  overflow: hidden;\n",
       "  padding: 0;\n",
       "  position: absolute;\n",
       "  width: 1px;\n",
       "}\n",
       "\n",
       "#sk-container-id-2 div.sk-dashed-wrapped {\n",
       "  border: 1px dashed var(--sklearn-color-line);\n",
       "  margin: 0 0.4em 0.5em 0.4em;\n",
       "  box-sizing: border-box;\n",
       "  padding-bottom: 0.4em;\n",
       "  background-color: var(--sklearn-color-background);\n",
       "}\n",
       "\n",
       "#sk-container-id-2 div.sk-container {\n",
       "  /* jupyter's `normalize.less` sets `[hidden] { display: none; }`\n",
       "     but bootstrap.min.css set `[hidden] { display: none !important; }`\n",
       "     so we also need the `!important` here to be able to override the\n",
       "     default hidden behavior on the sphinx rendered scikit-learn.org.\n",
       "     See: https://github.com/scikit-learn/scikit-learn/issues/21755 */\n",
       "  display: inline-block !important;\n",
       "  position: relative;\n",
       "}\n",
       "\n",
       "#sk-container-id-2 div.sk-text-repr-fallback {\n",
       "  display: none;\n",
       "}\n",
       "\n",
       "div.sk-parallel-item,\n",
       "div.sk-serial,\n",
       "div.sk-item {\n",
       "  /* draw centered vertical line to link estimators */\n",
       "  background-image: linear-gradient(var(--sklearn-color-text-on-default-background), var(--sklearn-color-text-on-default-background));\n",
       "  background-size: 2px 100%;\n",
       "  background-repeat: no-repeat;\n",
       "  background-position: center center;\n",
       "}\n",
       "\n",
       "/* Parallel-specific style estimator block */\n",
       "\n",
       "#sk-container-id-2 div.sk-parallel-item::after {\n",
       "  content: \"\";\n",
       "  width: 100%;\n",
       "  border-bottom: 2px solid var(--sklearn-color-text-on-default-background);\n",
       "  flex-grow: 1;\n",
       "}\n",
       "\n",
       "#sk-container-id-2 div.sk-parallel {\n",
       "  display: flex;\n",
       "  align-items: stretch;\n",
       "  justify-content: center;\n",
       "  background-color: var(--sklearn-color-background);\n",
       "  position: relative;\n",
       "}\n",
       "\n",
       "#sk-container-id-2 div.sk-parallel-item {\n",
       "  display: flex;\n",
       "  flex-direction: column;\n",
       "}\n",
       "\n",
       "#sk-container-id-2 div.sk-parallel-item:first-child::after {\n",
       "  align-self: flex-end;\n",
       "  width: 50%;\n",
       "}\n",
       "\n",
       "#sk-container-id-2 div.sk-parallel-item:last-child::after {\n",
       "  align-self: flex-start;\n",
       "  width: 50%;\n",
       "}\n",
       "\n",
       "#sk-container-id-2 div.sk-parallel-item:only-child::after {\n",
       "  width: 0;\n",
       "}\n",
       "\n",
       "/* Serial-specific style estimator block */\n",
       "\n",
       "#sk-container-id-2 div.sk-serial {\n",
       "  display: flex;\n",
       "  flex-direction: column;\n",
       "  align-items: center;\n",
       "  background-color: var(--sklearn-color-background);\n",
       "  padding-right: 1em;\n",
       "  padding-left: 1em;\n",
       "}\n",
       "\n",
       "\n",
       "/* Toggleable style: style used for estimator/Pipeline/ColumnTransformer box that is\n",
       "clickable and can be expanded/collapsed.\n",
       "- Pipeline and ColumnTransformer use this feature and define the default style\n",
       "- Estimators will overwrite some part of the style using the `sk-estimator` class\n",
       "*/\n",
       "\n",
       "/* Pipeline and ColumnTransformer style (default) */\n",
       "\n",
       "#sk-container-id-2 div.sk-toggleable {\n",
       "  /* Default theme specific background. It is overwritten whether we have a\n",
       "  specific estimator or a Pipeline/ColumnTransformer */\n",
       "  background-color: var(--sklearn-color-background);\n",
       "}\n",
       "\n",
       "/* Toggleable label */\n",
       "#sk-container-id-2 label.sk-toggleable__label {\n",
       "  cursor: pointer;\n",
       "  display: block;\n",
       "  width: 100%;\n",
       "  margin-bottom: 0;\n",
       "  padding: 0.5em;\n",
       "  box-sizing: border-box;\n",
       "  text-align: center;\n",
       "}\n",
       "\n",
       "#sk-container-id-2 label.sk-toggleable__label-arrow:before {\n",
       "  /* Arrow on the left of the label */\n",
       "  content: \"▸\";\n",
       "  float: left;\n",
       "  margin-right: 0.25em;\n",
       "  color: var(--sklearn-color-icon);\n",
       "}\n",
       "\n",
       "#sk-container-id-2 label.sk-toggleable__label-arrow:hover:before {\n",
       "  color: var(--sklearn-color-text);\n",
       "}\n",
       "\n",
       "/* Toggleable content - dropdown */\n",
       "\n",
       "#sk-container-id-2 div.sk-toggleable__content {\n",
       "  max-height: 0;\n",
       "  max-width: 0;\n",
       "  overflow: hidden;\n",
       "  text-align: left;\n",
       "  /* unfitted */\n",
       "  background-color: var(--sklearn-color-unfitted-level-0);\n",
       "}\n",
       "\n",
       "#sk-container-id-2 div.sk-toggleable__content.fitted {\n",
       "  /* fitted */\n",
       "  background-color: var(--sklearn-color-fitted-level-0);\n",
       "}\n",
       "\n",
       "#sk-container-id-2 div.sk-toggleable__content pre {\n",
       "  margin: 0.2em;\n",
       "  border-radius: 0.25em;\n",
       "  color: var(--sklearn-color-text);\n",
       "  /* unfitted */\n",
       "  background-color: var(--sklearn-color-unfitted-level-0);\n",
       "}\n",
       "\n",
       "#sk-container-id-2 div.sk-toggleable__content.fitted pre {\n",
       "  /* unfitted */\n",
       "  background-color: var(--sklearn-color-fitted-level-0);\n",
       "}\n",
       "\n",
       "#sk-container-id-2 input.sk-toggleable__control:checked~div.sk-toggleable__content {\n",
       "  /* Expand drop-down */\n",
       "  max-height: 200px;\n",
       "  max-width: 100%;\n",
       "  overflow: auto;\n",
       "}\n",
       "\n",
       "#sk-container-id-2 input.sk-toggleable__control:checked~label.sk-toggleable__label-arrow:before {\n",
       "  content: \"▾\";\n",
       "}\n",
       "\n",
       "/* Pipeline/ColumnTransformer-specific style */\n",
       "\n",
       "#sk-container-id-2 div.sk-label input.sk-toggleable__control:checked~label.sk-toggleable__label {\n",
       "  color: var(--sklearn-color-text);\n",
       "  background-color: var(--sklearn-color-unfitted-level-2);\n",
       "}\n",
       "\n",
       "#sk-container-id-2 div.sk-label.fitted input.sk-toggleable__control:checked~label.sk-toggleable__label {\n",
       "  background-color: var(--sklearn-color-fitted-level-2);\n",
       "}\n",
       "\n",
       "/* Estimator-specific style */\n",
       "\n",
       "/* Colorize estimator box */\n",
       "#sk-container-id-2 div.sk-estimator input.sk-toggleable__control:checked~label.sk-toggleable__label {\n",
       "  /* unfitted */\n",
       "  background-color: var(--sklearn-color-unfitted-level-2);\n",
       "}\n",
       "\n",
       "#sk-container-id-2 div.sk-estimator.fitted input.sk-toggleable__control:checked~label.sk-toggleable__label {\n",
       "  /* fitted */\n",
       "  background-color: var(--sklearn-color-fitted-level-2);\n",
       "}\n",
       "\n",
       "#sk-container-id-2 div.sk-label label.sk-toggleable__label,\n",
       "#sk-container-id-2 div.sk-label label {\n",
       "  /* The background is the default theme color */\n",
       "  color: var(--sklearn-color-text-on-default-background);\n",
       "}\n",
       "\n",
       "/* On hover, darken the color of the background */\n",
       "#sk-container-id-2 div.sk-label:hover label.sk-toggleable__label {\n",
       "  color: var(--sklearn-color-text);\n",
       "  background-color: var(--sklearn-color-unfitted-level-2);\n",
       "}\n",
       "\n",
       "/* Label box, darken color on hover, fitted */\n",
       "#sk-container-id-2 div.sk-label.fitted:hover label.sk-toggleable__label.fitted {\n",
       "  color: var(--sklearn-color-text);\n",
       "  background-color: var(--sklearn-color-fitted-level-2);\n",
       "}\n",
       "\n",
       "/* Estimator label */\n",
       "\n",
       "#sk-container-id-2 div.sk-label label {\n",
       "  font-family: monospace;\n",
       "  font-weight: bold;\n",
       "  display: inline-block;\n",
       "  line-height: 1.2em;\n",
       "}\n",
       "\n",
       "#sk-container-id-2 div.sk-label-container {\n",
       "  text-align: center;\n",
       "}\n",
       "\n",
       "/* Estimator-specific */\n",
       "#sk-container-id-2 div.sk-estimator {\n",
       "  font-family: monospace;\n",
       "  border: 1px dotted var(--sklearn-color-border-box);\n",
       "  border-radius: 0.25em;\n",
       "  box-sizing: border-box;\n",
       "  margin-bottom: 0.5em;\n",
       "  /* unfitted */\n",
       "  background-color: var(--sklearn-color-unfitted-level-0);\n",
       "}\n",
       "\n",
       "#sk-container-id-2 div.sk-estimator.fitted {\n",
       "  /* fitted */\n",
       "  background-color: var(--sklearn-color-fitted-level-0);\n",
       "}\n",
       "\n",
       "/* on hover */\n",
       "#sk-container-id-2 div.sk-estimator:hover {\n",
       "  /* unfitted */\n",
       "  background-color: var(--sklearn-color-unfitted-level-2);\n",
       "}\n",
       "\n",
       "#sk-container-id-2 div.sk-estimator.fitted:hover {\n",
       "  /* fitted */\n",
       "  background-color: var(--sklearn-color-fitted-level-2);\n",
       "}\n",
       "\n",
       "/* Specification for estimator info (e.g. \"i\" and \"?\") */\n",
       "\n",
       "/* Common style for \"i\" and \"?\" */\n",
       "\n",
       ".sk-estimator-doc-link,\n",
       "a:link.sk-estimator-doc-link,\n",
       "a:visited.sk-estimator-doc-link {\n",
       "  float: right;\n",
       "  font-size: smaller;\n",
       "  line-height: 1em;\n",
       "  font-family: monospace;\n",
       "  background-color: var(--sklearn-color-background);\n",
       "  border-radius: 1em;\n",
       "  height: 1em;\n",
       "  width: 1em;\n",
       "  text-decoration: none !important;\n",
       "  margin-left: 1ex;\n",
       "  /* unfitted */\n",
       "  border: var(--sklearn-color-unfitted-level-1) 1pt solid;\n",
       "  color: var(--sklearn-color-unfitted-level-1);\n",
       "}\n",
       "\n",
       ".sk-estimator-doc-link.fitted,\n",
       "a:link.sk-estimator-doc-link.fitted,\n",
       "a:visited.sk-estimator-doc-link.fitted {\n",
       "  /* fitted */\n",
       "  border: var(--sklearn-color-fitted-level-1) 1pt solid;\n",
       "  color: var(--sklearn-color-fitted-level-1);\n",
       "}\n",
       "\n",
       "/* On hover */\n",
       "div.sk-estimator:hover .sk-estimator-doc-link:hover,\n",
       ".sk-estimator-doc-link:hover,\n",
       "div.sk-label-container:hover .sk-estimator-doc-link:hover,\n",
       ".sk-estimator-doc-link:hover {\n",
       "  /* unfitted */\n",
       "  background-color: var(--sklearn-color-unfitted-level-3);\n",
       "  color: var(--sklearn-color-background);\n",
       "  text-decoration: none;\n",
       "}\n",
       "\n",
       "div.sk-estimator.fitted:hover .sk-estimator-doc-link.fitted:hover,\n",
       ".sk-estimator-doc-link.fitted:hover,\n",
       "div.sk-label-container:hover .sk-estimator-doc-link.fitted:hover,\n",
       ".sk-estimator-doc-link.fitted:hover {\n",
       "  /* fitted */\n",
       "  background-color: var(--sklearn-color-fitted-level-3);\n",
       "  color: var(--sklearn-color-background);\n",
       "  text-decoration: none;\n",
       "}\n",
       "\n",
       "/* Span, style for the box shown on hovering the info icon */\n",
       ".sk-estimator-doc-link span {\n",
       "  display: none;\n",
       "  z-index: 9999;\n",
       "  position: relative;\n",
       "  font-weight: normal;\n",
       "  right: .2ex;\n",
       "  padding: .5ex;\n",
       "  margin: .5ex;\n",
       "  width: min-content;\n",
       "  min-width: 20ex;\n",
       "  max-width: 50ex;\n",
       "  color: var(--sklearn-color-text);\n",
       "  box-shadow: 2pt 2pt 4pt #999;\n",
       "  /* unfitted */\n",
       "  background: var(--sklearn-color-unfitted-level-0);\n",
       "  border: .5pt solid var(--sklearn-color-unfitted-level-3);\n",
       "}\n",
       "\n",
       ".sk-estimator-doc-link.fitted span {\n",
       "  /* fitted */\n",
       "  background: var(--sklearn-color-fitted-level-0);\n",
       "  border: var(--sklearn-color-fitted-level-3);\n",
       "}\n",
       "\n",
       ".sk-estimator-doc-link:hover span {\n",
       "  display: block;\n",
       "}\n",
       "\n",
       "/* \"?\"-specific style due to the `<a>` HTML tag */\n",
       "\n",
       "#sk-container-id-2 a.estimator_doc_link {\n",
       "  float: right;\n",
       "  font-size: 1rem;\n",
       "  line-height: 1em;\n",
       "  font-family: monospace;\n",
       "  background-color: var(--sklearn-color-background);\n",
       "  border-radius: 1rem;\n",
       "  height: 1rem;\n",
       "  width: 1rem;\n",
       "  text-decoration: none;\n",
       "  /* unfitted */\n",
       "  color: var(--sklearn-color-unfitted-level-1);\n",
       "  border: var(--sklearn-color-unfitted-level-1) 1pt solid;\n",
       "}\n",
       "\n",
       "#sk-container-id-2 a.estimator_doc_link.fitted {\n",
       "  /* fitted */\n",
       "  border: var(--sklearn-color-fitted-level-1) 1pt solid;\n",
       "  color: var(--sklearn-color-fitted-level-1);\n",
       "}\n",
       "\n",
       "/* On hover */\n",
       "#sk-container-id-2 a.estimator_doc_link:hover {\n",
       "  /* unfitted */\n",
       "  background-color: var(--sklearn-color-unfitted-level-3);\n",
       "  color: var(--sklearn-color-background);\n",
       "  text-decoration: none;\n",
       "}\n",
       "\n",
       "#sk-container-id-2 a.estimator_doc_link.fitted:hover {\n",
       "  /* fitted */\n",
       "  background-color: var(--sklearn-color-fitted-level-3);\n",
       "}\n",
       "</style><div id=\"sk-container-id-2\" class=\"sk-top-container\"><div class=\"sk-text-repr-fallback\"><pre>XGBRegressor(base_score=None, booster=None, callbacks=None,\n",
       "             colsample_bylevel=None, colsample_bynode=None,\n",
       "             colsample_bytree=None, device=None, early_stopping_rounds=None,\n",
       "             enable_categorical=False, eval_metric=None, feature_types=None,\n",
       "             gamma=None, grow_policy=None, importance_type=None,\n",
       "             interaction_constraints=None, learning_rate=None, max_bin=None,\n",
       "             max_cat_threshold=None, max_cat_to_onehot=None,\n",
       "             max_delta_step=None, max_depth=None, max_leaves=None,\n",
       "             min_child_weight=None, missing=nan, monotone_constraints=None,\n",
       "             multi_strategy=None, n_estimators=100, n_jobs=None,\n",
       "             num_parallel_tree=None, random_state=42, ...)</pre><b>In a Jupyter environment, please rerun this cell to show the HTML representation or trust the notebook. <br />On GitHub, the HTML representation is unable to render, please try loading this page with nbviewer.org.</b></div><div class=\"sk-container\" hidden><div class=\"sk-item\"><div class=\"sk-estimator fitted sk-toggleable\"><input class=\"sk-toggleable__control sk-hidden--visually\" id=\"sk-estimator-id-2\" type=\"checkbox\" checked><label for=\"sk-estimator-id-2\" class=\"sk-toggleable__label fitted sk-toggleable__label-arrow fitted\">&nbsp;XGBRegressor<span class=\"sk-estimator-doc-link fitted\">i<span>Fitted</span></span></label><div class=\"sk-toggleable__content fitted\"><pre>XGBRegressor(base_score=None, booster=None, callbacks=None,\n",
       "             colsample_bylevel=None, colsample_bynode=None,\n",
       "             colsample_bytree=None, device=None, early_stopping_rounds=None,\n",
       "             enable_categorical=False, eval_metric=None, feature_types=None,\n",
       "             gamma=None, grow_policy=None, importance_type=None,\n",
       "             interaction_constraints=None, learning_rate=None, max_bin=None,\n",
       "             max_cat_threshold=None, max_cat_to_onehot=None,\n",
       "             max_delta_step=None, max_depth=None, max_leaves=None,\n",
       "             min_child_weight=None, missing=nan, monotone_constraints=None,\n",
       "             multi_strategy=None, n_estimators=100, n_jobs=None,\n",
       "             num_parallel_tree=None, random_state=42, ...)</pre></div> </div></div></div></div>"
      ]
     },
     "execution_count": 97,
     "metadata": {},
     "output_type": "execute_result"
    }
   ],
   "execution_count": 97
  },
  {
   "cell_type": "markdown",
   "metadata": {
    "id": "30u245l0jnhE"
   },
   "source": [
    "Use the trained model to make predictions for the test set."
   ]
  },
  {
   "cell_type": "code",
   "metadata": {
    "id": "ykXWljGFjnDr",
    "ExecuteTime": {
     "end_time": "2024-12-12T11:48:59.075376Z",
     "start_time": "2024-12-12T11:48:59.069394Z"
    }
   },
   "source": [
    "# Write your code here. Add as many boxes as you need.\n",
    "y_pred = xgb.predict(X_test)\n"
   ],
   "outputs": [],
   "execution_count": 99
  },
  {
   "cell_type": "markdown",
   "metadata": {
    "id": "UWnX_tVNjqGl"
   },
   "source": [
    "Assess the performance of the model by using different metrics provided by the `scikit-learn` library."
   ]
  },
  {
   "cell_type": "code",
   "metadata": {
    "id": "FNFvmZ0Zjp1X",
    "ExecuteTime": {
     "end_time": "2024-12-12T11:49:09.833767Z",
     "start_time": "2024-12-12T11:49:09.829216Z"
    }
   },
   "source": [
    "# Write your code here. Add as many boxes as you need.\n",
    "for i, column in enumerate(columns):\n",
    "    print(f'{column} R2: {r2_score(y_test[column], y_pred[:, i])}')\n",
    "    print(f'{column} RMSE: {np.sqrt(mean_squared_error(y_test[column], y_pred[:, i]))}')\n",
    "    print('---' * 10)"
   ],
   "outputs": [
    {
     "name": "stdout",
     "output_type": "stream",
     "text": [
      "meantemp R2: 0.8905448673528159\n",
      "meantemp RMSE: 1.8724355558711852\n",
      "------------------------------\n",
      "humidity R2: 0.7616662863236173\n",
      "humidity RMSE: 8.31764302052873\n",
      "------------------------------\n",
      "wind_speed R2: -0.005118522129751613\n",
      "wind_speed RMSE: 4.045198010192425\n",
      "------------------------------\n",
      "meanpressure R2: 0.0008544314021746713\n",
      "meanpressure RMSE: 402.5503241763388\n",
      "------------------------------\n"
     ]
    }
   ],
   "execution_count": 100
  },
  {
   "cell_type": "markdown",
   "metadata": {
    "id": "RwnD_qSpIeXG"
   },
   "source": [
    "# Laboratory Exercise - Bonus Task (+ 2 points)"
   ]
  },
  {
   "cell_type": "markdown",
   "metadata": {
    "id": "lSTuVpyYd2is"
   },
   "source": [
    "Define the forecasting model using the **Keras Sequential API** (`keras.models.Sequential`), incorporating one or more LSTM layers along with additional relevant layers (`keras.layers`). Be cautious when specifying the configuration of the final layer to ensure proper model output for the forecasting task."
   ]
  },
  {
   "metadata": {
    "ExecuteTime": {
     "end_time": "2024-12-12T11:55:36.795183Z",
     "start_time": "2024-12-12T11:55:36.789075Z"
    }
   },
   "cell_type": "code",
   "source": [
    "from sklearn.preprocessing import MinMaxScaler\n",
    "\n",
    "scaler = MinMaxScaler()\n",
    "train_X = scaler.fit_transform(X_train)\n",
    "test_X = scaler.transform(X_test)"
   ],
   "outputs": [],
   "execution_count": 102
  },
  {
   "metadata": {
    "ExecuteTime": {
     "end_time": "2024-12-12T11:57:16.279143Z",
     "start_time": "2024-12-12T11:57:16.275616Z"
    }
   },
   "cell_type": "code",
   "source": "y.shape[1]",
   "outputs": [
    {
     "data": {
      "text/plain": [
       "4"
      ]
     },
     "execution_count": 104,
     "metadata": {},
     "output_type": "execute_result"
    }
   ],
   "execution_count": 104
  },
  {
   "metadata": {
    "ExecuteTime": {
     "end_time": "2024-12-12T11:57:42.559479Z",
     "start_time": "2024-12-12T11:57:42.556641Z"
    }
   },
   "cell_type": "code",
   "source": [
    "train_X= train_X.reshape(train_X.shape[0], 3, 4)\n",
    "test_X = test_X.reshape(test_X.shape[0], 3, 4)"
   ],
   "outputs": [],
   "execution_count": 105
  },
  {
   "metadata": {
    "ExecuteTime": {
     "end_time": "2024-12-12T11:58:20.974860Z",
     "start_time": "2024-12-12T11:58:19.451381Z"
    }
   },
   "cell_type": "code",
   "source": [
    "from keras.layers import LSTM, Dense\n",
    "from keras import Sequential, Input\n",
    "\n",
    "model = Sequential([\n",
    "    Input((3, 4)), # (timesteps, features)\n",
    "    LSTM(64, activation=\"relu\", return_sequences=True),\n",
    "    LSTM(32, activation=\"relu\"),\n",
    "    Dense(1, activation=\"linear\")\n",
    "])"
   ],
   "outputs": [],
   "execution_count": 106
  },
  {
   "metadata": {
    "ExecuteTime": {
     "end_time": "2024-12-12T11:58:25.550149Z",
     "start_time": "2024-12-12T11:58:25.543817Z"
    }
   },
   "cell_type": "code",
   "source": "model.summary()\n",
   "outputs": [
    {
     "name": "stdout",
     "output_type": "stream",
     "text": [
      "Model: \"sequential\"\n",
      "_________________________________________________________________\n",
      " Layer (type)                Output Shape              Param #   \n",
      "=================================================================\n",
      " lstm (LSTM)                 (None, 3, 64)             17664     \n",
      "                                                                 \n",
      " lstm_1 (LSTM)               (None, 32)                12416     \n",
      "                                                                 \n",
      " dense (Dense)               (None, 1)                 33        \n",
      "                                                                 \n",
      "=================================================================\n",
      "Total params: 30,113\n",
      "Trainable params: 30,113\n",
      "Non-trainable params: 0\n",
      "_________________________________________________________________\n"
     ]
    }
   ],
   "execution_count": 107
  },
  {
   "metadata": {
    "ExecuteTime": {
     "end_time": "2024-12-12T11:58:31.881880Z",
     "start_time": "2024-12-12T11:58:31.875018Z"
    }
   },
   "cell_type": "code",
   "source": [
    "model.compile(\n",
    "    loss=\"mean_squared_error\",\n",
    "    optimizer=\"adam\",\n",
    "    metrics=[\"mean_squared_error\"],\n",
    ")"
   ],
   "outputs": [],
   "execution_count": 108
  },
  {
   "metadata": {
    "ExecuteTime": {
     "end_time": "2024-12-12T11:59:14.226440Z",
     "start_time": "2024-12-12T11:59:04.988796Z"
    }
   },
   "cell_type": "code",
   "source": "history = model.fit(train_X, y_train, validation_split=0.2, epochs=64, batch_size=8)\n",
   "outputs": [
    {
     "name": "stdout",
     "output_type": "stream",
     "text": [
      "Epoch 1/64\n"
     ]
    },
    {
     "name": "stderr",
     "output_type": "stream",
     "text": [
      "2024-12-12 12:59:05.014450: W tensorflow/tsl/platform/profile_utils/cpu_utils.cc:128] Failed to get CPU frequency: 0 Hz\n"
     ]
    },
    {
     "name": "stdout",
     "output_type": "stream",
     "text": [
      "117/117 [==============================] - 1s 2ms/step - loss: 235445.3750 - mean_squared_error: 235445.3750 - val_loss: 184964.2031 - val_mean_squared_error: 184964.2031\n",
      "Epoch 2/64\n",
      "117/117 [==============================] - 0s 1ms/step - loss: 182720.7188 - mean_squared_error: 182720.7188 - val_loss: 183125.3281 - val_mean_squared_error: 183125.3281\n",
      "Epoch 3/64\n",
      "117/117 [==============================] - 0s 1ms/step - loss: 181462.1250 - mean_squared_error: 181462.1250 - val_loss: 182095.4375 - val_mean_squared_error: 182095.4375\n",
      "Epoch 4/64\n",
      "117/117 [==============================] - 0s 1ms/step - loss: 180671.4688 - mean_squared_error: 180671.4688 - val_loss: 181427.4375 - val_mean_squared_error: 181427.4375\n",
      "Epoch 5/64\n",
      "117/117 [==============================] - 0s 1ms/step - loss: 180261.7344 - mean_squared_error: 180261.7344 - val_loss: 181163.2812 - val_mean_squared_error: 181163.2812\n",
      "Epoch 6/64\n",
      "117/117 [==============================] - 0s 1ms/step - loss: 180003.4688 - mean_squared_error: 180003.4688 - val_loss: 181001.6406 - val_mean_squared_error: 181001.6406\n",
      "Epoch 7/64\n",
      "117/117 [==============================] - 0s 1ms/step - loss: 179812.7031 - mean_squared_error: 179812.7031 - val_loss: 180907.0312 - val_mean_squared_error: 180907.0312\n",
      "Epoch 8/64\n",
      "117/117 [==============================] - 0s 1ms/step - loss: 179690.8750 - mean_squared_error: 179690.8750 - val_loss: 180845.3438 - val_mean_squared_error: 180845.3438\n",
      "Epoch 9/64\n",
      "117/117 [==============================] - 0s 1ms/step - loss: 179606.3594 - mean_squared_error: 179606.3594 - val_loss: 180834.8281 - val_mean_squared_error: 180834.8281\n",
      "Epoch 10/64\n",
      "117/117 [==============================] - 0s 1ms/step - loss: 179547.2188 - mean_squared_error: 179547.2188 - val_loss: 180789.6719 - val_mean_squared_error: 180789.6719\n",
      "Epoch 11/64\n",
      "117/117 [==============================] - 0s 1ms/step - loss: 179508.0000 - mean_squared_error: 179508.0000 - val_loss: 180775.2500 - val_mean_squared_error: 180775.2500\n",
      "Epoch 12/64\n",
      "117/117 [==============================] - 0s 1ms/step - loss: 179490.5156 - mean_squared_error: 179490.5156 - val_loss: 180768.6875 - val_mean_squared_error: 180768.6875\n",
      "Epoch 13/64\n",
      "117/117 [==============================] - 0s 1ms/step - loss: 179484.5938 - mean_squared_error: 179484.5938 - val_loss: 180767.7031 - val_mean_squared_error: 180767.7031\n",
      "Epoch 14/64\n",
      "117/117 [==============================] - 0s 1ms/step - loss: 179480.5625 - mean_squared_error: 179480.5625 - val_loss: 180765.7812 - val_mean_squared_error: 180765.7812\n",
      "Epoch 15/64\n",
      "117/117 [==============================] - 0s 1ms/step - loss: 179479.5000 - mean_squared_error: 179479.5000 - val_loss: 180767.2188 - val_mean_squared_error: 180767.2188\n",
      "Epoch 16/64\n",
      "117/117 [==============================] - 0s 1ms/step - loss: 179479.7344 - mean_squared_error: 179479.7344 - val_loss: 180769.9375 - val_mean_squared_error: 180769.9375\n",
      "Epoch 17/64\n",
      "117/117 [==============================] - 0s 1ms/step - loss: 179478.5312 - mean_squared_error: 179478.5312 - val_loss: 180764.6719 - val_mean_squared_error: 180764.6719\n",
      "Epoch 18/64\n",
      "117/117 [==============================] - 0s 1ms/step - loss: 179477.9844 - mean_squared_error: 179477.9844 - val_loss: 180766.5000 - val_mean_squared_error: 180766.5000\n",
      "Epoch 19/64\n",
      "117/117 [==============================] - 0s 1ms/step - loss: 179477.5156 - mean_squared_error: 179477.5156 - val_loss: 180764.2500 - val_mean_squared_error: 180764.2500\n",
      "Epoch 20/64\n",
      "117/117 [==============================] - 0s 1ms/step - loss: 179478.2969 - mean_squared_error: 179478.2969 - val_loss: 180765.5000 - val_mean_squared_error: 180765.5000\n",
      "Epoch 21/64\n",
      "117/117 [==============================] - 0s 1ms/step - loss: 179477.4219 - mean_squared_error: 179477.4219 - val_loss: 180763.6562 - val_mean_squared_error: 180763.6562\n",
      "Epoch 22/64\n",
      "117/117 [==============================] - 0s 1ms/step - loss: 179477.6406 - mean_squared_error: 179477.6406 - val_loss: 180767.2812 - val_mean_squared_error: 180767.2812\n",
      "Epoch 23/64\n",
      "117/117 [==============================] - 0s 1ms/step - loss: 179476.7812 - mean_squared_error: 179476.7812 - val_loss: 180767.5625 - val_mean_squared_error: 180767.5625\n",
      "Epoch 24/64\n",
      "117/117 [==============================] - 0s 1ms/step - loss: 179476.7969 - mean_squared_error: 179476.7969 - val_loss: 180765.8750 - val_mean_squared_error: 180765.8750\n",
      "Epoch 25/64\n",
      "117/117 [==============================] - 0s 1ms/step - loss: 179476.5781 - mean_squared_error: 179476.5781 - val_loss: 180763.2500 - val_mean_squared_error: 180763.2500\n",
      "Epoch 26/64\n",
      "117/117 [==============================] - 0s 1ms/step - loss: 179476.2188 - mean_squared_error: 179476.2188 - val_loss: 180768.1406 - val_mean_squared_error: 180768.1406\n",
      "Epoch 27/64\n",
      "117/117 [==============================] - 0s 1ms/step - loss: 179477.2188 - mean_squared_error: 179477.2188 - val_loss: 180764.0000 - val_mean_squared_error: 180764.0000\n",
      "Epoch 28/64\n",
      "117/117 [==============================] - 0s 1ms/step - loss: 179476.1875 - mean_squared_error: 179476.1875 - val_loss: 180763.2656 - val_mean_squared_error: 180763.2656\n",
      "Epoch 29/64\n",
      "117/117 [==============================] - 0s 1ms/step - loss: 179476.7344 - mean_squared_error: 179476.7344 - val_loss: 180763.0781 - val_mean_squared_error: 180763.0781\n",
      "Epoch 30/64\n",
      "117/117 [==============================] - 0s 1ms/step - loss: 179477.1094 - mean_squared_error: 179477.1094 - val_loss: 180764.3125 - val_mean_squared_error: 180764.3125\n",
      "Epoch 31/64\n",
      "117/117 [==============================] - 0s 1ms/step - loss: 179476.1406 - mean_squared_error: 179476.1406 - val_loss: 180763.0156 - val_mean_squared_error: 180763.0156\n",
      "Epoch 32/64\n",
      "117/117 [==============================] - 0s 1ms/step - loss: 179476.2188 - mean_squared_error: 179476.2188 - val_loss: 180764.7344 - val_mean_squared_error: 180764.7344\n",
      "Epoch 33/64\n",
      "117/117 [==============================] - 0s 1ms/step - loss: 179475.7500 - mean_squared_error: 179475.7500 - val_loss: 180765.7500 - val_mean_squared_error: 180765.7500\n",
      "Epoch 34/64\n",
      "117/117 [==============================] - 0s 1ms/step - loss: 179477.6719 - mean_squared_error: 179477.6719 - val_loss: 180764.1406 - val_mean_squared_error: 180764.1406\n",
      "Epoch 35/64\n",
      "117/117 [==============================] - 0s 1ms/step - loss: 179476.3906 - mean_squared_error: 179476.3906 - val_loss: 180763.0938 - val_mean_squared_error: 180763.0938\n",
      "Epoch 36/64\n",
      "117/117 [==============================] - 0s 1ms/step - loss: 179476.9688 - mean_squared_error: 179476.9688 - val_loss: 180762.7969 - val_mean_squared_error: 180762.7969\n",
      "Epoch 37/64\n",
      "117/117 [==============================] - 0s 1ms/step - loss: 179477.5625 - mean_squared_error: 179477.5625 - val_loss: 180763.1250 - val_mean_squared_error: 180763.1250\n",
      "Epoch 38/64\n",
      "117/117 [==============================] - 0s 1ms/step - loss: 179476.1719 - mean_squared_error: 179476.1719 - val_loss: 180762.7656 - val_mean_squared_error: 180762.7656\n",
      "Epoch 39/64\n",
      "117/117 [==============================] - 0s 1ms/step - loss: 179476.0625 - mean_squared_error: 179476.0625 - val_loss: 180767.7656 - val_mean_squared_error: 180767.7656\n",
      "Epoch 40/64\n",
      "117/117 [==============================] - 0s 1ms/step - loss: 179476.4688 - mean_squared_error: 179476.4688 - val_loss: 180763.3125 - val_mean_squared_error: 180763.3125\n",
      "Epoch 41/64\n",
      "117/117 [==============================] - 0s 1ms/step - loss: 179476.2812 - mean_squared_error: 179476.2812 - val_loss: 180762.7344 - val_mean_squared_error: 180762.7344\n",
      "Epoch 42/64\n",
      "117/117 [==============================] - 0s 1ms/step - loss: 179476.2969 - mean_squared_error: 179476.2969 - val_loss: 180762.7812 - val_mean_squared_error: 180762.7812\n",
      "Epoch 43/64\n",
      "117/117 [==============================] - 0s 1ms/step - loss: 179477.1406 - mean_squared_error: 179477.1406 - val_loss: 180763.0938 - val_mean_squared_error: 180763.0938\n",
      "Epoch 44/64\n",
      "117/117 [==============================] - 0s 1ms/step - loss: 179476.4219 - mean_squared_error: 179476.4219 - val_loss: 180762.7812 - val_mean_squared_error: 180762.7812\n",
      "Epoch 45/64\n",
      "117/117 [==============================] - 0s 1ms/step - loss: 179476.5469 - mean_squared_error: 179476.5469 - val_loss: 180763.2344 - val_mean_squared_error: 180763.2344\n",
      "Epoch 46/64\n",
      "117/117 [==============================] - 0s 1ms/step - loss: 179475.8594 - mean_squared_error: 179475.8594 - val_loss: 180763.5625 - val_mean_squared_error: 180763.5625\n",
      "Epoch 47/64\n",
      "117/117 [==============================] - 0s 1ms/step - loss: 179475.6406 - mean_squared_error: 179475.6406 - val_loss: 180764.1875 - val_mean_squared_error: 180764.1875\n",
      "Epoch 48/64\n",
      "117/117 [==============================] - 0s 1ms/step - loss: 179476.6406 - mean_squared_error: 179476.6406 - val_loss: 180762.7344 - val_mean_squared_error: 180762.7344\n",
      "Epoch 49/64\n",
      "117/117 [==============================] - 0s 1ms/step - loss: 179476.5312 - mean_squared_error: 179476.5312 - val_loss: 180766.0469 - val_mean_squared_error: 180766.0469\n",
      "Epoch 50/64\n",
      "117/117 [==============================] - 0s 1ms/step - loss: 179476.2969 - mean_squared_error: 179476.2969 - val_loss: 180763.3750 - val_mean_squared_error: 180763.3750\n",
      "Epoch 51/64\n",
      "117/117 [==============================] - 0s 1ms/step - loss: 179475.0000 - mean_squared_error: 179475.0000 - val_loss: 180762.6875 - val_mean_squared_error: 180762.6875\n",
      "Epoch 52/64\n",
      "117/117 [==============================] - 0s 1ms/step - loss: 179476.4531 - mean_squared_error: 179476.4531 - val_loss: 180763.2031 - val_mean_squared_error: 180763.2031\n",
      "Epoch 53/64\n",
      "117/117 [==============================] - 0s 1ms/step - loss: 179475.6562 - mean_squared_error: 179475.6562 - val_loss: 180762.9062 - val_mean_squared_error: 180762.9062\n",
      "Epoch 54/64\n",
      "117/117 [==============================] - 0s 1ms/step - loss: 179475.2656 - mean_squared_error: 179475.2656 - val_loss: 180762.3594 - val_mean_squared_error: 180762.3594\n",
      "Epoch 55/64\n",
      "117/117 [==============================] - 0s 1ms/step - loss: 179475.8438 - mean_squared_error: 179475.8438 - val_loss: 180763.8125 - val_mean_squared_error: 180763.8125\n",
      "Epoch 56/64\n",
      "117/117 [==============================] - 0s 1ms/step - loss: 179475.5469 - mean_squared_error: 179475.5469 - val_loss: 180762.3594 - val_mean_squared_error: 180762.3594\n",
      "Epoch 57/64\n",
      "117/117 [==============================] - 0s 1ms/step - loss: 179476.6875 - mean_squared_error: 179476.6875 - val_loss: 180763.0469 - val_mean_squared_error: 180763.0469\n",
      "Epoch 58/64\n",
      "117/117 [==============================] - 0s 1ms/step - loss: 179476.5625 - mean_squared_error: 179476.5625 - val_loss: 180766.4844 - val_mean_squared_error: 180766.4844\n",
      "Epoch 59/64\n",
      "117/117 [==============================] - 0s 1ms/step - loss: 179475.5781 - mean_squared_error: 179475.5781 - val_loss: 180763.4844 - val_mean_squared_error: 180763.4844\n",
      "Epoch 60/64\n",
      "117/117 [==============================] - 0s 2ms/step - loss: 179475.2188 - mean_squared_error: 179475.2188 - val_loss: 180762.1719 - val_mean_squared_error: 180762.1719\n",
      "Epoch 61/64\n",
      "117/117 [==============================] - 0s 2ms/step - loss: 179475.5156 - mean_squared_error: 179475.5156 - val_loss: 180766.2969 - val_mean_squared_error: 180766.2969\n",
      "Epoch 62/64\n",
      "117/117 [==============================] - 0s 2ms/step - loss: 179476.1094 - mean_squared_error: 179476.1094 - val_loss: 180769.1250 - val_mean_squared_error: 180769.1250\n",
      "Epoch 63/64\n",
      "117/117 [==============================] - 0s 1ms/step - loss: 179475.3750 - mean_squared_error: 179475.3750 - val_loss: 180762.4844 - val_mean_squared_error: 180762.4844\n",
      "Epoch 64/64\n",
      "117/117 [==============================] - 0s 1ms/step - loss: 179476.0625 - mean_squared_error: 179476.0625 - val_loss: 180765.7500 - val_mean_squared_error: 180765.7500\n"
     ]
    }
   ],
   "execution_count": 111
  },
  {
   "metadata": {
    "ExecuteTime": {
     "end_time": "2024-12-12T11:59:17.683379Z",
     "start_time": "2024-12-12T11:59:17.601790Z"
    }
   },
   "cell_type": "code",
   "source": [
    "\n",
    "sns.lineplot(history.history['loss'][1:], label='loss')\n",
    "sns.lineplot(history.history['val_loss'][1:], label='val_loss')"
   ],
   "outputs": [
    {
     "data": {
      "text/plain": [
       "<Axes: >"
      ]
     },
     "execution_count": 112,
     "metadata": {},
     "output_type": "execute_result"
    },
    {
     "data": {
      "text/plain": [
       "<Figure size 640x480 with 1 Axes>"
      ],
      "image/png": "[encoded data removed]"
     },
     "metadata": {},
     "output_type": "display_data"
    }
   ],
   "execution_count": 112
  },
  {
   "metadata": {
    "ExecuteTime": {
     "end_time": "2024-12-12T11:59:29.795859Z",
     "start_time": "2024-12-12T11:59:29.691895Z"
    }
   },
   "cell_type": "code",
   "source": "pred_y = model.predict(test_X)\n",
   "outputs": [
    {
     "name": "stdout",
     "output_type": "stream",
     "text": [
      "10/10 [==============================] - 0s 654us/step\n"
     ]
    }
   ],
   "execution_count": 113
  },
  {
   "metadata": {
    "ExecuteTime": {
     "end_time": "2024-12-12T12:04:50.689774Z",
     "start_time": "2024-12-12T12:04:50.684138Z"
    }
   },
   "cell_type": "code",
   "source": [
    "for i, column in enumerate(columns):\n",
    "    print(f'{column} R2: {r2_score(y_test[column], y_pred[:, i])}')\n",
    "    print(f'{column} RMSE: {np.sqrt(mean_squared_error(y_test[column], y_pred[:, i]))}')\n",
    "    print('---' * 10)\n"
   ],
   "outputs": [
    {
     "name": "stdout",
     "output_type": "stream",
     "text": [
      "meantemp R2: 0.8905448673528159\n",
      "meantemp RMSE: 1.8724355558711852\n",
      "------------------------------\n",
      "humidity R2: 0.7616662863236173\n",
      "humidity RMSE: 8.31764302052873\n",
      "------------------------------\n",
      "wind_speed R2: -0.005118522129751613\n",
      "wind_speed RMSE: 4.045198010192425\n",
      "------------------------------\n",
      "meanpressure R2: 0.0008544314021746713\n",
      "meanpressure RMSE: 402.5503241763388\n",
      "------------------------------\n"
     ]
    }
   ],
   "execution_count": 117
  }
 ],
 "metadata": {
  "colab": {
   "provenance": []
  },
  "kernelspec": {
   "display_name": "Python 3 (ipykernel)",
   "name": "python3",
   "language": "python"
  },
  "language_info": {
   "name": "python"
  }
 },
 "nbformat": 4,
 "nbformat_minor": 0
}
