{
 "cells": [
  {
   "metadata": {},
   "cell_type": "markdown",
   "source": "<h1>NUMPY</h1>\n",
   "id": "cbedb8d964e387ae"
  },
  {
   "cell_type": "code",
   "id": "initial_id",
   "metadata": {
    "collapsed": true,
    "ExecuteTime": {
     "end_time": "2024-11-25T12:26:32.559442Z",
     "start_time": "2024-11-25T12:26:32.272507Z"
    }
   },
   "source": [
    "import numpy as np\n",
    "import pandas as pd"
   ],
   "outputs": [],
   "execution_count": 2
  },
  {
   "metadata": {
    "ExecuteTime": {
     "end_time": "2024-11-25T12:26:32.570388Z",
     "start_time": "2024-11-25T12:26:32.565963Z"
    }
   },
   "cell_type": "code",
   "source": [
    "np_array = np.array([1,2,3,4])\n",
    "np_array*2"
   ],
   "id": "b89f1fb77c3664e5",
   "outputs": [
    {
     "data": {
      "text/plain": [
       "array([2, 4, 6, 8])"
      ]
     },
     "execution_count": 3,
     "metadata": {},
     "output_type": "execute_result"
    }
   ],
   "execution_count": 3
  },
  {
   "metadata": {
    "ExecuteTime": {
     "end_time": "2024-11-25T12:26:32.587301Z",
     "start_time": "2024-11-25T12:26:32.584060Z"
    }
   },
   "cell_type": "code",
   "source": [
    "print(np_array.ndim)\n",
    "print(np_array.shape)\n",
    "print(np.sum(np_array))"
   ],
   "id": "8b45dcdbf9ea007c",
   "outputs": [
    {
     "name": "stdout",
     "output_type": "stream",
     "text": [
      "1\n",
      "(4,)\n",
      "10\n"
     ]
    }
   ],
   "execution_count": 4
  },
  {
   "metadata": {
    "ExecuteTime": {
     "end_time": "2024-11-25T12:26:32.611402Z",
     "start_time": "2024-11-25T12:26:32.607064Z"
    }
   },
   "cell_type": "code",
   "source": [
    "matrix = np.array([\n",
    "    [1, 5, 6, 7],\n",
    "    [2, 4, 2, 2]\n",
    "])\n",
    "np_array+matrix"
   ],
   "id": "14a4e71868544423",
   "outputs": [
    {
     "data": {
      "text/plain": [
       "array([[ 2,  7,  9, 11],\n",
       "       [ 3,  6,  5,  6]])"
      ]
     },
     "execution_count": 5,
     "metadata": {},
     "output_type": "execute_result"
    }
   ],
   "execution_count": 5
  },
  {
   "metadata": {
    "ExecuteTime": {
     "end_time": "2024-11-25T12:26:32.656966Z",
     "start_time": "2024-11-25T12:26:32.653806Z"
    }
   },
   "cell_type": "code",
   "source": [
    "lista = np.arange(0,100)\n",
    "lista.reshape(10,10)"
   ],
   "id": "e8c27a8d1267ae6b",
   "outputs": [
    {
     "data": {
      "text/plain": [
       "array([[ 0,  1,  2,  3,  4,  5,  6,  7,  8,  9],\n",
       "       [10, 11, 12, 13, 14, 15, 16, 17, 18, 19],\n",
       "       [20, 21, 22, 23, 24, 25, 26, 27, 28, 29],\n",
       "       [30, 31, 32, 33, 34, 35, 36, 37, 38, 39],\n",
       "       [40, 41, 42, 43, 44, 45, 46, 47, 48, 49],\n",
       "       [50, 51, 52, 53, 54, 55, 56, 57, 58, 59],\n",
       "       [60, 61, 62, 63, 64, 65, 66, 67, 68, 69],\n",
       "       [70, 71, 72, 73, 74, 75, 76, 77, 78, 79],\n",
       "       [80, 81, 82, 83, 84, 85, 86, 87, 88, 89],\n",
       "       [90, 91, 92, 93, 94, 95, 96, 97, 98, 99]])"
      ]
     },
     "execution_count": 6,
     "metadata": {},
     "output_type": "execute_result"
    }
   ],
   "execution_count": 6
  },
  {
   "metadata": {},
   "cell_type": "markdown",
   "source": [
    "<h1>PANDAS</h1>\n",
    "-   Pandas is an open-source data analysis and manipulation library for Python. It provides data structures like Series (1D) and DataFrame (2D), making it easy to work with structured data. It offers tools for reading/writing data, handling missing values, filtering, aggregation, and more, making it essential for data analysis, cleaning, and transformation.\n",
    "<h3>Realationship between pandas and numpy</h3>\n",
    "-   Pandas and NumPy are closely related, with pandas built on top of NumPy. Here’s how they interact:\n",
    "\n",
    "\t1.\tFoundational Base:\n",
    "\t•\tNumPy is the foundational library for numerical computing in Python, providing support for arrays and matrices.\n",
    "\t•\tPandas uses NumPy arrays internally to manage data within its Series and DataFrame objects.\n",
    "\t2.\tData Structures:\n",
    "\t•\tNumPy provides basic structures like ndarray, designed for numerical operations.\n",
    "\t•\tPandas adds additional functionality for labeled data with the Series (1D) and DataFrame (2D), which are essentially enhanced versions of NumPy arrays that include row/column labels, handling missing data, and more.\n",
    "\t3.\tInteroperability:\n",
    "\t•\tPandas can seamlessly convert its Series and DataFrames to NumPy arrays using .values or .to_numpy() methods.\n",
    "\t•\tMany pandas functions use NumPy functions internally to perform operations efficiently.\n",
    "\t4.\tData Handling vs. Computation:\n",
    "\t•\tNumPy is more efficient for numerical computation on raw data.\n",
    "\t•\tPandas is more focused on data handling, manipulation, and analysis, making it more user-friendly for data wrangling tasks."
   ],
   "id": "53627a3a76055a5a"
  },
  {
   "metadata": {},
   "cell_type": "markdown",
   "source": "",
   "id": "84e64963945ee1be"
  },
  {
   "metadata": {
    "ExecuteTime": {
     "end_time": "2024-11-25T12:26:32.728743Z",
     "start_time": "2024-11-25T12:26:32.722499Z"
    }
   },
   "cell_type": "code",
   "source": [
    "broevi = [1235, 43534, 43253, 54353]\n",
    "iminja = [\"Milena\", \"Jovana\", \"Ana\", \"Dimitar\"]\n",
    "oceni = [5, 6, 7, 8]\n",
    "l1 = []\n",
    "for i,j,k in zip(broevi,iminja,oceni):\n",
    "    l1.append({\"index:\":i,\"name\":j,\"grade\":k})\n",
    "\n",
    "df = pd.DataFrame(l1)\n",
    "df"
   ],
   "id": "d4c600c11e4ab790",
   "outputs": [
    {
     "data": {
      "text/plain": [
       "   index:     name  grade\n",
       "0    1235   Milena      5\n",
       "1   43534   Jovana      6\n",
       "2   43253      Ana      7\n",
       "3   54353  Dimitar      8"
      ],
      "text/html": [
       "<div>\n",
       "<style scoped>\n",
       "    .dataframe tbody tr th:only-of-type {\n",
       "        vertical-align: middle;\n",
       "    }\n",
       "\n",
       "    .dataframe tbody tr th {\n",
       "        vertical-align: top;\n",
       "    }\n",
       "\n",
       "    .dataframe thead th {\n",
       "        text-align: right;\n",
       "    }\n",
       "</style>\n",
       "<table border=\"1\" class=\"dataframe\">\n",
       "  <thead>\n",
       "    <tr style=\"text-align: right;\">\n",
       "      <th></th>\n",
       "      <th>index:</th>\n",
       "      <th>name</th>\n",
       "      <th>grade</th>\n",
       "    </tr>\n",
       "  </thead>\n",
       "  <tbody>\n",
       "    <tr>\n",
       "      <th>0</th>\n",
       "      <td>1235</td>\n",
       "      <td>Milena</td>\n",
       "      <td>5</td>\n",
       "    </tr>\n",
       "    <tr>\n",
       "      <th>1</th>\n",
       "      <td>43534</td>\n",
       "      <td>Jovana</td>\n",
       "      <td>6</td>\n",
       "    </tr>\n",
       "    <tr>\n",
       "      <th>2</th>\n",
       "      <td>43253</td>\n",
       "      <td>Ana</td>\n",
       "      <td>7</td>\n",
       "    </tr>\n",
       "    <tr>\n",
       "      <th>3</th>\n",
       "      <td>54353</td>\n",
       "      <td>Dimitar</td>\n",
       "      <td>8</td>\n",
       "    </tr>\n",
       "  </tbody>\n",
       "</table>\n",
       "</div>"
      ]
     },
     "execution_count": 7,
     "metadata": {},
     "output_type": "execute_result"
    }
   ],
   "execution_count": 7
  },
  {
   "metadata": {
    "ExecuteTime": {
     "end_time": "2024-11-25T12:26:32.774031Z",
     "start_time": "2024-11-25T12:26:32.769260Z"
    }
   },
   "cell_type": "code",
   "source": [
    "#vtor nacin\n",
    "data = {\n",
    "    \"index\": [1235, 43534, 43253, 54353],\n",
    "    \"name\": [\"Milena\", \"Jovana\", \"Ana\", \"Dimitar\"],\n",
    "    \"grade\": [5, 6, 7, 8]\n",
    "}\n",
    "df = pd.DataFrame(data)\n",
    "df"
   ],
   "id": "ac9ef9a0180d2dbb",
   "outputs": [
    {
     "data": {
      "text/plain": [
       "   index     name  grade\n",
       "0   1235   Milena      5\n",
       "1  43534   Jovana      6\n",
       "2  43253      Ana      7\n",
       "3  54353  Dimitar      8"
      ],
      "text/html": [
       "<div>\n",
       "<style scoped>\n",
       "    .dataframe tbody tr th:only-of-type {\n",
       "        vertical-align: middle;\n",
       "    }\n",
       "\n",
       "    .dataframe tbody tr th {\n",
       "        vertical-align: top;\n",
       "    }\n",
       "\n",
       "    .dataframe thead th {\n",
       "        text-align: right;\n",
       "    }\n",
       "</style>\n",
       "<table border=\"1\" class=\"dataframe\">\n",
       "  <thead>\n",
       "    <tr style=\"text-align: right;\">\n",
       "      <th></th>\n",
       "      <th>index</th>\n",
       "      <th>name</th>\n",
       "      <th>grade</th>\n",
       "    </tr>\n",
       "  </thead>\n",
       "  <tbody>\n",
       "    <tr>\n",
       "      <th>0</th>\n",
       "      <td>1235</td>\n",
       "      <td>Milena</td>\n",
       "      <td>5</td>\n",
       "    </tr>\n",
       "    <tr>\n",
       "      <th>1</th>\n",
       "      <td>43534</td>\n",
       "      <td>Jovana</td>\n",
       "      <td>6</td>\n",
       "    </tr>\n",
       "    <tr>\n",
       "      <th>2</th>\n",
       "      <td>43253</td>\n",
       "      <td>Ana</td>\n",
       "      <td>7</td>\n",
       "    </tr>\n",
       "    <tr>\n",
       "      <th>3</th>\n",
       "      <td>54353</td>\n",
       "      <td>Dimitar</td>\n",
       "      <td>8</td>\n",
       "    </tr>\n",
       "  </tbody>\n",
       "</table>\n",
       "</div>"
      ]
     },
     "execution_count": 8,
     "metadata": {},
     "output_type": "execute_result"
    }
   ],
   "execution_count": 8
  },
  {
   "metadata": {
    "ExecuteTime": {
     "end_time": "2024-11-25T12:26:32.827037Z",
     "start_time": "2024-11-25T12:26:32.823357Z"
    }
   },
   "cell_type": "code",
   "source": [
    "#vtor nacin\n",
    "df2 = pd.DataFrame(matrix,columns=[1,2,3,4])\n",
    "df2"
   ],
   "id": "f412f8fd57bae030",
   "outputs": [
    {
     "data": {
      "text/plain": [
       "   1  2  3  4\n",
       "0  1  5  6  7\n",
       "1  2  4  2  2"
      ],
      "text/html": [
       "<div>\n",
       "<style scoped>\n",
       "    .dataframe tbody tr th:only-of-type {\n",
       "        vertical-align: middle;\n",
       "    }\n",
       "\n",
       "    .dataframe tbody tr th {\n",
       "        vertical-align: top;\n",
       "    }\n",
       "\n",
       "    .dataframe thead th {\n",
       "        text-align: right;\n",
       "    }\n",
       "</style>\n",
       "<table border=\"1\" class=\"dataframe\">\n",
       "  <thead>\n",
       "    <tr style=\"text-align: right;\">\n",
       "      <th></th>\n",
       "      <th>1</th>\n",
       "      <th>2</th>\n",
       "      <th>3</th>\n",
       "      <th>4</th>\n",
       "    </tr>\n",
       "  </thead>\n",
       "  <tbody>\n",
       "    <tr>\n",
       "      <th>0</th>\n",
       "      <td>1</td>\n",
       "      <td>5</td>\n",
       "      <td>6</td>\n",
       "      <td>7</td>\n",
       "    </tr>\n",
       "    <tr>\n",
       "      <th>1</th>\n",
       "      <td>2</td>\n",
       "      <td>4</td>\n",
       "      <td>2</td>\n",
       "      <td>2</td>\n",
       "    </tr>\n",
       "  </tbody>\n",
       "</table>\n",
       "</div>"
      ]
     },
     "execution_count": 9,
     "metadata": {},
     "output_type": "execute_result"
    }
   ],
   "execution_count": 9
  },
  {
   "metadata": {
    "ExecuteTime": {
     "end_time": "2024-11-25T12:26:32.924675Z",
     "start_time": "2024-11-25T12:26:32.918758Z"
    }
   },
   "cell_type": "code",
   "source": "df.to_csv('stuff.csv')\n",
   "id": "89802a126c99cb3d",
   "outputs": [],
   "execution_count": 10
  },
  {
   "metadata": {},
   "cell_type": "markdown",
   "source": [
    "<p>Internally, a DataFrame is more like a dictionary of Series objects:\n",
    "\n",
    "\t•\tYou can think of a DataFrame as a collection of Series objects, where each Series represents a column.\n",
    "\t•\tEach Series in the DataFrame has its own index, but these indices are shared across all Series objects, which keeps the rows aligned.</p>"
   ],
   "id": "febaa68d3a9b9b36"
  },
  {
   "metadata": {
    "ExecuteTime": {
     "end_time": "2024-11-25T12:26:32.966943Z",
     "start_time": "2024-11-25T12:26:32.963220Z"
    }
   },
   "cell_type": "code",
   "source": "df",
   "id": "63f570520c2c99d3",
   "outputs": [
    {
     "data": {
      "text/plain": [
       "   index     name  grade\n",
       "0   1235   Milena      5\n",
       "1  43534   Jovana      6\n",
       "2  43253      Ana      7\n",
       "3  54353  Dimitar      8"
      ],
      "text/html": [
       "<div>\n",
       "<style scoped>\n",
       "    .dataframe tbody tr th:only-of-type {\n",
       "        vertical-align: middle;\n",
       "    }\n",
       "\n",
       "    .dataframe tbody tr th {\n",
       "        vertical-align: top;\n",
       "    }\n",
       "\n",
       "    .dataframe thead th {\n",
       "        text-align: right;\n",
       "    }\n",
       "</style>\n",
       "<table border=\"1\" class=\"dataframe\">\n",
       "  <thead>\n",
       "    <tr style=\"text-align: right;\">\n",
       "      <th></th>\n",
       "      <th>index</th>\n",
       "      <th>name</th>\n",
       "      <th>grade</th>\n",
       "    </tr>\n",
       "  </thead>\n",
       "  <tbody>\n",
       "    <tr>\n",
       "      <th>0</th>\n",
       "      <td>1235</td>\n",
       "      <td>Milena</td>\n",
       "      <td>5</td>\n",
       "    </tr>\n",
       "    <tr>\n",
       "      <th>1</th>\n",
       "      <td>43534</td>\n",
       "      <td>Jovana</td>\n",
       "      <td>6</td>\n",
       "    </tr>\n",
       "    <tr>\n",
       "      <th>2</th>\n",
       "      <td>43253</td>\n",
       "      <td>Ana</td>\n",
       "      <td>7</td>\n",
       "    </tr>\n",
       "    <tr>\n",
       "      <th>3</th>\n",
       "      <td>54353</td>\n",
       "      <td>Dimitar</td>\n",
       "      <td>8</td>\n",
       "    </tr>\n",
       "  </tbody>\n",
       "</table>\n",
       "</div>"
      ]
     },
     "execution_count": 11,
     "metadata": {},
     "output_type": "execute_result"
    }
   ],
   "execution_count": 11
  }
 ],
 "metadata": {
  "kernelspec": {
   "display_name": "Python 3",
   "language": "python",
   "name": "python3"
  },
  "language_info": {
   "codemirror_mode": {
    "name": "ipython",
    "version": 2
   },
   "file_extension": ".py",
   "mimetype": "text/x-python",
   "name": "python",
   "nbconvert_exporter": "python",
   "pygments_lexer": "ipython2",
   "version": "2.7.6"
  }
 },
 "nbformat": 4,
 "nbformat_minor": 5
}
