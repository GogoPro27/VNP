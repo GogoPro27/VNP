{
 "cells": [
  {
   "metadata": {},
   "cell_type": "markdown",
   "source": "NUMPY",
   "id": "cbedb8d964e387ae"
  },
  {
   "cell_type": "code",
   "id": "initial_id",
   "metadata": {
    "collapsed": true,
    "ExecuteTime": {
     "end_time": "2024-10-30T16:29:31.482028Z",
     "start_time": "2024-10-30T16:29:31.480736Z"
    }
   },
   "source": [
    "import numpy as np\n",
    "import pandas as pd"
   ],
   "outputs": [],
   "execution_count": 1
  },
  {
   "metadata": {
    "ExecuteTime": {
     "end_time": "2024-10-30T16:29:31.489561Z",
     "start_time": "2024-10-30T16:29:31.486579Z"
    }
   },
   "cell_type": "code",
   "source": [
    "np_array = np.array([1,2,3,4])\n",
    "np_array*2"
   ],
   "id": "b89f1fb77c3664e5",
   "outputs": [
    {
     "data": {
      "text/plain": [
       "array([2, 4, 6, 8])"
      ]
     },
     "execution_count": 2,
     "metadata": {},
     "output_type": "execute_result"
    }
   ],
   "execution_count": 2
  },
  {
   "metadata": {
    "ExecuteTime": {
     "end_time": "2024-10-30T16:29:31.520393Z",
     "start_time": "2024-10-30T16:29:31.518799Z"
    }
   },
   "cell_type": "code",
   "source": [
    "print(np_array.ndim)\n",
    "print(np_array.shape)\n",
    "print(np.sum(np_array))"
   ],
   "id": "8b45dcdbf9ea007c",
   "outputs": [
    {
     "name": "stdout",
     "output_type": "stream",
     "text": [
      "1\n",
      "(4,)\n",
      "10\n"
     ]
    }
   ],
   "execution_count": 3
  },
  {
   "metadata": {
    "ExecuteTime": {
     "end_time": "2024-10-30T16:29:31.528662Z",
     "start_time": "2024-10-30T16:29:31.526721Z"
    }
   },
   "cell_type": "code",
   "source": [
    "matrix = np.array([\n",
    "    [1, 5, 6, 7],\n",
    "    [2, 4, 2, 2]\n",
    "])\n",
    "np_array+matrix"
   ],
   "id": "14a4e71868544423",
   "outputs": [
    {
     "data": {
      "text/plain": [
       "array([[ 2,  7,  9, 11],\n",
       "       [ 3,  6,  5,  6]])"
      ]
     },
     "execution_count": 4,
     "metadata": {},
     "output_type": "execute_result"
    }
   ],
   "execution_count": 4
  },
  {
   "metadata": {
    "ExecuteTime": {
     "end_time": "2024-10-30T16:29:31.549935Z",
     "start_time": "2024-10-30T16:29:31.547890Z"
    }
   },
   "cell_type": "code",
   "source": [
    "lista = np.arange(0,100)\n",
    "lista.reshape(10,10)"
   ],
   "id": "e8c27a8d1267ae6b",
   "outputs": [
    {
     "data": {
      "text/plain": [
       "array([[ 0,  1,  2,  3,  4,  5,  6,  7,  8,  9],\n",
       "       [10, 11, 12, 13, 14, 15, 16, 17, 18, 19],\n",
       "       [20, 21, 22, 23, 24, 25, 26, 27, 28, 29],\n",
       "       [30, 31, 32, 33, 34, 35, 36, 37, 38, 39],\n",
       "       [40, 41, 42, 43, 44, 45, 46, 47, 48, 49],\n",
       "       [50, 51, 52, 53, 54, 55, 56, 57, 58, 59],\n",
       "       [60, 61, 62, 63, 64, 65, 66, 67, 68, 69],\n",
       "       [70, 71, 72, 73, 74, 75, 76, 77, 78, 79],\n",
       "       [80, 81, 82, 83, 84, 85, 86, 87, 88, 89],\n",
       "       [90, 91, 92, 93, 94, 95, 96, 97, 98, 99]])"
      ]
     },
     "execution_count": 5,
     "metadata": {},
     "output_type": "execute_result"
    }
   ],
   "execution_count": 5
  },
  {
   "metadata": {},
   "cell_type": "markdown",
   "source": "PANDAS",
   "id": "53627a3a76055a5a"
  },
  {
   "metadata": {
    "ExecuteTime": {
     "end_time": "2024-10-30T16:29:31.610132Z",
     "start_time": "2024-10-30T16:29:31.606312Z"
    }
   },
   "cell_type": "code",
   "source": [
    "#prv nacin\n",
    "data = {\n",
    "    \"index\": [1235, 43534, 43253, 54353],\n",
    "    \"name\": [\"Milena\", \"Jovana\", \"Ana\", \"Dimitar\"],\n",
    "    \"grade\": [5, 6, 7, 8]\n",
    "}\n",
    "df = pd.DataFrame(data)\n",
    "df"
   ],
   "id": "ac9ef9a0180d2dbb",
   "outputs": [
    {
     "data": {
      "text/plain": [
       "   index     name  grade\n",
       "0   1235   Milena      5\n",
       "1  43534   Jovana      6\n",
       "2  43253      Ana      7\n",
       "3  54353  Dimitar      8"
      ],
      "text/html": [
       "<div>\n",
       "<style scoped>\n",
       "    .dataframe tbody tr th:only-of-type {\n",
       "        vertical-align: middle;\n",
       "    }\n",
       "\n",
       "    .dataframe tbody tr th {\n",
       "        vertical-align: top;\n",
       "    }\n",
       "\n",
       "    .dataframe thead th {\n",
       "        text-align: right;\n",
       "    }\n",
       "</style>\n",
       "<table border=\"1\" class=\"dataframe\">\n",
       "  <thead>\n",
       "    <tr style=\"text-align: right;\">\n",
       "      <th></th>\n",
       "      <th>index</th>\n",
       "      <th>name</th>\n",
       "      <th>grade</th>\n",
       "    </tr>\n",
       "  </thead>\n",
       "  <tbody>\n",
       "    <tr>\n",
       "      <th>0</th>\n",
       "      <td>1235</td>\n",
       "      <td>Milena</td>\n",
       "      <td>5</td>\n",
       "    </tr>\n",
       "    <tr>\n",
       "      <th>1</th>\n",
       "      <td>43534</td>\n",
       "      <td>Jovana</td>\n",
       "      <td>6</td>\n",
       "    </tr>\n",
       "    <tr>\n",
       "      <th>2</th>\n",
       "      <td>43253</td>\n",
       "      <td>Ana</td>\n",
       "      <td>7</td>\n",
       "    </tr>\n",
       "    <tr>\n",
       "      <th>3</th>\n",
       "      <td>54353</td>\n",
       "      <td>Dimitar</td>\n",
       "      <td>8</td>\n",
       "    </tr>\n",
       "  </tbody>\n",
       "</table>\n",
       "</div>"
      ]
     },
     "execution_count": 6,
     "metadata": {},
     "output_type": "execute_result"
    }
   ],
   "execution_count": 6
  },
  {
   "metadata": {
    "ExecuteTime": {
     "end_time": "2024-10-30T16:29:31.643417Z",
     "start_time": "2024-10-30T16:29:31.640463Z"
    }
   },
   "cell_type": "code",
   "source": [
    "#vtor nacin\n",
    "df2 = pd.DataFrame(matrix,columns=[1,2,3,4])\n",
    "df2"
   ],
   "id": "f412f8fd57bae030",
   "outputs": [
    {
     "data": {
      "text/plain": [
       "   1  2  3  4\n",
       "0  1  5  6  7\n",
       "1  2  4  2  2"
      ],
      "text/html": [
       "<div>\n",
       "<style scoped>\n",
       "    .dataframe tbody tr th:only-of-type {\n",
       "        vertical-align: middle;\n",
       "    }\n",
       "\n",
       "    .dataframe tbody tr th {\n",
       "        vertical-align: top;\n",
       "    }\n",
       "\n",
       "    .dataframe thead th {\n",
       "        text-align: right;\n",
       "    }\n",
       "</style>\n",
       "<table border=\"1\" class=\"dataframe\">\n",
       "  <thead>\n",
       "    <tr style=\"text-align: right;\">\n",
       "      <th></th>\n",
       "      <th>1</th>\n",
       "      <th>2</th>\n",
       "      <th>3</th>\n",
       "      <th>4</th>\n",
       "    </tr>\n",
       "  </thead>\n",
       "  <tbody>\n",
       "    <tr>\n",
       "      <th>0</th>\n",
       "      <td>1</td>\n",
       "      <td>5</td>\n",
       "      <td>6</td>\n",
       "      <td>7</td>\n",
       "    </tr>\n",
       "    <tr>\n",
       "      <th>1</th>\n",
       "      <td>2</td>\n",
       "      <td>4</td>\n",
       "      <td>2</td>\n",
       "      <td>2</td>\n",
       "    </tr>\n",
       "  </tbody>\n",
       "</table>\n",
       "</div>"
      ]
     },
     "execution_count": 7,
     "metadata": {},
     "output_type": "execute_result"
    }
   ],
   "execution_count": 7
  },
  {
   "metadata": {
    "ExecuteTime": {
     "end_time": "2024-10-30T16:29:31.675142Z",
     "start_time": "2024-10-30T16:29:31.670427Z"
    }
   },
   "cell_type": "code",
   "source": "df.to_csv('stuff.csv')\n",
   "id": "89802a126c99cb3d",
   "outputs": [],
   "execution_count": 8
  },
  {
   "metadata": {},
   "cell_type": "markdown",
   "source": "RAZGLEDAJ ZA GROUPBY",
   "id": "45d2677787a17695"
  }
 ],
 "metadata": {
  "kernelspec": {
   "display_name": "Python 3",
   "language": "python",
   "name": "python3"
  },
  "language_info": {
   "codemirror_mode": {
    "name": "ipython",
    "version": 2
   },
   "file_extension": ".py",
   "mimetype": "text/x-python",
   "name": "python",
   "nbconvert_exporter": "python",
   "pygments_lexer": "ipython2",
   "version": "2.7.6"
  }
 },
 "nbformat": 4,
 "nbformat_minor": 5
}
