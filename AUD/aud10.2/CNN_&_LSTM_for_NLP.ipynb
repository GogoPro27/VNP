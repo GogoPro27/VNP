{
 "cells": [
  {
   "cell_type": "code",
   "metadata": {
    "id": "-T2itbr3Ok6t",
    "ExecuteTime": {
     "end_time": "2025-01-12T14:23:48.036972Z",
     "start_time": "2025-01-12T14:23:48.035117Z"
    }
   },
   "source": "# pip install pandas scikit-learn matplotlib tf_keras keras seaborn",
   "outputs": [],
   "execution_count": 84
  },
  {
   "cell_type": "code",
   "metadata": {
    "ExecuteTime": {
     "end_time": "2025-01-12T14:26:06.496342Z",
     "start_time": "2025-01-12T14:26:06.490954Z"
    }
   },
   "source": [
    "import pandas as pd\n",
    "from sklearn.model_selection import train_test_split\n",
    "import matplotlib.pyplot as plt\n",
    "from tensorflow.keras.models import Sequential\n",
    "from tensorflow.keras.layers import Dense, Embedding, Conv1D, MaxPooling1D, LSTM\n",
    "from tensorflow.keras.preprocessing.text import Tokenizer\n",
    "from tensorflow.keras.preprocessing.sequence import pad_sequences\n",
    "from sklearn.metrics import confusion_matrix, classification_report\n",
    "import seaborn as sns"
   ],
   "outputs": [],
   "execution_count": 109
  },
  {
   "cell_type": "code",
   "metadata": {
    "ExecuteTime": {
     "end_time": "2025-01-12T14:23:48.062919Z",
     "start_time": "2025-01-12T14:23:48.061797Z"
    }
   },
   "source": [],
   "outputs": [],
   "execution_count": null
  },
  {
   "cell_type": "code",
   "metadata": {
    "colab": {
     "base_uri": "https://localhost:8080/",
     "height": 424
    },
    "id": "rLoY5pNGOk6t",
    "outputId": "236171cb-f556-4f72-938e-54c3023ef1d1",
    "ExecuteTime": {
     "end_time": "2025-01-12T14:23:48.084997Z",
     "start_time": "2025-01-12T14:23:48.071362Z"
    }
   },
   "source": [
    "df = pd.read_csv(\"/Users/gorazdfilipovski/PycharmProjects/VNP/AUD/aud11/emotions-dataset.csv\")\n",
    "df"
   ],
   "outputs": [
    {
     "data": {
      "text/plain": [
       "                                                 message  emotion\n",
       "0      i used to be able to hang around talk with the...    anger\n",
       "1      i get made to feel left out and unimportant in...  sadness\n",
       "2      i wasnt going to post today as i am feeling qu...  sadness\n",
       "3           i feel extremely delicate and a bit helpless     love\n",
       "4      i feel frightened that i might fail to notice ...     fear\n",
       "...                                                  ...      ...\n",
       "11995  i feel useless for wasting k hours k just for ...  sadness\n",
       "11996  i feel rushed and pulled and rung out and i kn...    anger\n",
       "11997                        i feel absolutely disgusted    anger\n",
       "11998  i know that we are all sinners and fall short ...  sadness\n",
       "11999  i guess i just feel aggravated that i cant get...    anger\n",
       "\n",
       "[12000 rows x 2 columns]"
      ],
      "text/html": [
       "<div>\n",
       "<style scoped>\n",
       "    .dataframe tbody tr th:only-of-type {\n",
       "        vertical-align: middle;\n",
       "    }\n",
       "\n",
       "    .dataframe tbody tr th {\n",
       "        vertical-align: top;\n",
       "    }\n",
       "\n",
       "    .dataframe thead th {\n",
       "        text-align: right;\n",
       "    }\n",
       "</style>\n",
       "<table border=\"1\" class=\"dataframe\">\n",
       "  <thead>\n",
       "    <tr style=\"text-align: right;\">\n",
       "      <th></th>\n",
       "      <th>message</th>\n",
       "      <th>emotion</th>\n",
       "    </tr>\n",
       "  </thead>\n",
       "  <tbody>\n",
       "    <tr>\n",
       "      <th>0</th>\n",
       "      <td>i used to be able to hang around talk with the...</td>\n",
       "      <td>anger</td>\n",
       "    </tr>\n",
       "    <tr>\n",
       "      <th>1</th>\n",
       "      <td>i get made to feel left out and unimportant in...</td>\n",
       "      <td>sadness</td>\n",
       "    </tr>\n",
       "    <tr>\n",
       "      <th>2</th>\n",
       "      <td>i wasnt going to post today as i am feeling qu...</td>\n",
       "      <td>sadness</td>\n",
       "    </tr>\n",
       "    <tr>\n",
       "      <th>3</th>\n",
       "      <td>i feel extremely delicate and a bit helpless</td>\n",
       "      <td>love</td>\n",
       "    </tr>\n",
       "    <tr>\n",
       "      <th>4</th>\n",
       "      <td>i feel frightened that i might fail to notice ...</td>\n",
       "      <td>fear</td>\n",
       "    </tr>\n",
       "    <tr>\n",
       "      <th>...</th>\n",
       "      <td>...</td>\n",
       "      <td>...</td>\n",
       "    </tr>\n",
       "    <tr>\n",
       "      <th>11995</th>\n",
       "      <td>i feel useless for wasting k hours k just for ...</td>\n",
       "      <td>sadness</td>\n",
       "    </tr>\n",
       "    <tr>\n",
       "      <th>11996</th>\n",
       "      <td>i feel rushed and pulled and rung out and i kn...</td>\n",
       "      <td>anger</td>\n",
       "    </tr>\n",
       "    <tr>\n",
       "      <th>11997</th>\n",
       "      <td>i feel absolutely disgusted</td>\n",
       "      <td>anger</td>\n",
       "    </tr>\n",
       "    <tr>\n",
       "      <th>11998</th>\n",
       "      <td>i know that we are all sinners and fall short ...</td>\n",
       "      <td>sadness</td>\n",
       "    </tr>\n",
       "    <tr>\n",
       "      <th>11999</th>\n",
       "      <td>i guess i just feel aggravated that i cant get...</td>\n",
       "      <td>anger</td>\n",
       "    </tr>\n",
       "  </tbody>\n",
       "</table>\n",
       "<p>12000 rows × 2 columns</p>\n",
       "</div>"
      ]
     },
     "execution_count": 86,
     "metadata": {},
     "output_type": "execute_result"
    }
   ],
   "execution_count": 86
  },
  {
   "cell_type": "markdown",
   "metadata": {
    "id": "oDZVYNcIOk6t"
   },
   "source": [
    "Check if the dataset is balanced."
   ]
  },
  {
   "cell_type": "code",
   "metadata": {
    "colab": {
     "base_uri": "https://localhost:8080/",
     "height": 509
    },
    "id": "gz5nP07jOk6u",
    "outputId": "35c9c015-1c98-4175-dff3-d74f58f37a38",
    "ExecuteTime": {
     "end_time": "2025-01-12T14:23:48.170408Z",
     "start_time": "2025-01-12T14:23:48.109018Z"
    }
   },
   "source": [
    "df[\"emotion\"].value_counts().plot.bar()"
   ],
   "outputs": [
    {
     "data": {
      "text/plain": [
       "<Axes: xlabel='emotion'>"
      ]
     },
     "execution_count": 87,
     "metadata": {},
     "output_type": "execute_result"
    },
    {
     "data": {
      "text/plain": [
       "<Figure size 640x480 with 1 Axes>"
      ],
      "image/png": "[encoded data removed]"
     },
     "metadata": {},
     "output_type": "display_data"
    }
   ],
   "execution_count": 87
  },
  {
   "cell_type": "markdown",
   "metadata": {
    "id": "gmWqvDXJOk6u"
   },
   "source": [
    "Check if there are missing values."
   ]
  },
  {
   "cell_type": "code",
   "metadata": {
    "colab": {
     "base_uri": "https://localhost:8080/",
     "height": 147
    },
    "id": "c4Yn3ahOOk6u",
    "outputId": "ea0a7d20-3223-4af6-dc45-f404592de9f1",
    "ExecuteTime": {
     "end_time": "2025-01-12T14:23:48.192109Z",
     "start_time": "2025-01-12T14:23:48.188170Z"
    }
   },
   "source": [
    "df.isnull().sum()"
   ],
   "outputs": [
    {
     "data": {
      "text/plain": [
       "message    0\n",
       "emotion    0\n",
       "dtype: int64"
      ]
     },
     "execution_count": 88,
     "metadata": {},
     "output_type": "execute_result"
    }
   ],
   "execution_count": 88
  },
  {
   "cell_type": "markdown",
   "metadata": {
    "id": "Pw9JoUQSOk6u"
   },
   "source": [
    "Plot the distribution of words per text."
   ]
  },
  {
   "metadata": {
    "ExecuteTime": {
     "end_time": "2025-01-12T14:23:48.215014Z",
     "start_time": "2025-01-12T14:23:48.210620Z"
    }
   },
   "cell_type": "code",
   "source": "df.sample(3)",
   "outputs": [
    {
     "data": {
      "text/plain": [
       "                                                message  emotion\n",
       "3848  i had a feeling the whales knew where we were ...  sadness\n",
       "7311  i really really wanted to feel like i was doin...     love\n",
       "312   i already have done all i want to do and have ...      joy"
      ],
      "text/html": [
       "<div>\n",
       "<style scoped>\n",
       "    .dataframe tbody tr th:only-of-type {\n",
       "        vertical-align: middle;\n",
       "    }\n",
       "\n",
       "    .dataframe tbody tr th {\n",
       "        vertical-align: top;\n",
       "    }\n",
       "\n",
       "    .dataframe thead th {\n",
       "        text-align: right;\n",
       "    }\n",
       "</style>\n",
       "<table border=\"1\" class=\"dataframe\">\n",
       "  <thead>\n",
       "    <tr style=\"text-align: right;\">\n",
       "      <th></th>\n",
       "      <th>message</th>\n",
       "      <th>emotion</th>\n",
       "    </tr>\n",
       "  </thead>\n",
       "  <tbody>\n",
       "    <tr>\n",
       "      <th>3848</th>\n",
       "      <td>i had a feeling the whales knew where we were ...</td>\n",
       "      <td>sadness</td>\n",
       "    </tr>\n",
       "    <tr>\n",
       "      <th>7311</th>\n",
       "      <td>i really really wanted to feel like i was doin...</td>\n",
       "      <td>love</td>\n",
       "    </tr>\n",
       "    <tr>\n",
       "      <th>312</th>\n",
       "      <td>i already have done all i want to do and have ...</td>\n",
       "      <td>joy</td>\n",
       "    </tr>\n",
       "  </tbody>\n",
       "</table>\n",
       "</div>"
      ]
     },
     "execution_count": 89,
     "metadata": {},
     "output_type": "execute_result"
    }
   ],
   "execution_count": 89
  },
  {
   "cell_type": "code",
   "metadata": {
    "colab": {
     "base_uri": "https://localhost:8080/",
     "height": 451
    },
    "id": "PuefKvEzOk6v",
    "outputId": "43b0a9b3-7c43-4e45-c057-281e930675db",
    "ExecuteTime": {
     "end_time": "2025-01-12T14:23:48.348190Z",
     "start_time": "2025-01-12T14:23:48.261257Z"
    }
   },
   "source": [
    "df[\"message\"].str.split(\" \").apply(len).plot.hist()"
   ],
   "outputs": [
    {
     "data": {
      "text/plain": [
       "<Axes: ylabel='Frequency'>"
      ]
     },
     "execution_count": 90,
     "metadata": {},
     "output_type": "execute_result"
    },
    {
     "data": {
      "text/plain": [
       "<Figure size 640x480 with 1 Axes>"
      ],
      "image/png": "[encoded data removed]"
     },
     "metadata": {},
     "output_type": "display_data"
    }
   ],
   "execution_count": 90
  },
  {
   "cell_type": "code",
   "metadata": {
    "colab": {
     "base_uri": "https://localhost:8080/",
     "height": 447
    },
    "id": "9kiOasV9Ok6v",
    "outputId": "cdbbd4b0-4267-47a6-f0c8-080bbb48227c",
    "ExecuteTime": {
     "end_time": "2025-01-12T14:23:48.509312Z",
     "start_time": "2025-01-12T14:23:48.366943Z"
    }
   },
   "source": [
    "df[\"message\"].str.split().apply(len).plot.box()"
   ],
   "outputs": [
    {
     "data": {
      "text/plain": [
       "<Axes: >"
      ]
     },
     "execution_count": 91,
     "metadata": {},
     "output_type": "execute_result"
    },
    {
     "data": {
      "text/plain": [
       "<Figure size 640x480 with 1 Axes>"
      ],
      "image/png": "[encoded data removed]"
     },
     "metadata": {},
     "output_type": "display_data"
    }
   ],
   "execution_count": 91
  },
  {
   "cell_type": "code",
   "metadata": {
    "colab": {
     "base_uri": "https://localhost:8080/",
     "height": 424
    },
    "id": "n7J5PS12Ok6v",
    "outputId": "f25c80ce-e8f2-44af-dd73-d58c668071e2",
    "ExecuteTime": {
     "end_time": "2025-01-12T14:23:48.537159Z",
     "start_time": "2025-01-12T14:23:48.519169Z"
    }
   },
   "source": [
    "df = df[df[\"message\"].str.split().apply(len) < 45].copy(deep=True)\n",
    "df"
   ],
   "outputs": [
    {
     "data": {
      "text/plain": [
       "                                                 message  emotion\n",
       "0      i used to be able to hang around talk with the...    anger\n",
       "1      i get made to feel left out and unimportant in...  sadness\n",
       "3           i feel extremely delicate and a bit helpless     love\n",
       "4      i feel frightened that i might fail to notice ...     fear\n",
       "5      i feel stubborn because i just want my seattle...    anger\n",
       "...                                                  ...      ...\n",
       "11995  i feel useless for wasting k hours k just for ...  sadness\n",
       "11996  i feel rushed and pulled and rung out and i kn...    anger\n",
       "11997                        i feel absolutely disgusted    anger\n",
       "11998  i know that we are all sinners and fall short ...  sadness\n",
       "11999  i guess i just feel aggravated that i cant get...    anger\n",
       "\n",
       "[11607 rows x 2 columns]"
      ],
      "text/html": [
       "<div>\n",
       "<style scoped>\n",
       "    .dataframe tbody tr th:only-of-type {\n",
       "        vertical-align: middle;\n",
       "    }\n",
       "\n",
       "    .dataframe tbody tr th {\n",
       "        vertical-align: top;\n",
       "    }\n",
       "\n",
       "    .dataframe thead th {\n",
       "        text-align: right;\n",
       "    }\n",
       "</style>\n",
       "<table border=\"1\" class=\"dataframe\">\n",
       "  <thead>\n",
       "    <tr style=\"text-align: right;\">\n",
       "      <th></th>\n",
       "      <th>message</th>\n",
       "      <th>emotion</th>\n",
       "    </tr>\n",
       "  </thead>\n",
       "  <tbody>\n",
       "    <tr>\n",
       "      <th>0</th>\n",
       "      <td>i used to be able to hang around talk with the...</td>\n",
       "      <td>anger</td>\n",
       "    </tr>\n",
       "    <tr>\n",
       "      <th>1</th>\n",
       "      <td>i get made to feel left out and unimportant in...</td>\n",
       "      <td>sadness</td>\n",
       "    </tr>\n",
       "    <tr>\n",
       "      <th>3</th>\n",
       "      <td>i feel extremely delicate and a bit helpless</td>\n",
       "      <td>love</td>\n",
       "    </tr>\n",
       "    <tr>\n",
       "      <th>4</th>\n",
       "      <td>i feel frightened that i might fail to notice ...</td>\n",
       "      <td>fear</td>\n",
       "    </tr>\n",
       "    <tr>\n",
       "      <th>5</th>\n",
       "      <td>i feel stubborn because i just want my seattle...</td>\n",
       "      <td>anger</td>\n",
       "    </tr>\n",
       "    <tr>\n",
       "      <th>...</th>\n",
       "      <td>...</td>\n",
       "      <td>...</td>\n",
       "    </tr>\n",
       "    <tr>\n",
       "      <th>11995</th>\n",
       "      <td>i feel useless for wasting k hours k just for ...</td>\n",
       "      <td>sadness</td>\n",
       "    </tr>\n",
       "    <tr>\n",
       "      <th>11996</th>\n",
       "      <td>i feel rushed and pulled and rung out and i kn...</td>\n",
       "      <td>anger</td>\n",
       "    </tr>\n",
       "    <tr>\n",
       "      <th>11997</th>\n",
       "      <td>i feel absolutely disgusted</td>\n",
       "      <td>anger</td>\n",
       "    </tr>\n",
       "    <tr>\n",
       "      <th>11998</th>\n",
       "      <td>i know that we are all sinners and fall short ...</td>\n",
       "      <td>sadness</td>\n",
       "    </tr>\n",
       "    <tr>\n",
       "      <th>11999</th>\n",
       "      <td>i guess i just feel aggravated that i cant get...</td>\n",
       "      <td>anger</td>\n",
       "    </tr>\n",
       "  </tbody>\n",
       "</table>\n",
       "<p>11607 rows × 2 columns</p>\n",
       "</div>"
      ]
     },
     "execution_count": 92,
     "metadata": {},
     "output_type": "execute_result"
    }
   ],
   "execution_count": 92
  },
  {
   "cell_type": "code",
   "metadata": {
    "colab": {
     "base_uri": "https://localhost:8080/",
     "height": 447
    },
    "id": "aUznU1cWOk6v",
    "outputId": "83c7c000-5eb0-4c03-e933-fe21a204653b",
    "ExecuteTime": {
     "end_time": "2025-01-12T14:23:48.640299Z",
     "start_time": "2025-01-12T14:23:48.571575Z"
    }
   },
   "source": [
    "df[\"message\"].str.split().apply(len).plot.hist()"
   ],
   "outputs": [
    {
     "data": {
      "text/plain": [
       "<Axes: ylabel='Frequency'>"
      ]
     },
     "execution_count": 93,
     "metadata": {},
     "output_type": "execute_result"
    },
    {
     "data": {
      "text/plain": [
       "<Figure size 640x480 with 1 Axes>"
      ],
      "image/png": "[encoded data removed]"
     },
     "metadata": {},
     "output_type": "display_data"
    }
   ],
   "execution_count": 93
  },
  {
   "cell_type": "code",
   "metadata": {
    "colab": {
     "base_uri": "https://localhost:8080/",
     "height": 447
    },
    "id": "U4ZwpCnqOk6v",
    "outputId": "ab745f1a-b3d7-41eb-c9d5-db34dcbabbc1",
    "ExecuteTime": {
     "end_time": "2025-01-12T14:23:48.710459Z",
     "start_time": "2025-01-12T14:23:48.657933Z"
    }
   },
   "source": [
    "df[\"message\"].str.split().apply(len).plot.box()"
   ],
   "outputs": [
    {
     "data": {
      "text/plain": [
       "<Axes: >"
      ]
     },
     "execution_count": 94,
     "metadata": {},
     "output_type": "execute_result"
    },
    {
     "data": {
      "text/plain": [
       "<Figure size 640x480 with 1 Axes>"
      ],
      "image/png": "[encoded data removed]"
     },
     "metadata": {},
     "output_type": "display_data"
    }
   ],
   "execution_count": 94
  },
  {
   "cell_type": "code",
   "metadata": {
    "id": "VdhtWGh8Ok6v",
    "ExecuteTime": {
     "end_time": "2025-01-12T14:23:48.717444Z",
     "start_time": "2025-01-12T14:23:48.715029Z"
    }
   },
   "source": [
    "def get_vocabulary(texts: list[str]) -> list[str]:\n",
    "    vocabulary = []\n",
    "    for text in texts:\n",
    "        for word in text.split(\" \"):\n",
    "            vocabulary.append(word)\n",
    "    return list(set(vocabulary))"
   ],
   "outputs": [],
   "execution_count": 95
  },
  {
   "cell_type": "code",
   "metadata": {
    "id": "OwpSjzuIOk6v",
    "ExecuteTime": {
     "end_time": "2025-01-12T14:23:48.744038Z",
     "start_time": "2025-01-12T14:23:48.727656Z"
    }
   },
   "source": [
    "vocabulary = get_vocabulary(df[\"message\"].tolist())"
   ],
   "outputs": [],
   "execution_count": 96
  },
  {
   "cell_type": "code",
   "metadata": {
    "colab": {
     "base_uri": "https://localhost:8080/"
    },
    "id": "uUppvCIvOk6w",
    "outputId": "b160d75b-f28d-4b49-aaf6-6591a2c19b34",
    "ExecuteTime": {
     "end_time": "2025-01-12T14:23:48.756050Z",
     "start_time": "2025-01-12T14:23:48.753145Z"
    }
   },
   "source": [
    "len(vocabulary)"
   ],
   "outputs": [
    {
     "data": {
      "text/plain": [
       "12665"
      ]
     },
     "execution_count": 97,
     "metadata": {},
     "output_type": "execute_result"
    }
   ],
   "execution_count": 97
  },
  {
   "cell_type": "code",
   "metadata": {
    "id": "c6kJ-stkOk6w",
    "ExecuteTime": {
     "end_time": "2025-01-12T14:23:48.769158Z",
     "start_time": "2025-01-12T14:23:48.767317Z"
    }
   },
   "source": [
    "max_vocabulary_size = 10000"
   ],
   "outputs": [],
   "execution_count": 98
  },
  {
   "cell_type": "code",
   "metadata": {
    "id": "WzrVwovjOk6w",
    "ExecuteTime": {
     "end_time": "2025-01-12T14:23:48.780591Z",
     "start_time": "2025-01-12T14:23:48.777881Z"
    }
   },
   "source": [
    "X, y = df[\"message\"], pd.get_dummies(df[\"emotion\"])"
   ],
   "outputs": [],
   "execution_count": 99
  },
  {
   "cell_type": "code",
   "metadata": {
    "colab": {
     "base_uri": "https://localhost:8080/",
     "height": 206
    },
    "id": "VyH6wNCxOk6w",
    "outputId": "7d41716d-465a-4705-98be-a672ab55196b",
    "ExecuteTime": {
     "end_time": "2025-01-12T14:23:48.796213Z",
     "start_time": "2025-01-12T14:23:48.791609Z"
    }
   },
   "source": [
    "y.head()"
   ],
   "outputs": [
    {
     "data": {
      "text/plain": [
       "   anger   fear    joy   love  sadness  surprise\n",
       "0   True  False  False  False    False     False\n",
       "1  False  False  False  False     True     False\n",
       "3  False  False  False   True    False     False\n",
       "4  False   True  False  False    False     False\n",
       "5   True  False  False  False    False     False"
      ],
      "text/html": [
       "<div>\n",
       "<style scoped>\n",
       "    .dataframe tbody tr th:only-of-type {\n",
       "        vertical-align: middle;\n",
       "    }\n",
       "\n",
       "    .dataframe tbody tr th {\n",
       "        vertical-align: top;\n",
       "    }\n",
       "\n",
       "    .dataframe thead th {\n",
       "        text-align: right;\n",
       "    }\n",
       "</style>\n",
       "<table border=\"1\" class=\"dataframe\">\n",
       "  <thead>\n",
       "    <tr style=\"text-align: right;\">\n",
       "      <th></th>\n",
       "      <th>anger</th>\n",
       "      <th>fear</th>\n",
       "      <th>joy</th>\n",
       "      <th>love</th>\n",
       "      <th>sadness</th>\n",
       "      <th>surprise</th>\n",
       "    </tr>\n",
       "  </thead>\n",
       "  <tbody>\n",
       "    <tr>\n",
       "      <th>0</th>\n",
       "      <td>True</td>\n",
       "      <td>False</td>\n",
       "      <td>False</td>\n",
       "      <td>False</td>\n",
       "      <td>False</td>\n",
       "      <td>False</td>\n",
       "    </tr>\n",
       "    <tr>\n",
       "      <th>1</th>\n",
       "      <td>False</td>\n",
       "      <td>False</td>\n",
       "      <td>False</td>\n",
       "      <td>False</td>\n",
       "      <td>True</td>\n",
       "      <td>False</td>\n",
       "    </tr>\n",
       "    <tr>\n",
       "      <th>3</th>\n",
       "      <td>False</td>\n",
       "      <td>False</td>\n",
       "      <td>False</td>\n",
       "      <td>True</td>\n",
       "      <td>False</td>\n",
       "      <td>False</td>\n",
       "    </tr>\n",
       "    <tr>\n",
       "      <th>4</th>\n",
       "      <td>False</td>\n",
       "      <td>True</td>\n",
       "      <td>False</td>\n",
       "      <td>False</td>\n",
       "      <td>False</td>\n",
       "      <td>False</td>\n",
       "    </tr>\n",
       "    <tr>\n",
       "      <th>5</th>\n",
       "      <td>True</td>\n",
       "      <td>False</td>\n",
       "      <td>False</td>\n",
       "      <td>False</td>\n",
       "      <td>False</td>\n",
       "      <td>False</td>\n",
       "    </tr>\n",
       "  </tbody>\n",
       "</table>\n",
       "</div>"
      ]
     },
     "execution_count": 100,
     "metadata": {},
     "output_type": "execute_result"
    }
   ],
   "execution_count": 100
  },
  {
   "cell_type": "code",
   "metadata": {
    "colab": {
     "base_uri": "https://localhost:8080/"
    },
    "id": "uoe2asbqOk6w",
    "outputId": "a01160be-6de6-414b-bbc6-0b08208665a5",
    "ExecuteTime": {
     "end_time": "2025-01-12T14:23:48.824676Z",
     "start_time": "2025-01-12T14:23:48.821759Z"
    }
   },
   "source": [
    "num_classes = y.shape[1]\n",
    "num_classes"
   ],
   "outputs": [
    {
     "data": {
      "text/plain": [
       "6"
      ]
     },
     "execution_count": 101,
     "metadata": {},
     "output_type": "execute_result"
    }
   ],
   "execution_count": 101
  },
  {
   "cell_type": "code",
   "metadata": {
    "id": "hdzaE9GQOk6w",
    "ExecuteTime": {
     "end_time": "2025-01-12T14:23:48.858568Z",
     "start_time": "2025-01-12T14:23:48.854393Z"
    }
   },
   "source": [
    "train_X, test_X, train_y, test_y = train_test_split(X, y, test_size=0.2)"
   ],
   "outputs": [],
   "execution_count": 102
  },
  {
   "cell_type": "code",
   "metadata": {
    "id": "lWfOALA_Ok6w",
    "ExecuteTime": {
     "end_time": "2025-01-12T14:23:48.999747Z",
     "start_time": "2025-01-12T14:23:48.868564Z"
    }
   },
   "source": [
    "tokenizer = Tokenizer(num_words=max_vocabulary_size)\n",
    "tokenizer.fit_on_texts(train_X.values)\n",
    "train_X = tokenizer.texts_to_sequences(train_X)\n",
    "test_X = tokenizer.texts_to_sequences(test_X)"
   ],
   "outputs": [],
   "execution_count": 103
  },
  {
   "cell_type": "code",
   "metadata": {
    "colab": {
     "base_uri": "https://localhost:8080/",
     "height": 430
    },
    "id": "XI5Cw0XhOk6w",
    "outputId": "20e1ebb4-58b7-4d04-dfaa-541a5e644d2f",
    "ExecuteTime": {
     "end_time": "2025-01-12T14:23:49.071828Z",
     "start_time": "2025-01-12T14:23:49.008486Z"
    }
   },
   "source": [
    "plt.hist([len(tokens) for tokens in train_X]);"
   ],
   "outputs": [
    {
     "data": {
      "text/plain": [
       "<Figure size 640x480 with 1 Axes>"
      ],
      "image/png": "[encoded data removed]"
     },
     "metadata": {},
     "output_type": "display_data"
    }
   ],
   "execution_count": 104
  },
  {
   "cell_type": "code",
   "metadata": {
    "colab": {
     "base_uri": "https://localhost:8080/",
     "height": 430
    },
    "id": "ROw7NQfMOk6w",
    "outputId": "3fc23f7d-203c-4240-ae6d-c858c558eb4f",
    "ExecuteTime": {
     "end_time": "2025-01-12T14:23:49.153245Z",
     "start_time": "2025-01-12T14:23:49.080853Z"
    }
   },
   "source": [
    "plt.hist([len(tokens) for tokens in test_X]);"
   ],
   "outputs": [
    {
     "data": {
      "text/plain": [
       "<Figure size 640x480 with 1 Axes>"
      ],
      "image/png": "[encoded data removed]"
     },
     "metadata": {},
     "output_type": "display_data"
    }
   ],
   "execution_count": 105
  },
  {
   "cell_type": "code",
   "metadata": {
    "id": "uchb_Xg-Ok6x",
    "ExecuteTime": {
     "end_time": "2025-01-12T14:23:49.165785Z",
     "start_time": "2025-01-12T14:23:49.163997Z"
    }
   },
   "source": [
    "maxlen = 32"
   ],
   "outputs": [],
   "execution_count": 106
  },
  {
   "metadata": {
    "ExecuteTime": {
     "end_time": "2025-01-12T14:23:49.176531Z",
     "start_time": "2025-01-12T14:23:49.174455Z"
    }
   },
   "cell_type": "code",
   "source": "# from tf_keras.preprocessing import sequence\n",
   "outputs": [],
   "execution_count": 107
  },
  {
   "cell_type": "code",
   "metadata": {
    "id": "6pSJRRUwOk6x",
    "ExecuteTime": {
     "end_time": "2025-01-12T14:26:19.137549Z",
     "start_time": "2025-01-12T14:26:19.115627Z"
    }
   },
   "source": [
    "# from tf_keras.preprocessing import sequence\n",
    "\n",
    "train_X = pad_sequences(train_X, maxlen=maxlen)\n",
    "test_X = pad_sequences(test_X, maxlen=maxlen)"
   ],
   "outputs": [],
   "execution_count": 110
  },
  {
   "cell_type": "code",
   "metadata": {
    "colab": {
     "base_uri": "https://localhost:8080/"
    },
    "id": "tKjWcBMBOk6x",
    "outputId": "e0376845-58d3-4a82-960c-3f321520ad1e",
    "ExecuteTime": {
     "end_time": "2025-01-12T14:26:23.251501Z",
     "start_time": "2025-01-12T14:26:23.248012Z"
    }
   },
   "source": [
    "train_X.shape, test_X.shape"
   ],
   "outputs": [
    {
     "data": {
      "text/plain": [
       "((9285, 32), (2322, 32))"
      ]
     },
     "execution_count": 111,
     "metadata": {},
     "output_type": "execute_result"
    }
   ],
   "execution_count": 111
  },
  {
   "cell_type": "code",
   "metadata": {
    "id": "5WCpG0BmOk6x",
    "ExecuteTime": {
     "end_time": "2025-01-12T15:31:23.604684Z",
     "start_time": "2025-01-12T15:31:23.459001Z"
    }
   },
   "source": [
    "model = Sequential([\n",
    "    Embedding(input_dim=max_vocabulary_size, output_dim=128),\n",
    "    Conv1D(filters=32, kernel_size=4, padding=\"same\", activation=\"relu\"),\n",
    "    MaxPooling1D(pool_size=2),\n",
    "    Conv1D(filters=64, kernel_size=4, padding=\"same\", activation=\"relu\"),\n",
    "    MaxPooling1D(pool_size=2),\n",
    "    LSTM(128, dropout=0.2, recurrent_dropout=0.2, return_sequences=True),\n",
    "    LSTM(64, dropout=0.1, recurrent_dropout=0.1),\n",
    "    Dense(num_classes, activation=\"softmax\")\n",
    "])"
   ],
   "outputs": [],
   "execution_count": 112
  },
  {
   "metadata": {
    "ExecuteTime": {
     "end_time": "2025-01-12T15:32:46.351766Z",
     "start_time": "2025-01-12T15:32:46.347255Z"
    }
   },
   "cell_type": "code",
   "source": [
    "import tensorflow as tf\n",
    "from tensorflow.keras import backend as K\n",
    "\n",
    "def f1_score(y_true, y_pred):\n",
    "    y_pred = K.round(y_pred)  # Round predictions to 0 or 1\n",
    "    tp = K.sum(K.cast(y_true * y_pred, 'float'), axis=0)\n",
    "    fp = K.sum(K.cast((1 - y_true) * y_pred, 'float'), axis=0)\n",
    "    fn = K.sum(K.cast(y_true * (1 - y_pred), 'float'), axis=0)\n",
    "\n",
    "    precision = tp / (tp + fp + K.epsilon())\n",
    "    recall = tp / (tp + fn + K.epsilon())\n",
    "    f1 = 2 * (precision * recall) / (precision + recall + K.epsilon())\n",
    "    return K.mean(f1)  # Return mean F1 score across all classes"
   ],
   "outputs": [],
   "execution_count": 117
  },
  {
   "cell_type": "code",
   "metadata": {
    "id": "hi6BEUOiOk6x",
    "ExecuteTime": {
     "end_time": "2025-01-12T15:32:55.387527Z",
     "start_time": "2025-01-12T15:32:55.381215Z"
    }
   },
   "source": [
    "model.compile(\n",
    "    loss=\"categorical_crossentropy\",\n",
    "    optimizer=\"adam\",\n",
    "    metrics=[f1_score]\n",
    ")"
   ],
   "outputs": [],
   "execution_count": 118
  },
  {
   "cell_type": "code",
   "metadata": {
    "colab": {
     "base_uri": "https://localhost:8080/"
    },
    "id": "MzNSOSQIOk6x",
    "outputId": "c6841371-0e2c-49e1-dd2a-f33cc8ac1c65",
    "ExecuteTime": {
     "end_time": "2025-01-12T15:33:06.244538Z",
     "start_time": "2025-01-12T15:32:57.104742Z"
    }
   },
   "source": [
    "history = model.fit(train_X, train_y, validation_split=0.2, batch_size=64, epochs=3)"
   ],
   "outputs": [
    {
     "name": "stdout",
     "output_type": "stream",
     "text": [
      "Epoch 1/3\n",
      "117/117 [==============================] - 4s 21ms/step - loss: 1.6041 - f1_score: 0.0692 - val_loss: 1.2034 - val_f1_score: 0.2512\n",
      "Epoch 2/3\n",
      "117/117 [==============================] - 3s 22ms/step - loss: 0.9537 - f1_score: 0.4022 - val_loss: 0.7903 - val_f1_score: 0.6549\n",
      "Epoch 3/3\n",
      "117/117 [==============================] - 3s 23ms/step - loss: 0.5397 - f1_score: 0.7960 - val_loss: 0.6700 - val_f1_score: 0.7665\n"
     ]
    }
   ],
   "execution_count": 119
  },
  {
   "cell_type": "code",
   "metadata": {
    "colab": {
     "base_uri": "https://localhost:8080/",
     "height": 425
    },
    "id": "el2V5ngeOk6x",
    "outputId": "7d2aebd6-9cc5-47e4-86bf-bcc35a18a159",
    "ExecuteTime": {
     "end_time": "2025-01-12T15:33:17.375693Z",
     "start_time": "2025-01-12T15:33:17.366689Z"
    }
   },
   "source": [
    "model.summary()"
   ],
   "outputs": [
    {
     "name": "stdout",
     "output_type": "stream",
     "text": [
      "Model: \"sequential\"\n",
      "_________________________________________________________________\n",
      " Layer (type)                Output Shape              Param #   \n",
      "=================================================================\n",
      " embedding (Embedding)       (None, None, 128)         1280000   \n",
      "                                                                 \n",
      " conv1d (Conv1D)             (None, None, 32)          16416     \n",
      "                                                                 \n",
      " max_pooling1d (MaxPooling1D  (None, None, 32)         0         \n",
      " )                                                               \n",
      "                                                                 \n",
      " conv1d_1 (Conv1D)           (None, None, 64)          8256      \n",
      "                                                                 \n",
      " max_pooling1d_1 (MaxPooling  (None, None, 64)         0         \n",
      " 1D)                                                             \n",
      "                                                                 \n",
      " lstm (LSTM)                 (None, None, 128)         98816     \n",
      "                                                                 \n",
      " lstm_1 (LSTM)               (None, 64)                49408     \n",
      "                                                                 \n",
      " dense (Dense)               (None, 6)                 390       \n",
      "                                                                 \n",
      "=================================================================\n",
      "Total params: 1,453,286\n",
      "Trainable params: 1,453,286\n",
      "Non-trainable params: 0\n",
      "_________________________________________________________________\n"
     ]
    }
   ],
   "execution_count": 120
  },
  {
   "cell_type": "code",
   "metadata": {
    "colab": {
     "base_uri": "https://localhost:8080/",
     "height": 447
    },
    "id": "H1FpRyxGOk6x",
    "outputId": "09e3848b-ad48-48dc-ae70-543d3c7bee40",
    "ExecuteTime": {
     "end_time": "2025-01-12T15:33:22.602978Z",
     "start_time": "2025-01-12T15:33:22.509596Z"
    }
   },
   "source": [
    "sns.lineplot(history.history[\"loss\"], label=\"loss\")\n",
    "sns.lineplot(history.history[\"val_loss\"], label=\"val_loss\")"
   ],
   "outputs": [
    {
     "data": {
      "text/plain": [
       "<Axes: >"
      ]
     },
     "execution_count": 121,
     "metadata": {},
     "output_type": "execute_result"
    },
    {
     "data": {
      "text/plain": [
       "<Figure size 640x480 with 1 Axes>"
      ],
      "image/png": "[encoded data removed]"
     },
     "metadata": {},
     "output_type": "display_data"
    }
   ],
   "execution_count": 121
  },
  {
   "cell_type": "code",
   "metadata": {
    "colab": {
     "base_uri": "https://localhost:8080/"
    },
    "id": "KhNoyXSNOk6x",
    "outputId": "4dde1381-3b49-498f-93ad-f976f96b9b2c",
    "ExecuteTime": {
     "end_time": "2025-01-12T15:33:29.309672Z",
     "start_time": "2025-01-12T15:33:28.980891Z"
    }
   },
   "source": [
    "preds = model.predict(test_X)"
   ],
   "outputs": [
    {
     "name": "stdout",
     "output_type": "stream",
     "text": [
      "73/73 [==============================] - 0s 2ms/step\n"
     ]
    }
   ],
   "execution_count": 122
  },
  {
   "cell_type": "code",
   "metadata": {
    "id": "SW0PzM8bOk6y",
    "ExecuteTime": {
     "end_time": "2025-01-12T15:33:30.325093Z",
     "start_time": "2025-01-12T15:33:30.321947Z"
    }
   },
   "source": [
    "test_y = test_y.values.argmax(axis=1)\n",
    "preds = preds.argmax(axis=1)"
   ],
   "outputs": [],
   "execution_count": 123
  },
  {
   "cell_type": "code",
   "metadata": {
    "colab": {
     "base_uri": "https://localhost:8080/"
    },
    "id": "L4J4rHMQOk6y",
    "outputId": "16dca776-c56f-4716-9287-1b16290bb05b",
    "ExecuteTime": {
     "end_time": "2025-01-12T15:33:32.111109Z",
     "start_time": "2025-01-12T15:33:32.102644Z"
    }
   },
   "source": [
    "print(classification_report(test_y, preds))"
   ],
   "outputs": [
    {
     "name": "stdout",
     "output_type": "stream",
     "text": [
      "              precision    recall  f1-score   support\n",
      "\n",
      "           0       0.82      0.66      0.73       389\n",
      "           1       0.93      0.79      0.86       394\n",
      "           2       0.69      0.73      0.71       396\n",
      "           3       0.85      0.90      0.88       367\n",
      "           4       0.64      0.70      0.67       397\n",
      "           5       0.87      0.99      0.92       379\n",
      "\n",
      "    accuracy                           0.79      2322\n",
      "   macro avg       0.80      0.80      0.79      2322\n",
      "weighted avg       0.80      0.79      0.79      2322\n",
      "\n"
     ]
    }
   ],
   "execution_count": 124
  },
  {
   "cell_type": "code",
   "metadata": {
    "colab": {
     "base_uri": "https://localhost:8080/",
     "height": 489
    },
    "id": "_xlbAIimOk6y",
    "outputId": "64856131-4560-4ba2-ab20-fa6f981b23a5",
    "ExecuteTime": {
     "end_time": "2025-01-12T15:33:33.558714Z",
     "start_time": "2025-01-12T15:33:33.441833Z"
    }
   },
   "source": [
    "sns.heatmap(confusion_matrix(test_y, preds), annot=True, fmt=\"5.2f\", cmap=\"Blues\")\n",
    "plt.xlabel(\"Predicted Labels\")\n",
    "plt.ylabel(\"True Labels\")\n",
    "plt.title(\"Confusion Matrix\")"
   ],
   "outputs": [
    {
     "data": {
      "text/plain": [
       "Text(0.5, 1.0, 'Confusion Matrix')"
      ]
     },
     "execution_count": 125,
     "metadata": {},
     "output_type": "execute_result"
    },
    {
     "data": {
      "text/plain": [
       "<Figure size 640x480 with 2 Axes>"
      ],
      "image/png": "[encoded data removed]"
     },
     "metadata": {},
     "output_type": "display_data"
    }
   ],
   "execution_count": 125
  },
  {
   "cell_type": "code",
   "metadata": {
    "colab": {
     "base_uri": "https://localhost:8080/"
    },
    "id": "J4utU-L8Ok6y",
    "outputId": "cc51bb42-63cd-4d92-92ac-811b8bfe10de",
    "ExecuteTime": {
     "end_time": "2025-01-12T15:33:35.007159Z",
     "start_time": "2025-01-12T15:33:35.003706Z"
    }
   },
   "source": [
    "y.columns"
   ],
   "outputs": [
    {
     "data": {
      "text/plain": [
       "Index(['anger', 'fear', 'joy', 'love', 'sadness', 'surprise'], dtype='object')"
      ]
     },
     "execution_count": 126,
     "metadata": {},
     "output_type": "execute_result"
    }
   ],
   "execution_count": 126
  },
  {
   "metadata": {},
   "cell_type": "code",
   "outputs": [],
   "execution_count": null,
   "source": ""
  }
 ],
 "metadata": {
  "accelerator": "GPU",
  "colab": {
   "gpuType": "T4",
   "provenance": []
  },
  "kernelspec": {
   "display_name": "Python 3 (ipykernel)",
   "language": "python",
   "name": "python3"
  },
  "language_info": {
   "codemirror_mode": {
    "name": "ipython",
    "version": 3
   },
   "file_extension": ".py",
   "mimetype": "text/x-python",
   "name": "python",
   "nbconvert_exporter": "python",
   "pygments_lexer": "ipython3",
   "version": "3.13.1"
  }
 },
 "nbformat": 4,
 "nbformat_minor": 4
}
